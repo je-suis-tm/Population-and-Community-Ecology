{
 "cells": [
  {
   "cell_type": "markdown",
   "id": "bebc0d59",
   "metadata": {},
   "source": [
    "## Lab 7 - Size distribution analysis"
   ]
  },
  {
   "cell_type": "markdown",
   "id": "34e433dc",
   "metadata": {},
   "source": [
    "As biologists we frequently survey animals or plants (even rocks sometimes) and measure their size or mass for a variety of reasons. For example, measuring the size or mass of animals or plants can tell us something about how old they are, assuming they grow at a somewhat predictable rate. These fundamental measurements can also tell us about how healthy individuals are – such as body condition indices.\n",
    "Often when we make such fundamental measurements we expect that there is a single mean that all the individuals fall around. For example, on average people are 1.7 meters tall, with a standard deviation of 0.5. However, such tidy relationships are not always the case. A very good example is the fish size distribution information that we have been collecting using seine netting at Fortescue Bay over a number of years. Do you remember this from the fieldtrip? \n",
    "Such relationships can be for a number of reasons, and in this lab you should come up with some hypotheses about factors that might result in bimodal or polymodal size distributions. \n",
    "One challenge with interpreting size or frequency distributions just visually is that it can sometimes be subjective, people’s opinions can differ (Bob thinks that the population has a normal unimodal distribution, but Jenny thinks it is bimodal), and we can be bias (you may have invested a lot of time and effort in your study and want to see a particular result). It is therefore important to use objective approaches to study frequency distributions, and the way that we do this is to use statistics. Statistics doesn’t have our personality hang-ups (or indeed any personality at all), so is an important tool that scientists use to assist with making objective interpretations of information that they collect (data).\n",
    "In this practical you will use some statistics to help you deduce whether the size distribution of fish that has been measured from the ocean and lagoon at Fortescue Bay are from single or multiple size distributions and how this changes across a couple of years. \n",
    "Before you begin the practical think about what biological processes might cause multiple size distributions in the fish sampled from Fortescue Bay. Why might there be differing relationships between years (i.e., a bimodal relationship one year and a unimodal relationship another year)?\n",
    "\n",
    "This laboratory will also require you to apply your knowledge from the Intro to R laboratory in week 2. Create a script file as you go.\n"
   ]
  },
  {
   "cell_type": "markdown",
   "id": "0912fd3e",
   "metadata": {},
   "source": [
    "Open R and begin with the following script, which clears any previous data stored in R"
   ]
  },
  {
   "cell_type": "code",
   "execution_count": 1,
   "id": "d6d55e6c",
   "metadata": {},
   "outputs": [],
   "source": [
    "rm(list=ls())"
   ]
  },
  {
   "cell_type": "markdown",
   "id": "a40bc1cb",
   "metadata": {},
   "source": [
    "### East Australian Salmon"
   ]
  },
  {
   "cell_type": "markdown",
   "id": "0a149584",
   "metadata": {},
   "source": [
    "Next I want you to create two objects containing the size of all the Australasian Salmon captured (e.g., as1 and as2). Hint: a helpful function for this will be to use ‘rep’ to replicate the number of fish in each size class. For example, in year one there were 19 salmon that were 55mm long, so you would want to have 19 replicates of 55, which is coded as ‘rep(55,19)’. Obviously, you only want to enter in the number of fish that you measured (i.e., don’t enter the zeros, because you didn’t measure any fish of that size). It would also be useful to use concatenate (c) to join your data together. Your data for each year should appear as a vector."
   ]
  },
  {
   "cell_type": "code",
   "execution_count": 2,
   "id": "ebd32148",
   "metadata": {},
   "outputs": [
    {
     "data": {
      "text/html": [
       "<style>\n",
       ".list-inline {list-style: none; margin:0; padding: 0}\n",
       ".list-inline>li {display: inline-block}\n",
       ".list-inline>li:not(:last-child)::after {content: \"\\00b7\"; padding: 0 .5ex}\n",
       "</style>\n",
       "<ol class=list-inline><li>55</li><li>55</li><li>55</li><li>55</li><li>55</li><li>55</li><li>55</li><li>55</li><li>55</li><li>55</li><li>55</li><li>55</li><li>55</li><li>55</li><li>55</li><li>55</li><li>55</li><li>55</li><li>55</li><li>60</li><li>60</li><li>60</li><li>60</li><li>60</li><li>60</li><li>60</li><li>60</li><li>60</li><li>60</li><li>60</li><li>60</li><li>60</li><li>60</li><li>60</li><li>60</li><li>60</li><li>60</li><li>60</li><li>60</li><li>60</li><li>60</li><li>60</li><li>60</li><li>60</li><li>60</li><li>60</li><li>60</li><li>60</li><li>60</li><li>60</li><li>60</li><li>60</li><li>60</li><li>60</li><li>60</li><li>60</li><li>60</li><li>60</li><li>60</li><li>60</li><li>60</li><li>60</li><li>60</li><li>60</li><li>60</li><li>60</li><li>60</li><li>60</li><li>60</li><li>60</li><li>60</li><li>60</li><li>60</li><li>60</li><li>60</li><li>60</li><li>60</li><li>60</li><li>60</li><li>60</li><li>60</li><li>60</li><li>60</li><li>60</li><li>60</li><li>65</li><li>65</li><li>65</li><li>65</li><li>65</li><li>65</li><li>65</li><li>65</li><li>65</li><li>65</li><li>65</li><li>65</li><li>65</li><li>65</li><li>65</li><li>65</li><li>65</li><li>65</li><li>65</li><li>65</li><li>65</li><li>65</li><li>65</li><li>65</li><li>65</li><li>65</li><li>65</li><li>65</li><li>65</li><li>65</li><li>65</li><li>65</li><li>65</li><li>65</li><li>65</li><li>65</li><li>65</li><li>65</li><li>65</li><li>65</li><li>65</li><li>65</li><li>65</li><li>65</li><li>65</li><li>65</li><li>65</li><li>65</li><li>65</li><li>65</li><li>65</li><li>65</li><li>65</li><li>65</li><li>65</li><li>65</li><li>70</li><li>70</li><li>70</li><li>70</li><li>70</li><li>70</li><li>70</li><li>70</li><li>70</li><li>70</li><li>70</li><li>70</li><li>70</li><li>70</li><li>70</li><li>70</li><li>70</li><li>70</li><li>70</li><li>70</li><li>70</li><li>70</li><li>70</li><li>70</li><li>70</li><li>70</li><li>70</li><li>70</li><li>70</li><li>70</li><li>70</li><li>70</li><li>75</li><li>75</li><li>75</li><li>75</li><li>75</li><li>75</li><li>75</li><li>75</li><li>75</li><li>75</li><li>75</li><li>75</li><li>75</li><li>75</li><li>75</li><li>75</li><li>75</li><li>75</li><li>75</li><li>75</li><li>80</li><li>80</li><li>80</li><li>80</li><li>80</li><li>80</li><li>80</li><li>80</li><li>80</li><li>80</li><li>80</li><li>80</li><li>80</li><li>80</li><li>80</li><li>80</li><li>80</li><li>80</li><li>80</li><li>80</li><li>80</li><li>80</li><li>80</li><li>80</li><li>85</li><li>85</li><li>85</li><li>85</li><li>85</li><li>85</li><li>85</li><li>85</li><li>85</li><li>85</li><li>85</li><li>85</li><li>85</li><li>85</li><li>85</li><li>85</li><li>85</li><li>85</li><li>90</li><li>90</li><li>90</li><li>90</li><li>90</li><li>90</li><li>90</li><li>90</li><li>90</li><li>95</li><li>95</li><li>105</li><li>105</li></ol>\n"
      ],
      "text/latex": [
       "\\begin{enumerate*}\n",
       "\\item 55\n",
       "\\item 55\n",
       "\\item 55\n",
       "\\item 55\n",
       "\\item 55\n",
       "\\item 55\n",
       "\\item 55\n",
       "\\item 55\n",
       "\\item 55\n",
       "\\item 55\n",
       "\\item 55\n",
       "\\item 55\n",
       "\\item 55\n",
       "\\item 55\n",
       "\\item 55\n",
       "\\item 55\n",
       "\\item 55\n",
       "\\item 55\n",
       "\\item 55\n",
       "\\item 60\n",
       "\\item 60\n",
       "\\item 60\n",
       "\\item 60\n",
       "\\item 60\n",
       "\\item 60\n",
       "\\item 60\n",
       "\\item 60\n",
       "\\item 60\n",
       "\\item 60\n",
       "\\item 60\n",
       "\\item 60\n",
       "\\item 60\n",
       "\\item 60\n",
       "\\item 60\n",
       "\\item 60\n",
       "\\item 60\n",
       "\\item 60\n",
       "\\item 60\n",
       "\\item 60\n",
       "\\item 60\n",
       "\\item 60\n",
       "\\item 60\n",
       "\\item 60\n",
       "\\item 60\n",
       "\\item 60\n",
       "\\item 60\n",
       "\\item 60\n",
       "\\item 60\n",
       "\\item 60\n",
       "\\item 60\n",
       "\\item 60\n",
       "\\item 60\n",
       "\\item 60\n",
       "\\item 60\n",
       "\\item 60\n",
       "\\item 60\n",
       "\\item 60\n",
       "\\item 60\n",
       "\\item 60\n",
       "\\item 60\n",
       "\\item 60\n",
       "\\item 60\n",
       "\\item 60\n",
       "\\item 60\n",
       "\\item 60\n",
       "\\item 60\n",
       "\\item 60\n",
       "\\item 60\n",
       "\\item 60\n",
       "\\item 60\n",
       "\\item 60\n",
       "\\item 60\n",
       "\\item 60\n",
       "\\item 60\n",
       "\\item 60\n",
       "\\item 60\n",
       "\\item 60\n",
       "\\item 60\n",
       "\\item 60\n",
       "\\item 60\n",
       "\\item 60\n",
       "\\item 60\n",
       "\\item 60\n",
       "\\item 60\n",
       "\\item 60\n",
       "\\item 65\n",
       "\\item 65\n",
       "\\item 65\n",
       "\\item 65\n",
       "\\item 65\n",
       "\\item 65\n",
       "\\item 65\n",
       "\\item 65\n",
       "\\item 65\n",
       "\\item 65\n",
       "\\item 65\n",
       "\\item 65\n",
       "\\item 65\n",
       "\\item 65\n",
       "\\item 65\n",
       "\\item 65\n",
       "\\item 65\n",
       "\\item 65\n",
       "\\item 65\n",
       "\\item 65\n",
       "\\item 65\n",
       "\\item 65\n",
       "\\item 65\n",
       "\\item 65\n",
       "\\item 65\n",
       "\\item 65\n",
       "\\item 65\n",
       "\\item 65\n",
       "\\item 65\n",
       "\\item 65\n",
       "\\item 65\n",
       "\\item 65\n",
       "\\item 65\n",
       "\\item 65\n",
       "\\item 65\n",
       "\\item 65\n",
       "\\item 65\n",
       "\\item 65\n",
       "\\item 65\n",
       "\\item 65\n",
       "\\item 65\n",
       "\\item 65\n",
       "\\item 65\n",
       "\\item 65\n",
       "\\item 65\n",
       "\\item 65\n",
       "\\item 65\n",
       "\\item 65\n",
       "\\item 65\n",
       "\\item 65\n",
       "\\item 65\n",
       "\\item 65\n",
       "\\item 65\n",
       "\\item 65\n",
       "\\item 65\n",
       "\\item 65\n",
       "\\item 70\n",
       "\\item 70\n",
       "\\item 70\n",
       "\\item 70\n",
       "\\item 70\n",
       "\\item 70\n",
       "\\item 70\n",
       "\\item 70\n",
       "\\item 70\n",
       "\\item 70\n",
       "\\item 70\n",
       "\\item 70\n",
       "\\item 70\n",
       "\\item 70\n",
       "\\item 70\n",
       "\\item 70\n",
       "\\item 70\n",
       "\\item 70\n",
       "\\item 70\n",
       "\\item 70\n",
       "\\item 70\n",
       "\\item 70\n",
       "\\item 70\n",
       "\\item 70\n",
       "\\item 70\n",
       "\\item 70\n",
       "\\item 70\n",
       "\\item 70\n",
       "\\item 70\n",
       "\\item 70\n",
       "\\item 70\n",
       "\\item 70\n",
       "\\item 75\n",
       "\\item 75\n",
       "\\item 75\n",
       "\\item 75\n",
       "\\item 75\n",
       "\\item 75\n",
       "\\item 75\n",
       "\\item 75\n",
       "\\item 75\n",
       "\\item 75\n",
       "\\item 75\n",
       "\\item 75\n",
       "\\item 75\n",
       "\\item 75\n",
       "\\item 75\n",
       "\\item 75\n",
       "\\item 75\n",
       "\\item 75\n",
       "\\item 75\n",
       "\\item 75\n",
       "\\item 80\n",
       "\\item 80\n",
       "\\item 80\n",
       "\\item 80\n",
       "\\item 80\n",
       "\\item 80\n",
       "\\item 80\n",
       "\\item 80\n",
       "\\item 80\n",
       "\\item 80\n",
       "\\item 80\n",
       "\\item 80\n",
       "\\item 80\n",
       "\\item 80\n",
       "\\item 80\n",
       "\\item 80\n",
       "\\item 80\n",
       "\\item 80\n",
       "\\item 80\n",
       "\\item 80\n",
       "\\item 80\n",
       "\\item 80\n",
       "\\item 80\n",
       "\\item 80\n",
       "\\item 85\n",
       "\\item 85\n",
       "\\item 85\n",
       "\\item 85\n",
       "\\item 85\n",
       "\\item 85\n",
       "\\item 85\n",
       "\\item 85\n",
       "\\item 85\n",
       "\\item 85\n",
       "\\item 85\n",
       "\\item 85\n",
       "\\item 85\n",
       "\\item 85\n",
       "\\item 85\n",
       "\\item 85\n",
       "\\item 85\n",
       "\\item 85\n",
       "\\item 90\n",
       "\\item 90\n",
       "\\item 90\n",
       "\\item 90\n",
       "\\item 90\n",
       "\\item 90\n",
       "\\item 90\n",
       "\\item 90\n",
       "\\item 90\n",
       "\\item 95\n",
       "\\item 95\n",
       "\\item 105\n",
       "\\item 105\n",
       "\\end{enumerate*}\n"
      ],
      "text/markdown": [
       "1. 55\n",
       "2. 55\n",
       "3. 55\n",
       "4. 55\n",
       "5. 55\n",
       "6. 55\n",
       "7. 55\n",
       "8. 55\n",
       "9. 55\n",
       "10. 55\n",
       "11. 55\n",
       "12. 55\n",
       "13. 55\n",
       "14. 55\n",
       "15. 55\n",
       "16. 55\n",
       "17. 55\n",
       "18. 55\n",
       "19. 55\n",
       "20. 60\n",
       "21. 60\n",
       "22. 60\n",
       "23. 60\n",
       "24. 60\n",
       "25. 60\n",
       "26. 60\n",
       "27. 60\n",
       "28. 60\n",
       "29. 60\n",
       "30. 60\n",
       "31. 60\n",
       "32. 60\n",
       "33. 60\n",
       "34. 60\n",
       "35. 60\n",
       "36. 60\n",
       "37. 60\n",
       "38. 60\n",
       "39. 60\n",
       "40. 60\n",
       "41. 60\n",
       "42. 60\n",
       "43. 60\n",
       "44. 60\n",
       "45. 60\n",
       "46. 60\n",
       "47. 60\n",
       "48. 60\n",
       "49. 60\n",
       "50. 60\n",
       "51. 60\n",
       "52. 60\n",
       "53. 60\n",
       "54. 60\n",
       "55. 60\n",
       "56. 60\n",
       "57. 60\n",
       "58. 60\n",
       "59. 60\n",
       "60. 60\n",
       "61. 60\n",
       "62. 60\n",
       "63. 60\n",
       "64. 60\n",
       "65. 60\n",
       "66. 60\n",
       "67. 60\n",
       "68. 60\n",
       "69. 60\n",
       "70. 60\n",
       "71. 60\n",
       "72. 60\n",
       "73. 60\n",
       "74. 60\n",
       "75. 60\n",
       "76. 60\n",
       "77. 60\n",
       "78. 60\n",
       "79. 60\n",
       "80. 60\n",
       "81. 60\n",
       "82. 60\n",
       "83. 60\n",
       "84. 60\n",
       "85. 60\n",
       "86. 65\n",
       "87. 65\n",
       "88. 65\n",
       "89. 65\n",
       "90. 65\n",
       "91. 65\n",
       "92. 65\n",
       "93. 65\n",
       "94. 65\n",
       "95. 65\n",
       "96. 65\n",
       "97. 65\n",
       "98. 65\n",
       "99. 65\n",
       "100. 65\n",
       "101. 65\n",
       "102. 65\n",
       "103. 65\n",
       "104. 65\n",
       "105. 65\n",
       "106. 65\n",
       "107. 65\n",
       "108. 65\n",
       "109. 65\n",
       "110. 65\n",
       "111. 65\n",
       "112. 65\n",
       "113. 65\n",
       "114. 65\n",
       "115. 65\n",
       "116. 65\n",
       "117. 65\n",
       "118. 65\n",
       "119. 65\n",
       "120. 65\n",
       "121. 65\n",
       "122. 65\n",
       "123. 65\n",
       "124. 65\n",
       "125. 65\n",
       "126. 65\n",
       "127. 65\n",
       "128. 65\n",
       "129. 65\n",
       "130. 65\n",
       "131. 65\n",
       "132. 65\n",
       "133. 65\n",
       "134. 65\n",
       "135. 65\n",
       "136. 65\n",
       "137. 65\n",
       "138. 65\n",
       "139. 65\n",
       "140. 65\n",
       "141. 65\n",
       "142. 70\n",
       "143. 70\n",
       "144. 70\n",
       "145. 70\n",
       "146. 70\n",
       "147. 70\n",
       "148. 70\n",
       "149. 70\n",
       "150. 70\n",
       "151. 70\n",
       "152. 70\n",
       "153. 70\n",
       "154. 70\n",
       "155. 70\n",
       "156. 70\n",
       "157. 70\n",
       "158. 70\n",
       "159. 70\n",
       "160. 70\n",
       "161. 70\n",
       "162. 70\n",
       "163. 70\n",
       "164. 70\n",
       "165. 70\n",
       "166. 70\n",
       "167. 70\n",
       "168. 70\n",
       "169. 70\n",
       "170. 70\n",
       "171. 70\n",
       "172. 70\n",
       "173. 70\n",
       "174. 75\n",
       "175. 75\n",
       "176. 75\n",
       "177. 75\n",
       "178. 75\n",
       "179. 75\n",
       "180. 75\n",
       "181. 75\n",
       "182. 75\n",
       "183. 75\n",
       "184. 75\n",
       "185. 75\n",
       "186. 75\n",
       "187. 75\n",
       "188. 75\n",
       "189. 75\n",
       "190. 75\n",
       "191. 75\n",
       "192. 75\n",
       "193. 75\n",
       "194. 80\n",
       "195. 80\n",
       "196. 80\n",
       "197. 80\n",
       "198. 80\n",
       "199. 80\n",
       "200. 80\n",
       "201. 80\n",
       "202. 80\n",
       "203. 80\n",
       "204. 80\n",
       "205. 80\n",
       "206. 80\n",
       "207. 80\n",
       "208. 80\n",
       "209. 80\n",
       "210. 80\n",
       "211. 80\n",
       "212. 80\n",
       "213. 80\n",
       "214. 80\n",
       "215. 80\n",
       "216. 80\n",
       "217. 80\n",
       "218. 85\n",
       "219. 85\n",
       "220. 85\n",
       "221. 85\n",
       "222. 85\n",
       "223. 85\n",
       "224. 85\n",
       "225. 85\n",
       "226. 85\n",
       "227. 85\n",
       "228. 85\n",
       "229. 85\n",
       "230. 85\n",
       "231. 85\n",
       "232. 85\n",
       "233. 85\n",
       "234. 85\n",
       "235. 85\n",
       "236. 90\n",
       "237. 90\n",
       "238. 90\n",
       "239. 90\n",
       "240. 90\n",
       "241. 90\n",
       "242. 90\n",
       "243. 90\n",
       "244. 90\n",
       "245. 95\n",
       "246. 95\n",
       "247. 105\n",
       "248. 105\n",
       "\n",
       "\n"
      ],
      "text/plain": [
       "  [1]  55  55  55  55  55  55  55  55  55  55  55  55  55  55  55  55  55  55\n",
       " [19]  55  60  60  60  60  60  60  60  60  60  60  60  60  60  60  60  60  60\n",
       " [37]  60  60  60  60  60  60  60  60  60  60  60  60  60  60  60  60  60  60\n",
       " [55]  60  60  60  60  60  60  60  60  60  60  60  60  60  60  60  60  60  60\n",
       " [73]  60  60  60  60  60  60  60  60  60  60  60  60  60  65  65  65  65  65\n",
       " [91]  65  65  65  65  65  65  65  65  65  65  65  65  65  65  65  65  65  65\n",
       "[109]  65  65  65  65  65  65  65  65  65  65  65  65  65  65  65  65  65  65\n",
       "[127]  65  65  65  65  65  65  65  65  65  65  65  65  65  65  65  70  70  70\n",
       "[145]  70  70  70  70  70  70  70  70  70  70  70  70  70  70  70  70  70  70\n",
       "[163]  70  70  70  70  70  70  70  70  70  70  70  75  75  75  75  75  75  75\n",
       "[181]  75  75  75  75  75  75  75  75  75  75  75  75  75  80  80  80  80  80\n",
       "[199]  80  80  80  80  80  80  80  80  80  80  80  80  80  80  80  80  80  80\n",
       "[217]  80  85  85  85  85  85  85  85  85  85  85  85  85  85  85  85  85  85\n",
       "[235]  85  90  90  90  90  90  90  90  90  90  95  95 105 105"
      ]
     },
     "metadata": {},
     "output_type": "display_data"
    },
    {
     "data": {
      "text/html": [
       "<style>\n",
       ".list-inline {list-style: none; margin:0; padding: 0}\n",
       ".list-inline>li {display: inline-block}\n",
       ".list-inline>li:not(:last-child)::after {content: \"\\00b7\"; padding: 0 .5ex}\n",
       "</style>\n",
       "<ol class=list-inline><li>50</li><li>60</li><li>60</li><li>60</li><li>60</li><li>60</li><li>60</li><li>60</li><li>65</li><li>65</li><li>65</li><li>65</li><li>65</li><li>65</li><li>65</li><li>65</li><li>65</li><li>65</li><li>65</li><li>65</li><li>65</li><li>65</li><li>65</li><li>65</li><li>65</li><li>65</li><li>65</li><li>70</li><li>70</li><li>70</li><li>70</li><li>70</li><li>70</li><li>70</li><li>70</li><li>70</li><li>70</li><li>70</li><li>70</li><li>70</li><li>70</li><li>70</li><li>70</li><li>70</li><li>70</li><li>70</li><li>70</li><li>75</li><li>75</li><li>75</li><li>75</li><li>75</li><li>75</li><li>75</li><li>75</li><li>75</li><li>75</li><li>75</li><li>75</li><li>75</li><li>75</li><li>80</li><li>80</li><li>80</li><li>80</li><li>80</li><li>80</li><li>85</li><li>85</li><li>85</li><li>85</li><li>90</li><li>90</li><li>90</li><li>90</li><li>90</li><li>90</li><li>90</li><li>90</li><li>90</li><li>90</li><li>90</li><li>90</li><li>90</li><li>90</li><li>90</li><li>90</li><li>90</li><li>95</li><li>95</li><li>95</li><li>95</li><li>95</li><li>95</li><li>95</li><li>95</li><li>95</li><li>95</li><li>95</li><li>95</li><li>95</li><li>95</li><li>95</li><li>95</li><li>95</li><li>95</li><li>95</li><li>95</li><li>95</li><li>95</li><li>95</li><li>95</li><li>95</li><li>100</li><li>100</li><li>100</li><li>100</li><li>100</li><li>100</li><li>100</li><li>100</li><li>100</li><li>100</li><li>100</li><li>100</li><li>100</li><li>100</li><li>100</li><li>100</li><li>100</li><li>105</li><li>105</li><li>105</li><li>110</li></ol>\n"
      ],
      "text/latex": [
       "\\begin{enumerate*}\n",
       "\\item 50\n",
       "\\item 60\n",
       "\\item 60\n",
       "\\item 60\n",
       "\\item 60\n",
       "\\item 60\n",
       "\\item 60\n",
       "\\item 60\n",
       "\\item 65\n",
       "\\item 65\n",
       "\\item 65\n",
       "\\item 65\n",
       "\\item 65\n",
       "\\item 65\n",
       "\\item 65\n",
       "\\item 65\n",
       "\\item 65\n",
       "\\item 65\n",
       "\\item 65\n",
       "\\item 65\n",
       "\\item 65\n",
       "\\item 65\n",
       "\\item 65\n",
       "\\item 65\n",
       "\\item 65\n",
       "\\item 65\n",
       "\\item 65\n",
       "\\item 70\n",
       "\\item 70\n",
       "\\item 70\n",
       "\\item 70\n",
       "\\item 70\n",
       "\\item 70\n",
       "\\item 70\n",
       "\\item 70\n",
       "\\item 70\n",
       "\\item 70\n",
       "\\item 70\n",
       "\\item 70\n",
       "\\item 70\n",
       "\\item 70\n",
       "\\item 70\n",
       "\\item 70\n",
       "\\item 70\n",
       "\\item 70\n",
       "\\item 70\n",
       "\\item 70\n",
       "\\item 75\n",
       "\\item 75\n",
       "\\item 75\n",
       "\\item 75\n",
       "\\item 75\n",
       "\\item 75\n",
       "\\item 75\n",
       "\\item 75\n",
       "\\item 75\n",
       "\\item 75\n",
       "\\item 75\n",
       "\\item 75\n",
       "\\item 75\n",
       "\\item 75\n",
       "\\item 80\n",
       "\\item 80\n",
       "\\item 80\n",
       "\\item 80\n",
       "\\item 80\n",
       "\\item 80\n",
       "\\item 85\n",
       "\\item 85\n",
       "\\item 85\n",
       "\\item 85\n",
       "\\item 90\n",
       "\\item 90\n",
       "\\item 90\n",
       "\\item 90\n",
       "\\item 90\n",
       "\\item 90\n",
       "\\item 90\n",
       "\\item 90\n",
       "\\item 90\n",
       "\\item 90\n",
       "\\item 90\n",
       "\\item 90\n",
       "\\item 90\n",
       "\\item 90\n",
       "\\item 90\n",
       "\\item 90\n",
       "\\item 90\n",
       "\\item 95\n",
       "\\item 95\n",
       "\\item 95\n",
       "\\item 95\n",
       "\\item 95\n",
       "\\item 95\n",
       "\\item 95\n",
       "\\item 95\n",
       "\\item 95\n",
       "\\item 95\n",
       "\\item 95\n",
       "\\item 95\n",
       "\\item 95\n",
       "\\item 95\n",
       "\\item 95\n",
       "\\item 95\n",
       "\\item 95\n",
       "\\item 95\n",
       "\\item 95\n",
       "\\item 95\n",
       "\\item 95\n",
       "\\item 95\n",
       "\\item 95\n",
       "\\item 95\n",
       "\\item 95\n",
       "\\item 100\n",
       "\\item 100\n",
       "\\item 100\n",
       "\\item 100\n",
       "\\item 100\n",
       "\\item 100\n",
       "\\item 100\n",
       "\\item 100\n",
       "\\item 100\n",
       "\\item 100\n",
       "\\item 100\n",
       "\\item 100\n",
       "\\item 100\n",
       "\\item 100\n",
       "\\item 100\n",
       "\\item 100\n",
       "\\item 100\n",
       "\\item 105\n",
       "\\item 105\n",
       "\\item 105\n",
       "\\item 110\n",
       "\\end{enumerate*}\n"
      ],
      "text/markdown": [
       "1. 50\n",
       "2. 60\n",
       "3. 60\n",
       "4. 60\n",
       "5. 60\n",
       "6. 60\n",
       "7. 60\n",
       "8. 60\n",
       "9. 65\n",
       "10. 65\n",
       "11. 65\n",
       "12. 65\n",
       "13. 65\n",
       "14. 65\n",
       "15. 65\n",
       "16. 65\n",
       "17. 65\n",
       "18. 65\n",
       "19. 65\n",
       "20. 65\n",
       "21. 65\n",
       "22. 65\n",
       "23. 65\n",
       "24. 65\n",
       "25. 65\n",
       "26. 65\n",
       "27. 65\n",
       "28. 70\n",
       "29. 70\n",
       "30. 70\n",
       "31. 70\n",
       "32. 70\n",
       "33. 70\n",
       "34. 70\n",
       "35. 70\n",
       "36. 70\n",
       "37. 70\n",
       "38. 70\n",
       "39. 70\n",
       "40. 70\n",
       "41. 70\n",
       "42. 70\n",
       "43. 70\n",
       "44. 70\n",
       "45. 70\n",
       "46. 70\n",
       "47. 70\n",
       "48. 75\n",
       "49. 75\n",
       "50. 75\n",
       "51. 75\n",
       "52. 75\n",
       "53. 75\n",
       "54. 75\n",
       "55. 75\n",
       "56. 75\n",
       "57. 75\n",
       "58. 75\n",
       "59. 75\n",
       "60. 75\n",
       "61. 75\n",
       "62. 80\n",
       "63. 80\n",
       "64. 80\n",
       "65. 80\n",
       "66. 80\n",
       "67. 80\n",
       "68. 85\n",
       "69. 85\n",
       "70. 85\n",
       "71. 85\n",
       "72. 90\n",
       "73. 90\n",
       "74. 90\n",
       "75. 90\n",
       "76. 90\n",
       "77. 90\n",
       "78. 90\n",
       "79. 90\n",
       "80. 90\n",
       "81. 90\n",
       "82. 90\n",
       "83. 90\n",
       "84. 90\n",
       "85. 90\n",
       "86. 90\n",
       "87. 90\n",
       "88. 90\n",
       "89. 95\n",
       "90. 95\n",
       "91. 95\n",
       "92. 95\n",
       "93. 95\n",
       "94. 95\n",
       "95. 95\n",
       "96. 95\n",
       "97. 95\n",
       "98. 95\n",
       "99. 95\n",
       "100. 95\n",
       "101. 95\n",
       "102. 95\n",
       "103. 95\n",
       "104. 95\n",
       "105. 95\n",
       "106. 95\n",
       "107. 95\n",
       "108. 95\n",
       "109. 95\n",
       "110. 95\n",
       "111. 95\n",
       "112. 95\n",
       "113. 95\n",
       "114. 100\n",
       "115. 100\n",
       "116. 100\n",
       "117. 100\n",
       "118. 100\n",
       "119. 100\n",
       "120. 100\n",
       "121. 100\n",
       "122. 100\n",
       "123. 100\n",
       "124. 100\n",
       "125. 100\n",
       "126. 100\n",
       "127. 100\n",
       "128. 100\n",
       "129. 100\n",
       "130. 100\n",
       "131. 105\n",
       "132. 105\n",
       "133. 105\n",
       "134. 110\n",
       "\n",
       "\n"
      ],
      "text/plain": [
       "  [1]  50  60  60  60  60  60  60  60  65  65  65  65  65  65  65  65  65  65\n",
       " [19]  65  65  65  65  65  65  65  65  65  70  70  70  70  70  70  70  70  70\n",
       " [37]  70  70  70  70  70  70  70  70  70  70  70  75  75  75  75  75  75  75\n",
       " [55]  75  75  75  75  75  75  75  80  80  80  80  80  80  85  85  85  85  90\n",
       " [73]  90  90  90  90  90  90  90  90  90  90  90  90  90  90  90  90  95  95\n",
       " [91]  95  95  95  95  95  95  95  95  95  95  95  95  95  95  95  95  95  95\n",
       "[109]  95  95  95  95  95 100 100 100 100 100 100 100 100 100 100 100 100 100\n",
       "[127] 100 100 100 100 105 105 105 110"
      ]
     },
     "metadata": {},
     "output_type": "display_data"
    }
   ],
   "source": [
    "#use this data for the A salmon year 1 and 2\n",
    "as1= c(rep(55,19), rep(60,66), rep(65,56), rep(70,32),rep(75,20), rep(80,24), rep(85,18),rep(90,9), rep(95,2), rep(105,2))\n",
    "as1\n",
    "as2= c(rep(50,1), rep(60,7), rep(65,19), rep(70,20), rep(75,14), \n",
    "       rep(80,6), rep(85,4), rep(90,17), rep(95, 25), rep(100,17), rep(105,3), rep(110,1))   \n",
    "as2"
   ]
  },
  {
   "cell_type": "markdown",
   "id": "9626340c",
   "metadata": {},
   "source": [
    "Make a frequency histogram of your salmon size information. It is possible to place two plots in the image window using ‘par(mfrow=c(1,2))’, which splits the plot window into one row by two columns.\n",
    "\n",
    "You can customise your labels to be more informative in the histogram by using ‘main=”East Australasian Salmon Year 1”’ and ‘xlab=”Size (mm)”’.\n"
   ]
  },
  {
   "cell_type": "code",
   "execution_count": 3,
   "id": "cc46b73d",
   "metadata": {},
   "outputs": [
    {
     "data": {
      "image/png": "[encoded data removed]",
      "text/plain": [
       "Plot with title \"East Australasian Salmon Year 2\""
      ]
     },
     "metadata": {
      "image/png": {
       "height": 420,
       "width": 420
      }
     },
     "output_type": "display_data"
    }
   ],
   "source": [
    "par(mfrow=c(1,2))\n",
    "hist(as1,main=\"East Australasian Salmon Year 1\",xlab=\"Size (mm)\")\n",
    "hist(as2,main=\"East Australasian Salmon Year 2\",xlab=\"Size (mm)\")"
   ]
  },
  {
   "cell_type": "markdown",
   "id": "3a6fcc84",
   "metadata": {},
   "source": [
    "How does the size distribution of salmon from Year 1 differ from Year 2? Are the size distributions unimodal, bimodal, polymodal? Are you absolutely sure?\n",
    "\n",
    "`bimodal in year 2, unimodal in year 1, year 1 looks like powerlaw`"
   ]
  },
  {
   "cell_type": "markdown",
   "id": "acfe7a71",
   "metadata": {},
   "source": [
    "To test if the size distribution of salmon from each year is from a unimodal or bimodal size distribution we can create two hypotheses, with each hypothesis represented by a model.\n",
    "\n",
    "* Hypothesis 1: salmon sampled are from a population with a unimodal size distribution\n",
    "* Hypothesis 2: salmon sampled are from a population with a bimodal size distribution\n",
    "\n",
    "We then compare these models/hypotheses to test which is more likely. \n",
    "In this case the term ‘likelihood’ refers to the mathematical calculation of likelihood (i.e., what is the likelihood of the model, given the data). Teaching the mathematical underpinnings of calculating likelihood is beyond the scope of this course, but you are welcome to ask the unit coordinator or look it up if you would like to understand it better.\n",
    "\n",
    "The models are created using a tool called Maximum Likelihood Estimation \n",
    "R has a great purpose-built package for calculating the likelihood of unimodal, bimodal and polymodal data distributions, called ‘mclust’. Install and then require this package in R using the following script. You must be connected to the internet.\n"
   ]
  },
  {
   "cell_type": "code",
   "execution_count": 4,
   "id": "e8c693e6",
   "metadata": {},
   "outputs": [
    {
     "name": "stderr",
     "output_type": "stream",
     "text": [
      "Loading required package: mclust\n",
      "\n",
      "Warning message:\n",
      "\"package 'mclust' was built under R version 4.2.3\"\n",
      "Package 'mclust' version 6.0.0\n",
      "Type 'citation(\"mclust\")' for citing this R package in publications.\n",
      "\n"
     ]
    }
   ],
   "source": [
    "#install.packages('mclust')\n",
    "require(mclust)\n"
   ]
  },
  {
   "cell_type": "markdown",
   "id": "45073e66",
   "metadata": {},
   "source": [
    "Create objects for each hypothesis (model). The function for the models is as follows:\n",
    "\n",
    "`Mclust(#, G = #) `\n",
    "\n",
    "where first # is the object of size distributions for a given year (Year 1 or Year 2) and the second # is the number of hypothesised size distributions in the model (e.g., 1 or 2).\n",
    "\n",
    "After you have created your objects of the models/hypotheses, examine the output using ‘summary(#)’, where # is the object name.\n",
    " ‘log.likelihood’ is the log of the likelihood calculated from the model. ‘n’ is the number of fish that you measured. ‘df’ is degrees of freedom (or number of estimated parameters in this case). ‘BIC’ is a measure of how well the hypothesis/model fits the data (we will get into this more soon). ‘Clustering table’ is the number of fish it categorised into each group for each hypothesis. \n"
   ]
  },
  {
   "cell_type": "code",
   "execution_count": 5,
   "id": "b024abef",
   "metadata": {},
   "outputs": [
    {
     "data": {
      "text/plain": [
       "---------------------------------------------------- \n",
       "Gaussian finite mixture model fitted by EM algorithm \n",
       "---------------------------------------------------- \n",
       "\n",
       "Mclust X (univariate normal) model with 1 component: \n",
       "\n",
       " log-likelihood   n df      BIC      ICL\n",
       "      -929.3915 248  2 -1869.81 -1869.81\n",
       "\n",
       "Clustering table:\n",
       "  1 \n",
       "248 "
      ]
     },
     "metadata": {},
     "output_type": "display_data"
    }
   ],
   "source": [
    "M1=Mclust(as1, G = 1)\n",
    "summary(M1)"
   ]
  },
  {
   "cell_type": "code",
   "execution_count": 6,
   "id": "fce37a0e",
   "metadata": {},
   "outputs": [
    {
     "data": {
      "text/plain": [
       "---------------------------------------------------- \n",
       "Gaussian finite mixture model fitted by EM algorithm \n",
       "---------------------------------------------------- \n",
       "\n",
       "Mclust E (univariate, equal variance) model with 2 components: \n",
       "\n",
       " log-likelihood   n df       BIC       ICL\n",
       "      -513.1731 134  4 -1045.938 -1049.235\n",
       "\n",
       "Clustering table:\n",
       " 1  2 \n",
       "67 67 "
      ]
     },
     "metadata": {},
     "output_type": "display_data"
    }
   ],
   "source": [
    "M2=Mclust(as2, G = 2)\n",
    "summary(M2)"
   ]
  },
  {
   "cell_type": "markdown",
   "id": "b4ebd49d",
   "metadata": {},
   "source": [
    "You can also visualise this using ‘plot’ and ‘densityMclust’. NB: when you run ‘densityMclust’ plot you will be given three options: type “2” and hit enter, then type “0” and hit enter.\n",
    "```\n",
    "\tpar(mfrow=c(1,3)) #plotting with one row and three columns\n",
    "\thist(#)\n",
    "\tplot(densityMclust(#,G=1),#)\n",
    "plot(densityMclust(#,G=2),#)\n",
    "```\n",
    "where # is the object of size distributions for a given year (Year 1 or Year 2).\n"
   ]
  },
  {
   "cell_type": "code",
   "execution_count": 7,
   "id": "570bbaca",
   "metadata": {},
   "outputs": [
    {
     "data": {
      "image/png": "[encoded data removed]",
      "text/plain": [
       "Plot with title \"\""
      ]
     },
     "metadata": {
      "image/png": {
       "height": 420,
       "width": 420
      }
     },
     "output_type": "display_data"
    },
    {
     "data": {
      "image/png": "[encoded data removed]",
      "text/plain": [
       "Plot with title \"\""
      ]
     },
     "metadata": {
      "image/png": {
       "height": 420,
       "width": 420
      }
     },
     "output_type": "display_data"
    },
    {
     "data": {
      "image/png": "[encoded data removed]",
      "text/plain": [
       "Plot with title \"\""
      ]
     },
     "metadata": {
      "image/png": {
       "height": 420,
       "width": 420
      }
     },
     "output_type": "display_data"
    },
    {
     "data": {
      "image/png": "[encoded data removed]",
      "text/plain": [
       "plot without title"
      ]
     },
     "metadata": {
      "image/png": {
       "height": 420,
       "width": 420
      }
     },
     "output_type": "display_data"
    }
   ],
   "source": [
    "par(mfrow=c(1,3)) #plotting with one row and three columns\n",
    "hist(as1)\n",
    "plot(densityMclust(as1,G=1),as1)\n",
    "plot(densityMclust(as1,G=2),as1)"
   ]
  },
  {
   "cell_type": "code",
   "execution_count": 8,
   "id": "4fa6a5b6",
   "metadata": {},
   "outputs": [
    {
     "data": {
      "image/png": "[encoded data removed]",
      "text/plain": [
       "Plot with title \"\""
      ]
     },
     "metadata": {
      "image/png": {
       "height": 420,
       "width": 420
      }
     },
     "output_type": "display_data"
    },
    {
     "data": {
      "image/png": "[encoded data removed]",
      "text/plain": [
       "Plot with title \"\""
      ]
     },
     "metadata": {
      "image/png": {
       "height": 420,
       "width": 420
      }
     },
     "output_type": "display_data"
    },
    {
     "data": {
      "image/png": "[encoded data removed]",
      "text/plain": [
       "Plot with title \"\""
      ]
     },
     "metadata": {
      "image/png": {
       "height": 420,
       "width": 420
      }
     },
     "output_type": "display_data"
    },
    {
     "data": {
      "image/png": "[encoded data removed]",
      "text/plain": [
       "plot without title"
      ]
     },
     "metadata": {
      "image/png": {
       "height": 420,
       "width": 420
      }
     },
     "output_type": "display_data"
    }
   ],
   "source": [
    "par(mfrow=c(1,3)) #plotting with one row and three columns\n",
    "hist(as2)\n",
    "plot(densityMclust(as2,G=1),as2)\n",
    "plot(densityMclust(as2,G=2),as2)"
   ]
  },
  {
   "cell_type": "markdown",
   "id": "efd5b5c3",
   "metadata": {},
   "source": [
    "Which hypothesis looks most likely for each year?\n",
    "Let’s test that more formally.\n",
    "\n",
    "`bimodal in year 2, unimodal in year 1`"
   ]
  },
  {
   "cell_type": "markdown",
   "id": "d3ae8ab8",
   "metadata": {},
   "source": [
    "BIC (Bayesian Information Criterion) is used to interpret which is the hypothesis/model that is better/more-likely. Traditionally, the model/hypothesis with the lowest BIC is the better/more-likely one. However, frustratingly, the authors of Mclust calculate BIC in a different/non-traditional way (I have informed the authors of Mclust of this, but they are unlikely to change it), so we are going to calculate the BICs ourselves. \n",
    "\n",
    "BIC can be calculated using the following formula. Calculate this for each hypothesis in each year.\n",
    "\n",
    "BIC = -2 * loglik + df * log(n)\n",
    "\n",
    "NB: In the future you may come across other similar calculations of model fit, such as AIC and DIC, which are in principle the same…the lowest score is the better/more-likely model.\n",
    "\n",
    "You can calculate the mean(s) and standard deviation(s) for each hypothesis by running the above script with ‘$mean’ or ‘$variance’ after the ‘summary’ script. \n",
    "(e.g., “summary(#)$mean“). \n",
    "where # is the is the Mclust model object.\n",
    "\n",
    "If you would like to understand the technical information behind the analysis better simply type “?Mclust” into the R console.\n"
   ]
  },
  {
   "cell_type": "code",
   "execution_count": 9,
   "id": "8ad29a75",
   "metadata": {},
   "outputs": [],
   "source": [
    "M_as1_1=Mclust(as1, G = 1)\n",
    "M_as1_2=Mclust(as1, G = 2)\n",
    "\n",
    "BIC_as1_1=-2*(summary(M_as1_1))$loglik+summary(M_as1_1)$df*log(summary(M_as1_1)$n)\n",
    "BIC_as1_2=-2*(summary(M_as1_2))$loglik+summary(M_as1_2)$df*log(summary(M_as1_2)$n)"
   ]
  },
  {
   "cell_type": "code",
   "execution_count": 10,
   "id": "9b2fcf32",
   "metadata": {},
   "outputs": [
    {
     "name": "stdout",
     "output_type": "stream",
     "text": [
      "[1] \"bimodal for year 1\"\n"
     ]
    }
   ],
   "source": [
    "if (BIC_as1_1<BIC_as1_2)\n",
    "    {print(\"unimodal for year 1\")\n",
    "    }else{\n",
    "    print(\"bimodal for year 1\")}"
   ]
  },
  {
   "cell_type": "code",
   "execution_count": 11,
   "id": "a8f2ce75",
   "metadata": {},
   "outputs": [],
   "source": [
    "M_as2_1=Mclust(as2, G = 1)\n",
    "M_as2_2=Mclust(as2, G = 2)\n",
    "\n",
    "BIC_as2_1=-2*(summary(M_as2_1))$loglik+summary(M_as2_1)$df*log(summary(M_as2_1)$n)\n",
    "BIC_as2_2=-2*(summary(M_as2_2))$loglik+summary(M_as2_2)$df*log(summary(M_as2_2)$n)"
   ]
  },
  {
   "cell_type": "code",
   "execution_count": 12,
   "id": "100b9f58",
   "metadata": {},
   "outputs": [
    {
     "name": "stdout",
     "output_type": "stream",
     "text": [
      "[1] \"bimodal for year 2\"\n"
     ]
    }
   ],
   "source": [
    "if (BIC_as2_1<BIC_as2_2)\n",
    "    {print(\"unimodal for year 2\")\n",
    "    }else{\n",
    "    print(\"bimodal for year 2\")}"
   ]
  },
  {
   "cell_type": "code",
   "execution_count": 13,
   "id": "7130b51a",
   "metadata": {},
   "outputs": [
    {
     "data": {
      "text/html": [
       "<style>\n",
       ".dl-inline {width: auto; margin:0; padding: 0}\n",
       ".dl-inline>dt, .dl-inline>dd {float: none; width: auto; display: inline-block}\n",
       ".dl-inline>dt::after {content: \":\\0020\"; padding-right: .5ex}\n",
       ".dl-inline>dt:not(:first-of-type) {padding-left: .5ex}\n",
       "</style><dl class=dl-inline><dt>1</dt><dd>69.091179628278</dd><dt>2</dt><dd>94.8696092120319</dd></dl>\n"
      ],
      "text/latex": [
       "\\begin{description*}\n",
       "\\item[1] 69.091179628278\n",
       "\\item[2] 94.8696092120319\n",
       "\\end{description*}\n"
      ],
      "text/markdown": [
       "1\n",
       ":   69.0911796282782\n",
       ":   94.8696092120319\n",
       "\n"
      ],
      "text/plain": [
       "       1        2 \n",
       "69.09118 94.86961 "
      ]
     },
     "metadata": {},
     "output_type": "display_data"
    },
    {
     "data": {
      "text/html": [
       "<style>\n",
       ".dl-inline {width: auto; margin:0; padding: 0}\n",
       ".dl-inline>dt, .dl-inline>dd {float: none; width: auto; display: inline-block}\n",
       ".dl-inline>dt::after {content: \":\\0020\"; padding-right: .5ex}\n",
       ".dl-inline>dt:not(:first-of-type) {padding-left: .5ex}\n",
       "</style><dl class=dl-inline><dt>1</dt><dd>33.2839487389274</dd><dt>2</dt><dd>33.2839487389274</dd></dl>\n"
      ],
      "text/latex": [
       "\\begin{description*}\n",
       "\\item[1] 33.2839487389274\n",
       "\\item[2] 33.2839487389274\n",
       "\\end{description*}\n"
      ],
      "text/markdown": [
       "1\n",
       ":   33.28394873892742\n",
       ":   33.2839487389274\n",
       "\n"
      ],
      "text/plain": [
       "       1        2 \n",
       "33.28395 33.28395 "
      ]
     },
     "metadata": {},
     "output_type": "display_data"
    }
   ],
   "source": [
    "summary(M_as2_2)$mean\n",
    "summary(M_as2_2)$variance"
   ]
  },
  {
   "cell_type": "markdown",
   "id": "9bb8d895",
   "metadata": {},
   "source": [
    "Is the size distribution of salmon from each year from a unimodal or bimodal distribution? How does this compare with what you thought before you ran the statistical test? What could be the biological reason for a bimodal distribution in the population for one or both of these years?\n",
    "\n",
    "`bimodal in year 2, unimodal in year 1`"
   ]
  },
  {
   "cell_type": "code",
   "execution_count": null,
   "id": "4fa808b7",
   "metadata": {},
   "outputs": [],
   "source": []
  }
 ],
 "metadata": {
  "kernelspec": {
   "display_name": "R",
   "language": "R",
   "name": "ir413"
  },
  "language_info": {
   "codemirror_mode": "r",
   "file_extension": ".r",
   "mimetype": "text/x-r-source",
   "name": "R",
   "pygments_lexer": "r",
   "version": "4.2.2"
  },
  "toc": {
   "base_numbering": 1,
   "nav_menu": {},
   "number_sections": true,
   "sideBar": true,
   "skip_h1_title": false,
   "title_cell": "Table of Contents",
   "title_sidebar": "Contents",
   "toc_cell": false,
   "toc_position": {},
   "toc_section_display": true,
   "toc_window_display": false
  }
 },
 "nbformat": 4,
 "nbformat_minor": 5
}
