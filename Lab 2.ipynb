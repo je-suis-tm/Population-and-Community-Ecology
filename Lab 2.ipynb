{
 "cells": [
  {
   "cell_type": "markdown",
   "id": "cee2efc0",
   "metadata": {},
   "source": [
    "## Lab 2 - \tIntroduction to R"
   ]
  },
  {
   "cell_type": "markdown",
   "id": "51e12f8e",
   "metadata": {},
   "source": [
    "### Basic calculations in R"
   ]
  },
  {
   "cell_type": "markdown",
   "id": "4fd54ee3",
   "metadata": {},
   "source": [
    "R uses most of the familiar mathematical operators you may be accustomed to. Addition, subtraction, multiplication, division, exponentiation, ex, etc. are +, -, \\*, /, ^, exp(x), respectively. In addition, when working from the console you may use the arrow ‘up key’ to scroll through the previous few commands to the prompt and edit them as desired. \n",
    "Let’s begin with some simple computations: type 6 + 9 and then Enter at the command prompt >.\n"
   ]
  },
  {
   "cell_type": "code",
   "execution_count": 1,
   "id": "888c9f90",
   "metadata": {},
   "outputs": [
    {
     "data": {
      "text/html": [
       "15"
      ],
      "text/latex": [
       "15"
      ],
      "text/markdown": [
       "15"
      ],
      "text/plain": [
       "[1] 15"
      ]
     },
     "metadata": {},
     "output_type": "display_data"
    }
   ],
   "source": [
    "#add\n",
    "6+9"
   ]
  },
  {
   "cell_type": "markdown",
   "id": "c7cda813",
   "metadata": {},
   "source": [
    "Alternatively type 6+9 into the R script box then ‘run’ that line of script\n",
    "\n",
    "In both cases the answer is returned in the console with [1] next to it, which represents the number of the first element of that output row (in this case only one entry). Try some simple calculator type calculations on your own to get used to the input/output style of R. \n",
    "e.g., "
   ]
  },
  {
   "cell_type": "code",
   "execution_count": 2,
   "id": "3309c046",
   "metadata": {},
   "outputs": [
    {
     "data": {
      "text/html": [
       "5.66666666666667"
      ],
      "text/latex": [
       "5.66666666666667"
      ],
      "text/markdown": [
       "5.66666666666667"
      ],
      "text/plain": [
       "[1] 5.666667"
      ]
     },
     "metadata": {},
     "output_type": "display_data"
    }
   ],
   "source": [
    "#power\n",
    "7-12/3^2"
   ]
  },
  {
   "cell_type": "code",
   "execution_count": 3,
   "id": "ff7572d1",
   "metadata": {},
   "outputs": [
    {
     "data": {
      "text/html": [
       "-1"
      ],
      "text/latex": [
       "-1"
      ],
      "text/markdown": [
       "-1"
      ],
      "text/plain": [
       "[1] -1"
      ]
     },
     "metadata": {},
     "output_type": "display_data"
    }
   ],
   "source": [
    "#multiplication\n",
    "7-12/3*2"
   ]
  },
  {
   "cell_type": "markdown",
   "id": "ac3aa3a3",
   "metadata": {},
   "source": [
    "### Creating objects in R"
   ]
  },
  {
   "cell_type": "markdown",
   "id": "17c6db0d",
   "metadata": {},
   "source": [
    "It is frequently useful to create objects in R. These objects then become saved (note the presence in the top right box in RStudio) and can be recalled when useful.\n",
    "\n",
    "An object can be created with the ‘assign operators’ “<-“ or “=”. Give some examples a go, either by directly typing them into the console or in the script file and then running it.\n"
   ]
  },
  {
   "cell_type": "code",
   "execution_count": 4,
   "id": "0378b137",
   "metadata": {},
   "outputs": [
    {
     "data": {
      "text/html": [
       "15"
      ],
      "text/latex": [
       "15"
      ],
      "text/markdown": [
       "15"
      ],
      "text/plain": [
       "[1] 15"
      ]
     },
     "metadata": {},
     "output_type": "display_data"
    }
   ],
   "source": [
    "#c++ syntax\n",
    "n <- 15\n",
    "\n",
    "n"
   ]
  },
  {
   "cell_type": "code",
   "execution_count": 5,
   "id": "90d51059",
   "metadata": {},
   "outputs": [
    {
     "data": {
      "text/html": [
       "20"
      ],
      "text/latex": [
       "20"
      ],
      "text/markdown": [
       "20"
      ],
      "text/plain": [
       "[1] 20"
      ]
     },
     "metadata": {},
     "output_type": "display_data"
    }
   ],
   "source": [
    "#most intuitive syntax\n",
    "n = 20\n",
    "\n",
    "n"
   ]
  },
  {
   "cell_type": "code",
   "execution_count": 6,
   "id": "9c51660a",
   "metadata": {},
   "outputs": [
    {
     "data": {
      "text/html": [
       "25"
      ],
      "text/latex": [
       "25"
      ],
      "text/markdown": [
       "25"
      ],
      "text/plain": [
       "[1] 25"
      ]
     },
     "metadata": {},
     "output_type": "display_data"
    }
   ],
   "source": [
    "#can use express for variable assignment\n",
    "n <- 20 + 5\n",
    "\n",
    "n"
   ]
  },
  {
   "cell_type": "code",
   "execution_count": 7,
   "id": "91e1baff",
   "metadata": {},
   "outputs": [
    {
     "data": {
      "text/html": [
       "22"
      ],
      "text/latex": [
       "22"
      ],
      "text/markdown": [
       "22"
      ],
      "text/plain": [
       "[1] 22"
      ]
     },
     "metadata": {},
     "output_type": "display_data"
    }
   ],
   "source": [
    "#case sensitive\n",
    "N=22\n",
    "\n",
    "N"
   ]
  },
  {
   "cell_type": "code",
   "execution_count": 8,
   "id": "739b617f",
   "metadata": {},
   "outputs": [
    {
     "data": {
      "text/html": [
       "25"
      ],
      "text/latex": [
       "25"
      ],
      "text/markdown": [
       "25"
      ],
      "text/plain": [
       "[1] 25"
      ]
     },
     "metadata": {},
     "output_type": "display_data"
    }
   ],
   "source": [
    "n"
   ]
  },
  {
   "cell_type": "markdown",
   "id": "cbf5c973",
   "metadata": {},
   "source": [
    "### add comments"
   ]
  },
  {
   "cell_type": "markdown",
   "id": "48a5017f",
   "metadata": {},
   "source": [
    "FROM HERE ON IN, LETS GET INTO THE GOOD HABIT OF WRITING ALL YOUR R CODE IN THE SCRIPT BOX (top left box) AND SAVE THIS TO A LOGICAL DIRECTORY ON YOUR COMPUTER …perhaps the desktop or a KPZ211_Labs folder.\n",
    "\n",
    "You can then access this code at any time by simply opening the saved script file.\n",
    "\n",
    "You can also add notes into your script by using the “#” symbol before the notes, which means that you don’t try and force the console to run those notes\n",
    "e.g.,  "
   ]
  },
  {
   "cell_type": "code",
   "execution_count": 9,
   "id": "94196c70",
   "metadata": {},
   "outputs": [],
   "source": [
    "# Instructions on how to create R objects"
   ]
  },
  {
   "cell_type": "markdown",
   "id": "1a205ffc",
   "metadata": {},
   "source": [
    "This can even be used after lines of script\n",
    "e.g., "
   ]
  },
  {
   "cell_type": "code",
   "execution_count": 10,
   "id": "7d38f1a8",
   "metadata": {},
   "outputs": [],
   "source": [
    "N = 22 # creates an object for 22"
   ]
  },
  {
   "cell_type": "markdown",
   "id": "2e83256a",
   "metadata": {},
   "source": [
    "### Vectors and matrices in R"
   ]
  },
  {
   "cell_type": "markdown",
   "id": "eb27e797",
   "metadata": {},
   "source": [
    "Often biologists collect and use vectors or matrices in their analyses. Vectors are a single string of characters (numbers, letters, categories) and matrices are made up of multiple vectors bound together. There are several ways to do this.\n",
    "\n",
    "For a vector in numerical order:"
   ]
  },
  {
   "cell_type": "code",
   "execution_count": 11,
   "id": "1dc55d42",
   "metadata": {},
   "outputs": [
    {
     "data": {
      "text/html": [
       "<style>\n",
       ".list-inline {list-style: none; margin:0; padding: 0}\n",
       ".list-inline>li {display: inline-block}\n",
       ".list-inline>li:not(:last-child)::after {content: \"\\00b7\"; padding: 0 .5ex}\n",
       "</style>\n",
       "<ol class=list-inline><li>3</li><li>4</li><li>5</li><li>6</li><li>7</li><li>8</li></ol>\n"
      ],
      "text/latex": [
       "\\begin{enumerate*}\n",
       "\\item 3\n",
       "\\item 4\n",
       "\\item 5\n",
       "\\item 6\n",
       "\\item 7\n",
       "\\item 8\n",
       "\\end{enumerate*}\n"
      ],
      "text/markdown": [
       "1. 3\n",
       "2. 4\n",
       "3. 5\n",
       "4. 6\n",
       "5. 7\n",
       "6. 8\n",
       "\n",
       "\n"
      ],
      "text/plain": [
       "[1] 3 4 5 6 7 8"
      ]
     },
     "metadata": {},
     "output_type": "display_data"
    }
   ],
   "source": [
    "#range from 3 to 8, [3,8]\n",
    "k=3:8\n",
    "k"
   ]
  },
  {
   "cell_type": "markdown",
   "id": "37223b7f",
   "metadata": {},
   "source": [
    "For a vector in anything other than numerical order you need to concatenate the characters together using “c()”:"
   ]
  },
  {
   "cell_type": "code",
   "execution_count": 12,
   "id": "d14a3ce1",
   "metadata": {},
   "outputs": [
    {
     "data": {
      "text/html": [
       "<style>\n",
       ".list-inline {list-style: none; margin:0; padding: 0}\n",
       ".list-inline>li {display: inline-block}\n",
       ".list-inline>li:not(:last-child)::after {content: \"\\00b7\"; padding: 0 .5ex}\n",
       "</style>\n",
       "<ol class=list-inline><li>3</li><li>5</li><li>7</li></ol>\n"
      ],
      "text/latex": [
       "\\begin{enumerate*}\n",
       "\\item 3\n",
       "\\item 5\n",
       "\\item 7\n",
       "\\end{enumerate*}\n"
      ],
      "text/markdown": [
       "1. 3\n",
       "2. 5\n",
       "3. 7\n",
       "\n",
       "\n"
      ],
      "text/plain": [
       "[1] 3 5 7"
      ]
     },
     "metadata": {},
     "output_type": "display_data"
    }
   ],
   "source": [
    "#concatenate\n",
    "j = c(3,5,7)\n",
    "\n",
    "j"
   ]
  },
  {
   "cell_type": "markdown",
   "id": "2fe7a154",
   "metadata": {},
   "source": [
    "If you use any kind of character involving letters you must use ‘’ or “”"
   ]
  },
  {
   "cell_type": "code",
   "execution_count": 13,
   "id": "dcb8e074",
   "metadata": {},
   "outputs": [
    {
     "data": {
      "text/html": [
       "<style>\n",
       ".list-inline {list-style: none; margin:0; padding: 0}\n",
       ".list-inline>li {display: inline-block}\n",
       ".list-inline>li:not(:last-child)::after {content: \"\\00b7\"; padding: 0 .5ex}\n",
       "</style>\n",
       "<ol class=list-inline><li>'a'</li><li>'b'</li><li>'c'</li></ol>\n"
      ],
      "text/latex": [
       "\\begin{enumerate*}\n",
       "\\item 'a'\n",
       "\\item 'b'\n",
       "\\item 'c'\n",
       "\\end{enumerate*}\n"
      ],
      "text/markdown": [
       "1. 'a'\n",
       "2. 'b'\n",
       "3. 'c'\n",
       "\n",
       "\n"
      ],
      "text/plain": [
       "[1] \"a\" \"b\" \"c\""
      ]
     },
     "metadata": {},
     "output_type": "display_data"
    }
   ],
   "source": [
    "#str \n",
    "k = c('a','b','c')\n",
    "k"
   ]
  },
  {
   "cell_type": "code",
   "execution_count": 14,
   "id": "098be2a6",
   "metadata": {},
   "outputs": [
    {
     "data": {
      "text/html": [
       "<style>\n",
       ".list-inline {list-style: none; margin:0; padding: 0}\n",
       ".list-inline>li {display: inline-block}\n",
       ".list-inline>li:not(:last-child)::after {content: \"\\00b7\"; padding: 0 .5ex}\n",
       "</style>\n",
       "<ol class=list-inline><li>'wombats'</li><li>'are'</li><li>'awesome'</li></ol>\n"
      ],
      "text/latex": [
       "\\begin{enumerate*}\n",
       "\\item 'wombats'\n",
       "\\item 'are'\n",
       "\\item 'awesome'\n",
       "\\end{enumerate*}\n"
      ],
      "text/markdown": [
       "1. 'wombats'\n",
       "2. 'are'\n",
       "3. 'awesome'\n",
       "\n",
       "\n"
      ],
      "text/plain": [
       "[1] \"wombats\" \"are\"     \"awesome\""
      ]
     },
     "metadata": {},
     "output_type": "display_data"
    }
   ],
   "source": [
    "m = c(\"wombats\",\"are\",\"awesome\")\n",
    "m"
   ]
  },
  {
   "cell_type": "markdown",
   "id": "f36afa39",
   "metadata": {},
   "source": [
    "Sometimes you may want to repeat a value or character multiple time, so using the ‘rep’ command is very helpful"
   ]
  },
  {
   "cell_type": "code",
   "execution_count": 15,
   "id": "fc7e687d",
   "metadata": {},
   "outputs": [
    {
     "data": {
      "text/html": [
       "<style>\n",
       ".list-inline {list-style: none; margin:0; padding: 0}\n",
       ".list-inline>li {display: inline-block}\n",
       ".list-inline>li:not(:last-child)::after {content: \"\\00b7\"; padding: 0 .5ex}\n",
       "</style>\n",
       "<ol class=list-inline><li>1</li><li>1</li><li>1</li><li>1</li><li>1</li><li>1</li><li>1</li><li>1</li><li>1</li><li>1</li></ol>\n"
      ],
      "text/latex": [
       "\\begin{enumerate*}\n",
       "\\item 1\n",
       "\\item 1\n",
       "\\item 1\n",
       "\\item 1\n",
       "\\item 1\n",
       "\\item 1\n",
       "\\item 1\n",
       "\\item 1\n",
       "\\item 1\n",
       "\\item 1\n",
       "\\end{enumerate*}\n"
      ],
      "text/markdown": [
       "1. 1\n",
       "2. 1\n",
       "3. 1\n",
       "4. 1\n",
       "5. 1\n",
       "6. 1\n",
       "7. 1\n",
       "8. 1\n",
       "9. 1\n",
       "10. 1\n",
       "\n",
       "\n"
      ],
      "text/plain": [
       " [1] 1 1 1 1 1 1 1 1 1 1"
      ]
     },
     "metadata": {},
     "output_type": "display_data"
    }
   ],
   "source": [
    "#repeat element\n",
    "n = rep(1,10)\n",
    "n\n"
   ]
  },
  {
   "cell_type": "markdown",
   "id": "5419a3a5",
   "metadata": {},
   "source": [
    "…or my personal favourite"
   ]
  },
  {
   "cell_type": "code",
   "execution_count": 16,
   "id": "ac9f13ff",
   "metadata": {},
   "outputs": [
    {
     "data": {
      "text/html": [
       "<style>\n",
       ".list-inline {list-style: none; margin:0; padding: 0}\n",
       ".list-inline>li {display: inline-block}\n",
       ".list-inline>li:not(:last-child)::after {content: \"\\00b7\"; padding: 0 .5ex}\n",
       "</style>\n",
       "<ol class=list-inline><li>'wombats'</li><li>'are'</li><li>'awesome'</li><li>'wombats'</li><li>'are'</li><li>'awesome'</li><li>'wombats'</li><li>'are'</li><li>'awesome'</li><li>'wombats'</li><li>'are'</li><li>'awesome'</li><li>'wombats'</li><li>'are'</li><li>'awesome'</li></ol>\n"
      ],
      "text/latex": [
       "\\begin{enumerate*}\n",
       "\\item 'wombats'\n",
       "\\item 'are'\n",
       "\\item 'awesome'\n",
       "\\item 'wombats'\n",
       "\\item 'are'\n",
       "\\item 'awesome'\n",
       "\\item 'wombats'\n",
       "\\item 'are'\n",
       "\\item 'awesome'\n",
       "\\item 'wombats'\n",
       "\\item 'are'\n",
       "\\item 'awesome'\n",
       "\\item 'wombats'\n",
       "\\item 'are'\n",
       "\\item 'awesome'\n",
       "\\end{enumerate*}\n"
      ],
      "text/markdown": [
       "1. 'wombats'\n",
       "2. 'are'\n",
       "3. 'awesome'\n",
       "4. 'wombats'\n",
       "5. 'are'\n",
       "6. 'awesome'\n",
       "7. 'wombats'\n",
       "8. 'are'\n",
       "9. 'awesome'\n",
       "10. 'wombats'\n",
       "11. 'are'\n",
       "12. 'awesome'\n",
       "13. 'wombats'\n",
       "14. 'are'\n",
       "15. 'awesome'\n",
       "\n",
       "\n"
      ],
      "text/plain": [
       " [1] \"wombats\" \"are\"     \"awesome\" \"wombats\" \"are\"     \"awesome\" \"wombats\"\n",
       " [8] \"are\"     \"awesome\" \"wombats\" \"are\"     \"awesome\" \"wombats\" \"are\"    \n",
       "[15] \"awesome\""
      ]
     },
     "metadata": {},
     "output_type": "display_data"
    }
   ],
   "source": [
    "#repeat array\n",
    "rep(m,5)"
   ]
  },
  {
   "cell_type": "markdown",
   "id": "c8549f07",
   "metadata": {},
   "source": [
    "Vectors of the same length can be bound together into a matrix, either horizontally or vertically:"
   ]
  },
  {
   "cell_type": "code",
   "execution_count": 17,
   "id": "ed0cc38f",
   "metadata": {},
   "outputs": [
    {
     "data": {
      "text/html": [
       "<table class=\"dataframe\">\n",
       "<caption>A matrix: 3 × 3 of type chr</caption>\n",
       "<thead>\n",
       "\t<tr><th scope=col>j</th><th scope=col>k</th><th scope=col>m</th></tr>\n",
       "</thead>\n",
       "<tbody>\n",
       "\t<tr><td>3</td><td>a</td><td>wombats</td></tr>\n",
       "\t<tr><td>5</td><td>b</td><td>are    </td></tr>\n",
       "\t<tr><td>7</td><td>c</td><td>awesome</td></tr>\n",
       "</tbody>\n",
       "</table>\n"
      ],
      "text/latex": [
       "A matrix: 3 × 3 of type chr\n",
       "\\begin{tabular}{lll}\n",
       " j & k & m\\\\\n",
       "\\hline\n",
       "\t 3 & a & wombats\\\\\n",
       "\t 5 & b & are    \\\\\n",
       "\t 7 & c & awesome\\\\\n",
       "\\end{tabular}\n"
      ],
      "text/markdown": [
       "\n",
       "A matrix: 3 × 3 of type chr\n",
       "\n",
       "| j | k | m |\n",
       "|---|---|---|\n",
       "| 3 | a | wombats |\n",
       "| 5 | b | are     |\n",
       "| 7 | c | awesome |\n",
       "\n"
      ],
      "text/plain": [
       "     j k m      \n",
       "[1,] 3 a wombats\n",
       "[2,] 5 b are    \n",
       "[3,] 7 c awesome"
      ]
     },
     "metadata": {},
     "output_type": "display_data"
    }
   ],
   "source": [
    "#concatenate\n",
    "mat = cbind(j,k,m)\n",
    "mat"
   ]
  },
  {
   "cell_type": "code",
   "execution_count": 18,
   "id": "91182497",
   "metadata": {},
   "outputs": [
    {
     "data": {
      "text/html": [
       "<table class=\"dataframe\">\n",
       "<caption>A matrix: 3 × 3 of type chr</caption>\n",
       "<tbody>\n",
       "\t<tr><th scope=row>j</th><td>3      </td><td>5  </td><td>7      </td></tr>\n",
       "\t<tr><th scope=row>k</th><td>a      </td><td>b  </td><td>c      </td></tr>\n",
       "\t<tr><th scope=row>m</th><td>wombats</td><td>are</td><td>awesome</td></tr>\n",
       "</tbody>\n",
       "</table>\n"
      ],
      "text/latex": [
       "A matrix: 3 × 3 of type chr\n",
       "\\begin{tabular}{r|lll}\n",
       "\tj & 3       & 5   & 7      \\\\\n",
       "\tk & a       & b   & c      \\\\\n",
       "\tm & wombats & are & awesome\\\\\n",
       "\\end{tabular}\n"
      ],
      "text/markdown": [
       "\n",
       "A matrix: 3 × 3 of type chr\n",
       "\n",
       "| j | 3       | 5   | 7       |\n",
       "| k | a       | b   | c       |\n",
       "| m | wombats | are | awesome |\n",
       "\n"
      ],
      "text/plain": [
       "  [,1]    [,2] [,3]   \n",
       "j 3       5    7      \n",
       "k a       b    c      \n",
       "m wombats are  awesome"
      ]
     },
     "metadata": {},
     "output_type": "display_data"
    }
   ],
   "source": [
    "#concatenate\n",
    "Mat = rbind(j,k,m)\n",
    "Mat"
   ]
  },
  {
   "cell_type": "markdown",
   "id": "513fde49",
   "metadata": {},
   "source": [
    "You will notice quotation marks around all of the types of characters in mat or Mat, which means that R isn’t sure what modes the data are in (e.g., numerical, categorical, etc.), so it is generally very handy to turn them into a data frame:"
   ]
  },
  {
   "cell_type": "code",
   "execution_count": 19,
   "id": "59ab16ad",
   "metadata": {},
   "outputs": [
    {
     "data": {
      "text/html": [
       "<table class=\"dataframe\">\n",
       "<caption>A data.frame: 3 × 3</caption>\n",
       "<thead>\n",
       "\t<tr><th scope=col>j</th><th scope=col>k</th><th scope=col>m</th></tr>\n",
       "\t<tr><th scope=col>&lt;chr&gt;</th><th scope=col>&lt;chr&gt;</th><th scope=col>&lt;chr&gt;</th></tr>\n",
       "</thead>\n",
       "<tbody>\n",
       "\t<tr><td>3</td><td>a</td><td>wombats</td></tr>\n",
       "\t<tr><td>5</td><td>b</td><td>are    </td></tr>\n",
       "\t<tr><td>7</td><td>c</td><td>awesome</td></tr>\n",
       "</tbody>\n",
       "</table>\n"
      ],
      "text/latex": [
       "A data.frame: 3 × 3\n",
       "\\begin{tabular}{lll}\n",
       " j & k & m\\\\\n",
       " <chr> & <chr> & <chr>\\\\\n",
       "\\hline\n",
       "\t 3 & a & wombats\\\\\n",
       "\t 5 & b & are    \\\\\n",
       "\t 7 & c & awesome\\\\\n",
       "\\end{tabular}\n"
      ],
      "text/markdown": [
       "\n",
       "A data.frame: 3 × 3\n",
       "\n",
       "| j &lt;chr&gt; | k &lt;chr&gt; | m &lt;chr&gt; |\n",
       "|---|---|---|\n",
       "| 3 | a | wombats |\n",
       "| 5 | b | are     |\n",
       "| 7 | c | awesome |\n",
       "\n"
      ],
      "text/plain": [
       "  j k m      \n",
       "1 3 a wombats\n",
       "2 5 b are    \n",
       "3 7 c awesome"
      ]
     },
     "metadata": {},
     "output_type": "display_data"
    }
   ],
   "source": [
    "#create dataframe\n",
    "mat = data.frame(cbind(j,k,m))\n",
    "mat"
   ]
  },
  {
   "cell_type": "code",
   "execution_count": 20,
   "id": "d8ed0349",
   "metadata": {},
   "outputs": [
    {
     "data": {
      "text/html": [
       "<table class=\"dataframe\">\n",
       "<caption>A data.frame: 3 × 3</caption>\n",
       "<thead>\n",
       "\t<tr><th></th><th scope=col>X1</th><th scope=col>X2</th><th scope=col>X3</th></tr>\n",
       "\t<tr><th></th><th scope=col>&lt;chr&gt;</th><th scope=col>&lt;chr&gt;</th><th scope=col>&lt;chr&gt;</th></tr>\n",
       "</thead>\n",
       "<tbody>\n",
       "\t<tr><th scope=row>j</th><td>3      </td><td>5  </td><td>7      </td></tr>\n",
       "\t<tr><th scope=row>k</th><td>a      </td><td>b  </td><td>c      </td></tr>\n",
       "\t<tr><th scope=row>m</th><td>wombats</td><td>are</td><td>awesome</td></tr>\n",
       "</tbody>\n",
       "</table>\n"
      ],
      "text/latex": [
       "A data.frame: 3 × 3\n",
       "\\begin{tabular}{r|lll}\n",
       "  & X1 & X2 & X3\\\\\n",
       "  & <chr> & <chr> & <chr>\\\\\n",
       "\\hline\n",
       "\tj & 3       & 5   & 7      \\\\\n",
       "\tk & a       & b   & c      \\\\\n",
       "\tm & wombats & are & awesome\\\\\n",
       "\\end{tabular}\n"
      ],
      "text/markdown": [
       "\n",
       "A data.frame: 3 × 3\n",
       "\n",
       "| <!--/--> | X1 &lt;chr&gt; | X2 &lt;chr&gt; | X3 &lt;chr&gt; |\n",
       "|---|---|---|---|\n",
       "| j | 3       | 5   | 7       |\n",
       "| k | a       | b   | c       |\n",
       "| m | wombats | are | awesome |\n",
       "\n"
      ],
      "text/plain": [
       "  X1      X2  X3     \n",
       "j 3       5   7      \n",
       "k a       b   c      \n",
       "m wombats are awesome"
      ]
     },
     "metadata": {},
     "output_type": "display_data"
    }
   ],
   "source": [
    "#create dataframe\n",
    "Mat = data.frame(rbind(j,k,m))\n",
    "Mat"
   ]
  },
  {
   "cell_type": "markdown",
   "id": "73deff94",
   "metadata": {},
   "source": [
    "Let’s pretend that ‘mat’ is a bigger dataset and you want to just have a look at parts of it. For example, you would like to only look at the middle column ‘k’. This can be achieved a couple of ways:\n",
    "\n",
    "The $ symbol can be used to call a particular part of a data frame if that part has a name, e.g.,\n"
   ]
  },
  {
   "cell_type": "code",
   "execution_count": 21,
   "id": "731b9d29",
   "metadata": {},
   "outputs": [
    {
     "data": {
      "text/html": [
       "<style>\n",
       ".list-inline {list-style: none; margin:0; padding: 0}\n",
       ".list-inline>li {display: inline-block}\n",
       ".list-inline>li:not(:last-child)::after {content: \"\\00b7\"; padding: 0 .5ex}\n",
       "</style>\n",
       "<ol class=list-inline><li>'a'</li><li>'b'</li><li>'c'</li></ol>\n"
      ],
      "text/latex": [
       "\\begin{enumerate*}\n",
       "\\item 'a'\n",
       "\\item 'b'\n",
       "\\item 'c'\n",
       "\\end{enumerate*}\n"
      ],
      "text/markdown": [
       "1. 'a'\n",
       "2. 'b'\n",
       "3. 'c'\n",
       "\n",
       "\n"
      ],
      "text/plain": [
       "[1] \"a\" \"b\" \"c\""
      ]
     },
     "metadata": {},
     "output_type": "display_data"
    }
   ],
   "source": [
    "#matrix indexing\n",
    "mat$k"
   ]
  },
  {
   "cell_type": "markdown",
   "id": "4f0ae873",
   "metadata": {},
   "source": [
    "In this case anything before the “,” calls a row of that object and anything after the “,”  calls a column. You can also use combinations for this, such as:"
   ]
  },
  {
   "cell_type": "code",
   "execution_count": 22,
   "id": "09fc6725",
   "metadata": {},
   "outputs": [
    {
     "data": {
      "text/html": [
       "<style>\n",
       ".list-inline {list-style: none; margin:0; padding: 0}\n",
       ".list-inline>li {display: inline-block}\n",
       ".list-inline>li:not(:last-child)::after {content: \"\\00b7\"; padding: 0 .5ex}\n",
       "</style>\n",
       "<ol class=list-inline><li>'a'</li><li>'b'</li><li>'c'</li></ol>\n"
      ],
      "text/latex": [
       "\\begin{enumerate*}\n",
       "\\item 'a'\n",
       "\\item 'b'\n",
       "\\item 'c'\n",
       "\\end{enumerate*}\n"
      ],
      "text/markdown": [
       "1. 'a'\n",
       "2. 'b'\n",
       "3. 'c'\n",
       "\n",
       "\n"
      ],
      "text/plain": [
       "[1] \"a\" \"b\" \"c\""
      ]
     },
     "metadata": {},
     "output_type": "display_data"
    }
   ],
   "source": [
    "#matrix slicing\n",
    "mat[,2]"
   ]
  },
  {
   "cell_type": "code",
   "execution_count": 23,
   "id": "54d14b70",
   "metadata": {},
   "outputs": [
    {
     "data": {
      "text/html": [
       "<style>\n",
       ".list-inline {list-style: none; margin:0; padding: 0}\n",
       ".list-inline>li {display: inline-block}\n",
       ".list-inline>li:not(:last-child)::after {content: \"\\00b7\"; padding: 0 .5ex}\n",
       "</style>\n",
       "<ol class=list-inline><li>'a'</li><li>'b'</li><li>'c'</li></ol>\n"
      ],
      "text/latex": [
       "\\begin{enumerate*}\n",
       "\\item 'a'\n",
       "\\item 'b'\n",
       "\\item 'c'\n",
       "\\end{enumerate*}\n"
      ],
      "text/markdown": [
       "1. 'a'\n",
       "2. 'b'\n",
       "3. 'c'\n",
       "\n",
       "\n"
      ],
      "text/plain": [
       "[1] \"a\" \"b\" \"c\""
      ]
     },
     "metadata": {},
     "output_type": "display_data"
    },
    {
     "data": {
      "text/html": [
       "<table class=\"dataframe\">\n",
       "<caption>A data.frame: 1 × 3</caption>\n",
       "<thead>\n",
       "\t<tr><th></th><th scope=col>j</th><th scope=col>k</th><th scope=col>m</th></tr>\n",
       "\t<tr><th></th><th scope=col>&lt;chr&gt;</th><th scope=col>&lt;chr&gt;</th><th scope=col>&lt;chr&gt;</th></tr>\n",
       "</thead>\n",
       "<tbody>\n",
       "\t<tr><th scope=row>2</th><td>5</td><td>b</td><td>are</td></tr>\n",
       "</tbody>\n",
       "</table>\n"
      ],
      "text/latex": [
       "A data.frame: 1 × 3\n",
       "\\begin{tabular}{r|lll}\n",
       "  & j & k & m\\\\\n",
       "  & <chr> & <chr> & <chr>\\\\\n",
       "\\hline\n",
       "\t2 & 5 & b & are\\\\\n",
       "\\end{tabular}\n"
      ],
      "text/markdown": [
       "\n",
       "A data.frame: 1 × 3\n",
       "\n",
       "| <!--/--> | j &lt;chr&gt; | k &lt;chr&gt; | m &lt;chr&gt; |\n",
       "|---|---|---|---|\n",
       "| 2 | 5 | b | are |\n",
       "\n"
      ],
      "text/plain": [
       "  j k m  \n",
       "2 5 b are"
      ]
     },
     "metadata": {},
     "output_type": "display_data"
    },
    {
     "data": {
      "text/html": [
       "'b'"
      ],
      "text/latex": [
       "'b'"
      ],
      "text/markdown": [
       "'b'"
      ],
      "text/plain": [
       "[1] \"b\""
      ]
     },
     "metadata": {},
     "output_type": "display_data"
    }
   ],
   "source": [
    "#different slicing\n",
    "mat[,2]\n",
    "\n",
    "mat[2,]\n",
    "\n",
    "mat[2,2]"
   ]
  },
  {
   "cell_type": "markdown",
   "id": "b30b9567",
   "metadata": {},
   "source": [
    "R has lots of inbuilt datasets that you can use to help you learn (see https://stat.ethz.ch/R-manual/R-devel/library/datasets/html/00Index.html). Let’s use a larger dataset.to help you get familiar with extracting columns and values. "
   ]
  },
  {
   "cell_type": "markdown",
   "id": "08d53756",
   "metadata": {},
   "source": [
    "Using your knowledge from the tutorial so far:\n",
    "1.\tTry to extract the second column of USArrests by either using the ‘$’ symbol or using ‘[,]’\n",
    "\n"
   ]
  },
  {
   "cell_type": "code",
   "execution_count": 24,
   "id": "ab75f997",
   "metadata": {},
   "outputs": [
    {
     "data": {
      "text/html": [
       "<style>\n",
       ".list-inline {list-style: none; margin:0; padding: 0}\n",
       ".list-inline>li {display: inline-block}\n",
       ".list-inline>li:not(:last-child)::after {content: \"\\00b7\"; padding: 0 .5ex}\n",
       "</style>\n",
       "<ol class=list-inline><li>236</li><li>263</li><li>294</li><li>190</li><li>276</li><li>204</li><li>110</li><li>238</li><li>335</li><li>211</li><li>46</li><li>120</li><li>249</li><li>113</li><li>56</li><li>115</li><li>109</li><li>249</li><li>83</li><li>300</li><li>149</li><li>255</li><li>72</li><li>259</li><li>178</li><li>109</li><li>102</li><li>252</li><li>57</li><li>159</li><li>285</li><li>254</li><li>337</li><li>45</li><li>120</li><li>151</li><li>159</li><li>106</li><li>174</li><li>279</li><li>86</li><li>188</li><li>201</li><li>120</li><li>48</li><li>156</li><li>145</li><li>81</li><li>53</li><li>161</li></ol>\n"
      ],
      "text/latex": [
       "\\begin{enumerate*}\n",
       "\\item 236\n",
       "\\item 263\n",
       "\\item 294\n",
       "\\item 190\n",
       "\\item 276\n",
       "\\item 204\n",
       "\\item 110\n",
       "\\item 238\n",
       "\\item 335\n",
       "\\item 211\n",
       "\\item 46\n",
       "\\item 120\n",
       "\\item 249\n",
       "\\item 113\n",
       "\\item 56\n",
       "\\item 115\n",
       "\\item 109\n",
       "\\item 249\n",
       "\\item 83\n",
       "\\item 300\n",
       "\\item 149\n",
       "\\item 255\n",
       "\\item 72\n",
       "\\item 259\n",
       "\\item 178\n",
       "\\item 109\n",
       "\\item 102\n",
       "\\item 252\n",
       "\\item 57\n",
       "\\item 159\n",
       "\\item 285\n",
       "\\item 254\n",
       "\\item 337\n",
       "\\item 45\n",
       "\\item 120\n",
       "\\item 151\n",
       "\\item 159\n",
       "\\item 106\n",
       "\\item 174\n",
       "\\item 279\n",
       "\\item 86\n",
       "\\item 188\n",
       "\\item 201\n",
       "\\item 120\n",
       "\\item 48\n",
       "\\item 156\n",
       "\\item 145\n",
       "\\item 81\n",
       "\\item 53\n",
       "\\item 161\n",
       "\\end{enumerate*}\n"
      ],
      "text/markdown": [
       "1. 236\n",
       "2. 263\n",
       "3. 294\n",
       "4. 190\n",
       "5. 276\n",
       "6. 204\n",
       "7. 110\n",
       "8. 238\n",
       "9. 335\n",
       "10. 211\n",
       "11. 46\n",
       "12. 120\n",
       "13. 249\n",
       "14. 113\n",
       "15. 56\n",
       "16. 115\n",
       "17. 109\n",
       "18. 249\n",
       "19. 83\n",
       "20. 300\n",
       "21. 149\n",
       "22. 255\n",
       "23. 72\n",
       "24. 259\n",
       "25. 178\n",
       "26. 109\n",
       "27. 102\n",
       "28. 252\n",
       "29. 57\n",
       "30. 159\n",
       "31. 285\n",
       "32. 254\n",
       "33. 337\n",
       "34. 45\n",
       "35. 120\n",
       "36. 151\n",
       "37. 159\n",
       "38. 106\n",
       "39. 174\n",
       "40. 279\n",
       "41. 86\n",
       "42. 188\n",
       "43. 201\n",
       "44. 120\n",
       "45. 48\n",
       "46. 156\n",
       "47. 145\n",
       "48. 81\n",
       "49. 53\n",
       "50. 161\n",
       "\n",
       "\n"
      ],
      "text/plain": [
       " [1] 236 263 294 190 276 204 110 238 335 211  46 120 249 113  56 115 109 249  83\n",
       "[20] 300 149 255  72 259 178 109 102 252  57 159 285 254 337  45 120 151 159 106\n",
       "[39] 174 279  86 188 201 120  48 156 145  81  53 161"
      ]
     },
     "metadata": {},
     "output_type": "display_data"
    },
    {
     "data": {
      "text/html": [
       "<style>\n",
       ".list-inline {list-style: none; margin:0; padding: 0}\n",
       ".list-inline>li {display: inline-block}\n",
       ".list-inline>li:not(:last-child)::after {content: \"\\00b7\"; padding: 0 .5ex}\n",
       "</style>\n",
       "<ol class=list-inline><li>236</li><li>263</li><li>294</li><li>190</li><li>276</li><li>204</li><li>110</li><li>238</li><li>335</li><li>211</li><li>46</li><li>120</li><li>249</li><li>113</li><li>56</li><li>115</li><li>109</li><li>249</li><li>83</li><li>300</li><li>149</li><li>255</li><li>72</li><li>259</li><li>178</li><li>109</li><li>102</li><li>252</li><li>57</li><li>159</li><li>285</li><li>254</li><li>337</li><li>45</li><li>120</li><li>151</li><li>159</li><li>106</li><li>174</li><li>279</li><li>86</li><li>188</li><li>201</li><li>120</li><li>48</li><li>156</li><li>145</li><li>81</li><li>53</li><li>161</li></ol>\n"
      ],
      "text/latex": [
       "\\begin{enumerate*}\n",
       "\\item 236\n",
       "\\item 263\n",
       "\\item 294\n",
       "\\item 190\n",
       "\\item 276\n",
       "\\item 204\n",
       "\\item 110\n",
       "\\item 238\n",
       "\\item 335\n",
       "\\item 211\n",
       "\\item 46\n",
       "\\item 120\n",
       "\\item 249\n",
       "\\item 113\n",
       "\\item 56\n",
       "\\item 115\n",
       "\\item 109\n",
       "\\item 249\n",
       "\\item 83\n",
       "\\item 300\n",
       "\\item 149\n",
       "\\item 255\n",
       "\\item 72\n",
       "\\item 259\n",
       "\\item 178\n",
       "\\item 109\n",
       "\\item 102\n",
       "\\item 252\n",
       "\\item 57\n",
       "\\item 159\n",
       "\\item 285\n",
       "\\item 254\n",
       "\\item 337\n",
       "\\item 45\n",
       "\\item 120\n",
       "\\item 151\n",
       "\\item 159\n",
       "\\item 106\n",
       "\\item 174\n",
       "\\item 279\n",
       "\\item 86\n",
       "\\item 188\n",
       "\\item 201\n",
       "\\item 120\n",
       "\\item 48\n",
       "\\item 156\n",
       "\\item 145\n",
       "\\item 81\n",
       "\\item 53\n",
       "\\item 161\n",
       "\\end{enumerate*}\n"
      ],
      "text/markdown": [
       "1. 236\n",
       "2. 263\n",
       "3. 294\n",
       "4. 190\n",
       "5. 276\n",
       "6. 204\n",
       "7. 110\n",
       "8. 238\n",
       "9. 335\n",
       "10. 211\n",
       "11. 46\n",
       "12. 120\n",
       "13. 249\n",
       "14. 113\n",
       "15. 56\n",
       "16. 115\n",
       "17. 109\n",
       "18. 249\n",
       "19. 83\n",
       "20. 300\n",
       "21. 149\n",
       "22. 255\n",
       "23. 72\n",
       "24. 259\n",
       "25. 178\n",
       "26. 109\n",
       "27. 102\n",
       "28. 252\n",
       "29. 57\n",
       "30. 159\n",
       "31. 285\n",
       "32. 254\n",
       "33. 337\n",
       "34. 45\n",
       "35. 120\n",
       "36. 151\n",
       "37. 159\n",
       "38. 106\n",
       "39. 174\n",
       "40. 279\n",
       "41. 86\n",
       "42. 188\n",
       "43. 201\n",
       "44. 120\n",
       "45. 48\n",
       "46. 156\n",
       "47. 145\n",
       "48. 81\n",
       "49. 53\n",
       "50. 161\n",
       "\n",
       "\n"
      ],
      "text/plain": [
       " [1] 236 263 294 190 276 204 110 238 335 211  46 120 249 113  56 115 109 249  83\n",
       "[20] 300 149 255  72 259 178 109 102 252  57 159 285 254 337  45 120 151 159 106\n",
       "[39] 174 279  86 188 201 120  48 156 145  81  53 161"
      ]
     },
     "metadata": {},
     "output_type": "display_data"
    }
   ],
   "source": [
    "#Try to extract the second column of USArrests by either using the ‘$’ symbol or using ‘[,]’\n",
    "USArrests[,2]\n",
    "USArrests$Assault"
   ]
  },
  {
   "cell_type": "markdown",
   "id": "202f5335",
   "metadata": {},
   "source": [
    "2.\tExtract the ‘Arizona’ row"
   ]
  },
  {
   "cell_type": "code",
   "execution_count": 25,
   "id": "08a4f340",
   "metadata": {},
   "outputs": [
    {
     "data": {
      "text/html": [
       "<table class=\"dataframe\">\n",
       "<caption>A data.frame: 1 × 4</caption>\n",
       "<thead>\n",
       "\t<tr><th></th><th scope=col>Murder</th><th scope=col>Assault</th><th scope=col>UrbanPop</th><th scope=col>Rape</th></tr>\n",
       "\t<tr><th></th><th scope=col>&lt;dbl&gt;</th><th scope=col>&lt;int&gt;</th><th scope=col>&lt;int&gt;</th><th scope=col>&lt;dbl&gt;</th></tr>\n",
       "</thead>\n",
       "<tbody>\n",
       "\t<tr><th scope=row>Arizona</th><td>8.1</td><td>294</td><td>80</td><td>31</td></tr>\n",
       "</tbody>\n",
       "</table>\n"
      ],
      "text/latex": [
       "A data.frame: 1 × 4\n",
       "\\begin{tabular}{r|llll}\n",
       "  & Murder & Assault & UrbanPop & Rape\\\\\n",
       "  & <dbl> & <int> & <int> & <dbl>\\\\\n",
       "\\hline\n",
       "\tArizona & 8.1 & 294 & 80 & 31\\\\\n",
       "\\end{tabular}\n"
      ],
      "text/markdown": [
       "\n",
       "A data.frame: 1 × 4\n",
       "\n",
       "| <!--/--> | Murder &lt;dbl&gt; | Assault &lt;int&gt; | UrbanPop &lt;int&gt; | Rape &lt;dbl&gt; |\n",
       "|---|---|---|---|---|\n",
       "| Arizona | 8.1 | 294 | 80 | 31 |\n",
       "\n"
      ],
      "text/plain": [
       "        Murder Assault UrbanPop Rape\n",
       "Arizona 8.1    294     80       31  "
      ]
     },
     "metadata": {},
     "output_type": "display_data"
    }
   ],
   "source": [
    "#Extract the ‘Arizona’ row\n",
    "USArrests['Arizona',]"
   ]
  },
  {
   "cell_type": "markdown",
   "id": "55d94fff",
   "metadata": {},
   "source": [
    "3.\tExtract the third and fourth values from the ‘Arizona’ row"
   ]
  },
  {
   "cell_type": "code",
   "execution_count": 26,
   "id": "5ebd30d7",
   "metadata": {},
   "outputs": [
    {
     "data": {
      "text/html": [
       "80"
      ],
      "text/latex": [
       "80"
      ],
      "text/markdown": [
       "80"
      ],
      "text/plain": [
       "[1] 80"
      ]
     },
     "metadata": {},
     "output_type": "display_data"
    },
    {
     "data": {
      "text/html": [
       "31"
      ],
      "text/latex": [
       "31"
      ],
      "text/markdown": [
       "31"
      ],
      "text/plain": [
       "[1] 31"
      ]
     },
     "metadata": {},
     "output_type": "display_data"
    }
   ],
   "source": [
    "#Extract the third and fourth values from the ‘Arizona’ row\n",
    "USArrests['Arizona',3]\n",
    "\n",
    "USArrests['Arizona',4]"
   ]
  },
  {
   "cell_type": "markdown",
   "id": "f63e2ad9",
   "metadata": {},
   "source": [
    "4.\tExtract the first and third columns together\n",
    "\n",
    "Hint: you will need to concatenate the column numbers within the square brackets"
   ]
  },
  {
   "cell_type": "code",
   "execution_count": 27,
   "id": "39e4f954",
   "metadata": {},
   "outputs": [
    {
     "data": {
      "text/html": [
       "<table class=\"dataframe\">\n",
       "<caption>A data.frame: 50 × 2</caption>\n",
       "<thead>\n",
       "\t<tr><th></th><th scope=col>Murder</th><th scope=col>UrbanPop</th></tr>\n",
       "\t<tr><th></th><th scope=col>&lt;dbl&gt;</th><th scope=col>&lt;int&gt;</th></tr>\n",
       "</thead>\n",
       "<tbody>\n",
       "\t<tr><th scope=row>Alabama</th><td>13.2</td><td>58</td></tr>\n",
       "\t<tr><th scope=row>Alaska</th><td>10.0</td><td>48</td></tr>\n",
       "\t<tr><th scope=row>Arizona</th><td> 8.1</td><td>80</td></tr>\n",
       "\t<tr><th scope=row>Arkansas</th><td> 8.8</td><td>50</td></tr>\n",
       "\t<tr><th scope=row>California</th><td> 9.0</td><td>91</td></tr>\n",
       "\t<tr><th scope=row>Colorado</th><td> 7.9</td><td>78</td></tr>\n",
       "\t<tr><th scope=row>Connecticut</th><td> 3.3</td><td>77</td></tr>\n",
       "\t<tr><th scope=row>Delaware</th><td> 5.9</td><td>72</td></tr>\n",
       "\t<tr><th scope=row>Florida</th><td>15.4</td><td>80</td></tr>\n",
       "\t<tr><th scope=row>Georgia</th><td>17.4</td><td>60</td></tr>\n",
       "\t<tr><th scope=row>Hawaii</th><td> 5.3</td><td>83</td></tr>\n",
       "\t<tr><th scope=row>Idaho</th><td> 2.6</td><td>54</td></tr>\n",
       "\t<tr><th scope=row>Illinois</th><td>10.4</td><td>83</td></tr>\n",
       "\t<tr><th scope=row>Indiana</th><td> 7.2</td><td>65</td></tr>\n",
       "\t<tr><th scope=row>Iowa</th><td> 2.2</td><td>57</td></tr>\n",
       "\t<tr><th scope=row>Kansas</th><td> 6.0</td><td>66</td></tr>\n",
       "\t<tr><th scope=row>Kentucky</th><td> 9.7</td><td>52</td></tr>\n",
       "\t<tr><th scope=row>Louisiana</th><td>15.4</td><td>66</td></tr>\n",
       "\t<tr><th scope=row>Maine</th><td> 2.1</td><td>51</td></tr>\n",
       "\t<tr><th scope=row>Maryland</th><td>11.3</td><td>67</td></tr>\n",
       "\t<tr><th scope=row>Massachusetts</th><td> 4.4</td><td>85</td></tr>\n",
       "\t<tr><th scope=row>Michigan</th><td>12.1</td><td>74</td></tr>\n",
       "\t<tr><th scope=row>Minnesota</th><td> 2.7</td><td>66</td></tr>\n",
       "\t<tr><th scope=row>Mississippi</th><td>16.1</td><td>44</td></tr>\n",
       "\t<tr><th scope=row>Missouri</th><td> 9.0</td><td>70</td></tr>\n",
       "\t<tr><th scope=row>Montana</th><td> 6.0</td><td>53</td></tr>\n",
       "\t<tr><th scope=row>Nebraska</th><td> 4.3</td><td>62</td></tr>\n",
       "\t<tr><th scope=row>Nevada</th><td>12.2</td><td>81</td></tr>\n",
       "\t<tr><th scope=row>New Hampshire</th><td> 2.1</td><td>56</td></tr>\n",
       "\t<tr><th scope=row>New Jersey</th><td> 7.4</td><td>89</td></tr>\n",
       "\t<tr><th scope=row>New Mexico</th><td>11.4</td><td>70</td></tr>\n",
       "\t<tr><th scope=row>New York</th><td>11.1</td><td>86</td></tr>\n",
       "\t<tr><th scope=row>North Carolina</th><td>13.0</td><td>45</td></tr>\n",
       "\t<tr><th scope=row>North Dakota</th><td> 0.8</td><td>44</td></tr>\n",
       "\t<tr><th scope=row>Ohio</th><td> 7.3</td><td>75</td></tr>\n",
       "\t<tr><th scope=row>Oklahoma</th><td> 6.6</td><td>68</td></tr>\n",
       "\t<tr><th scope=row>Oregon</th><td> 4.9</td><td>67</td></tr>\n",
       "\t<tr><th scope=row>Pennsylvania</th><td> 6.3</td><td>72</td></tr>\n",
       "\t<tr><th scope=row>Rhode Island</th><td> 3.4</td><td>87</td></tr>\n",
       "\t<tr><th scope=row>South Carolina</th><td>14.4</td><td>48</td></tr>\n",
       "\t<tr><th scope=row>South Dakota</th><td> 3.8</td><td>45</td></tr>\n",
       "\t<tr><th scope=row>Tennessee</th><td>13.2</td><td>59</td></tr>\n",
       "\t<tr><th scope=row>Texas</th><td>12.7</td><td>80</td></tr>\n",
       "\t<tr><th scope=row>Utah</th><td> 3.2</td><td>80</td></tr>\n",
       "\t<tr><th scope=row>Vermont</th><td> 2.2</td><td>32</td></tr>\n",
       "\t<tr><th scope=row>Virginia</th><td> 8.5</td><td>63</td></tr>\n",
       "\t<tr><th scope=row>Washington</th><td> 4.0</td><td>73</td></tr>\n",
       "\t<tr><th scope=row>West Virginia</th><td> 5.7</td><td>39</td></tr>\n",
       "\t<tr><th scope=row>Wisconsin</th><td> 2.6</td><td>66</td></tr>\n",
       "\t<tr><th scope=row>Wyoming</th><td> 6.8</td><td>60</td></tr>\n",
       "</tbody>\n",
       "</table>\n"
      ],
      "text/latex": [
       "A data.frame: 50 × 2\n",
       "\\begin{tabular}{r|ll}\n",
       "  & Murder & UrbanPop\\\\\n",
       "  & <dbl> & <int>\\\\\n",
       "\\hline\n",
       "\tAlabama & 13.2 & 58\\\\\n",
       "\tAlaska & 10.0 & 48\\\\\n",
       "\tArizona &  8.1 & 80\\\\\n",
       "\tArkansas &  8.8 & 50\\\\\n",
       "\tCalifornia &  9.0 & 91\\\\\n",
       "\tColorado &  7.9 & 78\\\\\n",
       "\tConnecticut &  3.3 & 77\\\\\n",
       "\tDelaware &  5.9 & 72\\\\\n",
       "\tFlorida & 15.4 & 80\\\\\n",
       "\tGeorgia & 17.4 & 60\\\\\n",
       "\tHawaii &  5.3 & 83\\\\\n",
       "\tIdaho &  2.6 & 54\\\\\n",
       "\tIllinois & 10.4 & 83\\\\\n",
       "\tIndiana &  7.2 & 65\\\\\n",
       "\tIowa &  2.2 & 57\\\\\n",
       "\tKansas &  6.0 & 66\\\\\n",
       "\tKentucky &  9.7 & 52\\\\\n",
       "\tLouisiana & 15.4 & 66\\\\\n",
       "\tMaine &  2.1 & 51\\\\\n",
       "\tMaryland & 11.3 & 67\\\\\n",
       "\tMassachusetts &  4.4 & 85\\\\\n",
       "\tMichigan & 12.1 & 74\\\\\n",
       "\tMinnesota &  2.7 & 66\\\\\n",
       "\tMississippi & 16.1 & 44\\\\\n",
       "\tMissouri &  9.0 & 70\\\\\n",
       "\tMontana &  6.0 & 53\\\\\n",
       "\tNebraska &  4.3 & 62\\\\\n",
       "\tNevada & 12.2 & 81\\\\\n",
       "\tNew Hampshire &  2.1 & 56\\\\\n",
       "\tNew Jersey &  7.4 & 89\\\\\n",
       "\tNew Mexico & 11.4 & 70\\\\\n",
       "\tNew York & 11.1 & 86\\\\\n",
       "\tNorth Carolina & 13.0 & 45\\\\\n",
       "\tNorth Dakota &  0.8 & 44\\\\\n",
       "\tOhio &  7.3 & 75\\\\\n",
       "\tOklahoma &  6.6 & 68\\\\\n",
       "\tOregon &  4.9 & 67\\\\\n",
       "\tPennsylvania &  6.3 & 72\\\\\n",
       "\tRhode Island &  3.4 & 87\\\\\n",
       "\tSouth Carolina & 14.4 & 48\\\\\n",
       "\tSouth Dakota &  3.8 & 45\\\\\n",
       "\tTennessee & 13.2 & 59\\\\\n",
       "\tTexas & 12.7 & 80\\\\\n",
       "\tUtah &  3.2 & 80\\\\\n",
       "\tVermont &  2.2 & 32\\\\\n",
       "\tVirginia &  8.5 & 63\\\\\n",
       "\tWashington &  4.0 & 73\\\\\n",
       "\tWest Virginia &  5.7 & 39\\\\\n",
       "\tWisconsin &  2.6 & 66\\\\\n",
       "\tWyoming &  6.8 & 60\\\\\n",
       "\\end{tabular}\n"
      ],
      "text/markdown": [
       "\n",
       "A data.frame: 50 × 2\n",
       "\n",
       "| <!--/--> | Murder &lt;dbl&gt; | UrbanPop &lt;int&gt; |\n",
       "|---|---|---|\n",
       "| Alabama | 13.2 | 58 |\n",
       "| Alaska | 10.0 | 48 |\n",
       "| Arizona |  8.1 | 80 |\n",
       "| Arkansas |  8.8 | 50 |\n",
       "| California |  9.0 | 91 |\n",
       "| Colorado |  7.9 | 78 |\n",
       "| Connecticut |  3.3 | 77 |\n",
       "| Delaware |  5.9 | 72 |\n",
       "| Florida | 15.4 | 80 |\n",
       "| Georgia | 17.4 | 60 |\n",
       "| Hawaii |  5.3 | 83 |\n",
       "| Idaho |  2.6 | 54 |\n",
       "| Illinois | 10.4 | 83 |\n",
       "| Indiana |  7.2 | 65 |\n",
       "| Iowa |  2.2 | 57 |\n",
       "| Kansas |  6.0 | 66 |\n",
       "| Kentucky |  9.7 | 52 |\n",
       "| Louisiana | 15.4 | 66 |\n",
       "| Maine |  2.1 | 51 |\n",
       "| Maryland | 11.3 | 67 |\n",
       "| Massachusetts |  4.4 | 85 |\n",
       "| Michigan | 12.1 | 74 |\n",
       "| Minnesota |  2.7 | 66 |\n",
       "| Mississippi | 16.1 | 44 |\n",
       "| Missouri |  9.0 | 70 |\n",
       "| Montana |  6.0 | 53 |\n",
       "| Nebraska |  4.3 | 62 |\n",
       "| Nevada | 12.2 | 81 |\n",
       "| New Hampshire |  2.1 | 56 |\n",
       "| New Jersey |  7.4 | 89 |\n",
       "| New Mexico | 11.4 | 70 |\n",
       "| New York | 11.1 | 86 |\n",
       "| North Carolina | 13.0 | 45 |\n",
       "| North Dakota |  0.8 | 44 |\n",
       "| Ohio |  7.3 | 75 |\n",
       "| Oklahoma |  6.6 | 68 |\n",
       "| Oregon |  4.9 | 67 |\n",
       "| Pennsylvania |  6.3 | 72 |\n",
       "| Rhode Island |  3.4 | 87 |\n",
       "| South Carolina | 14.4 | 48 |\n",
       "| South Dakota |  3.8 | 45 |\n",
       "| Tennessee | 13.2 | 59 |\n",
       "| Texas | 12.7 | 80 |\n",
       "| Utah |  3.2 | 80 |\n",
       "| Vermont |  2.2 | 32 |\n",
       "| Virginia |  8.5 | 63 |\n",
       "| Washington |  4.0 | 73 |\n",
       "| West Virginia |  5.7 | 39 |\n",
       "| Wisconsin |  2.6 | 66 |\n",
       "| Wyoming |  6.8 | 60 |\n",
       "\n"
      ],
      "text/plain": [
       "               Murder UrbanPop\n",
       "Alabama        13.2   58      \n",
       "Alaska         10.0   48      \n",
       "Arizona         8.1   80      \n",
       "Arkansas        8.8   50      \n",
       "California      9.0   91      \n",
       "Colorado        7.9   78      \n",
       "Connecticut     3.3   77      \n",
       "Delaware        5.9   72      \n",
       "Florida        15.4   80      \n",
       "Georgia        17.4   60      \n",
       "Hawaii          5.3   83      \n",
       "Idaho           2.6   54      \n",
       "Illinois       10.4   83      \n",
       "Indiana         7.2   65      \n",
       "Iowa            2.2   57      \n",
       "Kansas          6.0   66      \n",
       "Kentucky        9.7   52      \n",
       "Louisiana      15.4   66      \n",
       "Maine           2.1   51      \n",
       "Maryland       11.3   67      \n",
       "Massachusetts   4.4   85      \n",
       "Michigan       12.1   74      \n",
       "Minnesota       2.7   66      \n",
       "Mississippi    16.1   44      \n",
       "Missouri        9.0   70      \n",
       "Montana         6.0   53      \n",
       "Nebraska        4.3   62      \n",
       "Nevada         12.2   81      \n",
       "New Hampshire   2.1   56      \n",
       "New Jersey      7.4   89      \n",
       "New Mexico     11.4   70      \n",
       "New York       11.1   86      \n",
       "North Carolina 13.0   45      \n",
       "North Dakota    0.8   44      \n",
       "Ohio            7.3   75      \n",
       "Oklahoma        6.6   68      \n",
       "Oregon          4.9   67      \n",
       "Pennsylvania    6.3   72      \n",
       "Rhode Island    3.4   87      \n",
       "South Carolina 14.4   48      \n",
       "South Dakota    3.8   45      \n",
       "Tennessee      13.2   59      \n",
       "Texas          12.7   80      \n",
       "Utah            3.2   80      \n",
       "Vermont         2.2   32      \n",
       "Virginia        8.5   63      \n",
       "Washington      4.0   73      \n",
       "West Virginia   5.7   39      \n",
       "Wisconsin       2.6   66      \n",
       "Wyoming         6.8   60      "
      ]
     },
     "metadata": {},
     "output_type": "display_data"
    }
   ],
   "source": [
    "#Extract the first and third columns together\n",
    "USArrests[c(1,3)]"
   ]
  },
  {
   "cell_type": "markdown",
   "id": "7894a4a6",
   "metadata": {},
   "source": [
    "### Importing data into R"
   ]
  },
  {
   "cell_type": "markdown",
   "id": "b929120c",
   "metadata": {},
   "source": [
    "\n",
    "It is also really helpful to be able to load your own data into R. For example you may do an experiment and input all the data into an excel spreadsheet. Rather than retyping your data into R to make graphs and conduct statistical analyses it would be much easier if you could simply import that data. Let’s have a go at doing that.\n",
    "\n",
    "Open Excel and create a dataset something like the following. \n",
    "\n",
    "When you are done creating the dataset, click ‘File’ ‘Save As’, then change the ‘Save as type:’ to ‘CSV (comma delimited)’. Call your dataset “plants” and save it to the same folder where you store your R script. Some recent versions of Microsoft can make this step a little confusing, and we can help you with it.\n",
    "\n",
    "There will be a couple of warning messages associated with saving in this format. Click yes to both of these.\n"
   ]
  },
  {
   "cell_type": "markdown",
   "id": "c6a50405",
   "metadata": {},
   "source": [
    "To import the data into R click on the ‘Session’ menu then ‘Set Working Directory’ then ‘Choose Directory’. Then select the folder where your data is kept. This tells R what directory you want it to work from. \n",
    "\n",
    "To import data you can use the ‘read.csv’ command, and it is always good to make your data an object.\n"
   ]
  },
  {
   "cell_type": "code",
   "execution_count": 28,
   "id": "354491e4",
   "metadata": {},
   "outputs": [],
   "source": [
    "# setwd('h:/')\n",
    "\n",
    "# read.csv('usarrest.csv')"
   ]
  },
  {
   "cell_type": "markdown",
   "id": "1f739572",
   "metadata": {},
   "source": [
    "Let’s calculate the size of your dataset. Can you figure out what each of these commands tell you?"
   ]
  },
  {
   "cell_type": "code",
   "execution_count": 29,
   "id": "ea0a859c",
   "metadata": {},
   "outputs": [],
   "source": [
    "Bait=c(\"Yes\",\"Yes\",\"Yes\",\"No\",\"No\",\"No\")\n",
    "Photo=c(7,6,8,4,6,2)\n",
    "df=data.frame(cbind(Bait,Photo))\n",
    "df$Photo=as.integer(df$Photo)"
   ]
  },
  {
   "cell_type": "code",
   "execution_count": 30,
   "id": "72f817c7",
   "metadata": {},
   "outputs": [
    {
     "data": {
      "text/html": [
       "6"
      ],
      "text/latex": [
       "6"
      ],
      "text/markdown": [
       "6"
      ],
      "text/plain": [
       "[1] 6"
      ]
     },
     "metadata": {},
     "output_type": "display_data"
    },
    {
     "data": {
      "text/html": [
       "2"
      ],
      "text/latex": [
       "2"
      ],
      "text/markdown": [
       "2"
      ],
      "text/plain": [
       "[1] 2"
      ]
     },
     "metadata": {},
     "output_type": "display_data"
    },
    {
     "data": {
      "text/html": [
       "<style>\n",
       ".list-inline {list-style: none; margin:0; padding: 0}\n",
       ".list-inline>li {display: inline-block}\n",
       ".list-inline>li:not(:last-child)::after {content: \"\\00b7\"; padding: 0 .5ex}\n",
       "</style>\n",
       "<ol class=list-inline><li>6</li><li>2</li></ol>\n"
      ],
      "text/latex": [
       "\\begin{enumerate*}\n",
       "\\item 6\n",
       "\\item 2\n",
       "\\end{enumerate*}\n"
      ],
      "text/markdown": [
       "1. 6\n",
       "2. 2\n",
       "\n",
       "\n"
      ],
      "text/plain": [
       "[1] 6 2"
      ]
     },
     "metadata": {},
     "output_type": "display_data"
    }
   ],
   "source": [
    "#size of data\n",
    "nrow(df)\n",
    "ncol(df)\n",
    "dim(df)"
   ]
  },
  {
   "cell_type": "markdown",
   "id": "7ed8596f",
   "metadata": {},
   "source": [
    "Now let’s calculate some simple summary statistics of your data – the mean, standard deviation, and sum"
   ]
  },
  {
   "cell_type": "code",
   "execution_count": 31,
   "id": "e2f09989",
   "metadata": {},
   "outputs": [
    {
     "data": {
      "text/html": [
       "5.5"
      ],
      "text/latex": [
       "5.5"
      ],
      "text/markdown": [
       "5.5"
      ],
      "text/plain": [
       "[1] 5.5"
      ]
     },
     "metadata": {},
     "output_type": "display_data"
    },
    {
     "data": {
      "text/html": [
       "2.16794833886788"
      ],
      "text/latex": [
       "2.16794833886788"
      ],
      "text/markdown": [
       "2.16794833886788"
      ],
      "text/plain": [
       "[1] 2.167948"
      ]
     },
     "metadata": {},
     "output_type": "display_data"
    },
    {
     "data": {
      "text/html": [
       "33"
      ],
      "text/latex": [
       "33"
      ],
      "text/markdown": [
       "33"
      ],
      "text/plain": [
       "[1] 33"
      ]
     },
     "metadata": {},
     "output_type": "display_data"
    },
    {
     "data": {
      "text/html": [
       "5.5"
      ],
      "text/latex": [
       "5.5"
      ],
      "text/markdown": [
       "5.5"
      ],
      "text/plain": [
       "[1] 5.5"
      ]
     },
     "metadata": {},
     "output_type": "display_data"
    },
    {
     "data": {
      "text/html": [
       "2.16794833886788"
      ],
      "text/latex": [
       "2.16794833886788"
      ],
      "text/markdown": [
       "2.16794833886788"
      ],
      "text/plain": [
       "[1] 2.167948"
      ]
     },
     "metadata": {},
     "output_type": "display_data"
    },
    {
     "data": {
      "text/html": [
       "33"
      ],
      "text/latex": [
       "33"
      ],
      "text/markdown": [
       "33"
      ],
      "text/plain": [
       "[1] 33"
      ]
     },
     "metadata": {},
     "output_type": "display_data"
    }
   ],
   "source": [
    "#summary stats\n",
    "mean(df$Photo)\n",
    "sd(df$Photo)\n",
    "sum(df$Photo)\n",
    "\n",
    "mean(df[,'Photo'])\n",
    "sd(df[,'Photo'])\n",
    "sum(df[,'Photo'])"
   ]
  },
  {
   "cell_type": "markdown",
   "id": "a2346c50",
   "metadata": {},
   "source": [
    "Try recalculating these using ‘[,]’ rather than ‘$’. It is good practice to understand that you can do things multiple ways in R.\n",
    "\n",
    "It is also often useful to calculate simple statistics from categories. For example, calculating how tree and shrub heights differ. I find the ‘tapply’ function helpful for this. See if you can figure out what is happening in the script below.\n"
   ]
  },
  {
   "cell_type": "code",
   "execution_count": 32,
   "id": "387a2615",
   "metadata": {},
   "outputs": [
    {
     "data": {
      "text/html": [
       "<style>\n",
       ".dl-inline {width: auto; margin:0; padding: 0}\n",
       ".dl-inline>dt, .dl-inline>dd {float: none; width: auto; display: inline-block}\n",
       ".dl-inline>dt::after {content: \":\\0020\"; padding-right: .5ex}\n",
       ".dl-inline>dt:not(:first-of-type) {padding-left: .5ex}\n",
       "</style><dl class=dl-inline><dt>No</dt><dd>4</dd><dt>Yes</dt><dd>7</dd></dl>\n"
      ],
      "text/latex": [
       "\\begin{description*}\n",
       "\\item[No] 4\n",
       "\\item[Yes] 7\n",
       "\\end{description*}\n"
      ],
      "text/markdown": [
       "No\n",
       ":   4Yes\n",
       ":   7\n",
       "\n"
      ],
      "text/plain": [
       " No Yes \n",
       "  4   7 "
      ]
     },
     "metadata": {},
     "output_type": "display_data"
    },
    {
     "data": {
      "text/html": [
       "<style>\n",
       ".dl-inline {width: auto; margin:0; padding: 0}\n",
       ".dl-inline>dt, .dl-inline>dd {float: none; width: auto; display: inline-block}\n",
       ".dl-inline>dt::after {content: \":\\0020\"; padding-right: .5ex}\n",
       ".dl-inline>dt:not(:first-of-type) {padding-left: .5ex}\n",
       "</style><dl class=dl-inline><dt>No</dt><dd>2</dd><dt>Yes</dt><dd>1</dd></dl>\n"
      ],
      "text/latex": [
       "\\begin{description*}\n",
       "\\item[No] 2\n",
       "\\item[Yes] 1\n",
       "\\end{description*}\n"
      ],
      "text/markdown": [
       "No\n",
       ":   2Yes\n",
       ":   1\n",
       "\n"
      ],
      "text/plain": [
       " No Yes \n",
       "  2   1 "
      ]
     },
     "metadata": {},
     "output_type": "display_data"
    }
   ],
   "source": [
    "tapply(df[,2],df[,1],mean)\n",
    "tapply(df[,2],df[,1],sd)"
   ]
  },
  {
   "cell_type": "markdown",
   "id": "c7030f6d",
   "metadata": {},
   "source": [
    "### Simple graphs in R"
   ]
  },
  {
   "cell_type": "markdown",
   "id": "493b0d98",
   "metadata": {},
   "source": [
    "Now that you are getting a grasp of the basics of R, let’s make a few simple plots so that you can see something visual.\n",
    "\n",
    "Box and whisker plot\n",
    "This is easy to do in R and is achieved by having a categorical variable in the x-axis (the first column in your case) and a continuous variable in the y-axis (either of the other two columns).\n",
    "Do you understand what categorical and continuous variables are? If not, ask your demonstrator.\n",
    "By using the ‘plot’ function the following script will produce a graph in the ‘Plots’ tab of the lower-right box in RStudio"
   ]
  },
  {
   "cell_type": "code",
   "execution_count": 33,
   "id": "46cef0a1",
   "metadata": {},
   "outputs": [
    {
     "data": {
      "image/png": "[encoded data removed]",
      "text/plain": [
       "plot without title"
      ]
     },
     "metadata": {
      "image/png": {
       "height": 420,
       "width": 420
      }
     },
     "output_type": "display_data"
    }
   ],
   "source": [
    "#box plot with x as categorical y as continuous\n",
    "plot(factor(rownames(USArrests)),USArrests$Assault)"
   ]
  },
  {
   "cell_type": "markdown",
   "id": "18e00f8c",
   "metadata": {},
   "source": [
    "Easy! \n",
    "\n",
    "However, there are lots of things missing from this plot, such as axis labels. It is simple to add these, and you can learn how to do this by typing:\n"
   ]
  },
  {
   "cell_type": "code",
   "execution_count": 34,
   "id": "ce089aa1",
   "metadata": {},
   "outputs": [],
   "source": [
    "#help\n",
    "?plot"
   ]
  },
  {
   "cell_type": "markdown",
   "id": "26f3e1da",
   "metadata": {},
   "source": [
    "This will bring up the ‘Help’ tab on how to use the plot function. This gives you lots of instructions and even examples on how to make plots in R.\n",
    "\n",
    "Let’s add and x-axis label to your graph\n"
   ]
  },
  {
   "cell_type": "code",
   "execution_count": 35,
   "id": "9e822cf3",
   "metadata": {},
   "outputs": [
    {
     "data": {
      "image/png": "[encoded data removed]",
      "text/plain": [
       "plot without title"
      ]
     },
     "metadata": {
      "image/png": {
       "height": 420,
       "width": 420
      }
     },
     "output_type": "display_data"
    }
   ],
   "source": [
    "#add xlabel\n",
    "plot(factor(rownames(USArrests)),USArrests$Assault,xlab='State')"
   ]
  },
  {
   "cell_type": "markdown",
   "id": "68353bce",
   "metadata": {},
   "source": [
    "Use the ‘Help’ tab to assist you to:\n",
    "1.\tLabel the y-axis as “Height”\n"
   ]
  },
  {
   "cell_type": "code",
   "execution_count": 36,
   "id": "f90c86ea",
   "metadata": {},
   "outputs": [
    {
     "data": {
      "image/png": "[encoded data removed]",
      "text/plain": [
       "plot without title"
      ]
     },
     "metadata": {
      "image/png": {
       "height": 420,
       "width": 420
      }
     },
     "output_type": "display_data"
    }
   ],
   "source": [
    "#add ylabel\n",
    "plot(factor(rownames(USArrests)),USArrests$Assault,xlab='State',ylab='Assault')"
   ]
  },
  {
   "cell_type": "markdown",
   "id": "b9ed6044",
   "metadata": {},
   "source": [
    "2.\tGive the graph a title “Plant heights”"
   ]
  },
  {
   "cell_type": "code",
   "execution_count": 37,
   "id": "6da00b8f",
   "metadata": {},
   "outputs": [
    {
     "data": {
      "image/png": "[encoded data removed]",
      "text/plain": [
       "Plot with title \"Assault by State\""
      ]
     },
     "metadata": {
      "image/png": {
       "height": 420,
       "width": 420
      }
     },
     "output_type": "display_data"
    }
   ],
   "source": [
    "#add ylabel\n",
    "plot(factor(rownames(USArrests)),USArrests$Assault,xlab='State',ylab='Assault',main='Assault by State')"
   ]
  },
  {
   "cell_type": "markdown",
   "id": "81e197b0",
   "metadata": {},
   "source": [
    "### Scatter Plot"
   ]
  },
  {
   "cell_type": "markdown",
   "id": "87457f04",
   "metadata": {},
   "source": [
    "Scatter plots can be made by plotting two continuous variables against one another. Make a scatter plot of your data using the following."
   ]
  },
  {
   "cell_type": "code",
   "execution_count": 38,
   "id": "9c0d0be9",
   "metadata": {},
   "outputs": [
    {
     "data": {
      "image/png": "[encoded data removed]",
      "text/plain": [
       "plot without title"
      ]
     },
     "metadata": {
      "image/png": {
       "height": 420,
       "width": 420
      }
     },
     "output_type": "display_data"
    }
   ],
   "source": [
    "#scatter plot with both x and y as continuous\n",
    "plot(USArrests$Murder,USArrests$Assault)"
   ]
  },
  {
   "cell_type": "markdown",
   "id": "9fc0c5aa",
   "metadata": {},
   "source": [
    "Change the axis labels on this plot to just “Width” and “Height”"
   ]
  },
  {
   "cell_type": "code",
   "execution_count": 39,
   "id": "b934436e",
   "metadata": {},
   "outputs": [
    {
     "data": {
      "image/png": "[encoded data removed]",
      "text/plain": [
       "plot without title"
      ]
     },
     "metadata": {
      "image/png": {
       "height": 420,
       "width": 420
      }
     },
     "output_type": "display_data"
    }
   ],
   "source": [
    "plot(USArrests$Murder,USArrests$Assault,xlab='Murder',ylab='Assault')"
   ]
  },
  {
   "cell_type": "markdown",
   "id": "4b74404a",
   "metadata": {},
   "source": [
    "### Histogram"
   ]
  },
  {
   "cell_type": "markdown",
   "id": "2737b479",
   "metadata": {},
   "source": [
    "Different plotting function for histograms called ‘hist’"
   ]
  },
  {
   "cell_type": "code",
   "execution_count": 40,
   "id": "7972bbf4",
   "metadata": {},
   "outputs": [
    {
     "data": {
      "image/png": "[encoded data removed]",
      "text/plain": [
       "Plot with title \"Histogram of USArrests$Murder\""
      ]
     },
     "metadata": {
      "image/png": {
       "height": 420,
       "width": 420
      }
     },
     "output_type": "display_data"
    }
   ],
   "source": [
    "hist(USArrests$Murder)"
   ]
  },
  {
   "cell_type": "code",
   "execution_count": 41,
   "id": "e38b15e8",
   "metadata": {},
   "outputs": [
    {
     "data": {
      "image/png": "[encoded data removed]",
      "text/plain": [
       "Plot with title \"Histogram of USArrests$Assault\""
      ]
     },
     "metadata": {
      "image/png": {
       "height": 420,
       "width": 420
      }
     },
     "output_type": "display_data"
    }
   ],
   "source": [
    "hist(USArrests$Assault)"
   ]
  },
  {
   "cell_type": "markdown",
   "id": "f4e7e317",
   "metadata": {},
   "source": [
    "Important note: A really helpful thing to know about R is that if you ever need to know how to do something in it, simply google what you want to know and then follow that with “in r”. For example “scatter plot in r”. There is a mountain of helpful information available on the internet from the many people who have struggled through trying to do things in R prior to you…take advantage of that.\n",
    "\n",
    " \n"
   ]
  },
  {
   "cell_type": "markdown",
   "id": "81815610",
   "metadata": {},
   "source": [
    "### Questions"
   ]
  },
  {
   "cell_type": "markdown",
   "id": "5924600f",
   "metadata": {},
   "source": [
    "Here is a list of the things you should have understood as a result of doing this exercise:\n",
    "\n",
    "1.\tWhat is a vector?\n",
    "\n",
    "`An array which can store multiple variables in str or int or float`\n",
    "\n",
    "2.\tWhat is an object?\n",
    "\n",
    "`A variable which can store a single value in str or int or float`\n",
    "\n",
    "3.\tWhy is it useful to create and save script in R?\n",
    "\n",
    "`To reuse it`\n",
    "\n",
    "4.\tWhat might you use square brackets after an object for?\n",
    "\n",
    "`Indexing and slicing of a dataframe or matrix`\n",
    "\n",
    "5.\tWhat is ‘tapply’ useful for?\n",
    "\n",
    "`select specific columns and rows for summary statistics`\n",
    "\n",
    "6.\tWhat kind of file format is useful to import data into R?\n",
    "\n",
    "`csv comma separated`\n",
    "\n",
    "7.\tWhat should you type in order to learn more about a function? For example the ‘tapply’ function or the ‘hist’ function?\n",
    "\n",
    "`question mark`"
   ]
  },
  {
   "cell_type": "code",
   "execution_count": null,
   "id": "68008602",
   "metadata": {},
   "outputs": [],
   "source": []
  }
 ],
 "metadata": {
  "kernelspec": {
   "display_name": "R",
   "language": "R",
   "name": "ir413"
  },
  "language_info": {
   "codemirror_mode": "r",
   "file_extension": ".r",
   "mimetype": "text/x-r-source",
   "name": "R",
   "pygments_lexer": "r",
   "version": "4.2.2"
  },
  "toc": {
   "base_numbering": 1,
   "nav_menu": {},
   "number_sections": true,
   "sideBar": true,
   "skip_h1_title": false,
   "title_cell": "Table of Contents",
   "title_sidebar": "Contents",
   "toc_cell": false,
   "toc_position": {
    "height": "calc(100% - 180px)",
    "left": "10px",
    "top": "150px",
    "width": "245.76px"
   },
   "toc_section_display": true,
   "toc_window_display": true
  }
 },
 "nbformat": 4,
 "nbformat_minor": 5
}
