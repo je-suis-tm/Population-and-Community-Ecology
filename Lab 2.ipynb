{
 "cells": [
  {
   "cell_type": "markdown",
   "id": "cee2efc0",
   "metadata": {},
   "source": [
    "## Lab 2 - \tIntroduction to R"
   ]
  },
  {
   "cell_type": "markdown",
   "id": "51e12f8e",
   "metadata": {},
   "source": [
    "### Basic calculations in R"
   ]
  },
  {
   "cell_type": "markdown",
   "id": "4fd54ee3",
   "metadata": {},
   "source": [
    "R uses most of the familiar mathematical operators you may be accustomed to. Addition, subtraction, multiplication, division, exponentiation, ex, etc. are +, -, \\*, /, ^, exp(x), respectively. In addition, when working from the console you may use the arrow ‘up key’ to scroll through the previous few commands to the prompt and edit them as desired. \n",
    "Let’s begin with some simple computations: type 6 + 9 and then Enter at the command prompt >.\n"
   ]
  },
  {
   "cell_type": "code",
   "execution_count": 1,
   "id": "888c9f90",
   "metadata": {},
   "outputs": [
    {
     "data": {
      "text/html": [
       "15"
      ],
      "text/latex": [
       "15"
      ],
      "text/markdown": [
       "15"
      ],
      "text/plain": [
       "[1] 15"
      ]
     },
     "metadata": {},
     "output_type": "display_data"
    }
   ],
   "source": [
    "#add\n",
    "6+9"
   ]
  },
  {
   "cell_type": "markdown",
   "id": "c7cda813",
   "metadata": {},
   "source": [
    "Alternatively type 6+9 into the R script box then ‘run’ that line of script\n",
    "\n",
    "In both cases the answer is returned in the console with [1] next to it, which represents the number of the first element of that output row (in this case only one entry). Try some simple calculator type calculations on your own to get used to the input/output style of R. \n",
    "e.g., "
   ]
  },
  {
   "cell_type": "code",
   "execution_count": 2,
   "id": "3309c046",
   "metadata": {},
   "outputs": [
    {
     "data": {
      "text/html": [
       "5.66666666666667"
      ],
      "text/latex": [
       "5.66666666666667"
      ],
      "text/markdown": [
       "5.66666666666667"
      ],
      "text/plain": [
       "[1] 5.666667"
      ]
     },
     "metadata": {},
     "output_type": "display_data"
    }
   ],
   "source": [
    "#power\n",
    "7-12/3^2"
   ]
  },
  {
   "cell_type": "code",
   "execution_count": 3,
   "id": "ff7572d1",
   "metadata": {},
   "outputs": [
    {
     "data": {
      "text/html": [
       "-1"
      ],
      "text/latex": [
       "-1"
      ],
      "text/markdown": [
       "-1"
      ],
      "text/plain": [
       "[1] -1"
      ]
     },
     "metadata": {},
     "output_type": "display_data"
    }
   ],
   "source": [
    "#multiplication\n",
    "7-12/3*2"
   ]
  },
  {
   "cell_type": "markdown",
   "id": "ac3aa3a3",
   "metadata": {},
   "source": [
    "### Creating objects in R"
   ]
  },
  {
   "cell_type": "markdown",
   "id": "17c6db0d",
   "metadata": {},
   "source": [
    "It is frequently useful to create objects in R. These objects then become saved (note the presence in the top right box in RStudio) and can be recalled when useful.\n",
    "\n",
    "An object can be created with the ‘assign operators’ “<-“ or “=”. Give some examples a go, either by directly typing them into the console or in the script file and then running it.\n"
   ]
  },
  {
   "cell_type": "code",
   "execution_count": 4,
   "id": "0378b137",
   "metadata": {},
   "outputs": [
    {
     "data": {
      "text/html": [
       "15"
      ],
      "text/latex": [
       "15"
      ],
      "text/markdown": [
       "15"
      ],
      "text/plain": [
       "[1] 15"
      ]
     },
     "metadata": {},
     "output_type": "display_data"
    }
   ],
   "source": [
    "#c++ syntax\n",
    "n <- 15\n",
    "\n",
    "n"
   ]
  },
  {
   "cell_type": "code",
   "execution_count": 5,
   "id": "90d51059",
   "metadata": {},
   "outputs": [
    {
     "data": {
      "text/html": [
       "20"
      ],
      "text/latex": [
       "20"
      ],
      "text/markdown": [
       "20"
      ],
      "text/plain": [
       "[1] 20"
      ]
     },
     "metadata": {},
     "output_type": "display_data"
    }
   ],
   "source": [
    "#most intuitive syntax\n",
    "n = 20\n",
    "\n",
    "n"
   ]
  },
  {
   "cell_type": "code",
   "execution_count": 6,
   "id": "9c51660a",
   "metadata": {},
   "outputs": [
    {
     "data": {
      "text/html": [
       "25"
      ],
      "text/latex": [
       "25"
      ],
      "text/markdown": [
       "25"
      ],
      "text/plain": [
       "[1] 25"
      ]
     },
     "metadata": {},
     "output_type": "display_data"
    }
   ],
   "source": [
    "#can use express for variable assignment\n",
    "n <- 20 + 5\n",
    "\n",
    "n"
   ]
  },
  {
   "cell_type": "code",
   "execution_count": 7,
   "id": "91e1baff",
   "metadata": {},
   "outputs": [
    {
     "data": {
      "text/html": [
       "22"
      ],
      "text/latex": [
       "22"
      ],
      "text/markdown": [
       "22"
      ],
      "text/plain": [
       "[1] 22"
      ]
     },
     "metadata": {},
     "output_type": "display_data"
    }
   ],
   "source": [
    "#case sensitive\n",
    "N=22\n",
    "\n",
    "N"
   ]
  },
  {
   "cell_type": "code",
   "execution_count": 8,
   "id": "739b617f",
   "metadata": {},
   "outputs": [
    {
     "data": {
      "text/html": [
       "25"
      ],
      "text/latex": [
       "25"
      ],
      "text/markdown": [
       "25"
      ],
      "text/plain": [
       "[1] 25"
      ]
     },
     "metadata": {},
     "output_type": "display_data"
    }
   ],
   "source": [
    "n"
   ]
  },
  {
   "cell_type": "markdown",
   "id": "cbf5c973",
   "metadata": {},
   "source": [
    "### add comments"
   ]
  },
  {
   "cell_type": "markdown",
   "id": "48a5017f",
   "metadata": {},
   "source": [
    "FROM HERE ON IN, LETS GET INTO THE GOOD HABIT OF WRITING ALL YOUR R CODE IN THE SCRIPT BOX (top left box) AND SAVE THIS TO A LOGICAL DIRECTORY ON YOUR COMPUTER …perhaps the desktop or a KPZ211_Labs folder.\n",
    "\n",
    "You can then access this code at any time by simply opening the saved script file.\n",
    "\n",
    "You can also add notes into your script by using the “#” symbol before the notes, which means that you don’t try and force the console to run those notes\n",
    "e.g.,  "
   ]
  },
  {
   "cell_type": "code",
   "execution_count": 9,
   "id": "94196c70",
   "metadata": {},
   "outputs": [],
   "source": [
    "# Instructions on how to create R objects"
   ]
  },
  {
   "cell_type": "markdown",
   "id": "1a205ffc",
   "metadata": {},
   "source": [
    "This can even be used after lines of script\n",
    "e.g., "
   ]
  },
  {
   "cell_type": "code",
   "execution_count": 10,
   "id": "7d38f1a8",
   "metadata": {},
   "outputs": [],
   "source": [
    "N = 22 # creates an object for 22"
   ]
  },
  {
   "cell_type": "markdown",
   "id": "2e83256a",
   "metadata": {},
   "source": [
    "### Vectors and matrices in R"
   ]
  },
  {
   "cell_type": "markdown",
   "id": "eb27e797",
   "metadata": {},
   "source": [
    "Often biologists collect and use vectors or matrices in their analyses. Vectors are a single string of characters (numbers, letters, categories) and matrices are made up of multiple vectors bound together. There are several ways to do this.\n",
    "\n",
    "For a vector in numerical order:"
   ]
  },
  {
   "cell_type": "code",
   "execution_count": 11,
   "id": "1dc55d42",
   "metadata": {},
   "outputs": [
    {
     "data": {
      "text/html": [
       "<ol class=list-inline>\n",
       "\t<li>3</li>\n",
       "\t<li>4</li>\n",
       "\t<li>5</li>\n",
       "\t<li>6</li>\n",
       "\t<li>7</li>\n",
       "\t<li>8</li>\n",
       "</ol>\n"
      ],
      "text/latex": [
       "\\begin{enumerate*}\n",
       "\\item 3\n",
       "\\item 4\n",
       "\\item 5\n",
       "\\item 6\n",
       "\\item 7\n",
       "\\item 8\n",
       "\\end{enumerate*}\n"
      ],
      "text/markdown": [
       "1. 3\n",
       "2. 4\n",
       "3. 5\n",
       "4. 6\n",
       "5. 7\n",
       "6. 8\n",
       "\n",
       "\n"
      ],
      "text/plain": [
       "[1] 3 4 5 6 7 8"
      ]
     },
     "metadata": {},
     "output_type": "display_data"
    }
   ],
   "source": [
    "#range from 3 to 8, [3,8]\n",
    "k=3:8\n",
    "k"
   ]
  },
  {
   "cell_type": "markdown",
   "id": "37223b7f",
   "metadata": {},
   "source": [
    "For a vector in anything other than numerical order you need to concatenate the characters together using “c()”:"
   ]
  },
  {
   "cell_type": "code",
   "execution_count": 12,
   "id": "d14a3ce1",
   "metadata": {},
   "outputs": [
    {
     "data": {
      "text/html": [
       "<ol class=list-inline>\n",
       "\t<li>3</li>\n",
       "\t<li>5</li>\n",
       "\t<li>7</li>\n",
       "</ol>\n"
      ],
      "text/latex": [
       "\\begin{enumerate*}\n",
       "\\item 3\n",
       "\\item 5\n",
       "\\item 7\n",
       "\\end{enumerate*}\n"
      ],
      "text/markdown": [
       "1. 3\n",
       "2. 5\n",
       "3. 7\n",
       "\n",
       "\n"
      ],
      "text/plain": [
       "[1] 3 5 7"
      ]
     },
     "metadata": {},
     "output_type": "display_data"
    }
   ],
   "source": [
    "#concatenate\n",
    "j = c(3,5,7)\n",
    "\n",
    "j"
   ]
  },
  {
   "cell_type": "markdown",
   "id": "2fe7a154",
   "metadata": {},
   "source": [
    "If you use any kind of character involving letters you must use ‘’ or “”"
   ]
  },
  {
   "cell_type": "code",
   "execution_count": 13,
   "id": "dcb8e074",
   "metadata": {},
   "outputs": [
    {
     "data": {
      "text/html": [
       "<ol class=list-inline>\n",
       "\t<li>'a'</li>\n",
       "\t<li>'b'</li>\n",
       "\t<li>'c'</li>\n",
       "</ol>\n"
      ],
      "text/latex": [
       "\\begin{enumerate*}\n",
       "\\item 'a'\n",
       "\\item 'b'\n",
       "\\item 'c'\n",
       "\\end{enumerate*}\n"
      ],
      "text/markdown": [
       "1. 'a'\n",
       "2. 'b'\n",
       "3. 'c'\n",
       "\n",
       "\n"
      ],
      "text/plain": [
       "[1] \"a\" \"b\" \"c\""
      ]
     },
     "metadata": {},
     "output_type": "display_data"
    }
   ],
   "source": [
    "#str \n",
    "k = c('a','b','c')\n",
    "k"
   ]
  },
  {
   "cell_type": "code",
   "execution_count": 14,
   "id": "098be2a6",
   "metadata": {},
   "outputs": [
    {
     "data": {
      "text/html": [
       "<ol class=list-inline>\n",
       "\t<li>'wombats'</li>\n",
       "\t<li>'are'</li>\n",
       "\t<li>'awesome'</li>\n",
       "</ol>\n"
      ],
      "text/latex": [
       "\\begin{enumerate*}\n",
       "\\item 'wombats'\n",
       "\\item 'are'\n",
       "\\item 'awesome'\n",
       "\\end{enumerate*}\n"
      ],
      "text/markdown": [
       "1. 'wombats'\n",
       "2. 'are'\n",
       "3. 'awesome'\n",
       "\n",
       "\n"
      ],
      "text/plain": [
       "[1] \"wombats\" \"are\"     \"awesome\""
      ]
     },
     "metadata": {},
     "output_type": "display_data"
    }
   ],
   "source": [
    "m = c(\"wombats\",\"are\",\"awesome\")\n",
    "m"
   ]
  },
  {
   "cell_type": "markdown",
   "id": "f36afa39",
   "metadata": {},
   "source": [
    "Sometimes you may want to repeat a value or character multiple time, so using the ‘rep’ command is very helpful"
   ]
  },
  {
   "cell_type": "code",
   "execution_count": 15,
   "id": "fc7e687d",
   "metadata": {},
   "outputs": [
    {
     "data": {
      "text/html": [
       "<ol class=list-inline>\n",
       "\t<li>1</li>\n",
       "\t<li>1</li>\n",
       "\t<li>1</li>\n",
       "\t<li>1</li>\n",
       "\t<li>1</li>\n",
       "\t<li>1</li>\n",
       "\t<li>1</li>\n",
       "\t<li>1</li>\n",
       "\t<li>1</li>\n",
       "\t<li>1</li>\n",
       "</ol>\n"
      ],
      "text/latex": [
       "\\begin{enumerate*}\n",
       "\\item 1\n",
       "\\item 1\n",
       "\\item 1\n",
       "\\item 1\n",
       "\\item 1\n",
       "\\item 1\n",
       "\\item 1\n",
       "\\item 1\n",
       "\\item 1\n",
       "\\item 1\n",
       "\\end{enumerate*}\n"
      ],
      "text/markdown": [
       "1. 1\n",
       "2. 1\n",
       "3. 1\n",
       "4. 1\n",
       "5. 1\n",
       "6. 1\n",
       "7. 1\n",
       "8. 1\n",
       "9. 1\n",
       "10. 1\n",
       "\n",
       "\n"
      ],
      "text/plain": [
       " [1] 1 1 1 1 1 1 1 1 1 1"
      ]
     },
     "metadata": {},
     "output_type": "display_data"
    }
   ],
   "source": [
    "#repeat element\n",
    "n = rep(1,10)\n",
    "n\n"
   ]
  },
  {
   "cell_type": "markdown",
   "id": "5419a3a5",
   "metadata": {},
   "source": [
    "…or my personal favourite"
   ]
  },
  {
   "cell_type": "code",
   "execution_count": 16,
   "id": "ac9f13ff",
   "metadata": {},
   "outputs": [
    {
     "data": {
      "text/html": [
       "<ol class=list-inline>\n",
       "\t<li>'wombats'</li>\n",
       "\t<li>'are'</li>\n",
       "\t<li>'awesome'</li>\n",
       "\t<li>'wombats'</li>\n",
       "\t<li>'are'</li>\n",
       "\t<li>'awesome'</li>\n",
       "\t<li>'wombats'</li>\n",
       "\t<li>'are'</li>\n",
       "\t<li>'awesome'</li>\n",
       "\t<li>'wombats'</li>\n",
       "\t<li>'are'</li>\n",
       "\t<li>'awesome'</li>\n",
       "\t<li>'wombats'</li>\n",
       "\t<li>'are'</li>\n",
       "\t<li>'awesome'</li>\n",
       "</ol>\n"
      ],
      "text/latex": [
       "\\begin{enumerate*}\n",
       "\\item 'wombats'\n",
       "\\item 'are'\n",
       "\\item 'awesome'\n",
       "\\item 'wombats'\n",
       "\\item 'are'\n",
       "\\item 'awesome'\n",
       "\\item 'wombats'\n",
       "\\item 'are'\n",
       "\\item 'awesome'\n",
       "\\item 'wombats'\n",
       "\\item 'are'\n",
       "\\item 'awesome'\n",
       "\\item 'wombats'\n",
       "\\item 'are'\n",
       "\\item 'awesome'\n",
       "\\end{enumerate*}\n"
      ],
      "text/markdown": [
       "1. 'wombats'\n",
       "2. 'are'\n",
       "3. 'awesome'\n",
       "4. 'wombats'\n",
       "5. 'are'\n",
       "6. 'awesome'\n",
       "7. 'wombats'\n",
       "8. 'are'\n",
       "9. 'awesome'\n",
       "10. 'wombats'\n",
       "11. 'are'\n",
       "12. 'awesome'\n",
       "13. 'wombats'\n",
       "14. 'are'\n",
       "15. 'awesome'\n",
       "\n",
       "\n"
      ],
      "text/plain": [
       " [1] \"wombats\" \"are\"     \"awesome\" \"wombats\" \"are\"     \"awesome\" \"wombats\"\n",
       " [8] \"are\"     \"awesome\" \"wombats\" \"are\"     \"awesome\" \"wombats\" \"are\"    \n",
       "[15] \"awesome\""
      ]
     },
     "metadata": {},
     "output_type": "display_data"
    }
   ],
   "source": [
    "#repeat array\n",
    "rep(m,5)"
   ]
  },
  {
   "cell_type": "markdown",
   "id": "c8549f07",
   "metadata": {},
   "source": [
    "Vectors of the same length can be bound together into a matrix, either horizontally or vertically:"
   ]
  },
  {
   "cell_type": "code",
   "execution_count": 17,
   "id": "ed0cc38f",
   "metadata": {},
   "outputs": [
    {
     "data": {
      "text/html": [
       "<table>\n",
       "<thead><tr><th scope=col>j</th><th scope=col>k</th><th scope=col>m</th></tr></thead>\n",
       "<tbody>\n",
       "\t<tr><td>3      </td><td>a      </td><td>wombats</td></tr>\n",
       "\t<tr><td>5      </td><td>b      </td><td>are    </td></tr>\n",
       "\t<tr><td>7      </td><td>c      </td><td>awesome</td></tr>\n",
       "</tbody>\n",
       "</table>\n"
      ],
      "text/latex": [
       "\\begin{tabular}{lll}\n",
       " j & k & m\\\\\n",
       "\\hline\n",
       "\t 3       & a       & wombats\\\\\n",
       "\t 5       & b       & are    \\\\\n",
       "\t 7       & c       & awesome\\\\\n",
       "\\end{tabular}\n"
      ],
      "text/markdown": [
       "\n",
       "| j | k | m |\n",
       "|---|---|---|\n",
       "| 3       | a       | wombats |\n",
       "| 5       | b       | are     |\n",
       "| 7       | c       | awesome |\n",
       "\n"
      ],
      "text/plain": [
       "     j k m      \n",
       "[1,] 3 a wombats\n",
       "[2,] 5 b are    \n",
       "[3,] 7 c awesome"
      ]
     },
     "metadata": {},
     "output_type": "display_data"
    }
   ],
   "source": [
    "#concatenate\n",
    "mat = cbind(j,k,m)\n",
    "mat"
   ]
  },
  {
   "cell_type": "code",
   "execution_count": 18,
   "id": "91182497",
   "metadata": {},
   "outputs": [
    {
     "data": {
      "text/html": [
       "<table>\n",
       "<tbody>\n",
       "\t<tr><th scope=row>j</th><td>3      </td><td>5      </td><td>7      </td></tr>\n",
       "\t<tr><th scope=row>k</th><td>a      </td><td>b      </td><td>c      </td></tr>\n",
       "\t<tr><th scope=row>m</th><td>wombats</td><td>are    </td><td>awesome</td></tr>\n",
       "</tbody>\n",
       "</table>\n"
      ],
      "text/latex": [
       "\\begin{tabular}{r|lll}\n",
       "\tj & 3       & 5       & 7      \\\\\n",
       "\tk & a       & b       & c      \\\\\n",
       "\tm & wombats & are     & awesome\\\\\n",
       "\\end{tabular}\n"
      ],
      "text/markdown": [
       "\n",
       "| j | 3       | 5       | 7       |\n",
       "| k | a       | b       | c       |\n",
       "| m | wombats | are     | awesome |\n",
       "\n"
      ],
      "text/plain": [
       "  [,1]    [,2] [,3]   \n",
       "j 3       5    7      \n",
       "k a       b    c      \n",
       "m wombats are  awesome"
      ]
     },
     "metadata": {},
     "output_type": "display_data"
    }
   ],
   "source": [
    "#concatenate\n",
    "Mat = rbind(j,k,m)\n",
    "Mat"
   ]
  },
  {
   "cell_type": "markdown",
   "id": "513fde49",
   "metadata": {},
   "source": [
    "You will notice quotation marks around all of the types of characters in mat or Mat, which means that R isn’t sure what modes the data are in (e.g., numerical, categorical, etc.), so it is generally very handy to turn them into a data frame:"
   ]
  },
  {
   "cell_type": "code",
   "execution_count": 19,
   "id": "59ab16ad",
   "metadata": {},
   "outputs": [
    {
     "data": {
      "text/html": [
       "<table>\n",
       "<thead><tr><th scope=col>j</th><th scope=col>k</th><th scope=col>m</th></tr></thead>\n",
       "<tbody>\n",
       "\t<tr><td>3      </td><td>a      </td><td>wombats</td></tr>\n",
       "\t<tr><td>5      </td><td>b      </td><td>are    </td></tr>\n",
       "\t<tr><td>7      </td><td>c      </td><td>awesome</td></tr>\n",
       "</tbody>\n",
       "</table>\n"
      ],
      "text/latex": [
       "\\begin{tabular}{r|lll}\n",
       " j & k & m\\\\\n",
       "\\hline\n",
       "\t 3       & a       & wombats\\\\\n",
       "\t 5       & b       & are    \\\\\n",
       "\t 7       & c       & awesome\\\\\n",
       "\\end{tabular}\n"
      ],
      "text/markdown": [
       "\n",
       "| j | k | m |\n",
       "|---|---|---|\n",
       "| 3       | a       | wombats |\n",
       "| 5       | b       | are     |\n",
       "| 7       | c       | awesome |\n",
       "\n"
      ],
      "text/plain": [
       "  j k m      \n",
       "1 3 a wombats\n",
       "2 5 b are    \n",
       "3 7 c awesome"
      ]
     },
     "metadata": {},
     "output_type": "display_data"
    }
   ],
   "source": [
    "#create dataframe\n",
    "mat = data.frame(cbind(j,k,m))\n",
    "mat"
   ]
  },
  {
   "cell_type": "code",
   "execution_count": 20,
   "id": "d8ed0349",
   "metadata": {},
   "outputs": [
    {
     "data": {
      "text/html": [
       "<table>\n",
       "<thead><tr><th></th><th scope=col>X1</th><th scope=col>X2</th><th scope=col>X3</th></tr></thead>\n",
       "<tbody>\n",
       "\t<tr><th scope=row>j</th><td>3      </td><td>5      </td><td>7      </td></tr>\n",
       "\t<tr><th scope=row>k</th><td>a      </td><td>b      </td><td>c      </td></tr>\n",
       "\t<tr><th scope=row>m</th><td>wombats</td><td>are    </td><td>awesome</td></tr>\n",
       "</tbody>\n",
       "</table>\n"
      ],
      "text/latex": [
       "\\begin{tabular}{r|lll}\n",
       "  & X1 & X2 & X3\\\\\n",
       "\\hline\n",
       "\tj & 3       & 5       & 7      \\\\\n",
       "\tk & a       & b       & c      \\\\\n",
       "\tm & wombats & are     & awesome\\\\\n",
       "\\end{tabular}\n"
      ],
      "text/markdown": [
       "\n",
       "| <!--/--> | X1 | X2 | X3 |\n",
       "|---|---|---|---|\n",
       "| j | 3       | 5       | 7       |\n",
       "| k | a       | b       | c       |\n",
       "| m | wombats | are     | awesome |\n",
       "\n"
      ],
      "text/plain": [
       "  X1      X2  X3     \n",
       "j 3       5   7      \n",
       "k a       b   c      \n",
       "m wombats are awesome"
      ]
     },
     "metadata": {},
     "output_type": "display_data"
    }
   ],
   "source": [
    "#create dataframe\n",
    "Mat = data.frame(rbind(j,k,m))\n",
    "Mat"
   ]
  },
  {
   "cell_type": "markdown",
   "id": "73deff94",
   "metadata": {},
   "source": [
    "Let’s pretend that ‘mat’ is a bigger dataset and you want to just have a look at parts of it. For example, you would like to only look at the middle column ‘k’. This can be achieved a couple of ways:\n",
    "\n",
    "The $ symbol can be used to call a particular part of a data frame if that part has a name, e.g.,\n"
   ]
  },
  {
   "cell_type": "code",
   "execution_count": 21,
   "id": "731b9d29",
   "metadata": {},
   "outputs": [
    {
     "data": {
      "text/html": [
       "<ol class=list-inline>\n",
       "\t<li>a</li>\n",
       "\t<li>b</li>\n",
       "\t<li>c</li>\n",
       "</ol>\n",
       "\n",
       "<details>\n",
       "\t<summary style=display:list-item;cursor:pointer>\n",
       "\t\t<strong>Levels</strong>:\n",
       "\t</summary>\n",
       "\t<ol class=list-inline>\n",
       "\t\t<li>'a'</li>\n",
       "\t\t<li>'b'</li>\n",
       "\t\t<li>'c'</li>\n",
       "\t</ol>\n",
       "</details>"
      ],
      "text/latex": [
       "\\begin{enumerate*}\n",
       "\\item a\n",
       "\\item b\n",
       "\\item c\n",
       "\\end{enumerate*}\n",
       "\n",
       "\\emph{Levels}: \\begin{enumerate*}\n",
       "\\item 'a'\n",
       "\\item 'b'\n",
       "\\item 'c'\n",
       "\\end{enumerate*}\n"
      ],
      "text/markdown": [
       "1. a\n",
       "2. b\n",
       "3. c\n",
       "\n",
       "\n",
       "\n",
       "**Levels**: 1. 'a'\n",
       "2. 'b'\n",
       "3. 'c'\n",
       "\n",
       "\n"
      ],
      "text/plain": [
       "[1] a b c\n",
       "Levels: a b c"
      ]
     },
     "metadata": {},
     "output_type": "display_data"
    }
   ],
   "source": [
    "#matrix indexing\n",
    "mat$k"
   ]
  },
  {
   "cell_type": "markdown",
   "id": "4f0ae873",
   "metadata": {},
   "source": [
    "In this case anything before the “,” calls a row of that object and anything after the “,”  calls a column. You can also use combinations for this, such as:"
   ]
  },
  {
   "cell_type": "code",
   "execution_count": 22,
   "id": "09fc6725",
   "metadata": {},
   "outputs": [
    {
     "data": {
      "text/html": [
       "<ol class=list-inline>\n",
       "\t<li>a</li>\n",
       "\t<li>b</li>\n",
       "\t<li>c</li>\n",
       "</ol>\n",
       "\n",
       "<details>\n",
       "\t<summary style=display:list-item;cursor:pointer>\n",
       "\t\t<strong>Levels</strong>:\n",
       "\t</summary>\n",
       "\t<ol class=list-inline>\n",
       "\t\t<li>'a'</li>\n",
       "\t\t<li>'b'</li>\n",
       "\t\t<li>'c'</li>\n",
       "\t</ol>\n",
       "</details>"
      ],
      "text/latex": [
       "\\begin{enumerate*}\n",
       "\\item a\n",
       "\\item b\n",
       "\\item c\n",
       "\\end{enumerate*}\n",
       "\n",
       "\\emph{Levels}: \\begin{enumerate*}\n",
       "\\item 'a'\n",
       "\\item 'b'\n",
       "\\item 'c'\n",
       "\\end{enumerate*}\n"
      ],
      "text/markdown": [
       "1. a\n",
       "2. b\n",
       "3. c\n",
       "\n",
       "\n",
       "\n",
       "**Levels**: 1. 'a'\n",
       "2. 'b'\n",
       "3. 'c'\n",
       "\n",
       "\n"
      ],
      "text/plain": [
       "[1] a b c\n",
       "Levels: a b c"
      ]
     },
     "metadata": {},
     "output_type": "display_data"
    }
   ],
   "source": [
    "#matrix slicing\n",
    "mat[,2]"
   ]
  },
  {
   "cell_type": "code",
   "execution_count": 23,
   "id": "54d14b70",
   "metadata": {},
   "outputs": [
    {
     "data": {
      "text/html": [
       "<ol class=list-inline>\n",
       "\t<li>a</li>\n",
       "\t<li>b</li>\n",
       "\t<li>c</li>\n",
       "</ol>\n",
       "\n",
       "<details>\n",
       "\t<summary style=display:list-item;cursor:pointer>\n",
       "\t\t<strong>Levels</strong>:\n",
       "\t</summary>\n",
       "\t<ol class=list-inline>\n",
       "\t\t<li>'a'</li>\n",
       "\t\t<li>'b'</li>\n",
       "\t\t<li>'c'</li>\n",
       "\t</ol>\n",
       "</details>"
      ],
      "text/latex": [
       "\\begin{enumerate*}\n",
       "\\item a\n",
       "\\item b\n",
       "\\item c\n",
       "\\end{enumerate*}\n",
       "\n",
       "\\emph{Levels}: \\begin{enumerate*}\n",
       "\\item 'a'\n",
       "\\item 'b'\n",
       "\\item 'c'\n",
       "\\end{enumerate*}\n"
      ],
      "text/markdown": [
       "1. a\n",
       "2. b\n",
       "3. c\n",
       "\n",
       "\n",
       "\n",
       "**Levels**: 1. 'a'\n",
       "2. 'b'\n",
       "3. 'c'\n",
       "\n",
       "\n"
      ],
      "text/plain": [
       "[1] a b c\n",
       "Levels: a b c"
      ]
     },
     "metadata": {},
     "output_type": "display_data"
    },
    {
     "data": {
      "text/html": [
       "<table>\n",
       "<thead><tr><th></th><th scope=col>j</th><th scope=col>k</th><th scope=col>m</th></tr></thead>\n",
       "<tbody>\n",
       "\t<tr><th scope=row>2</th><td>5  </td><td>b  </td><td>are</td></tr>\n",
       "</tbody>\n",
       "</table>\n"
      ],
      "text/latex": [
       "\\begin{tabular}{r|lll}\n",
       "  & j & k & m\\\\\n",
       "\\hline\n",
       "\t2 & 5   & b   & are\\\\\n",
       "\\end{tabular}\n"
      ],
      "text/markdown": [
       "\n",
       "| <!--/--> | j | k | m |\n",
       "|---|---|---|---|\n",
       "| 2 | 5   | b   | are |\n",
       "\n"
      ],
      "text/plain": [
       "  j k m  \n",
       "2 5 b are"
      ]
     },
     "metadata": {},
     "output_type": "display_data"
    },
    {
     "data": {
      "text/html": [
       "b\n",
       "<details>\n",
       "\t<summary style=display:list-item;cursor:pointer>\n",
       "\t\t<strong>Levels</strong>:\n",
       "\t</summary>\n",
       "\t<ol class=list-inline>\n",
       "\t\t<li>'a'</li>\n",
       "\t\t<li>'b'</li>\n",
       "\t\t<li>'c'</li>\n",
       "\t</ol>\n",
       "</details>"
      ],
      "text/latex": [
       "b\n",
       "\\emph{Levels}: \\begin{enumerate*}\n",
       "\\item 'a'\n",
       "\\item 'b'\n",
       "\\item 'c'\n",
       "\\end{enumerate*}\n"
      ],
      "text/markdown": [
       "b\n",
       "**Levels**: 1. 'a'\n",
       "2. 'b'\n",
       "3. 'c'\n",
       "\n",
       "\n"
      ],
      "text/plain": [
       "[1] b\n",
       "Levels: a b c"
      ]
     },
     "metadata": {},
     "output_type": "display_data"
    }
   ],
   "source": [
    "#different slicing\n",
    "mat[,2]\n",
    "\n",
    "mat[2,]\n",
    "\n",
    "mat[2,2]"
   ]
  },
  {
   "cell_type": "markdown",
   "id": "b30b9567",
   "metadata": {},
   "source": [
    "R has lots of inbuilt datasets that you can use to help you learn (see https://stat.ethz.ch/R-manual/R-devel/library/datasets/html/00Index.html). Let’s use a larger dataset.to help you get familiar with extracting columns and values. "
   ]
  },
  {
   "cell_type": "markdown",
   "id": "08d53756",
   "metadata": {},
   "source": [
    "Using your knowledge from the tutorial so far:\n",
    "1.\tTry to extract the second column of USArrests by either using the ‘$’ symbol or using ‘[,]’\n",
    "\n"
   ]
  },
  {
   "cell_type": "code",
   "execution_count": 24,
   "id": "ab75f997",
   "metadata": {},
   "outputs": [
    {
     "data": {
      "text/html": [
       "<ol class=list-inline>\n",
       "\t<li>236</li>\n",
       "\t<li>263</li>\n",
       "\t<li>294</li>\n",
       "\t<li>190</li>\n",
       "\t<li>276</li>\n",
       "\t<li>204</li>\n",
       "\t<li>110</li>\n",
       "\t<li>238</li>\n",
       "\t<li>335</li>\n",
       "\t<li>211</li>\n",
       "\t<li>46</li>\n",
       "\t<li>120</li>\n",
       "\t<li>249</li>\n",
       "\t<li>113</li>\n",
       "\t<li>56</li>\n",
       "\t<li>115</li>\n",
       "\t<li>109</li>\n",
       "\t<li>249</li>\n",
       "\t<li>83</li>\n",
       "\t<li>300</li>\n",
       "\t<li>149</li>\n",
       "\t<li>255</li>\n",
       "\t<li>72</li>\n",
       "\t<li>259</li>\n",
       "\t<li>178</li>\n",
       "\t<li>109</li>\n",
       "\t<li>102</li>\n",
       "\t<li>252</li>\n",
       "\t<li>57</li>\n",
       "\t<li>159</li>\n",
       "\t<li>285</li>\n",
       "\t<li>254</li>\n",
       "\t<li>337</li>\n",
       "\t<li>45</li>\n",
       "\t<li>120</li>\n",
       "\t<li>151</li>\n",
       "\t<li>159</li>\n",
       "\t<li>106</li>\n",
       "\t<li>174</li>\n",
       "\t<li>279</li>\n",
       "\t<li>86</li>\n",
       "\t<li>188</li>\n",
       "\t<li>201</li>\n",
       "\t<li>120</li>\n",
       "\t<li>48</li>\n",
       "\t<li>156</li>\n",
       "\t<li>145</li>\n",
       "\t<li>81</li>\n",
       "\t<li>53</li>\n",
       "\t<li>161</li>\n",
       "</ol>\n"
      ],
      "text/latex": [
       "\\begin{enumerate*}\n",
       "\\item 236\n",
       "\\item 263\n",
       "\\item 294\n",
       "\\item 190\n",
       "\\item 276\n",
       "\\item 204\n",
       "\\item 110\n",
       "\\item 238\n",
       "\\item 335\n",
       "\\item 211\n",
       "\\item 46\n",
       "\\item 120\n",
       "\\item 249\n",
       "\\item 113\n",
       "\\item 56\n",
       "\\item 115\n",
       "\\item 109\n",
       "\\item 249\n",
       "\\item 83\n",
       "\\item 300\n",
       "\\item 149\n",
       "\\item 255\n",
       "\\item 72\n",
       "\\item 259\n",
       "\\item 178\n",
       "\\item 109\n",
       "\\item 102\n",
       "\\item 252\n",
       "\\item 57\n",
       "\\item 159\n",
       "\\item 285\n",
       "\\item 254\n",
       "\\item 337\n",
       "\\item 45\n",
       "\\item 120\n",
       "\\item 151\n",
       "\\item 159\n",
       "\\item 106\n",
       "\\item 174\n",
       "\\item 279\n",
       "\\item 86\n",
       "\\item 188\n",
       "\\item 201\n",
       "\\item 120\n",
       "\\item 48\n",
       "\\item 156\n",
       "\\item 145\n",
       "\\item 81\n",
       "\\item 53\n",
       "\\item 161\n",
       "\\end{enumerate*}\n"
      ],
      "text/markdown": [
       "1. 236\n",
       "2. 263\n",
       "3. 294\n",
       "4. 190\n",
       "5. 276\n",
       "6. 204\n",
       "7. 110\n",
       "8. 238\n",
       "9. 335\n",
       "10. 211\n",
       "11. 46\n",
       "12. 120\n",
       "13. 249\n",
       "14. 113\n",
       "15. 56\n",
       "16. 115\n",
       "17. 109\n",
       "18. 249\n",
       "19. 83\n",
       "20. 300\n",
       "21. 149\n",
       "22. 255\n",
       "23. 72\n",
       "24. 259\n",
       "25. 178\n",
       "26. 109\n",
       "27. 102\n",
       "28. 252\n",
       "29. 57\n",
       "30. 159\n",
       "31. 285\n",
       "32. 254\n",
       "33. 337\n",
       "34. 45\n",
       "35. 120\n",
       "36. 151\n",
       "37. 159\n",
       "38. 106\n",
       "39. 174\n",
       "40. 279\n",
       "41. 86\n",
       "42. 188\n",
       "43. 201\n",
       "44. 120\n",
       "45. 48\n",
       "46. 156\n",
       "47. 145\n",
       "48. 81\n",
       "49. 53\n",
       "50. 161\n",
       "\n",
       "\n"
      ],
      "text/plain": [
       " [1] 236 263 294 190 276 204 110 238 335 211  46 120 249 113  56 115 109 249  83\n",
       "[20] 300 149 255  72 259 178 109 102 252  57 159 285 254 337  45 120 151 159 106\n",
       "[39] 174 279  86 188 201 120  48 156 145  81  53 161"
      ]
     },
     "metadata": {},
     "output_type": "display_data"
    },
    {
     "data": {
      "text/html": [
       "<ol class=list-inline>\n",
       "\t<li>236</li>\n",
       "\t<li>263</li>\n",
       "\t<li>294</li>\n",
       "\t<li>190</li>\n",
       "\t<li>276</li>\n",
       "\t<li>204</li>\n",
       "\t<li>110</li>\n",
       "\t<li>238</li>\n",
       "\t<li>335</li>\n",
       "\t<li>211</li>\n",
       "\t<li>46</li>\n",
       "\t<li>120</li>\n",
       "\t<li>249</li>\n",
       "\t<li>113</li>\n",
       "\t<li>56</li>\n",
       "\t<li>115</li>\n",
       "\t<li>109</li>\n",
       "\t<li>249</li>\n",
       "\t<li>83</li>\n",
       "\t<li>300</li>\n",
       "\t<li>149</li>\n",
       "\t<li>255</li>\n",
       "\t<li>72</li>\n",
       "\t<li>259</li>\n",
       "\t<li>178</li>\n",
       "\t<li>109</li>\n",
       "\t<li>102</li>\n",
       "\t<li>252</li>\n",
       "\t<li>57</li>\n",
       "\t<li>159</li>\n",
       "\t<li>285</li>\n",
       "\t<li>254</li>\n",
       "\t<li>337</li>\n",
       "\t<li>45</li>\n",
       "\t<li>120</li>\n",
       "\t<li>151</li>\n",
       "\t<li>159</li>\n",
       "\t<li>106</li>\n",
       "\t<li>174</li>\n",
       "\t<li>279</li>\n",
       "\t<li>86</li>\n",
       "\t<li>188</li>\n",
       "\t<li>201</li>\n",
       "\t<li>120</li>\n",
       "\t<li>48</li>\n",
       "\t<li>156</li>\n",
       "\t<li>145</li>\n",
       "\t<li>81</li>\n",
       "\t<li>53</li>\n",
       "\t<li>161</li>\n",
       "</ol>\n"
      ],
      "text/latex": [
       "\\begin{enumerate*}\n",
       "\\item 236\n",
       "\\item 263\n",
       "\\item 294\n",
       "\\item 190\n",
       "\\item 276\n",
       "\\item 204\n",
       "\\item 110\n",
       "\\item 238\n",
       "\\item 335\n",
       "\\item 211\n",
       "\\item 46\n",
       "\\item 120\n",
       "\\item 249\n",
       "\\item 113\n",
       "\\item 56\n",
       "\\item 115\n",
       "\\item 109\n",
       "\\item 249\n",
       "\\item 83\n",
       "\\item 300\n",
       "\\item 149\n",
       "\\item 255\n",
       "\\item 72\n",
       "\\item 259\n",
       "\\item 178\n",
       "\\item 109\n",
       "\\item 102\n",
       "\\item 252\n",
       "\\item 57\n",
       "\\item 159\n",
       "\\item 285\n",
       "\\item 254\n",
       "\\item 337\n",
       "\\item 45\n",
       "\\item 120\n",
       "\\item 151\n",
       "\\item 159\n",
       "\\item 106\n",
       "\\item 174\n",
       "\\item 279\n",
       "\\item 86\n",
       "\\item 188\n",
       "\\item 201\n",
       "\\item 120\n",
       "\\item 48\n",
       "\\item 156\n",
       "\\item 145\n",
       "\\item 81\n",
       "\\item 53\n",
       "\\item 161\n",
       "\\end{enumerate*}\n"
      ],
      "text/markdown": [
       "1. 236\n",
       "2. 263\n",
       "3. 294\n",
       "4. 190\n",
       "5. 276\n",
       "6. 204\n",
       "7. 110\n",
       "8. 238\n",
       "9. 335\n",
       "10. 211\n",
       "11. 46\n",
       "12. 120\n",
       "13. 249\n",
       "14. 113\n",
       "15. 56\n",
       "16. 115\n",
       "17. 109\n",
       "18. 249\n",
       "19. 83\n",
       "20. 300\n",
       "21. 149\n",
       "22. 255\n",
       "23. 72\n",
       "24. 259\n",
       "25. 178\n",
       "26. 109\n",
       "27. 102\n",
       "28. 252\n",
       "29. 57\n",
       "30. 159\n",
       "31. 285\n",
       "32. 254\n",
       "33. 337\n",
       "34. 45\n",
       "35. 120\n",
       "36. 151\n",
       "37. 159\n",
       "38. 106\n",
       "39. 174\n",
       "40. 279\n",
       "41. 86\n",
       "42. 188\n",
       "43. 201\n",
       "44. 120\n",
       "45. 48\n",
       "46. 156\n",
       "47. 145\n",
       "48. 81\n",
       "49. 53\n",
       "50. 161\n",
       "\n",
       "\n"
      ],
      "text/plain": [
       " [1] 236 263 294 190 276 204 110 238 335 211  46 120 249 113  56 115 109 249  83\n",
       "[20] 300 149 255  72 259 178 109 102 252  57 159 285 254 337  45 120 151 159 106\n",
       "[39] 174 279  86 188 201 120  48 156 145  81  53 161"
      ]
     },
     "metadata": {},
     "output_type": "display_data"
    }
   ],
   "source": [
    "#Try to extract the second column of USArrests by either using the ‘$’ symbol or using ‘[,]’\n",
    "USArrests[,2]\n",
    "USArrests$Assault"
   ]
  },
  {
   "cell_type": "markdown",
   "id": "202f5335",
   "metadata": {},
   "source": [
    "2.\tExtract the ‘Arizona’ row"
   ]
  },
  {
   "cell_type": "code",
   "execution_count": 25,
   "id": "08a4f340",
   "metadata": {},
   "outputs": [
    {
     "data": {
      "text/html": [
       "<table>\n",
       "<thead><tr><th></th><th scope=col>Murder</th><th scope=col>Assault</th><th scope=col>UrbanPop</th><th scope=col>Rape</th></tr></thead>\n",
       "<tbody>\n",
       "\t<tr><th scope=row>Arizona</th><td>8.1</td><td>294</td><td>80 </td><td>31 </td></tr>\n",
       "</tbody>\n",
       "</table>\n"
      ],
      "text/latex": [
       "\\begin{tabular}{r|llll}\n",
       "  & Murder & Assault & UrbanPop & Rape\\\\\n",
       "\\hline\n",
       "\tArizona & 8.1 & 294 & 80  & 31 \\\\\n",
       "\\end{tabular}\n"
      ],
      "text/markdown": [
       "\n",
       "| <!--/--> | Murder | Assault | UrbanPop | Rape |\n",
       "|---|---|---|---|---|\n",
       "| Arizona | 8.1 | 294 | 80  | 31  |\n",
       "\n"
      ],
      "text/plain": [
       "        Murder Assault UrbanPop Rape\n",
       "Arizona 8.1    294     80       31  "
      ]
     },
     "metadata": {},
     "output_type": "display_data"
    }
   ],
   "source": [
    "#Extract the ‘Arizona’ row\n",
    "USArrests['Arizona',]"
   ]
  },
  {
   "cell_type": "markdown",
   "id": "55d94fff",
   "metadata": {},
   "source": [
    "3.\tExtract the third and fourth values from the ‘Arizona’ row"
   ]
  },
  {
   "cell_type": "code",
   "execution_count": 26,
   "id": "5ebd30d7",
   "metadata": {},
   "outputs": [
    {
     "data": {
      "text/html": [
       "80"
      ],
      "text/latex": [
       "80"
      ],
      "text/markdown": [
       "80"
      ],
      "text/plain": [
       "[1] 80"
      ]
     },
     "metadata": {},
     "output_type": "display_data"
    },
    {
     "data": {
      "text/html": [
       "31"
      ],
      "text/latex": [
       "31"
      ],
      "text/markdown": [
       "31"
      ],
      "text/plain": [
       "[1] 31"
      ]
     },
     "metadata": {},
     "output_type": "display_data"
    }
   ],
   "source": [
    "#Extract the third and fourth values from the ‘Arizona’ row\n",
    "USArrests['Arizona',3]\n",
    "\n",
    "USArrests['Arizona',4]"
   ]
  },
  {
   "cell_type": "markdown",
   "id": "f63e2ad9",
   "metadata": {},
   "source": [
    "4.\tExtract the first and third columns together\n",
    "\n",
    "Hint: you will need to concatenate the column numbers within the square brackets"
   ]
  },
  {
   "cell_type": "code",
   "execution_count": 27,
   "id": "39e4f954",
   "metadata": {},
   "outputs": [
    {
     "data": {
      "text/html": [
       "<table>\n",
       "<thead><tr><th></th><th scope=col>Murder</th><th scope=col>UrbanPop</th></tr></thead>\n",
       "<tbody>\n",
       "\t<tr><th scope=row>Alabama</th><td>13.2</td><td>58  </td></tr>\n",
       "\t<tr><th scope=row>Alaska</th><td>10.0</td><td>48  </td></tr>\n",
       "\t<tr><th scope=row>Arizona</th><td> 8.1</td><td>80  </td></tr>\n",
       "\t<tr><th scope=row>Arkansas</th><td> 8.8</td><td>50  </td></tr>\n",
       "\t<tr><th scope=row>California</th><td> 9.0</td><td>91  </td></tr>\n",
       "\t<tr><th scope=row>Colorado</th><td> 7.9</td><td>78  </td></tr>\n",
       "\t<tr><th scope=row>Connecticut</th><td> 3.3</td><td>77  </td></tr>\n",
       "\t<tr><th scope=row>Delaware</th><td> 5.9</td><td>72  </td></tr>\n",
       "\t<tr><th scope=row>Florida</th><td>15.4</td><td>80  </td></tr>\n",
       "\t<tr><th scope=row>Georgia</th><td>17.4</td><td>60  </td></tr>\n",
       "\t<tr><th scope=row>Hawaii</th><td> 5.3</td><td>83  </td></tr>\n",
       "\t<tr><th scope=row>Idaho</th><td> 2.6</td><td>54  </td></tr>\n",
       "\t<tr><th scope=row>Illinois</th><td>10.4</td><td>83  </td></tr>\n",
       "\t<tr><th scope=row>Indiana</th><td> 7.2</td><td>65  </td></tr>\n",
       "\t<tr><th scope=row>Iowa</th><td> 2.2</td><td>57  </td></tr>\n",
       "\t<tr><th scope=row>Kansas</th><td> 6.0</td><td>66  </td></tr>\n",
       "\t<tr><th scope=row>Kentucky</th><td> 9.7</td><td>52  </td></tr>\n",
       "\t<tr><th scope=row>Louisiana</th><td>15.4</td><td>66  </td></tr>\n",
       "\t<tr><th scope=row>Maine</th><td> 2.1</td><td>51  </td></tr>\n",
       "\t<tr><th scope=row>Maryland</th><td>11.3</td><td>67  </td></tr>\n",
       "\t<tr><th scope=row>Massachusetts</th><td> 4.4</td><td>85  </td></tr>\n",
       "\t<tr><th scope=row>Michigan</th><td>12.1</td><td>74  </td></tr>\n",
       "\t<tr><th scope=row>Minnesota</th><td> 2.7</td><td>66  </td></tr>\n",
       "\t<tr><th scope=row>Mississippi</th><td>16.1</td><td>44  </td></tr>\n",
       "\t<tr><th scope=row>Missouri</th><td> 9.0</td><td>70  </td></tr>\n",
       "\t<tr><th scope=row>Montana</th><td> 6.0</td><td>53  </td></tr>\n",
       "\t<tr><th scope=row>Nebraska</th><td> 4.3</td><td>62  </td></tr>\n",
       "\t<tr><th scope=row>Nevada</th><td>12.2</td><td>81  </td></tr>\n",
       "\t<tr><th scope=row>New Hampshire</th><td> 2.1</td><td>56  </td></tr>\n",
       "\t<tr><th scope=row>New Jersey</th><td> 7.4</td><td>89  </td></tr>\n",
       "\t<tr><th scope=row>New Mexico</th><td>11.4</td><td>70  </td></tr>\n",
       "\t<tr><th scope=row>New York</th><td>11.1</td><td>86  </td></tr>\n",
       "\t<tr><th scope=row>North Carolina</th><td>13.0</td><td>45  </td></tr>\n",
       "\t<tr><th scope=row>North Dakota</th><td> 0.8</td><td>44  </td></tr>\n",
       "\t<tr><th scope=row>Ohio</th><td> 7.3</td><td>75  </td></tr>\n",
       "\t<tr><th scope=row>Oklahoma</th><td> 6.6</td><td>68  </td></tr>\n",
       "\t<tr><th scope=row>Oregon</th><td> 4.9</td><td>67  </td></tr>\n",
       "\t<tr><th scope=row>Pennsylvania</th><td> 6.3</td><td>72  </td></tr>\n",
       "\t<tr><th scope=row>Rhode Island</th><td> 3.4</td><td>87  </td></tr>\n",
       "\t<tr><th scope=row>South Carolina</th><td>14.4</td><td>48  </td></tr>\n",
       "\t<tr><th scope=row>South Dakota</th><td> 3.8</td><td>45  </td></tr>\n",
       "\t<tr><th scope=row>Tennessee</th><td>13.2</td><td>59  </td></tr>\n",
       "\t<tr><th scope=row>Texas</th><td>12.7</td><td>80  </td></tr>\n",
       "\t<tr><th scope=row>Utah</th><td> 3.2</td><td>80  </td></tr>\n",
       "\t<tr><th scope=row>Vermont</th><td> 2.2</td><td>32  </td></tr>\n",
       "\t<tr><th scope=row>Virginia</th><td> 8.5</td><td>63  </td></tr>\n",
       "\t<tr><th scope=row>Washington</th><td> 4.0</td><td>73  </td></tr>\n",
       "\t<tr><th scope=row>West Virginia</th><td> 5.7</td><td>39  </td></tr>\n",
       "\t<tr><th scope=row>Wisconsin</th><td> 2.6</td><td>66  </td></tr>\n",
       "\t<tr><th scope=row>Wyoming</th><td> 6.8</td><td>60  </td></tr>\n",
       "</tbody>\n",
       "</table>\n"
      ],
      "text/latex": [
       "\\begin{tabular}{r|ll}\n",
       "  & Murder & UrbanPop\\\\\n",
       "\\hline\n",
       "\tAlabama & 13.2 & 58  \\\\\n",
       "\tAlaska & 10.0 & 48  \\\\\n",
       "\tArizona &  8.1 & 80  \\\\\n",
       "\tArkansas &  8.8 & 50  \\\\\n",
       "\tCalifornia &  9.0 & 91  \\\\\n",
       "\tColorado &  7.9 & 78  \\\\\n",
       "\tConnecticut &  3.3 & 77  \\\\\n",
       "\tDelaware &  5.9 & 72  \\\\\n",
       "\tFlorida & 15.4 & 80  \\\\\n",
       "\tGeorgia & 17.4 & 60  \\\\\n",
       "\tHawaii &  5.3 & 83  \\\\\n",
       "\tIdaho &  2.6 & 54  \\\\\n",
       "\tIllinois & 10.4 & 83  \\\\\n",
       "\tIndiana &  7.2 & 65  \\\\\n",
       "\tIowa &  2.2 & 57  \\\\\n",
       "\tKansas &  6.0 & 66  \\\\\n",
       "\tKentucky &  9.7 & 52  \\\\\n",
       "\tLouisiana & 15.4 & 66  \\\\\n",
       "\tMaine &  2.1 & 51  \\\\\n",
       "\tMaryland & 11.3 & 67  \\\\\n",
       "\tMassachusetts &  4.4 & 85  \\\\\n",
       "\tMichigan & 12.1 & 74  \\\\\n",
       "\tMinnesota &  2.7 & 66  \\\\\n",
       "\tMississippi & 16.1 & 44  \\\\\n",
       "\tMissouri &  9.0 & 70  \\\\\n",
       "\tMontana &  6.0 & 53  \\\\\n",
       "\tNebraska &  4.3 & 62  \\\\\n",
       "\tNevada & 12.2 & 81  \\\\\n",
       "\tNew Hampshire &  2.1 & 56  \\\\\n",
       "\tNew Jersey &  7.4 & 89  \\\\\n",
       "\tNew Mexico & 11.4 & 70  \\\\\n",
       "\tNew York & 11.1 & 86  \\\\\n",
       "\tNorth Carolina & 13.0 & 45  \\\\\n",
       "\tNorth Dakota &  0.8 & 44  \\\\\n",
       "\tOhio &  7.3 & 75  \\\\\n",
       "\tOklahoma &  6.6 & 68  \\\\\n",
       "\tOregon &  4.9 & 67  \\\\\n",
       "\tPennsylvania &  6.3 & 72  \\\\\n",
       "\tRhode Island &  3.4 & 87  \\\\\n",
       "\tSouth Carolina & 14.4 & 48  \\\\\n",
       "\tSouth Dakota &  3.8 & 45  \\\\\n",
       "\tTennessee & 13.2 & 59  \\\\\n",
       "\tTexas & 12.7 & 80  \\\\\n",
       "\tUtah &  3.2 & 80  \\\\\n",
       "\tVermont &  2.2 & 32  \\\\\n",
       "\tVirginia &  8.5 & 63  \\\\\n",
       "\tWashington &  4.0 & 73  \\\\\n",
       "\tWest Virginia &  5.7 & 39  \\\\\n",
       "\tWisconsin &  2.6 & 66  \\\\\n",
       "\tWyoming &  6.8 & 60  \\\\\n",
       "\\end{tabular}\n"
      ],
      "text/markdown": [
       "\n",
       "| <!--/--> | Murder | UrbanPop |\n",
       "|---|---|---|\n",
       "| Alabama | 13.2 | 58   |\n",
       "| Alaska | 10.0 | 48   |\n",
       "| Arizona |  8.1 | 80   |\n",
       "| Arkansas |  8.8 | 50   |\n",
       "| California |  9.0 | 91   |\n",
       "| Colorado |  7.9 | 78   |\n",
       "| Connecticut |  3.3 | 77   |\n",
       "| Delaware |  5.9 | 72   |\n",
       "| Florida | 15.4 | 80   |\n",
       "| Georgia | 17.4 | 60   |\n",
       "| Hawaii |  5.3 | 83   |\n",
       "| Idaho |  2.6 | 54   |\n",
       "| Illinois | 10.4 | 83   |\n",
       "| Indiana |  7.2 | 65   |\n",
       "| Iowa |  2.2 | 57   |\n",
       "| Kansas |  6.0 | 66   |\n",
       "| Kentucky |  9.7 | 52   |\n",
       "| Louisiana | 15.4 | 66   |\n",
       "| Maine |  2.1 | 51   |\n",
       "| Maryland | 11.3 | 67   |\n",
       "| Massachusetts |  4.4 | 85   |\n",
       "| Michigan | 12.1 | 74   |\n",
       "| Minnesota |  2.7 | 66   |\n",
       "| Mississippi | 16.1 | 44   |\n",
       "| Missouri |  9.0 | 70   |\n",
       "| Montana |  6.0 | 53   |\n",
       "| Nebraska |  4.3 | 62   |\n",
       "| Nevada | 12.2 | 81   |\n",
       "| New Hampshire |  2.1 | 56   |\n",
       "| New Jersey |  7.4 | 89   |\n",
       "| New Mexico | 11.4 | 70   |\n",
       "| New York | 11.1 | 86   |\n",
       "| North Carolina | 13.0 | 45   |\n",
       "| North Dakota |  0.8 | 44   |\n",
       "| Ohio |  7.3 | 75   |\n",
       "| Oklahoma |  6.6 | 68   |\n",
       "| Oregon |  4.9 | 67   |\n",
       "| Pennsylvania |  6.3 | 72   |\n",
       "| Rhode Island |  3.4 | 87   |\n",
       "| South Carolina | 14.4 | 48   |\n",
       "| South Dakota |  3.8 | 45   |\n",
       "| Tennessee | 13.2 | 59   |\n",
       "| Texas | 12.7 | 80   |\n",
       "| Utah |  3.2 | 80   |\n",
       "| Vermont |  2.2 | 32   |\n",
       "| Virginia |  8.5 | 63   |\n",
       "| Washington |  4.0 | 73   |\n",
       "| West Virginia |  5.7 | 39   |\n",
       "| Wisconsin |  2.6 | 66   |\n",
       "| Wyoming |  6.8 | 60   |\n",
       "\n"
      ],
      "text/plain": [
       "               Murder UrbanPop\n",
       "Alabama        13.2   58      \n",
       "Alaska         10.0   48      \n",
       "Arizona         8.1   80      \n",
       "Arkansas        8.8   50      \n",
       "California      9.0   91      \n",
       "Colorado        7.9   78      \n",
       "Connecticut     3.3   77      \n",
       "Delaware        5.9   72      \n",
       "Florida        15.4   80      \n",
       "Georgia        17.4   60      \n",
       "Hawaii          5.3   83      \n",
       "Idaho           2.6   54      \n",
       "Illinois       10.4   83      \n",
       "Indiana         7.2   65      \n",
       "Iowa            2.2   57      \n",
       "Kansas          6.0   66      \n",
       "Kentucky        9.7   52      \n",
       "Louisiana      15.4   66      \n",
       "Maine           2.1   51      \n",
       "Maryland       11.3   67      \n",
       "Massachusetts   4.4   85      \n",
       "Michigan       12.1   74      \n",
       "Minnesota       2.7   66      \n",
       "Mississippi    16.1   44      \n",
       "Missouri        9.0   70      \n",
       "Montana         6.0   53      \n",
       "Nebraska        4.3   62      \n",
       "Nevada         12.2   81      \n",
       "New Hampshire   2.1   56      \n",
       "New Jersey      7.4   89      \n",
       "New Mexico     11.4   70      \n",
       "New York       11.1   86      \n",
       "North Carolina 13.0   45      \n",
       "North Dakota    0.8   44      \n",
       "Ohio            7.3   75      \n",
       "Oklahoma        6.6   68      \n",
       "Oregon          4.9   67      \n",
       "Pennsylvania    6.3   72      \n",
       "Rhode Island    3.4   87      \n",
       "South Carolina 14.4   48      \n",
       "South Dakota    3.8   45      \n",
       "Tennessee      13.2   59      \n",
       "Texas          12.7   80      \n",
       "Utah            3.2   80      \n",
       "Vermont         2.2   32      \n",
       "Virginia        8.5   63      \n",
       "Washington      4.0   73      \n",
       "West Virginia   5.7   39      \n",
       "Wisconsin       2.6   66      \n",
       "Wyoming         6.8   60      "
      ]
     },
     "metadata": {},
     "output_type": "display_data"
    }
   ],
   "source": [
    "#Extract the first and third columns together\n",
    "USArrests[c(1,3)]"
   ]
  },
  {
   "cell_type": "markdown",
   "id": "7894a4a6",
   "metadata": {},
   "source": [
    "### Importing data into R"
   ]
  },
  {
   "cell_type": "markdown",
   "id": "b929120c",
   "metadata": {},
   "source": [
    "\n",
    "It is also really helpful to be able to load your own data into R. For example you may do an experiment and input all the data into an excel spreadsheet. Rather than retyping your data into R to make graphs and conduct statistical analyses it would be much easier if you could simply import that data. Let’s have a go at doing that.\n",
    "\n",
    "Open Excel and create a dataset something like the following. \n",
    "\n",
    "When you are done creating the dataset, click ‘File’ ‘Save As’, then change the ‘Save as type:’ to ‘CSV (comma delimited)’. Call your dataset “plants” and save it to the same folder where you store your R script. Some recent versions of Microsoft can make this step a little confusing, and we can help you with it.\n",
    "\n",
    "There will be a couple of warning messages associated with saving in this format. Click yes to both of these.\n"
   ]
  },
  {
   "cell_type": "markdown",
   "id": "c6a50405",
   "metadata": {},
   "source": [
    "To import the data into R click on the ‘Session’ menu then ‘Set Working Directory’ then ‘Choose Directory’. Then select the folder where your data is kept. This tells R what directory you want it to work from. \n",
    "\n",
    "To import data you can use the ‘read.csv’ command, and it is always good to make your data an object.\n"
   ]
  },
  {
   "cell_type": "code",
   "execution_count": 28,
   "id": "354491e4",
   "metadata": {},
   "outputs": [],
   "source": [
    "setwd('h:/')"
   ]
  },
  {
   "cell_type": "code",
   "execution_count": 29,
   "id": "f6b59d9b",
   "metadata": {
    "scrolled": true
   },
   "outputs": [
    {
     "data": {
      "text/html": [
       "<table>\n",
       "<thead><tr><th scope=col>ï..Date</th><th scope=col>National.Blast.Furnace.Capacity.Utilisation..247.Mills</th><th scope=col>National.Blast.Furnace.Operating.Rate..247.Mills</th><th scope=col>National.Daily.Avg..Pig.Iron.Output..247.Mills</th><th scope=col>National.Steel.Mill.Profitability..247.Mills</th><th scope=col>Date</th><th scope=col>Iron.Ore.Stock.at.45.ports..OffTake.Volume</th><th scope=col>Date.1</th><th scope=col>Iron.Ore.Portside.Trading.Volume...Traders..Total..Ten.Thousand.Tons</th><th scope=col>Date.2</th><th scope=col>...</th><th scope=col>Finished.Steel.Total.MIll.Inventory</th><th scope=col>Finished.Steel.Total.Inventory</th><th scope=col>Date.9</th><th scope=col>HRC.Margin</th><th scope=col>Rebar.Margin</th><th scope=col>Billet.Margin</th><th scope=col>Date.10</th><th scope=col>Imported.Iron.Ore.Inventory.Days..64.mill.survey.</th><th scope=col>Scrap.Days.of.Consumption..91.mills</th><th scope=col>Total.Imported.Iron.Ore.Inventories..247.Mills</th></tr></thead>\n",
       "<tbody>\n",
       "\t<tr><td>8/3/2012  </td><td>70.24     </td><td> 93.67    </td><td>196.45    </td><td>23.10     </td><td>12/25/2015</td><td>255.0     </td><td>3/21/2014 </td><td>192.90    </td><td>4/8/2021  </td><td>...       </td><td>NA        </td><td>NA        </td><td>4/1/2011  </td><td>  68      </td><td> 280      </td><td>  NA      </td><td>1/5/2018  </td><td>29        </td><td>NA        </td><td>NA        </td></tr>\n",
       "\t<tr><td>8/10/2012 </td><td>69.68     </td><td> 91.84    </td><td>194.87    </td><td>18.70     </td><td>1/1/2016  </td><td>264.0     </td><td>3/28/2014 </td><td>260.20    </td><td>4/15/2021 </td><td>...       </td><td>NA        </td><td>NA        </td><td>4/2/2011  </td><td>  99      </td><td> 294      </td><td>  NA      </td><td>1/12/2018 </td><td>NA        </td><td>NA        </td><td>NA        </td></tr>\n",
       "\t<tr><td>8/17/2012 </td><td>69.62     </td><td> 91.42    </td><td>194.70    </td><td>16.05     </td><td>1/8/2016  </td><td>254.0     </td><td>4/4/2014  </td><td>188.50    </td><td>4/22/2021 </td><td>...       </td><td>NA        </td><td>NA        </td><td>4/4/2011  </td><td>  72      </td><td> 267      </td><td>  NA      </td><td>1/19/2018 </td><td>34        </td><td>NA        </td><td>NA        </td></tr>\n",
       "\t<tr><td>8/24/2012 </td><td>69.33     </td><td> 91.42    </td><td>193.89    </td><td>13.50     </td><td>1/15/2016 </td><td>258.0     </td><td>4/11/2014 </td><td>181.90    </td><td>4/29/2021 </td><td>...       </td><td>NA        </td><td>NA        </td><td>4/5/2011  </td><td>  69      </td><td> 264      </td><td>  NA      </td><td>1/26/2018 </td><td>NA        </td><td>NA        </td><td>NA        </td></tr>\n",
       "\t<tr><td>8/31/2012 </td><td>69.10     </td><td> 91.28    </td><td>193.25    </td><td>14.11     </td><td>1/22/2016 </td><td>256.0     </td><td>4/18/2014 </td><td>156.50    </td><td>5/6/2021  </td><td>...       </td><td>NA        </td><td>NA        </td><td>4/6/2011  </td><td>  55      </td><td> 250      </td><td>  NA      </td><td>2/2/2018  </td><td>35        </td><td>NA        </td><td>NA        </td></tr>\n",
       "\t<tr><td>9/7/2012  </td><td>69.51     </td><td> 92.83    </td><td>194.39    </td><td>16.46     </td><td>1/29/2016 </td><td>245.0     </td><td>4/25/2014 </td><td>204.50    </td><td>5/13/2021 </td><td>...       </td><td>NA        </td><td>NA        </td><td>4/7/2011  </td><td>  84      </td><td> 270      </td><td>  NA      </td><td>2/9/2018  </td><td>NA        </td><td>NA        </td><td>NA        </td></tr>\n",
       "\t<tr><td>9/14/2012 </td><td>69.75     </td><td> 93.67    </td><td>195.06    </td><td>21.34     </td><td>2/5/2016  </td><td>278.0     </td><td>5/2/2014  </td><td>173.40    </td><td>5/20/2021 </td><td>...       </td><td>NA        </td><td>NA        </td><td>4/8/2011  </td><td> 136      </td><td> 271      </td><td>  NA      </td><td>2/23/2018 </td><td>27        </td><td>NA        </td><td>NA        </td></tr>\n",
       "\t<tr><td>9/21/2012 </td><td>69.49     </td><td> 94.52    </td><td>194.33    </td><td>30.07     </td><td>2/19/2016 </td><td>235.0     </td><td>5/9/2014  </td><td>205.00    </td><td>5/27/2021 </td><td>...       </td><td>NA        </td><td>NA        </td><td>4/11/2011 </td><td> 158      </td><td> 284      </td><td>  NA      </td><td>3/2/2018  </td><td>NA        </td><td>NA        </td><td>NA        </td></tr>\n",
       "\t<tr><td>9/28/2012 </td><td>68.86     </td><td> 93.53    </td><td>192.59    </td><td>39.88     </td><td>2/26/2016 </td><td>269.0     </td><td>5/16/2014 </td><td> 48.84    </td><td>6/3/2021  </td><td>...       </td><td>NA        </td><td>NA        </td><td>4/12/2011 </td><td> 157      </td><td> 300      </td><td>  NA      </td><td>3/9/2018  </td><td>28        </td><td>NA        </td><td>NA        </td></tr>\n",
       "\t<tr><td>10/12/2012</td><td>69.71     </td><td> 94.94    </td><td>194.95    </td><td>55.21     </td><td>3/4/2016  </td><td>261.0     </td><td>5/23/2014 </td><td> 56.04    </td><td>6/10/2021 </td><td>...       </td><td>NA        </td><td>NA        </td><td>4/13/2011 </td><td> 141      </td><td> 302      </td><td>  NA      </td><td>3/16/2018 </td><td>NA        </td><td>NA        </td><td>NA        </td></tr>\n",
       "\t<tr><td>10/19/2012</td><td>69.84     </td><td> 95.08    </td><td>195.31    </td><td>89.51     </td><td>3/11/2016 </td><td>272.0     </td><td>5/30/2014 </td><td> 40.22    </td><td>6/17/2021 </td><td>...       </td><td>NA        </td><td>NA        </td><td>4/14/2011 </td><td> 159      </td><td> 319      </td><td>  NA      </td><td>3/23/2018 </td><td>30        </td><td>NA        </td><td>NA        </td></tr>\n",
       "\t<tr><td>10/26/2012</td><td>70.70     </td><td> 96.07    </td><td>197.72    </td><td>92.59     </td><td>3/18/2016 </td><td>261.8     </td><td>6/6/2014  </td><td> 58.30    </td><td>6/24/2021 </td><td>...       </td><td>NA        </td><td>NA        </td><td>4/15/2011 </td><td> 159      </td><td> 320      </td><td>  NA      </td><td>3/30/2018 </td><td>NA        </td><td>NA        </td><td>NA        </td></tr>\n",
       "\t<tr><td>11/2/2012 </td><td>70.79     </td><td> 96.34    </td><td>197.99    </td><td>92.59     </td><td>3/25/2016 </td><td>260.6     </td><td>6/13/2014 </td><td> 45.02    </td><td>7/1/2021  </td><td>...       </td><td>NA        </td><td>NA        </td><td>4/18/2011 </td><td> 156      </td><td> 351      </td><td>  NA      </td><td>4/6/2018  </td><td>31        </td><td>NA        </td><td>NA        </td></tr>\n",
       "\t<tr><td>11/9/2012 </td><td>70.65     </td><td> 96.48    </td><td>197.57    </td><td>92.59     </td><td>4/1/2016  </td><td>252.0     </td><td>6/20/2014 </td><td> 54.50    </td><td>7/8/2021  </td><td>...       </td><td>NA        </td><td>NA        </td><td>4/19/2011 </td><td> 157      </td><td> 335      </td><td>  NA      </td><td>4/13/2018 </td><td>NA        </td><td>NA        </td><td>NA        </td></tr>\n",
       "\t<tr><td>11/16/2012</td><td>71.13     </td><td> 97.04    </td><td>198.92    </td><td>92.59     </td><td>4/8/2016  </td><td>255.0     </td><td>6/27/2014 </td><td> 49.86    </td><td>7/15/2021 </td><td>...       </td><td>NA        </td><td>NA        </td><td>4/20/2011 </td><td> 166      </td><td> 344      </td><td>  NA      </td><td>4/20/2018 </td><td>31        </td><td>NA        </td><td>NA        </td></tr>\n",
       "\t<tr><td>11/23/2012</td><td>71.78     </td><td> 97.47    </td><td>200.75    </td><td>92.59     </td><td>4/15/2016 </td><td>271.0     </td><td>7/4/2014  </td><td> 37.82    </td><td>7/22/2021 </td><td>...       </td><td>NA        </td><td>NA        </td><td>4/21/2011 </td><td> 189      </td><td> 350      </td><td>  NA      </td><td>4/27/2018 </td><td>NA        </td><td>NA        </td><td>NA        </td></tr>\n",
       "\t<tr><td>11/30/2012</td><td>71.87     </td><td> 97.75    </td><td>201.00    </td><td>92.59     </td><td>4/22/2016 </td><td>279.0     </td><td>7/11/2014 </td><td> 44.00    </td><td>7/29/2021 </td><td>...       </td><td>NA        </td><td>NA        </td><td>4/22/2011 </td><td>1395      </td><td>1556      </td><td>  NA      </td><td>5/4/2018  </td><td>29        </td><td>NA        </td><td>NA        </td></tr>\n",
       "\t<tr><td>12/7/2012 </td><td>71.66     </td><td> 97.33    </td><td>200.42    </td><td>91.17     </td><td>4/29/2016 </td><td>263.5     </td><td>7/18/2014 </td><td> 39.62    </td><td>8/5/2021  </td><td>...       </td><td>NA        </td><td>NA        </td><td>4/25/2011 </td><td> 221      </td><td> 373      </td><td>  NA      </td><td>5/11/2018 </td><td>NA        </td><td>NA        </td><td>NA        </td></tr>\n",
       "\t<tr><td>12/14/2012</td><td>71.72     </td><td> 97.47    </td><td>200.58    </td><td>91.23     </td><td>5/6/2016  </td><td>255.7     </td><td>7/25/2014 </td><td> 40.90    </td><td>8/12/2021 </td><td>...       </td><td>NA        </td><td>NA        </td><td>4/26/2011 </td><td> 221      </td><td> 390      </td><td>  NA      </td><td>5/18/2018 </td><td>28        </td><td>NA        </td><td>NA        </td></tr>\n",
       "\t<tr><td>12/21/2012</td><td>71.72     </td><td> 97.47    </td><td>200.56    </td><td>91.23     </td><td>5/13/2016 </td><td>264.2     </td><td>8/1/2014  </td><td> 43.22    </td><td>8/19/2021 </td><td>...       </td><td>NA        </td><td>NA        </td><td>4/27/2011 </td><td> 207      </td><td> 377      </td><td> 275      </td><td>5/25/2018 </td><td>NA        </td><td>NA        </td><td>NA        </td></tr>\n",
       "\t<tr><td>12/28/2012</td><td>72.94     </td><td> 98.03    </td><td>204.00    </td><td>75.93     </td><td>5/20/2016 </td><td>270.1     </td><td>8/8/2014  </td><td> 47.66    </td><td>8/26/2021 </td><td>...       </td><td>NA        </td><td>NA        </td><td>4/28/2011 </td><td> 197      </td><td> 392      </td><td> 265      </td><td>6/1/2018  </td><td>31        </td><td>NA        </td><td>NA        </td></tr>\n",
       "\t<tr><td>1/11/2013 </td><td>74.73     </td><td>100.43    </td><td>209.00    </td><td>44.79     </td><td>5/27/2016 </td><td>265.5     </td><td>8/15/2014 </td><td> 34.96    </td><td>9/2/2021  </td><td>...       </td><td>NA        </td><td>NA        </td><td>4/29/2011 </td><td> 198      </td><td> 393      </td><td> 249      </td><td>6/8/2018  </td><td>NA        </td><td>NA        </td><td>NA        </td></tr>\n",
       "\t<tr><td>1/18/2013 </td><td>75.86     </td><td>100.87    </td><td>212.14    </td><td>44.17     </td><td>6/3/2016  </td><td>259.8     </td><td>8/22/2014 </td><td> 33.34    </td><td>9/9/2021  </td><td>...       </td><td>NA        </td><td>NA        </td><td>5/2/2011  </td><td>1416      </td><td>1611      </td><td>1467      </td><td>6/15/2018 </td><td>30        </td><td>NA        </td><td>NA        </td></tr>\n",
       "\t<tr><td>1/25/2013 </td><td>76.23     </td><td>101.01    </td><td>213.19    </td><td>52.76     </td><td>6/10/2016 </td><td>261.7     </td><td>8/29/2014 </td><td> 30.50    </td><td>9/16/2021 </td><td>...       </td><td>NA        </td><td>NA        </td><td>5/3/2011  </td><td> 215      </td><td> 444      </td><td> 249      </td><td>6/22/2018 </td><td>NA        </td><td>NA        </td><td>NA        </td></tr>\n",
       "\t<tr><td>2/1/2013  </td><td>75.97     </td><td>100.43    </td><td>212.47    </td><td>55.83     </td><td>6/17/2016 </td><td>239.6     </td><td>9/5/2014  </td><td> 29.26    </td><td>9/23/2021 </td><td>...       </td><td>NA        </td><td>NA        </td><td>5/4/2011  </td><td> 193      </td><td> 440      </td><td> 244      </td><td>6/29/2018 </td><td>29        </td><td>NA        </td><td>NA        </td></tr>\n",
       "\t<tr><td>2/22/2013 </td><td>76.02     </td><td>100.43    </td><td>212.60    </td><td>43.56     </td><td>6/24/2016 </td><td>255.4     </td><td>9/12/2014 </td><td> 37.86    </td><td>9/30/2021 </td><td>...       </td><td>NA        </td><td>NA        </td><td>5/5/2011  </td><td> 178      </td><td> 441      </td><td> 220      </td><td>7/6/2018  </td><td>NA        </td><td>NA        </td><td>NA        </td></tr>\n",
       "\t<tr><td>3/1/2013  </td><td>75.90     </td><td>100.01    </td><td>212.27    </td><td>38.65     </td><td>7/1/2016  </td><td>266.4     </td><td>9/19/2014 </td><td> 32.10    </td><td>10/8/2021 </td><td>...       </td><td>NA        </td><td>NA        </td><td>5/6/2011  </td><td> 167      </td><td> 456      </td><td> 227      </td><td>7/13/2018 </td><td>26        </td><td>NA        </td><td>NA        </td></tr>\n",
       "\t<tr><td>3/8/2013  </td><td>75.80     </td><td>100.01    </td><td>211.99    </td><td>33.13     </td><td>7/8/2016  </td><td>255.0     </td><td>9/26/2014 </td><td> 30.21    </td><td>10/14/2021</td><td>...       </td><td>NA        </td><td>NA        </td><td>5/9/2011  </td><td> 180      </td><td> 461      </td><td> 223      </td><td>7/20/2018 </td><td>NA        </td><td>NA        </td><td>NA        </td></tr>\n",
       "\t<tr><td>3/15/2013 </td><td>75.07     </td><td> 98.57    </td><td>209.94    </td><td>13.50     </td><td>7/15/2016 </td><td>267.5     </td><td>10/10/2014</td><td> 49.24    </td><td>10/21/2021</td><td>...       </td><td>NA        </td><td>NA        </td><td>5/10/2011 </td><td> 198      </td><td> 462      </td><td> 240      </td><td>7/27/2018 </td><td>34        </td><td>NA        </td><td>NA        </td></tr>\n",
       "\t<tr><td>3/22/2013 </td><td>75.01     </td><td> 98.28    </td><td>209.79    </td><td>13.50     </td><td>7/22/2016 </td><td>258.8     </td><td>10/17/2014</td><td> 43.22    </td><td>10/28/2021</td><td>...       </td><td>NA        </td><td>NA        </td><td>5/11/2011 </td><td> 192      </td><td> 455      </td><td> 234      </td><td>8/3/2018  </td><td>NA        </td><td>NA        </td><td>NA        </td></tr>\n",
       "\t<tr><td>...</td><td>...</td><td>...</td><td>...</td><td>...</td><td>...</td><td>...</td><td>...</td><td>...</td><td>...</td><td>   </td><td>...</td><td>...</td><td>...</td><td>...</td><td>...</td><td>...</td><td>...</td><td>...</td><td>...</td><td>...</td></tr>\n",
       "\t<tr><td>   </td><td>NA </td><td>NA </td><td>NA </td><td>NA </td><td>   </td><td>NA </td><td>   </td><td>NA </td><td>   </td><td>...</td><td>NA </td><td>NA </td><td>   </td><td>NA </td><td>NA </td><td>NA </td><td>   </td><td>NA </td><td>NA </td><td>NA </td></tr>\n",
       "\t<tr><td>   </td><td>NA </td><td>NA </td><td>NA </td><td>NA </td><td>   </td><td>NA </td><td>   </td><td>NA </td><td>   </td><td>...</td><td>NA </td><td>NA </td><td>   </td><td>NA </td><td>NA </td><td>NA </td><td>   </td><td>NA </td><td>NA </td><td>NA </td></tr>\n",
       "\t<tr><td>   </td><td>NA </td><td>NA </td><td>NA </td><td>NA </td><td>   </td><td>NA </td><td>   </td><td>NA </td><td>   </td><td>...</td><td>NA </td><td>NA </td><td>   </td><td>NA </td><td>NA </td><td>NA </td><td>   </td><td>NA </td><td>NA </td><td>NA </td></tr>\n",
       "\t<tr><td>   </td><td>NA </td><td>NA </td><td>NA </td><td>NA </td><td>   </td><td>NA </td><td>   </td><td>NA </td><td>   </td><td>...</td><td>NA </td><td>NA </td><td>   </td><td>NA </td><td>NA </td><td>NA </td><td>   </td><td>NA </td><td>NA </td><td>NA </td></tr>\n",
       "\t<tr><td>   </td><td>NA </td><td>NA </td><td>NA </td><td>NA </td><td>   </td><td>NA </td><td>   </td><td>NA </td><td>   </td><td>...</td><td>NA </td><td>NA </td><td>   </td><td>NA </td><td>NA </td><td>NA </td><td>   </td><td>NA </td><td>NA </td><td>NA </td></tr>\n",
       "\t<tr><td>   </td><td>NA </td><td>NA </td><td>NA </td><td>NA </td><td>   </td><td>NA </td><td>   </td><td>NA </td><td>   </td><td>...</td><td>NA </td><td>NA </td><td>   </td><td>NA </td><td>NA </td><td>NA </td><td>   </td><td>NA </td><td>NA </td><td>NA </td></tr>\n",
       "\t<tr><td>   </td><td>NA </td><td>NA </td><td>NA </td><td>NA </td><td>   </td><td>NA </td><td>   </td><td>NA </td><td>   </td><td>...</td><td>NA </td><td>NA </td><td>   </td><td>NA </td><td>NA </td><td>NA </td><td>   </td><td>NA </td><td>NA </td><td>NA </td></tr>\n",
       "\t<tr><td>   </td><td>NA </td><td>NA </td><td>NA </td><td>NA </td><td>   </td><td>NA </td><td>   </td><td>NA </td><td>   </td><td>...</td><td>NA </td><td>NA </td><td>   </td><td>NA </td><td>NA </td><td>NA </td><td>   </td><td>NA </td><td>NA </td><td>NA </td></tr>\n",
       "\t<tr><td>   </td><td>NA </td><td>NA </td><td>NA </td><td>NA </td><td>   </td><td>NA </td><td>   </td><td>NA </td><td>   </td><td>...</td><td>NA </td><td>NA </td><td>   </td><td>NA </td><td>NA </td><td>NA </td><td>   </td><td>NA </td><td>NA </td><td>NA </td></tr>\n",
       "\t<tr><td>   </td><td>NA </td><td>NA </td><td>NA </td><td>NA </td><td>   </td><td>NA </td><td>   </td><td>NA </td><td>   </td><td>...</td><td>NA </td><td>NA </td><td>   </td><td>NA </td><td>NA </td><td>NA </td><td>   </td><td>NA </td><td>NA </td><td>NA </td></tr>\n",
       "\t<tr><td>   </td><td>NA </td><td>NA </td><td>NA </td><td>NA </td><td>   </td><td>NA </td><td>   </td><td>NA </td><td>   </td><td>...</td><td>NA </td><td>NA </td><td>   </td><td>NA </td><td>NA </td><td>NA </td><td>   </td><td>NA </td><td>NA </td><td>NA </td></tr>\n",
       "\t<tr><td>   </td><td>NA </td><td>NA </td><td>NA </td><td>NA </td><td>   </td><td>NA </td><td>   </td><td>NA </td><td>   </td><td>...</td><td>NA </td><td>NA </td><td>   </td><td>NA </td><td>NA </td><td>NA </td><td>   </td><td>NA </td><td>NA </td><td>NA </td></tr>\n",
       "\t<tr><td>   </td><td>NA </td><td>NA </td><td>NA </td><td>NA </td><td>   </td><td>NA </td><td>   </td><td>NA </td><td>   </td><td>...</td><td>NA </td><td>NA </td><td>   </td><td>NA </td><td>NA </td><td>NA </td><td>   </td><td>NA </td><td>NA </td><td>NA </td></tr>\n",
       "\t<tr><td>   </td><td>NA </td><td>NA </td><td>NA </td><td>NA </td><td>   </td><td>NA </td><td>   </td><td>NA </td><td>   </td><td>...</td><td>NA </td><td>NA </td><td>   </td><td>NA </td><td>NA </td><td>NA </td><td>   </td><td>NA </td><td>NA </td><td>NA </td></tr>\n",
       "\t<tr><td>   </td><td>NA </td><td>NA </td><td>NA </td><td>NA </td><td>   </td><td>NA </td><td>   </td><td>NA </td><td>   </td><td>...</td><td>NA </td><td>NA </td><td>   </td><td>NA </td><td>NA </td><td>NA </td><td>   </td><td>NA </td><td>NA </td><td>NA </td></tr>\n",
       "\t<tr><td>   </td><td>NA </td><td>NA </td><td>NA </td><td>NA </td><td>   </td><td>NA </td><td>   </td><td>NA </td><td>   </td><td>...</td><td>NA </td><td>NA </td><td>   </td><td>NA </td><td>NA </td><td>NA </td><td>   </td><td>NA </td><td>NA </td><td>NA </td></tr>\n",
       "\t<tr><td>   </td><td>NA </td><td>NA </td><td>NA </td><td>NA </td><td>   </td><td>NA </td><td>   </td><td>NA </td><td>   </td><td>...</td><td>NA </td><td>NA </td><td>   </td><td>NA </td><td>NA </td><td>NA </td><td>   </td><td>NA </td><td>NA </td><td>NA </td></tr>\n",
       "\t<tr><td>   </td><td>NA </td><td>NA </td><td>NA </td><td>NA </td><td>   </td><td>NA </td><td>   </td><td>NA </td><td>   </td><td>...</td><td>NA </td><td>NA </td><td>   </td><td>NA </td><td>NA </td><td>NA </td><td>   </td><td>NA </td><td>NA </td><td>NA </td></tr>\n",
       "\t<tr><td>   </td><td>NA </td><td>NA </td><td>NA </td><td>NA </td><td>   </td><td>NA </td><td>   </td><td>NA </td><td>   </td><td>...</td><td>NA </td><td>NA </td><td>   </td><td>NA </td><td>NA </td><td>NA </td><td>   </td><td>NA </td><td>NA </td><td>NA </td></tr>\n",
       "\t<tr><td>   </td><td>NA </td><td>NA </td><td>NA </td><td>NA </td><td>   </td><td>NA </td><td>   </td><td>NA </td><td>   </td><td>...</td><td>NA </td><td>NA </td><td>   </td><td>NA </td><td>NA </td><td>NA </td><td>   </td><td>NA </td><td>NA </td><td>NA </td></tr>\n",
       "\t<tr><td>   </td><td>NA </td><td>NA </td><td>NA </td><td>NA </td><td>   </td><td>NA </td><td>   </td><td>NA </td><td>   </td><td>...</td><td>NA </td><td>NA </td><td>   </td><td>NA </td><td>NA </td><td>NA </td><td>   </td><td>NA </td><td>NA </td><td>NA </td></tr>\n",
       "\t<tr><td>   </td><td>NA </td><td>NA </td><td>NA </td><td>NA </td><td>   </td><td>NA </td><td>   </td><td>NA </td><td>   </td><td>...</td><td>NA </td><td>NA </td><td>   </td><td>NA </td><td>NA </td><td>NA </td><td>   </td><td>NA </td><td>NA </td><td>NA </td></tr>\n",
       "\t<tr><td>   </td><td>NA </td><td>NA </td><td>NA </td><td>NA </td><td>   </td><td>NA </td><td>   </td><td>NA </td><td>   </td><td>...</td><td>NA </td><td>NA </td><td>   </td><td>NA </td><td>NA </td><td>NA </td><td>   </td><td>NA </td><td>NA </td><td>NA </td></tr>\n",
       "\t<tr><td>   </td><td>NA </td><td>NA </td><td>NA </td><td>NA </td><td>   </td><td>NA </td><td>   </td><td>NA </td><td>   </td><td>...</td><td>NA </td><td>NA </td><td>   </td><td>NA </td><td>NA </td><td>NA </td><td>   </td><td>NA </td><td>NA </td><td>NA </td></tr>\n",
       "\t<tr><td>   </td><td>NA </td><td>NA </td><td>NA </td><td>NA </td><td>   </td><td>NA </td><td>   </td><td>NA </td><td>   </td><td>...</td><td>NA </td><td>NA </td><td>   </td><td>NA </td><td>NA </td><td>NA </td><td>   </td><td>NA </td><td>NA </td><td>NA </td></tr>\n",
       "\t<tr><td>   </td><td>NA </td><td>NA </td><td>NA </td><td>NA </td><td>   </td><td>NA </td><td>   </td><td>NA </td><td>   </td><td>...</td><td>NA </td><td>NA </td><td>   </td><td>NA </td><td>NA </td><td>NA </td><td>   </td><td>NA </td><td>NA </td><td>NA </td></tr>\n",
       "\t<tr><td>   </td><td>NA </td><td>NA </td><td>NA </td><td>NA </td><td>   </td><td>NA </td><td>   </td><td>NA </td><td>   </td><td>...</td><td>NA </td><td>NA </td><td>   </td><td>NA </td><td>NA </td><td>NA </td><td>   </td><td>NA </td><td>NA </td><td>NA </td></tr>\n",
       "\t<tr><td>   </td><td>NA </td><td>NA </td><td>NA </td><td>NA </td><td>   </td><td>NA </td><td>   </td><td>NA </td><td>   </td><td>...</td><td>NA </td><td>NA </td><td>   </td><td>NA </td><td>NA </td><td>NA </td><td>   </td><td>NA </td><td>NA </td><td>NA </td></tr>\n",
       "\t<tr><td>   </td><td>NA </td><td>NA </td><td>NA </td><td>NA </td><td>   </td><td>NA </td><td>   </td><td>NA </td><td>   </td><td>...</td><td>NA </td><td>NA </td><td>   </td><td>NA </td><td>NA </td><td>NA </td><td>   </td><td>NA </td><td>NA </td><td>NA </td></tr>\n",
       "\t<tr><td>   </td><td>NA </td><td>NA </td><td>NA </td><td>NA </td><td>   </td><td>NA </td><td>   </td><td>NA </td><td>   </td><td>...</td><td>NA </td><td>NA </td><td>   </td><td>NA </td><td>NA </td><td>NA </td><td>   </td><td>NA </td><td>NA </td><td>NA </td></tr>\n",
       "</tbody>\n",
       "</table>\n"
      ],
      "text/latex": [
       "\\begin{tabular}{r|llllllllllllllllllllllllllllllllllllllllllllllll}\n",
       " ï..Date & National.Blast.Furnace.Capacity.Utilisation..247.Mills & National.Blast.Furnace.Operating.Rate..247.Mills & National.Daily.Avg..Pig.Iron.Output..247.Mills & National.Steel.Mill.Profitability..247.Mills & Date & Iron.Ore.Stock.at.45.ports..OffTake.Volume & Date.1 & Iron.Ore.Portside.Trading.Volume...Traders..Total..Ten.Thousand.Tons & Date.2 & ... & Finished.Steel.Total.MIll.Inventory & Finished.Steel.Total.Inventory & Date.9 & HRC.Margin & Rebar.Margin & Billet.Margin & Date.10 & Imported.Iron.Ore.Inventory.Days..64.mill.survey. & Scrap.Days.of.Consumption..91.mills & Total.Imported.Iron.Ore.Inventories..247.Mills\\\\\n",
       "\\hline\n",
       "\t 8/3/2012   & 70.24      &  93.67     & 196.45     & 23.10      & 12/25/2015 & 255.0      & 3/21/2014  & 192.90     & 4/8/2021   & ...        & NA         & NA         & 4/1/2011   &   68       &  280       &   NA       & 1/5/2018   & 29         & NA         & NA        \\\\\n",
       "\t 8/10/2012  & 69.68      &  91.84     & 194.87     & 18.70      & 1/1/2016   & 264.0      & 3/28/2014  & 260.20     & 4/15/2021  & ...        & NA         & NA         & 4/2/2011   &   99       &  294       &   NA       & 1/12/2018  & NA         & NA         & NA        \\\\\n",
       "\t 8/17/2012  & 69.62      &  91.42     & 194.70     & 16.05      & 1/8/2016   & 254.0      & 4/4/2014   & 188.50     & 4/22/2021  & ...        & NA         & NA         & 4/4/2011   &   72       &  267       &   NA       & 1/19/2018  & 34         & NA         & NA        \\\\\n",
       "\t 8/24/2012  & 69.33      &  91.42     & 193.89     & 13.50      & 1/15/2016  & 258.0      & 4/11/2014  & 181.90     & 4/29/2021  & ...        & NA         & NA         & 4/5/2011   &   69       &  264       &   NA       & 1/26/2018  & NA         & NA         & NA        \\\\\n",
       "\t 8/31/2012  & 69.10      &  91.28     & 193.25     & 14.11      & 1/22/2016  & 256.0      & 4/18/2014  & 156.50     & 5/6/2021   & ...        & NA         & NA         & 4/6/2011   &   55       &  250       &   NA       & 2/2/2018   & 35         & NA         & NA        \\\\\n",
       "\t 9/7/2012   & 69.51      &  92.83     & 194.39     & 16.46      & 1/29/2016  & 245.0      & 4/25/2014  & 204.50     & 5/13/2021  & ...        & NA         & NA         & 4/7/2011   &   84       &  270       &   NA       & 2/9/2018   & NA         & NA         & NA        \\\\\n",
       "\t 9/14/2012  & 69.75      &  93.67     & 195.06     & 21.34      & 2/5/2016   & 278.0      & 5/2/2014   & 173.40     & 5/20/2021  & ...        & NA         & NA         & 4/8/2011   &  136       &  271       &   NA       & 2/23/2018  & 27         & NA         & NA        \\\\\n",
       "\t 9/21/2012  & 69.49      &  94.52     & 194.33     & 30.07      & 2/19/2016  & 235.0      & 5/9/2014   & 205.00     & 5/27/2021  & ...        & NA         & NA         & 4/11/2011  &  158       &  284       &   NA       & 3/2/2018   & NA         & NA         & NA        \\\\\n",
       "\t 9/28/2012  & 68.86      &  93.53     & 192.59     & 39.88      & 2/26/2016  & 269.0      & 5/16/2014  &  48.84     & 6/3/2021   & ...        & NA         & NA         & 4/12/2011  &  157       &  300       &   NA       & 3/9/2018   & 28         & NA         & NA        \\\\\n",
       "\t 10/12/2012 & 69.71      &  94.94     & 194.95     & 55.21      & 3/4/2016   & 261.0      & 5/23/2014  &  56.04     & 6/10/2021  & ...        & NA         & NA         & 4/13/2011  &  141       &  302       &   NA       & 3/16/2018  & NA         & NA         & NA        \\\\\n",
       "\t 10/19/2012 & 69.84      &  95.08     & 195.31     & 89.51      & 3/11/2016  & 272.0      & 5/30/2014  &  40.22     & 6/17/2021  & ...        & NA         & NA         & 4/14/2011  &  159       &  319       &   NA       & 3/23/2018  & 30         & NA         & NA        \\\\\n",
       "\t 10/26/2012 & 70.70      &  96.07     & 197.72     & 92.59      & 3/18/2016  & 261.8      & 6/6/2014   &  58.30     & 6/24/2021  & ...        & NA         & NA         & 4/15/2011  &  159       &  320       &   NA       & 3/30/2018  & NA         & NA         & NA        \\\\\n",
       "\t 11/2/2012  & 70.79      &  96.34     & 197.99     & 92.59      & 3/25/2016  & 260.6      & 6/13/2014  &  45.02     & 7/1/2021   & ...        & NA         & NA         & 4/18/2011  &  156       &  351       &   NA       & 4/6/2018   & 31         & NA         & NA        \\\\\n",
       "\t 11/9/2012  & 70.65      &  96.48     & 197.57     & 92.59      & 4/1/2016   & 252.0      & 6/20/2014  &  54.50     & 7/8/2021   & ...        & NA         & NA         & 4/19/2011  &  157       &  335       &   NA       & 4/13/2018  & NA         & NA         & NA        \\\\\n",
       "\t 11/16/2012 & 71.13      &  97.04     & 198.92     & 92.59      & 4/8/2016   & 255.0      & 6/27/2014  &  49.86     & 7/15/2021  & ...        & NA         & NA         & 4/20/2011  &  166       &  344       &   NA       & 4/20/2018  & 31         & NA         & NA        \\\\\n",
       "\t 11/23/2012 & 71.78      &  97.47     & 200.75     & 92.59      & 4/15/2016  & 271.0      & 7/4/2014   &  37.82     & 7/22/2021  & ...        & NA         & NA         & 4/21/2011  &  189       &  350       &   NA       & 4/27/2018  & NA         & NA         & NA        \\\\\n",
       "\t 11/30/2012 & 71.87      &  97.75     & 201.00     & 92.59      & 4/22/2016  & 279.0      & 7/11/2014  &  44.00     & 7/29/2021  & ...        & NA         & NA         & 4/22/2011  & 1395       & 1556       &   NA       & 5/4/2018   & 29         & NA         & NA        \\\\\n",
       "\t 12/7/2012  & 71.66      &  97.33     & 200.42     & 91.17      & 4/29/2016  & 263.5      & 7/18/2014  &  39.62     & 8/5/2021   & ...        & NA         & NA         & 4/25/2011  &  221       &  373       &   NA       & 5/11/2018  & NA         & NA         & NA        \\\\\n",
       "\t 12/14/2012 & 71.72      &  97.47     & 200.58     & 91.23      & 5/6/2016   & 255.7      & 7/25/2014  &  40.90     & 8/12/2021  & ...        & NA         & NA         & 4/26/2011  &  221       &  390       &   NA       & 5/18/2018  & 28         & NA         & NA        \\\\\n",
       "\t 12/21/2012 & 71.72      &  97.47     & 200.56     & 91.23      & 5/13/2016  & 264.2      & 8/1/2014   &  43.22     & 8/19/2021  & ...        & NA         & NA         & 4/27/2011  &  207       &  377       &  275       & 5/25/2018  & NA         & NA         & NA        \\\\\n",
       "\t 12/28/2012 & 72.94      &  98.03     & 204.00     & 75.93      & 5/20/2016  & 270.1      & 8/8/2014   &  47.66     & 8/26/2021  & ...        & NA         & NA         & 4/28/2011  &  197       &  392       &  265       & 6/1/2018   & 31         & NA         & NA        \\\\\n",
       "\t 1/11/2013  & 74.73      & 100.43     & 209.00     & 44.79      & 5/27/2016  & 265.5      & 8/15/2014  &  34.96     & 9/2/2021   & ...        & NA         & NA         & 4/29/2011  &  198       &  393       &  249       & 6/8/2018   & NA         & NA         & NA        \\\\\n",
       "\t 1/18/2013  & 75.86      & 100.87     & 212.14     & 44.17      & 6/3/2016   & 259.8      & 8/22/2014  &  33.34     & 9/9/2021   & ...        & NA         & NA         & 5/2/2011   & 1416       & 1611       & 1467       & 6/15/2018  & 30         & NA         & NA        \\\\\n",
       "\t 1/25/2013  & 76.23      & 101.01     & 213.19     & 52.76      & 6/10/2016  & 261.7      & 8/29/2014  &  30.50     & 9/16/2021  & ...        & NA         & NA         & 5/3/2011   &  215       &  444       &  249       & 6/22/2018  & NA         & NA         & NA        \\\\\n",
       "\t 2/1/2013   & 75.97      & 100.43     & 212.47     & 55.83      & 6/17/2016  & 239.6      & 9/5/2014   &  29.26     & 9/23/2021  & ...        & NA         & NA         & 5/4/2011   &  193       &  440       &  244       & 6/29/2018  & 29         & NA         & NA        \\\\\n",
       "\t 2/22/2013  & 76.02      & 100.43     & 212.60     & 43.56      & 6/24/2016  & 255.4      & 9/12/2014  &  37.86     & 9/30/2021  & ...        & NA         & NA         & 5/5/2011   &  178       &  441       &  220       & 7/6/2018   & NA         & NA         & NA        \\\\\n",
       "\t 3/1/2013   & 75.90      & 100.01     & 212.27     & 38.65      & 7/1/2016   & 266.4      & 9/19/2014  &  32.10     & 10/8/2021  & ...        & NA         & NA         & 5/6/2011   &  167       &  456       &  227       & 7/13/2018  & 26         & NA         & NA        \\\\\n",
       "\t 3/8/2013   & 75.80      & 100.01     & 211.99     & 33.13      & 7/8/2016   & 255.0      & 9/26/2014  &  30.21     & 10/14/2021 & ...        & NA         & NA         & 5/9/2011   &  180       &  461       &  223       & 7/20/2018  & NA         & NA         & NA        \\\\\n",
       "\t 3/15/2013  & 75.07      &  98.57     & 209.94     & 13.50      & 7/15/2016  & 267.5      & 10/10/2014 &  49.24     & 10/21/2021 & ...        & NA         & NA         & 5/10/2011  &  198       &  462       &  240       & 7/27/2018  & 34         & NA         & NA        \\\\\n",
       "\t 3/22/2013  & 75.01      &  98.28     & 209.79     & 13.50      & 7/22/2016  & 258.8      & 10/17/2014 &  43.22     & 10/28/2021 & ...        & NA         & NA         & 5/11/2011  &  192       &  455       &  234       & 8/3/2018   & NA         & NA         & NA        \\\\\n",
       "\t ... & ... & ... & ... & ... & ... & ... & ... & ... & ... &     & ... & ... & ... & ... & ... & ... & ... & ... & ... & ...\\\\\n",
       "\t     & NA  & NA  & NA  & NA  &     & NA  &     & NA  &     & ... & NA  & NA  &     & NA  & NA  & NA  &     & NA  & NA  & NA \\\\\n",
       "\t     & NA  & NA  & NA  & NA  &     & NA  &     & NA  &     & ... & NA  & NA  &     & NA  & NA  & NA  &     & NA  & NA  & NA \\\\\n",
       "\t     & NA  & NA  & NA  & NA  &     & NA  &     & NA  &     & ... & NA  & NA  &     & NA  & NA  & NA  &     & NA  & NA  & NA \\\\\n",
       "\t     & NA  & NA  & NA  & NA  &     & NA  &     & NA  &     & ... & NA  & NA  &     & NA  & NA  & NA  &     & NA  & NA  & NA \\\\\n",
       "\t     & NA  & NA  & NA  & NA  &     & NA  &     & NA  &     & ... & NA  & NA  &     & NA  & NA  & NA  &     & NA  & NA  & NA \\\\\n",
       "\t     & NA  & NA  & NA  & NA  &     & NA  &     & NA  &     & ... & NA  & NA  &     & NA  & NA  & NA  &     & NA  & NA  & NA \\\\\n",
       "\t     & NA  & NA  & NA  & NA  &     & NA  &     & NA  &     & ... & NA  & NA  &     & NA  & NA  & NA  &     & NA  & NA  & NA \\\\\n",
       "\t     & NA  & NA  & NA  & NA  &     & NA  &     & NA  &     & ... & NA  & NA  &     & NA  & NA  & NA  &     & NA  & NA  & NA \\\\\n",
       "\t     & NA  & NA  & NA  & NA  &     & NA  &     & NA  &     & ... & NA  & NA  &     & NA  & NA  & NA  &     & NA  & NA  & NA \\\\\n",
       "\t     & NA  & NA  & NA  & NA  &     & NA  &     & NA  &     & ... & NA  & NA  &     & NA  & NA  & NA  &     & NA  & NA  & NA \\\\\n",
       "\t     & NA  & NA  & NA  & NA  &     & NA  &     & NA  &     & ... & NA  & NA  &     & NA  & NA  & NA  &     & NA  & NA  & NA \\\\\n",
       "\t     & NA  & NA  & NA  & NA  &     & NA  &     & NA  &     & ... & NA  & NA  &     & NA  & NA  & NA  &     & NA  & NA  & NA \\\\\n",
       "\t     & NA  & NA  & NA  & NA  &     & NA  &     & NA  &     & ... & NA  & NA  &     & NA  & NA  & NA  &     & NA  & NA  & NA \\\\\n",
       "\t     & NA  & NA  & NA  & NA  &     & NA  &     & NA  &     & ... & NA  & NA  &     & NA  & NA  & NA  &     & NA  & NA  & NA \\\\\n",
       "\t     & NA  & NA  & NA  & NA  &     & NA  &     & NA  &     & ... & NA  & NA  &     & NA  & NA  & NA  &     & NA  & NA  & NA \\\\\n",
       "\t     & NA  & NA  & NA  & NA  &     & NA  &     & NA  &     & ... & NA  & NA  &     & NA  & NA  & NA  &     & NA  & NA  & NA \\\\\n",
       "\t     & NA  & NA  & NA  & NA  &     & NA  &     & NA  &     & ... & NA  & NA  &     & NA  & NA  & NA  &     & NA  & NA  & NA \\\\\n",
       "\t     & NA  & NA  & NA  & NA  &     & NA  &     & NA  &     & ... & NA  & NA  &     & NA  & NA  & NA  &     & NA  & NA  & NA \\\\\n",
       "\t     & NA  & NA  & NA  & NA  &     & NA  &     & NA  &     & ... & NA  & NA  &     & NA  & NA  & NA  &     & NA  & NA  & NA \\\\\n",
       "\t     & NA  & NA  & NA  & NA  &     & NA  &     & NA  &     & ... & NA  & NA  &     & NA  & NA  & NA  &     & NA  & NA  & NA \\\\\n",
       "\t     & NA  & NA  & NA  & NA  &     & NA  &     & NA  &     & ... & NA  & NA  &     & NA  & NA  & NA  &     & NA  & NA  & NA \\\\\n",
       "\t     & NA  & NA  & NA  & NA  &     & NA  &     & NA  &     & ... & NA  & NA  &     & NA  & NA  & NA  &     & NA  & NA  & NA \\\\\n",
       "\t     & NA  & NA  & NA  & NA  &     & NA  &     & NA  &     & ... & NA  & NA  &     & NA  & NA  & NA  &     & NA  & NA  & NA \\\\\n",
       "\t     & NA  & NA  & NA  & NA  &     & NA  &     & NA  &     & ... & NA  & NA  &     & NA  & NA  & NA  &     & NA  & NA  & NA \\\\\n",
       "\t     & NA  & NA  & NA  & NA  &     & NA  &     & NA  &     & ... & NA  & NA  &     & NA  & NA  & NA  &     & NA  & NA  & NA \\\\\n",
       "\t     & NA  & NA  & NA  & NA  &     & NA  &     & NA  &     & ... & NA  & NA  &     & NA  & NA  & NA  &     & NA  & NA  & NA \\\\\n",
       "\t     & NA  & NA  & NA  & NA  &     & NA  &     & NA  &     & ... & NA  & NA  &     & NA  & NA  & NA  &     & NA  & NA  & NA \\\\\n",
       "\t     & NA  & NA  & NA  & NA  &     & NA  &     & NA  &     & ... & NA  & NA  &     & NA  & NA  & NA  &     & NA  & NA  & NA \\\\\n",
       "\t     & NA  & NA  & NA  & NA  &     & NA  &     & NA  &     & ... & NA  & NA  &     & NA  & NA  & NA  &     & NA  & NA  & NA \\\\\n",
       "\t     & NA  & NA  & NA  & NA  &     & NA  &     & NA  &     & ... & NA  & NA  &     & NA  & NA  & NA  &     & NA  & NA  & NA \\\\\n",
       "\\end{tabular}\n"
      ],
      "text/markdown": [
       "\n",
       "| ï..Date | National.Blast.Furnace.Capacity.Utilisation..247.Mills | National.Blast.Furnace.Operating.Rate..247.Mills | National.Daily.Avg..Pig.Iron.Output..247.Mills | National.Steel.Mill.Profitability..247.Mills | Date | Iron.Ore.Stock.at.45.ports..OffTake.Volume | Date.1 | Iron.Ore.Portside.Trading.Volume...Traders..Total..Ten.Thousand.Tons | Date.2 | ... | Finished.Steel.Total.MIll.Inventory | Finished.Steel.Total.Inventory | Date.9 | HRC.Margin | Rebar.Margin | Billet.Margin | Date.10 | Imported.Iron.Ore.Inventory.Days..64.mill.survey. | Scrap.Days.of.Consumption..91.mills | Total.Imported.Iron.Ore.Inventories..247.Mills |\n",
       "|---|---|---|---|---|---|---|---|---|---|---|---|---|---|---|---|---|---|---|---|---|\n",
       "| 8/3/2012   | 70.24      |  93.67     | 196.45     | 23.10      | 12/25/2015 | 255.0      | 3/21/2014  | 192.90     | 4/8/2021   | ...        | NA         | NA         | 4/1/2011   |   68       |  280       |   NA       | 1/5/2018   | 29         | NA         | NA         |\n",
       "| 8/10/2012  | 69.68      |  91.84     | 194.87     | 18.70      | 1/1/2016   | 264.0      | 3/28/2014  | 260.20     | 4/15/2021  | ...        | NA         | NA         | 4/2/2011   |   99       |  294       |   NA       | 1/12/2018  | NA         | NA         | NA         |\n",
       "| 8/17/2012  | 69.62      |  91.42     | 194.70     | 16.05      | 1/8/2016   | 254.0      | 4/4/2014   | 188.50     | 4/22/2021  | ...        | NA         | NA         | 4/4/2011   |   72       |  267       |   NA       | 1/19/2018  | 34         | NA         | NA         |\n",
       "| 8/24/2012  | 69.33      |  91.42     | 193.89     | 13.50      | 1/15/2016  | 258.0      | 4/11/2014  | 181.90     | 4/29/2021  | ...        | NA         | NA         | 4/5/2011   |   69       |  264       |   NA       | 1/26/2018  | NA         | NA         | NA         |\n",
       "| 8/31/2012  | 69.10      |  91.28     | 193.25     | 14.11      | 1/22/2016  | 256.0      | 4/18/2014  | 156.50     | 5/6/2021   | ...        | NA         | NA         | 4/6/2011   |   55       |  250       |   NA       | 2/2/2018   | 35         | NA         | NA         |\n",
       "| 9/7/2012   | 69.51      |  92.83     | 194.39     | 16.46      | 1/29/2016  | 245.0      | 4/25/2014  | 204.50     | 5/13/2021  | ...        | NA         | NA         | 4/7/2011   |   84       |  270       |   NA       | 2/9/2018   | NA         | NA         | NA         |\n",
       "| 9/14/2012  | 69.75      |  93.67     | 195.06     | 21.34      | 2/5/2016   | 278.0      | 5/2/2014   | 173.40     | 5/20/2021  | ...        | NA         | NA         | 4/8/2011   |  136       |  271       |   NA       | 2/23/2018  | 27         | NA         | NA         |\n",
       "| 9/21/2012  | 69.49      |  94.52     | 194.33     | 30.07      | 2/19/2016  | 235.0      | 5/9/2014   | 205.00     | 5/27/2021  | ...        | NA         | NA         | 4/11/2011  |  158       |  284       |   NA       | 3/2/2018   | NA         | NA         | NA         |\n",
       "| 9/28/2012  | 68.86      |  93.53     | 192.59     | 39.88      | 2/26/2016  | 269.0      | 5/16/2014  |  48.84     | 6/3/2021   | ...        | NA         | NA         | 4/12/2011  |  157       |  300       |   NA       | 3/9/2018   | 28         | NA         | NA         |\n",
       "| 10/12/2012 | 69.71      |  94.94     | 194.95     | 55.21      | 3/4/2016   | 261.0      | 5/23/2014  |  56.04     | 6/10/2021  | ...        | NA         | NA         | 4/13/2011  |  141       |  302       |   NA       | 3/16/2018  | NA         | NA         | NA         |\n",
       "| 10/19/2012 | 69.84      |  95.08     | 195.31     | 89.51      | 3/11/2016  | 272.0      | 5/30/2014  |  40.22     | 6/17/2021  | ...        | NA         | NA         | 4/14/2011  |  159       |  319       |   NA       | 3/23/2018  | 30         | NA         | NA         |\n",
       "| 10/26/2012 | 70.70      |  96.07     | 197.72     | 92.59      | 3/18/2016  | 261.8      | 6/6/2014   |  58.30     | 6/24/2021  | ...        | NA         | NA         | 4/15/2011  |  159       |  320       |   NA       | 3/30/2018  | NA         | NA         | NA         |\n",
       "| 11/2/2012  | 70.79      |  96.34     | 197.99     | 92.59      | 3/25/2016  | 260.6      | 6/13/2014  |  45.02     | 7/1/2021   | ...        | NA         | NA         | 4/18/2011  |  156       |  351       |   NA       | 4/6/2018   | 31         | NA         | NA         |\n",
       "| 11/9/2012  | 70.65      |  96.48     | 197.57     | 92.59      | 4/1/2016   | 252.0      | 6/20/2014  |  54.50     | 7/8/2021   | ...        | NA         | NA         | 4/19/2011  |  157       |  335       |   NA       | 4/13/2018  | NA         | NA         | NA         |\n",
       "| 11/16/2012 | 71.13      |  97.04     | 198.92     | 92.59      | 4/8/2016   | 255.0      | 6/27/2014  |  49.86     | 7/15/2021  | ...        | NA         | NA         | 4/20/2011  |  166       |  344       |   NA       | 4/20/2018  | 31         | NA         | NA         |\n",
       "| 11/23/2012 | 71.78      |  97.47     | 200.75     | 92.59      | 4/15/2016  | 271.0      | 7/4/2014   |  37.82     | 7/22/2021  | ...        | NA         | NA         | 4/21/2011  |  189       |  350       |   NA       | 4/27/2018  | NA         | NA         | NA         |\n",
       "| 11/30/2012 | 71.87      |  97.75     | 201.00     | 92.59      | 4/22/2016  | 279.0      | 7/11/2014  |  44.00     | 7/29/2021  | ...        | NA         | NA         | 4/22/2011  | 1395       | 1556       |   NA       | 5/4/2018   | 29         | NA         | NA         |\n",
       "| 12/7/2012  | 71.66      |  97.33     | 200.42     | 91.17      | 4/29/2016  | 263.5      | 7/18/2014  |  39.62     | 8/5/2021   | ...        | NA         | NA         | 4/25/2011  |  221       |  373       |   NA       | 5/11/2018  | NA         | NA         | NA         |\n",
       "| 12/14/2012 | 71.72      |  97.47     | 200.58     | 91.23      | 5/6/2016   | 255.7      | 7/25/2014  |  40.90     | 8/12/2021  | ...        | NA         | NA         | 4/26/2011  |  221       |  390       |   NA       | 5/18/2018  | 28         | NA         | NA         |\n",
       "| 12/21/2012 | 71.72      |  97.47     | 200.56     | 91.23      | 5/13/2016  | 264.2      | 8/1/2014   |  43.22     | 8/19/2021  | ...        | NA         | NA         | 4/27/2011  |  207       |  377       |  275       | 5/25/2018  | NA         | NA         | NA         |\n",
       "| 12/28/2012 | 72.94      |  98.03     | 204.00     | 75.93      | 5/20/2016  | 270.1      | 8/8/2014   |  47.66     | 8/26/2021  | ...        | NA         | NA         | 4/28/2011  |  197       |  392       |  265       | 6/1/2018   | 31         | NA         | NA         |\n",
       "| 1/11/2013  | 74.73      | 100.43     | 209.00     | 44.79      | 5/27/2016  | 265.5      | 8/15/2014  |  34.96     | 9/2/2021   | ...        | NA         | NA         | 4/29/2011  |  198       |  393       |  249       | 6/8/2018   | NA         | NA         | NA         |\n",
       "| 1/18/2013  | 75.86      | 100.87     | 212.14     | 44.17      | 6/3/2016   | 259.8      | 8/22/2014  |  33.34     | 9/9/2021   | ...        | NA         | NA         | 5/2/2011   | 1416       | 1611       | 1467       | 6/15/2018  | 30         | NA         | NA         |\n",
       "| 1/25/2013  | 76.23      | 101.01     | 213.19     | 52.76      | 6/10/2016  | 261.7      | 8/29/2014  |  30.50     | 9/16/2021  | ...        | NA         | NA         | 5/3/2011   |  215       |  444       |  249       | 6/22/2018  | NA         | NA         | NA         |\n",
       "| 2/1/2013   | 75.97      | 100.43     | 212.47     | 55.83      | 6/17/2016  | 239.6      | 9/5/2014   |  29.26     | 9/23/2021  | ...        | NA         | NA         | 5/4/2011   |  193       |  440       |  244       | 6/29/2018  | 29         | NA         | NA         |\n",
       "| 2/22/2013  | 76.02      | 100.43     | 212.60     | 43.56      | 6/24/2016  | 255.4      | 9/12/2014  |  37.86     | 9/30/2021  | ...        | NA         | NA         | 5/5/2011   |  178       |  441       |  220       | 7/6/2018   | NA         | NA         | NA         |\n",
       "| 3/1/2013   | 75.90      | 100.01     | 212.27     | 38.65      | 7/1/2016   | 266.4      | 9/19/2014  |  32.10     | 10/8/2021  | ...        | NA         | NA         | 5/6/2011   |  167       |  456       |  227       | 7/13/2018  | 26         | NA         | NA         |\n",
       "| 3/8/2013   | 75.80      | 100.01     | 211.99     | 33.13      | 7/8/2016   | 255.0      | 9/26/2014  |  30.21     | 10/14/2021 | ...        | NA         | NA         | 5/9/2011   |  180       |  461       |  223       | 7/20/2018  | NA         | NA         | NA         |\n",
       "| 3/15/2013  | 75.07      |  98.57     | 209.94     | 13.50      | 7/15/2016  | 267.5      | 10/10/2014 |  49.24     | 10/21/2021 | ...        | NA         | NA         | 5/10/2011  |  198       |  462       |  240       | 7/27/2018  | 34         | NA         | NA         |\n",
       "| 3/22/2013  | 75.01      |  98.28     | 209.79     | 13.50      | 7/22/2016  | 258.8      | 10/17/2014 |  43.22     | 10/28/2021 | ...        | NA         | NA         | 5/11/2011  |  192       |  455       |  234       | 8/3/2018   | NA         | NA         | NA         |\n",
       "| ... | ... | ... | ... | ... | ... | ... | ... | ... | ... |     | ... | ... | ... | ... | ... | ... | ... | ... | ... | ... |\n",
       "|     | NA  | NA  | NA  | NA  |     | NA  |     | NA  |     | ... | NA  | NA  |     | NA  | NA  | NA  |     | NA  | NA  | NA  |\n",
       "|     | NA  | NA  | NA  | NA  |     | NA  |     | NA  |     | ... | NA  | NA  |     | NA  | NA  | NA  |     | NA  | NA  | NA  |\n",
       "|     | NA  | NA  | NA  | NA  |     | NA  |     | NA  |     | ... | NA  | NA  |     | NA  | NA  | NA  |     | NA  | NA  | NA  |\n",
       "|     | NA  | NA  | NA  | NA  |     | NA  |     | NA  |     | ... | NA  | NA  |     | NA  | NA  | NA  |     | NA  | NA  | NA  |\n",
       "|     | NA  | NA  | NA  | NA  |     | NA  |     | NA  |     | ... | NA  | NA  |     | NA  | NA  | NA  |     | NA  | NA  | NA  |\n",
       "|     | NA  | NA  | NA  | NA  |     | NA  |     | NA  |     | ... | NA  | NA  |     | NA  | NA  | NA  |     | NA  | NA  | NA  |\n",
       "|     | NA  | NA  | NA  | NA  |     | NA  |     | NA  |     | ... | NA  | NA  |     | NA  | NA  | NA  |     | NA  | NA  | NA  |\n",
       "|     | NA  | NA  | NA  | NA  |     | NA  |     | NA  |     | ... | NA  | NA  |     | NA  | NA  | NA  |     | NA  | NA  | NA  |\n",
       "|     | NA  | NA  | NA  | NA  |     | NA  |     | NA  |     | ... | NA  | NA  |     | NA  | NA  | NA  |     | NA  | NA  | NA  |\n",
       "|     | NA  | NA  | NA  | NA  |     | NA  |     | NA  |     | ... | NA  | NA  |     | NA  | NA  | NA  |     | NA  | NA  | NA  |\n",
       "|     | NA  | NA  | NA  | NA  |     | NA  |     | NA  |     | ... | NA  | NA  |     | NA  | NA  | NA  |     | NA  | NA  | NA  |\n",
       "|     | NA  | NA  | NA  | NA  |     | NA  |     | NA  |     | ... | NA  | NA  |     | NA  | NA  | NA  |     | NA  | NA  | NA  |\n",
       "|     | NA  | NA  | NA  | NA  |     | NA  |     | NA  |     | ... | NA  | NA  |     | NA  | NA  | NA  |     | NA  | NA  | NA  |\n",
       "|     | NA  | NA  | NA  | NA  |     | NA  |     | NA  |     | ... | NA  | NA  |     | NA  | NA  | NA  |     | NA  | NA  | NA  |\n",
       "|     | NA  | NA  | NA  | NA  |     | NA  |     | NA  |     | ... | NA  | NA  |     | NA  | NA  | NA  |     | NA  | NA  | NA  |\n",
       "|     | NA  | NA  | NA  | NA  |     | NA  |     | NA  |     | ... | NA  | NA  |     | NA  | NA  | NA  |     | NA  | NA  | NA  |\n",
       "|     | NA  | NA  | NA  | NA  |     | NA  |     | NA  |     | ... | NA  | NA  |     | NA  | NA  | NA  |     | NA  | NA  | NA  |\n",
       "|     | NA  | NA  | NA  | NA  |     | NA  |     | NA  |     | ... | NA  | NA  |     | NA  | NA  | NA  |     | NA  | NA  | NA  |\n",
       "|     | NA  | NA  | NA  | NA  |     | NA  |     | NA  |     | ... | NA  | NA  |     | NA  | NA  | NA  |     | NA  | NA  | NA  |\n",
       "|     | NA  | NA  | NA  | NA  |     | NA  |     | NA  |     | ... | NA  | NA  |     | NA  | NA  | NA  |     | NA  | NA  | NA  |\n",
       "|     | NA  | NA  | NA  | NA  |     | NA  |     | NA  |     | ... | NA  | NA  |     | NA  | NA  | NA  |     | NA  | NA  | NA  |\n",
       "|     | NA  | NA  | NA  | NA  |     | NA  |     | NA  |     | ... | NA  | NA  |     | NA  | NA  | NA  |     | NA  | NA  | NA  |\n",
       "|     | NA  | NA  | NA  | NA  |     | NA  |     | NA  |     | ... | NA  | NA  |     | NA  | NA  | NA  |     | NA  | NA  | NA  |\n",
       "|     | NA  | NA  | NA  | NA  |     | NA  |     | NA  |     | ... | NA  | NA  |     | NA  | NA  | NA  |     | NA  | NA  | NA  |\n",
       "|     | NA  | NA  | NA  | NA  |     | NA  |     | NA  |     | ... | NA  | NA  |     | NA  | NA  | NA  |     | NA  | NA  | NA  |\n",
       "|     | NA  | NA  | NA  | NA  |     | NA  |     | NA  |     | ... | NA  | NA  |     | NA  | NA  | NA  |     | NA  | NA  | NA  |\n",
       "|     | NA  | NA  | NA  | NA  |     | NA  |     | NA  |     | ... | NA  | NA  |     | NA  | NA  | NA  |     | NA  | NA  | NA  |\n",
       "|     | NA  | NA  | NA  | NA  |     | NA  |     | NA  |     | ... | NA  | NA  |     | NA  | NA  | NA  |     | NA  | NA  | NA  |\n",
       "|     | NA  | NA  | NA  | NA  |     | NA  |     | NA  |     | ... | NA  | NA  |     | NA  | NA  | NA  |     | NA  | NA  | NA  |\n",
       "|     | NA  | NA  | NA  | NA  |     | NA  |     | NA  |     | ... | NA  | NA  |     | NA  | NA  | NA  |     | NA  | NA  | NA  |\n",
       "\n"
      ],
      "text/plain": [
       "     ï..Date    National.Blast.Furnace.Capacity.Utilisation..247.Mills\n",
       "1    8/3/2012   70.24                                                 \n",
       "2    8/10/2012  69.68                                                 \n",
       "3    8/17/2012  69.62                                                 \n",
       "4    8/24/2012  69.33                                                 \n",
       "5    8/31/2012  69.10                                                 \n",
       "6    9/7/2012   69.51                                                 \n",
       "7    9/14/2012  69.75                                                 \n",
       "8    9/21/2012  69.49                                                 \n",
       "9    9/28/2012  68.86                                                 \n",
       "10   10/12/2012 69.71                                                 \n",
       "11   10/19/2012 69.84                                                 \n",
       "12   10/26/2012 70.70                                                 \n",
       "13   11/2/2012  70.79                                                 \n",
       "14   11/9/2012  70.65                                                 \n",
       "15   11/16/2012 71.13                                                 \n",
       "16   11/23/2012 71.78                                                 \n",
       "17   11/30/2012 71.87                                                 \n",
       "18   12/7/2012  71.66                                                 \n",
       "19   12/14/2012 71.72                                                 \n",
       "20   12/21/2012 71.72                                                 \n",
       "21   12/28/2012 72.94                                                 \n",
       "22   1/11/2013  74.73                                                 \n",
       "23   1/18/2013  75.86                                                 \n",
       "24   1/25/2013  76.23                                                 \n",
       "25   2/1/2013   75.97                                                 \n",
       "26   2/22/2013  76.02                                                 \n",
       "27   3/1/2013   75.90                                                 \n",
       "28   3/8/2013   75.80                                                 \n",
       "29   3/15/2013  75.07                                                 \n",
       "30   3/22/2013  75.01                                                 \n",
       "...  ...        ...                                                   \n",
       "2821            NA                                                    \n",
       "2822            NA                                                    \n",
       "2823            NA                                                    \n",
       "2824            NA                                                    \n",
       "2825            NA                                                    \n",
       "2826            NA                                                    \n",
       "2827            NA                                                    \n",
       "2828            NA                                                    \n",
       "2829            NA                                                    \n",
       "2830            NA                                                    \n",
       "2831            NA                                                    \n",
       "2832            NA                                                    \n",
       "2833            NA                                                    \n",
       "2834            NA                                                    \n",
       "2835            NA                                                    \n",
       "2836            NA                                                    \n",
       "2837            NA                                                    \n",
       "2838            NA                                                    \n",
       "2839            NA                                                    \n",
       "2840            NA                                                    \n",
       "2841            NA                                                    \n",
       "2842            NA                                                    \n",
       "2843            NA                                                    \n",
       "2844            NA                                                    \n",
       "2845            NA                                                    \n",
       "2846            NA                                                    \n",
       "2847            NA                                                    \n",
       "2848            NA                                                    \n",
       "2849            NA                                                    \n",
       "2850            NA                                                    \n",
       "     National.Blast.Furnace.Operating.Rate..247.Mills\n",
       "1     93.67                                          \n",
       "2     91.84                                          \n",
       "3     91.42                                          \n",
       "4     91.42                                          \n",
       "5     91.28                                          \n",
       "6     92.83                                          \n",
       "7     93.67                                          \n",
       "8     94.52                                          \n",
       "9     93.53                                          \n",
       "10    94.94                                          \n",
       "11    95.08                                          \n",
       "12    96.07                                          \n",
       "13    96.34                                          \n",
       "14    96.48                                          \n",
       "15    97.04                                          \n",
       "16    97.47                                          \n",
       "17    97.75                                          \n",
       "18    97.33                                          \n",
       "19    97.47                                          \n",
       "20    97.47                                          \n",
       "21    98.03                                          \n",
       "22   100.43                                          \n",
       "23   100.87                                          \n",
       "24   101.01                                          \n",
       "25   100.43                                          \n",
       "26   100.43                                          \n",
       "27   100.01                                          \n",
       "28   100.01                                          \n",
       "29    98.57                                          \n",
       "30    98.28                                          \n",
       "...  ...                                             \n",
       "2821 NA                                              \n",
       "2822 NA                                              \n",
       "2823 NA                                              \n",
       "2824 NA                                              \n",
       "2825 NA                                              \n",
       "2826 NA                                              \n",
       "2827 NA                                              \n",
       "2828 NA                                              \n",
       "2829 NA                                              \n",
       "2830 NA                                              \n",
       "2831 NA                                              \n",
       "2832 NA                                              \n",
       "2833 NA                                              \n",
       "2834 NA                                              \n",
       "2835 NA                                              \n",
       "2836 NA                                              \n",
       "2837 NA                                              \n",
       "2838 NA                                              \n",
       "2839 NA                                              \n",
       "2840 NA                                              \n",
       "2841 NA                                              \n",
       "2842 NA                                              \n",
       "2843 NA                                              \n",
       "2844 NA                                              \n",
       "2845 NA                                              \n",
       "2846 NA                                              \n",
       "2847 NA                                              \n",
       "2848 NA                                              \n",
       "2849 NA                                              \n",
       "2850 NA                                              \n",
       "     National.Daily.Avg..Pig.Iron.Output..247.Mills\n",
       "1    196.45                                        \n",
       "2    194.87                                        \n",
       "3    194.70                                        \n",
       "4    193.89                                        \n",
       "5    193.25                                        \n",
       "6    194.39                                        \n",
       "7    195.06                                        \n",
       "8    194.33                                        \n",
       "9    192.59                                        \n",
       "10   194.95                                        \n",
       "11   195.31                                        \n",
       "12   197.72                                        \n",
       "13   197.99                                        \n",
       "14   197.57                                        \n",
       "15   198.92                                        \n",
       "16   200.75                                        \n",
       "17   201.00                                        \n",
       "18   200.42                                        \n",
       "19   200.58                                        \n",
       "20   200.56                                        \n",
       "21   204.00                                        \n",
       "22   209.00                                        \n",
       "23   212.14                                        \n",
       "24   213.19                                        \n",
       "25   212.47                                        \n",
       "26   212.60                                        \n",
       "27   212.27                                        \n",
       "28   211.99                                        \n",
       "29   209.94                                        \n",
       "30   209.79                                        \n",
       "...  ...                                           \n",
       "2821 NA                                            \n",
       "2822 NA                                            \n",
       "2823 NA                                            \n",
       "2824 NA                                            \n",
       "2825 NA                                            \n",
       "2826 NA                                            \n",
       "2827 NA                                            \n",
       "2828 NA                                            \n",
       "2829 NA                                            \n",
       "2830 NA                                            \n",
       "2831 NA                                            \n",
       "2832 NA                                            \n",
       "2833 NA                                            \n",
       "2834 NA                                            \n",
       "2835 NA                                            \n",
       "2836 NA                                            \n",
       "2837 NA                                            \n",
       "2838 NA                                            \n",
       "2839 NA                                            \n",
       "2840 NA                                            \n",
       "2841 NA                                            \n",
       "2842 NA                                            \n",
       "2843 NA                                            \n",
       "2844 NA                                            \n",
       "2845 NA                                            \n",
       "2846 NA                                            \n",
       "2847 NA                                            \n",
       "2848 NA                                            \n",
       "2849 NA                                            \n",
       "2850 NA                                            \n",
       "     National.Steel.Mill.Profitability..247.Mills Date      \n",
       "1    23.10                                        12/25/2015\n",
       "2    18.70                                        1/1/2016  \n",
       "3    16.05                                        1/8/2016  \n",
       "4    13.50                                        1/15/2016 \n",
       "5    14.11                                        1/22/2016 \n",
       "6    16.46                                        1/29/2016 \n",
       "7    21.34                                        2/5/2016  \n",
       "8    30.07                                        2/19/2016 \n",
       "9    39.88                                        2/26/2016 \n",
       "10   55.21                                        3/4/2016  \n",
       "11   89.51                                        3/11/2016 \n",
       "12   92.59                                        3/18/2016 \n",
       "13   92.59                                        3/25/2016 \n",
       "14   92.59                                        4/1/2016  \n",
       "15   92.59                                        4/8/2016  \n",
       "16   92.59                                        4/15/2016 \n",
       "17   92.59                                        4/22/2016 \n",
       "18   91.17                                        4/29/2016 \n",
       "19   91.23                                        5/6/2016  \n",
       "20   91.23                                        5/13/2016 \n",
       "21   75.93                                        5/20/2016 \n",
       "22   44.79                                        5/27/2016 \n",
       "23   44.17                                        6/3/2016  \n",
       "24   52.76                                        6/10/2016 \n",
       "25   55.83                                        6/17/2016 \n",
       "26   43.56                                        6/24/2016 \n",
       "27   38.65                                        7/1/2016  \n",
       "28   33.13                                        7/8/2016  \n",
       "29   13.50                                        7/15/2016 \n",
       "30   13.50                                        7/22/2016 \n",
       "...  ...                                          ...       \n",
       "2821 NA                                                     \n",
       "2822 NA                                                     \n",
       "2823 NA                                                     \n",
       "2824 NA                                                     \n",
       "2825 NA                                                     \n",
       "2826 NA                                                     \n",
       "2827 NA                                                     \n",
       "2828 NA                                                     \n",
       "2829 NA                                                     \n",
       "2830 NA                                                     \n",
       "2831 NA                                                     \n",
       "2832 NA                                                     \n",
       "2833 NA                                                     \n",
       "2834 NA                                                     \n",
       "2835 NA                                                     \n",
       "2836 NA                                                     \n",
       "2837 NA                                                     \n",
       "2838 NA                                                     \n",
       "2839 NA                                                     \n",
       "2840 NA                                                     \n",
       "2841 NA                                                     \n",
       "2842 NA                                                     \n",
       "2843 NA                                                     \n",
       "2844 NA                                                     \n",
       "2845 NA                                                     \n",
       "2846 NA                                                     \n",
       "2847 NA                                                     \n",
       "2848 NA                                                     \n",
       "2849 NA                                                     \n",
       "2850 NA                                                     \n",
       "     Iron.Ore.Stock.at.45.ports..OffTake.Volume Date.1    \n",
       "1    255.0                                      3/21/2014 \n",
       "2    264.0                                      3/28/2014 \n",
       "3    254.0                                      4/4/2014  \n",
       "4    258.0                                      4/11/2014 \n",
       "5    256.0                                      4/18/2014 \n",
       "6    245.0                                      4/25/2014 \n",
       "7    278.0                                      5/2/2014  \n",
       "8    235.0                                      5/9/2014  \n",
       "9    269.0                                      5/16/2014 \n",
       "10   261.0                                      5/23/2014 \n",
       "11   272.0                                      5/30/2014 \n",
       "12   261.8                                      6/6/2014  \n",
       "13   260.6                                      6/13/2014 \n",
       "14   252.0                                      6/20/2014 \n",
       "15   255.0                                      6/27/2014 \n",
       "16   271.0                                      7/4/2014  \n",
       "17   279.0                                      7/11/2014 \n",
       "18   263.5                                      7/18/2014 \n",
       "19   255.7                                      7/25/2014 \n",
       "20   264.2                                      8/1/2014  \n",
       "21   270.1                                      8/8/2014  \n",
       "22   265.5                                      8/15/2014 \n",
       "23   259.8                                      8/22/2014 \n",
       "24   261.7                                      8/29/2014 \n",
       "25   239.6                                      9/5/2014  \n",
       "26   255.4                                      9/12/2014 \n",
       "27   266.4                                      9/19/2014 \n",
       "28   255.0                                      9/26/2014 \n",
       "29   267.5                                      10/10/2014\n",
       "30   258.8                                      10/17/2014\n",
       "...  ...                                        ...       \n",
       "2821 NA                                                   \n",
       "2822 NA                                                   \n",
       "2823 NA                                                   \n",
       "2824 NA                                                   \n",
       "2825 NA                                                   \n",
       "2826 NA                                                   \n",
       "2827 NA                                                   \n",
       "2828 NA                                                   \n",
       "2829 NA                                                   \n",
       "2830 NA                                                   \n",
       "2831 NA                                                   \n",
       "2832 NA                                                   \n",
       "2833 NA                                                   \n",
       "2834 NA                                                   \n",
       "2835 NA                                                   \n",
       "2836 NA                                                   \n",
       "2837 NA                                                   \n",
       "2838 NA                                                   \n",
       "2839 NA                                                   \n",
       "2840 NA                                                   \n",
       "2841 NA                                                   \n",
       "2842 NA                                                   \n",
       "2843 NA                                                   \n",
       "2844 NA                                                   \n",
       "2845 NA                                                   \n",
       "2846 NA                                                   \n",
       "2847 NA                                                   \n",
       "2848 NA                                                   \n",
       "2849 NA                                                   \n",
       "2850 NA                                                   \n",
       "     Iron.Ore.Portside.Trading.Volume...Traders..Total..Ten.Thousand.Tons\n",
       "1    192.90                                                              \n",
       "2    260.20                                                              \n",
       "3    188.50                                                              \n",
       "4    181.90                                                              \n",
       "5    156.50                                                              \n",
       "6    204.50                                                              \n",
       "7    173.40                                                              \n",
       "8    205.00                                                              \n",
       "9     48.84                                                              \n",
       "10    56.04                                                              \n",
       "11    40.22                                                              \n",
       "12    58.30                                                              \n",
       "13    45.02                                                              \n",
       "14    54.50                                                              \n",
       "15    49.86                                                              \n",
       "16    37.82                                                              \n",
       "17    44.00                                                              \n",
       "18    39.62                                                              \n",
       "19    40.90                                                              \n",
       "20    43.22                                                              \n",
       "21    47.66                                                              \n",
       "22    34.96                                                              \n",
       "23    33.34                                                              \n",
       "24    30.50                                                              \n",
       "25    29.26                                                              \n",
       "26    37.86                                                              \n",
       "27    32.10                                                              \n",
       "28    30.21                                                              \n",
       "29    49.24                                                              \n",
       "30    43.22                                                              \n",
       "...  ...                                                                 \n",
       "2821 NA                                                                  \n",
       "2822 NA                                                                  \n",
       "2823 NA                                                                  \n",
       "2824 NA                                                                  \n",
       "2825 NA                                                                  \n",
       "2826 NA                                                                  \n",
       "2827 NA                                                                  \n",
       "2828 NA                                                                  \n",
       "2829 NA                                                                  \n",
       "2830 NA                                                                  \n",
       "2831 NA                                                                  \n",
       "2832 NA                                                                  \n",
       "2833 NA                                                                  \n",
       "2834 NA                                                                  \n",
       "2835 NA                                                                  \n",
       "2836 NA                                                                  \n",
       "2837 NA                                                                  \n",
       "2838 NA                                                                  \n",
       "2839 NA                                                                  \n",
       "2840 NA                                                                  \n",
       "2841 NA                                                                  \n",
       "2842 NA                                                                  \n",
       "2843 NA                                                                  \n",
       "2844 NA                                                                  \n",
       "2845 NA                                                                  \n",
       "2846 NA                                                                  \n",
       "2847 NA                                                                  \n",
       "2848 NA                                                                  \n",
       "2849 NA                                                                  \n",
       "2850 NA                                                                  \n",
       "     Date.2     ... Finished.Steel.Total.MIll.Inventory\n",
       "1    4/8/2021   ... NA                                 \n",
       "2    4/15/2021  ... NA                                 \n",
       "3    4/22/2021  ... NA                                 \n",
       "4    4/29/2021  ... NA                                 \n",
       "5    5/6/2021   ... NA                                 \n",
       "6    5/13/2021  ... NA                                 \n",
       "7    5/20/2021  ... NA                                 \n",
       "8    5/27/2021  ... NA                                 \n",
       "9    6/3/2021   ... NA                                 \n",
       "10   6/10/2021  ... NA                                 \n",
       "11   6/17/2021  ... NA                                 \n",
       "12   6/24/2021  ... NA                                 \n",
       "13   7/1/2021   ... NA                                 \n",
       "14   7/8/2021   ... NA                                 \n",
       "15   7/15/2021  ... NA                                 \n",
       "16   7/22/2021  ... NA                                 \n",
       "17   7/29/2021  ... NA                                 \n",
       "18   8/5/2021   ... NA                                 \n",
       "19   8/12/2021  ... NA                                 \n",
       "20   8/19/2021  ... NA                                 \n",
       "21   8/26/2021  ... NA                                 \n",
       "22   9/2/2021   ... NA                                 \n",
       "23   9/9/2021   ... NA                                 \n",
       "24   9/16/2021  ... NA                                 \n",
       "25   9/23/2021  ... NA                                 \n",
       "26   9/30/2021  ... NA                                 \n",
       "27   10/8/2021  ... NA                                 \n",
       "28   10/14/2021 ... NA                                 \n",
       "29   10/21/2021 ... NA                                 \n",
       "30   10/28/2021 ... NA                                 \n",
       "...  ...            ...                                \n",
       "2821            ... NA                                 \n",
       "2822            ... NA                                 \n",
       "2823            ... NA                                 \n",
       "2824            ... NA                                 \n",
       "2825            ... NA                                 \n",
       "2826            ... NA                                 \n",
       "2827            ... NA                                 \n",
       "2828            ... NA                                 \n",
       "2829            ... NA                                 \n",
       "2830            ... NA                                 \n",
       "2831            ... NA                                 \n",
       "2832            ... NA                                 \n",
       "2833            ... NA                                 \n",
       "2834            ... NA                                 \n",
       "2835            ... NA                                 \n",
       "2836            ... NA                                 \n",
       "2837            ... NA                                 \n",
       "2838            ... NA                                 \n",
       "2839            ... NA                                 \n",
       "2840            ... NA                                 \n",
       "2841            ... NA                                 \n",
       "2842            ... NA                                 \n",
       "2843            ... NA                                 \n",
       "2844            ... NA                                 \n",
       "2845            ... NA                                 \n",
       "2846            ... NA                                 \n",
       "2847            ... NA                                 \n",
       "2848            ... NA                                 \n",
       "2849            ... NA                                 \n",
       "2850            ... NA                                 \n",
       "     Finished.Steel.Total.Inventory Date.9    HRC.Margin Rebar.Margin\n",
       "1    NA                             4/1/2011    68        280        \n",
       "2    NA                             4/2/2011    99        294        \n",
       "3    NA                             4/4/2011    72        267        \n",
       "4    NA                             4/5/2011    69        264        \n",
       "5    NA                             4/6/2011    55        250        \n",
       "6    NA                             4/7/2011    84        270        \n",
       "7    NA                             4/8/2011   136        271        \n",
       "8    NA                             4/11/2011  158        284        \n",
       "9    NA                             4/12/2011  157        300        \n",
       "10   NA                             4/13/2011  141        302        \n",
       "11   NA                             4/14/2011  159        319        \n",
       "12   NA                             4/15/2011  159        320        \n",
       "13   NA                             4/18/2011  156        351        \n",
       "14   NA                             4/19/2011  157        335        \n",
       "15   NA                             4/20/2011  166        344        \n",
       "16   NA                             4/21/2011  189        350        \n",
       "17   NA                             4/22/2011 1395       1556        \n",
       "18   NA                             4/25/2011  221        373        \n",
       "19   NA                             4/26/2011  221        390        \n",
       "20   NA                             4/27/2011  207        377        \n",
       "21   NA                             4/28/2011  197        392        \n",
       "22   NA                             4/29/2011  198        393        \n",
       "23   NA                             5/2/2011  1416       1611        \n",
       "24   NA                             5/3/2011   215        444        \n",
       "25   NA                             5/4/2011   193        440        \n",
       "26   NA                             5/5/2011   178        441        \n",
       "27   NA                             5/6/2011   167        456        \n",
       "28   NA                             5/9/2011   180        461        \n",
       "29   NA                             5/10/2011  198        462        \n",
       "30   NA                             5/11/2011  192        455        \n",
       "...  ...                            ...       ...        ...         \n",
       "2821 NA                                       NA         NA          \n",
       "2822 NA                                       NA         NA          \n",
       "2823 NA                                       NA         NA          \n",
       "2824 NA                                       NA         NA          \n",
       "2825 NA                                       NA         NA          \n",
       "2826 NA                                       NA         NA          \n",
       "2827 NA                                       NA         NA          \n",
       "2828 NA                                       NA         NA          \n",
       "2829 NA                                       NA         NA          \n",
       "2830 NA                                       NA         NA          \n",
       "2831 NA                                       NA         NA          \n",
       "2832 NA                                       NA         NA          \n",
       "2833 NA                                       NA         NA          \n",
       "2834 NA                                       NA         NA          \n",
       "2835 NA                                       NA         NA          \n",
       "2836 NA                                       NA         NA          \n",
       "2837 NA                                       NA         NA          \n",
       "2838 NA                                       NA         NA          \n",
       "2839 NA                                       NA         NA          \n",
       "2840 NA                                       NA         NA          \n",
       "2841 NA                                       NA         NA          \n",
       "2842 NA                                       NA         NA          \n",
       "2843 NA                                       NA         NA          \n",
       "2844 NA                                       NA         NA          \n",
       "2845 NA                                       NA         NA          \n",
       "2846 NA                                       NA         NA          \n",
       "2847 NA                                       NA         NA          \n",
       "2848 NA                                       NA         NA          \n",
       "2849 NA                                       NA         NA          \n",
       "2850 NA                                       NA         NA          \n",
       "     Billet.Margin Date.10   Imported.Iron.Ore.Inventory.Days..64.mill.survey.\n",
       "1      NA          1/5/2018  29                                               \n",
       "2      NA          1/12/2018 NA                                               \n",
       "3      NA          1/19/2018 34                                               \n",
       "4      NA          1/26/2018 NA                                               \n",
       "5      NA          2/2/2018  35                                               \n",
       "6      NA          2/9/2018  NA                                               \n",
       "7      NA          2/23/2018 27                                               \n",
       "8      NA          3/2/2018  NA                                               \n",
       "9      NA          3/9/2018  28                                               \n",
       "10     NA          3/16/2018 NA                                               \n",
       "11     NA          3/23/2018 30                                               \n",
       "12     NA          3/30/2018 NA                                               \n",
       "13     NA          4/6/2018  31                                               \n",
       "14     NA          4/13/2018 NA                                               \n",
       "15     NA          4/20/2018 31                                               \n",
       "16     NA          4/27/2018 NA                                               \n",
       "17     NA          5/4/2018  29                                               \n",
       "18     NA          5/11/2018 NA                                               \n",
       "19     NA          5/18/2018 28                                               \n",
       "20    275          5/25/2018 NA                                               \n",
       "21    265          6/1/2018  31                                               \n",
       "22    249          6/8/2018  NA                                               \n",
       "23   1467          6/15/2018 30                                               \n",
       "24    249          6/22/2018 NA                                               \n",
       "25    244          6/29/2018 29                                               \n",
       "26    220          7/6/2018  NA                                               \n",
       "27    227          7/13/2018 26                                               \n",
       "28    223          7/20/2018 NA                                               \n",
       "29    240          7/27/2018 34                                               \n",
       "30    234          8/3/2018  NA                                               \n",
       "...  ...           ...       ...                                              \n",
       "2821 NA                      NA                                               \n",
       "2822 NA                      NA                                               \n",
       "2823 NA                      NA                                               \n",
       "2824 NA                      NA                                               \n",
       "2825 NA                      NA                                               \n",
       "2826 NA                      NA                                               \n",
       "2827 NA                      NA                                               \n",
       "2828 NA                      NA                                               \n",
       "2829 NA                      NA                                               \n",
       "2830 NA                      NA                                               \n",
       "2831 NA                      NA                                               \n",
       "2832 NA                      NA                                               \n",
       "2833 NA                      NA                                               \n",
       "2834 NA                      NA                                               \n",
       "2835 NA                      NA                                               \n",
       "2836 NA                      NA                                               \n",
       "2837 NA                      NA                                               \n",
       "2838 NA                      NA                                               \n",
       "2839 NA                      NA                                               \n",
       "2840 NA                      NA                                               \n",
       "2841 NA                      NA                                               \n",
       "2842 NA                      NA                                               \n",
       "2843 NA                      NA                                               \n",
       "2844 NA                      NA                                               \n",
       "2845 NA                      NA                                               \n",
       "2846 NA                      NA                                               \n",
       "2847 NA                      NA                                               \n",
       "2848 NA                      NA                                               \n",
       "2849 NA                      NA                                               \n",
       "2850 NA                      NA                                               \n",
       "     Scrap.Days.of.Consumption..91.mills\n",
       "1    NA                                 \n",
       "2    NA                                 \n",
       "3    NA                                 \n",
       "4    NA                                 \n",
       "5    NA                                 \n",
       "6    NA                                 \n",
       "7    NA                                 \n",
       "8    NA                                 \n",
       "9    NA                                 \n",
       "10   NA                                 \n",
       "11   NA                                 \n",
       "12   NA                                 \n",
       "13   NA                                 \n",
       "14   NA                                 \n",
       "15   NA                                 \n",
       "16   NA                                 \n",
       "17   NA                                 \n",
       "18   NA                                 \n",
       "19   NA                                 \n",
       "20   NA                                 \n",
       "21   NA                                 \n",
       "22   NA                                 \n",
       "23   NA                                 \n",
       "24   NA                                 \n",
       "25   NA                                 \n",
       "26   NA                                 \n",
       "27   NA                                 \n",
       "28   NA                                 \n",
       "29   NA                                 \n",
       "30   NA                                 \n",
       "...  ...                                \n",
       "2821 NA                                 \n",
       "2822 NA                                 \n",
       "2823 NA                                 \n",
       "2824 NA                                 \n",
       "2825 NA                                 \n",
       "2826 NA                                 \n",
       "2827 NA                                 \n",
       "2828 NA                                 \n",
       "2829 NA                                 \n",
       "2830 NA                                 \n",
       "2831 NA                                 \n",
       "2832 NA                                 \n",
       "2833 NA                                 \n",
       "2834 NA                                 \n",
       "2835 NA                                 \n",
       "2836 NA                                 \n",
       "2837 NA                                 \n",
       "2838 NA                                 \n",
       "2839 NA                                 \n",
       "2840 NA                                 \n",
       "2841 NA                                 \n",
       "2842 NA                                 \n",
       "2843 NA                                 \n",
       "2844 NA                                 \n",
       "2845 NA                                 \n",
       "2846 NA                                 \n",
       "2847 NA                                 \n",
       "2848 NA                                 \n",
       "2849 NA                                 \n",
       "2850 NA                                 \n",
       "     Total.Imported.Iron.Ore.Inventories..247.Mills\n",
       "1    NA                                            \n",
       "2    NA                                            \n",
       "3    NA                                            \n",
       "4    NA                                            \n",
       "5    NA                                            \n",
       "6    NA                                            \n",
       "7    NA                                            \n",
       "8    NA                                            \n",
       "9    NA                                            \n",
       "10   NA                                            \n",
       "11   NA                                            \n",
       "12   NA                                            \n",
       "13   NA                                            \n",
       "14   NA                                            \n",
       "15   NA                                            \n",
       "16   NA                                            \n",
       "17   NA                                            \n",
       "18   NA                                            \n",
       "19   NA                                            \n",
       "20   NA                                            \n",
       "21   NA                                            \n",
       "22   NA                                            \n",
       "23   NA                                            \n",
       "24   NA                                            \n",
       "25   NA                                            \n",
       "26   NA                                            \n",
       "27   NA                                            \n",
       "28   NA                                            \n",
       "29   NA                                            \n",
       "30   NA                                            \n",
       "...  ...                                           \n",
       "2821 NA                                            \n",
       "2822 NA                                            \n",
       "2823 NA                                            \n",
       "2824 NA                                            \n",
       "2825 NA                                            \n",
       "2826 NA                                            \n",
       "2827 NA                                            \n",
       "2828 NA                                            \n",
       "2829 NA                                            \n",
       "2830 NA                                            \n",
       "2831 NA                                            \n",
       "2832 NA                                            \n",
       "2833 NA                                            \n",
       "2834 NA                                            \n",
       "2835 NA                                            \n",
       "2836 NA                                            \n",
       "2837 NA                                            \n",
       "2838 NA                                            \n",
       "2839 NA                                            \n",
       "2840 NA                                            \n",
       "2841 NA                                            \n",
       "2842 NA                                            \n",
       "2843 NA                                            \n",
       "2844 NA                                            \n",
       "2845 NA                                            \n",
       "2846 NA                                            \n",
       "2847 NA                                            \n",
       "2848 NA                                            \n",
       "2849 NA                                            \n",
       "2850 NA                                            "
      ]
     },
     "metadata": {},
     "output_type": "display_data"
    }
   ],
   "source": [
    "read.csv('iron.csv')"
   ]
  },
  {
   "cell_type": "markdown",
   "id": "1f739572",
   "metadata": {},
   "source": [
    "Let’s calculate the size of your dataset. Can you figure out what each of these commands tell you?"
   ]
  },
  {
   "cell_type": "code",
   "execution_count": 30,
   "id": "72f817c7",
   "metadata": {},
   "outputs": [
    {
     "data": {
      "text/html": [
       "50"
      ],
      "text/latex": [
       "50"
      ],
      "text/markdown": [
       "50"
      ],
      "text/plain": [
       "[1] 50"
      ]
     },
     "metadata": {},
     "output_type": "display_data"
    },
    {
     "data": {
      "text/html": [
       "4"
      ],
      "text/latex": [
       "4"
      ],
      "text/markdown": [
       "4"
      ],
      "text/plain": [
       "[1] 4"
      ]
     },
     "metadata": {},
     "output_type": "display_data"
    },
    {
     "data": {
      "text/html": [
       "<ol class=list-inline>\n",
       "\t<li>50</li>\n",
       "\t<li>4</li>\n",
       "</ol>\n"
      ],
      "text/latex": [
       "\\begin{enumerate*}\n",
       "\\item 50\n",
       "\\item 4\n",
       "\\end{enumerate*}\n"
      ],
      "text/markdown": [
       "1. 50\n",
       "2. 4\n",
       "\n",
       "\n"
      ],
      "text/plain": [
       "[1] 50  4"
      ]
     },
     "metadata": {},
     "output_type": "display_data"
    }
   ],
   "source": [
    "#size of data\n",
    "nrow(USArrests)\n",
    "ncol(USArrests)\n",
    "dim(USArrests)"
   ]
  },
  {
   "cell_type": "markdown",
   "id": "7ed8596f",
   "metadata": {},
   "source": [
    "Now let’s calculate some simple summary statistics of your data – the mean, standard deviation, and sum"
   ]
  },
  {
   "cell_type": "code",
   "execution_count": 31,
   "id": "e2f09989",
   "metadata": {},
   "outputs": [
    {
     "data": {
      "text/html": [
       "7.788"
      ],
      "text/latex": [
       "7.788"
      ],
      "text/markdown": [
       "7.788"
      ],
      "text/plain": [
       "[1] 7.788"
      ]
     },
     "metadata": {},
     "output_type": "display_data"
    },
    {
     "data": {
      "text/html": [
       "4.35550976420929"
      ],
      "text/latex": [
       "4.35550976420929"
      ],
      "text/markdown": [
       "4.35550976420929"
      ],
      "text/plain": [
       "[1] 4.35551"
      ]
     },
     "metadata": {},
     "output_type": "display_data"
    },
    {
     "data": {
      "text/html": [
       "389.4"
      ],
      "text/latex": [
       "389.4"
      ],
      "text/markdown": [
       "389.4"
      ],
      "text/plain": [
       "[1] 389.4"
      ]
     },
     "metadata": {},
     "output_type": "display_data"
    },
    {
     "data": {
      "text/html": [
       "7.788"
      ],
      "text/latex": [
       "7.788"
      ],
      "text/markdown": [
       "7.788"
      ],
      "text/plain": [
       "[1] 7.788"
      ]
     },
     "metadata": {},
     "output_type": "display_data"
    },
    {
     "data": {
      "text/html": [
       "4.35550976420929"
      ],
      "text/latex": [
       "4.35550976420929"
      ],
      "text/markdown": [
       "4.35550976420929"
      ],
      "text/plain": [
       "[1] 4.35551"
      ]
     },
     "metadata": {},
     "output_type": "display_data"
    },
    {
     "data": {
      "text/html": [
       "389.4"
      ],
      "text/latex": [
       "389.4"
      ],
      "text/markdown": [
       "389.4"
      ],
      "text/plain": [
       "[1] 389.4"
      ]
     },
     "metadata": {},
     "output_type": "display_data"
    }
   ],
   "source": [
    "#summary stats\n",
    "mean(USArrests$Murder)\n",
    "sd(USArrests$Murder)\n",
    "sum(USArrests$Murder)\n",
    "\n",
    "mean(USArrests[,'Murder'])\n",
    "sd(USArrests[,'Murder'])\n",
    "sum(USArrests[,'Murder'])"
   ]
  },
  {
   "cell_type": "markdown",
   "id": "a2346c50",
   "metadata": {},
   "source": [
    "Try recalculating these using ‘[,]’ rather than ‘$’. It is good practice to understand that you can do things multiple ways in R.\n",
    "\n",
    "It is also often useful to calculate simple statistics from categories. For example, calculating how tree and shrub heights differ. I find the ‘tapply’ function helpful for this. See if you can figure out what is happening in the script below.\n"
   ]
  },
  {
   "cell_type": "code",
   "execution_count": 32,
   "id": "387a2615",
   "metadata": {},
   "outputs": [
    {
     "data": {
      "text/html": [
       "<dl class=dl-horizontal>\n",
       "\t<dt>0.8</dt>\n",
       "\t\t<dd>45</dd>\n",
       "\t<dt>2.1</dt>\n",
       "\t\t<dd>70</dd>\n",
       "\t<dt>2.2</dt>\n",
       "\t\t<dd>52</dd>\n",
       "\t<dt>2.6</dt>\n",
       "\t\t<dd>86.5</dd>\n",
       "\t<dt>2.7</dt>\n",
       "\t\t<dd>72</dd>\n",
       "\t<dt>3.2</dt>\n",
       "\t\t<dd>120</dd>\n",
       "\t<dt>3.3</dt>\n",
       "\t\t<dd>110</dd>\n",
       "\t<dt>3.4</dt>\n",
       "\t\t<dd>174</dd>\n",
       "\t<dt>3.8</dt>\n",
       "\t\t<dd>86</dd>\n",
       "\t<dt>4</dt>\n",
       "\t\t<dd>145</dd>\n",
       "\t<dt>4.3</dt>\n",
       "\t\t<dd>102</dd>\n",
       "\t<dt>4.4</dt>\n",
       "\t\t<dd>149</dd>\n",
       "\t<dt>4.9</dt>\n",
       "\t\t<dd>159</dd>\n",
       "\t<dt>5.3</dt>\n",
       "\t\t<dd>46</dd>\n",
       "\t<dt>5.7</dt>\n",
       "\t\t<dd>81</dd>\n",
       "\t<dt>5.9</dt>\n",
       "\t\t<dd>238</dd>\n",
       "\t<dt>6</dt>\n",
       "\t\t<dd>112</dd>\n",
       "\t<dt>6.3</dt>\n",
       "\t\t<dd>106</dd>\n",
       "\t<dt>6.6</dt>\n",
       "\t\t<dd>151</dd>\n",
       "\t<dt>6.8</dt>\n",
       "\t\t<dd>161</dd>\n",
       "\t<dt>7.2</dt>\n",
       "\t\t<dd>113</dd>\n",
       "\t<dt>7.3</dt>\n",
       "\t\t<dd>120</dd>\n",
       "\t<dt>7.4</dt>\n",
       "\t\t<dd>159</dd>\n",
       "\t<dt>7.9</dt>\n",
       "\t\t<dd>204</dd>\n",
       "\t<dt>8.1</dt>\n",
       "\t\t<dd>294</dd>\n",
       "\t<dt>8.5</dt>\n",
       "\t\t<dd>156</dd>\n",
       "\t<dt>8.8</dt>\n",
       "\t\t<dd>190</dd>\n",
       "\t<dt>9</dt>\n",
       "\t\t<dd>227</dd>\n",
       "\t<dt>9.7</dt>\n",
       "\t\t<dd>109</dd>\n",
       "\t<dt>10</dt>\n",
       "\t\t<dd>263</dd>\n",
       "\t<dt>10.4</dt>\n",
       "\t\t<dd>249</dd>\n",
       "\t<dt>11.1</dt>\n",
       "\t\t<dd>254</dd>\n",
       "\t<dt>11.3</dt>\n",
       "\t\t<dd>300</dd>\n",
       "\t<dt>11.4</dt>\n",
       "\t\t<dd>285</dd>\n",
       "\t<dt>12.1</dt>\n",
       "\t\t<dd>255</dd>\n",
       "\t<dt>12.2</dt>\n",
       "\t\t<dd>252</dd>\n",
       "\t<dt>12.7</dt>\n",
       "\t\t<dd>201</dd>\n",
       "\t<dt>13</dt>\n",
       "\t\t<dd>337</dd>\n",
       "\t<dt>13.2</dt>\n",
       "\t\t<dd>212</dd>\n",
       "\t<dt>14.4</dt>\n",
       "\t\t<dd>279</dd>\n",
       "\t<dt>15.4</dt>\n",
       "\t\t<dd>292</dd>\n",
       "\t<dt>16.1</dt>\n",
       "\t\t<dd>259</dd>\n",
       "\t<dt>17.4</dt>\n",
       "\t\t<dd>211</dd>\n",
       "</dl>\n"
      ],
      "text/latex": [
       "\\begin{description*}\n",
       "\\item[0.8] 45\n",
       "\\item[2.1] 70\n",
       "\\item[2.2] 52\n",
       "\\item[2.6] 86.5\n",
       "\\item[2.7] 72\n",
       "\\item[3.2] 120\n",
       "\\item[3.3] 110\n",
       "\\item[3.4] 174\n",
       "\\item[3.8] 86\n",
       "\\item[4] 145\n",
       "\\item[4.3] 102\n",
       "\\item[4.4] 149\n",
       "\\item[4.9] 159\n",
       "\\item[5.3] 46\n",
       "\\item[5.7] 81\n",
       "\\item[5.9] 238\n",
       "\\item[6] 112\n",
       "\\item[6.3] 106\n",
       "\\item[6.6] 151\n",
       "\\item[6.8] 161\n",
       "\\item[7.2] 113\n",
       "\\item[7.3] 120\n",
       "\\item[7.4] 159\n",
       "\\item[7.9] 204\n",
       "\\item[8.1] 294\n",
       "\\item[8.5] 156\n",
       "\\item[8.8] 190\n",
       "\\item[9] 227\n",
       "\\item[9.7] 109\n",
       "\\item[10] 263\n",
       "\\item[10.4] 249\n",
       "\\item[11.1] 254\n",
       "\\item[11.3] 300\n",
       "\\item[11.4] 285\n",
       "\\item[12.1] 255\n",
       "\\item[12.2] 252\n",
       "\\item[12.7] 201\n",
       "\\item[13] 337\n",
       "\\item[13.2] 212\n",
       "\\item[14.4] 279\n",
       "\\item[15.4] 292\n",
       "\\item[16.1] 259\n",
       "\\item[17.4] 211\n",
       "\\end{description*}\n"
      ],
      "text/markdown": [
       "0.8\n",
       ":   452.1\n",
       ":   702.2\n",
       ":   522.6\n",
       ":   86.52.7\n",
       ":   723.2\n",
       ":   1203.3\n",
       ":   1103.4\n",
       ":   1743.8\n",
       ":   864\n",
       ":   1454.3\n",
       ":   1024.4\n",
       ":   1494.9\n",
       ":   1595.3\n",
       ":   465.7\n",
       ":   815.9\n",
       ":   2386\n",
       ":   1126.3\n",
       ":   1066.6\n",
       ":   1516.8\n",
       ":   1617.2\n",
       ":   1137.3\n",
       ":   1207.4\n",
       ":   1597.9\n",
       ":   2048.1\n",
       ":   2948.5\n",
       ":   1568.8\n",
       ":   1909\n",
       ":   2279.7\n",
       ":   10910\n",
       ":   26310.4\n",
       ":   24911.1\n",
       ":   25411.3\n",
       ":   30011.4\n",
       ":   28512.1\n",
       ":   25512.2\n",
       ":   25212.7\n",
       ":   20113\n",
       ":   33713.2\n",
       ":   21214.4\n",
       ":   27915.4\n",
       ":   29216.1\n",
       ":   25917.4\n",
       ":   211\n",
       "\n"
      ],
      "text/plain": [
       "  0.8   2.1   2.2   2.6   2.7   3.2   3.3   3.4   3.8     4   4.3   4.4   4.9 \n",
       " 45.0  70.0  52.0  86.5  72.0 120.0 110.0 174.0  86.0 145.0 102.0 149.0 159.0 \n",
       "  5.3   5.7   5.9     6   6.3   6.6   6.8   7.2   7.3   7.4   7.9   8.1   8.5 \n",
       " 46.0  81.0 238.0 112.0 106.0 151.0 161.0 113.0 120.0 159.0 204.0 294.0 156.0 \n",
       "  8.8     9   9.7    10  10.4  11.1  11.3  11.4  12.1  12.2  12.7    13  13.2 \n",
       "190.0 227.0 109.0 263.0 249.0 254.0 300.0 285.0 255.0 252.0 201.0 337.0 212.0 \n",
       " 14.4  15.4  16.1  17.4 \n",
       "279.0 292.0 259.0 211.0 "
      ]
     },
     "metadata": {},
     "output_type": "display_data"
    },
    {
     "data": {
      "text/html": [
       "<dl class=dl-horizontal>\n",
       "\t<dt>0.8</dt>\n",
       "\t\t<dd>&lt;NA&gt;</dd>\n",
       "\t<dt>2.1</dt>\n",
       "\t\t<dd>18.3847763108502</dd>\n",
       "\t<dt>2.2</dt>\n",
       "\t\t<dd>5.65685424949238</dd>\n",
       "\t<dt>2.6</dt>\n",
       "\t\t<dd>47.3761543394987</dd>\n",
       "\t<dt>2.7</dt>\n",
       "\t\t<dd>&lt;NA&gt;</dd>\n",
       "\t<dt>3.2</dt>\n",
       "\t\t<dd>&lt;NA&gt;</dd>\n",
       "\t<dt>3.3</dt>\n",
       "\t\t<dd>&lt;NA&gt;</dd>\n",
       "\t<dt>3.4</dt>\n",
       "\t\t<dd>&lt;NA&gt;</dd>\n",
       "\t<dt>3.8</dt>\n",
       "\t\t<dd>&lt;NA&gt;</dd>\n",
       "\t<dt>4</dt>\n",
       "\t\t<dd>&lt;NA&gt;</dd>\n",
       "\t<dt>4.3</dt>\n",
       "\t\t<dd>&lt;NA&gt;</dd>\n",
       "\t<dt>4.4</dt>\n",
       "\t\t<dd>&lt;NA&gt;</dd>\n",
       "\t<dt>4.9</dt>\n",
       "\t\t<dd>&lt;NA&gt;</dd>\n",
       "\t<dt>5.3</dt>\n",
       "\t\t<dd>&lt;NA&gt;</dd>\n",
       "\t<dt>5.7</dt>\n",
       "\t\t<dd>&lt;NA&gt;</dd>\n",
       "\t<dt>5.9</dt>\n",
       "\t\t<dd>&lt;NA&gt;</dd>\n",
       "\t<dt>6</dt>\n",
       "\t\t<dd>4.24264068711928</dd>\n",
       "\t<dt>6.3</dt>\n",
       "\t\t<dd>&lt;NA&gt;</dd>\n",
       "\t<dt>6.6</dt>\n",
       "\t\t<dd>&lt;NA&gt;</dd>\n",
       "\t<dt>6.8</dt>\n",
       "\t\t<dd>&lt;NA&gt;</dd>\n",
       "\t<dt>7.2</dt>\n",
       "\t\t<dd>&lt;NA&gt;</dd>\n",
       "\t<dt>7.3</dt>\n",
       "\t\t<dd>&lt;NA&gt;</dd>\n",
       "\t<dt>7.4</dt>\n",
       "\t\t<dd>&lt;NA&gt;</dd>\n",
       "\t<dt>7.9</dt>\n",
       "\t\t<dd>&lt;NA&gt;</dd>\n",
       "\t<dt>8.1</dt>\n",
       "\t\t<dd>&lt;NA&gt;</dd>\n",
       "\t<dt>8.5</dt>\n",
       "\t\t<dd>&lt;NA&gt;</dd>\n",
       "\t<dt>8.8</dt>\n",
       "\t\t<dd>&lt;NA&gt;</dd>\n",
       "\t<dt>9</dt>\n",
       "\t\t<dd>69.2964645562817</dd>\n",
       "\t<dt>9.7</dt>\n",
       "\t\t<dd>&lt;NA&gt;</dd>\n",
       "\t<dt>10</dt>\n",
       "\t\t<dd>&lt;NA&gt;</dd>\n",
       "\t<dt>10.4</dt>\n",
       "\t\t<dd>&lt;NA&gt;</dd>\n",
       "\t<dt>11.1</dt>\n",
       "\t\t<dd>&lt;NA&gt;</dd>\n",
       "\t<dt>11.3</dt>\n",
       "\t\t<dd>&lt;NA&gt;</dd>\n",
       "\t<dt>11.4</dt>\n",
       "\t\t<dd>&lt;NA&gt;</dd>\n",
       "\t<dt>12.1</dt>\n",
       "\t\t<dd>&lt;NA&gt;</dd>\n",
       "\t<dt>12.2</dt>\n",
       "\t\t<dd>&lt;NA&gt;</dd>\n",
       "\t<dt>12.7</dt>\n",
       "\t\t<dd>&lt;NA&gt;</dd>\n",
       "\t<dt>13</dt>\n",
       "\t\t<dd>&lt;NA&gt;</dd>\n",
       "\t<dt>13.2</dt>\n",
       "\t\t<dd>33.9411254969543</dd>\n",
       "\t<dt>14.4</dt>\n",
       "\t\t<dd>&lt;NA&gt;</dd>\n",
       "\t<dt>15.4</dt>\n",
       "\t\t<dd>60.8111831820431</dd>\n",
       "\t<dt>16.1</dt>\n",
       "\t\t<dd>&lt;NA&gt;</dd>\n",
       "\t<dt>17.4</dt>\n",
       "\t\t<dd>&lt;NA&gt;</dd>\n",
       "</dl>\n"
      ],
      "text/latex": [
       "\\begin{description*}\n",
       "\\item[0.8] <NA>\n",
       "\\item[2.1] 18.3847763108502\n",
       "\\item[2.2] 5.65685424949238\n",
       "\\item[2.6] 47.3761543394987\n",
       "\\item[2.7] <NA>\n",
       "\\item[3.2] <NA>\n",
       "\\item[3.3] <NA>\n",
       "\\item[3.4] <NA>\n",
       "\\item[3.8] <NA>\n",
       "\\item[4] <NA>\n",
       "\\item[4.3] <NA>\n",
       "\\item[4.4] <NA>\n",
       "\\item[4.9] <NA>\n",
       "\\item[5.3] <NA>\n",
       "\\item[5.7] <NA>\n",
       "\\item[5.9] <NA>\n",
       "\\item[6] 4.24264068711928\n",
       "\\item[6.3] <NA>\n",
       "\\item[6.6] <NA>\n",
       "\\item[6.8] <NA>\n",
       "\\item[7.2] <NA>\n",
       "\\item[7.3] <NA>\n",
       "\\item[7.4] <NA>\n",
       "\\item[7.9] <NA>\n",
       "\\item[8.1] <NA>\n",
       "\\item[8.5] <NA>\n",
       "\\item[8.8] <NA>\n",
       "\\item[9] 69.2964645562817\n",
       "\\item[9.7] <NA>\n",
       "\\item[10] <NA>\n",
       "\\item[10.4] <NA>\n",
       "\\item[11.1] <NA>\n",
       "\\item[11.3] <NA>\n",
       "\\item[11.4] <NA>\n",
       "\\item[12.1] <NA>\n",
       "\\item[12.2] <NA>\n",
       "\\item[12.7] <NA>\n",
       "\\item[13] <NA>\n",
       "\\item[13.2] 33.9411254969543\n",
       "\\item[14.4] <NA>\n",
       "\\item[15.4] 60.8111831820431\n",
       "\\item[16.1] <NA>\n",
       "\\item[17.4] <NA>\n",
       "\\end{description*}\n"
      ],
      "text/markdown": [
       "0.8\n",
       ":   &lt;NA&gt;2.1\n",
       ":   18.38477631085022.2\n",
       ":   5.656854249492382.6\n",
       ":   47.37615433949872.7\n",
       ":   &lt;NA&gt;3.2\n",
       ":   &lt;NA&gt;3.3\n",
       ":   &lt;NA&gt;3.4\n",
       ":   &lt;NA&gt;3.8\n",
       ":   &lt;NA&gt;4\n",
       ":   &lt;NA&gt;4.3\n",
       ":   &lt;NA&gt;4.4\n",
       ":   &lt;NA&gt;4.9\n",
       ":   &lt;NA&gt;5.3\n",
       ":   &lt;NA&gt;5.7\n",
       ":   &lt;NA&gt;5.9\n",
       ":   &lt;NA&gt;6\n",
       ":   4.242640687119286.3\n",
       ":   &lt;NA&gt;6.6\n",
       ":   &lt;NA&gt;6.8\n",
       ":   &lt;NA&gt;7.2\n",
       ":   &lt;NA&gt;7.3\n",
       ":   &lt;NA&gt;7.4\n",
       ":   &lt;NA&gt;7.9\n",
       ":   &lt;NA&gt;8.1\n",
       ":   &lt;NA&gt;8.5\n",
       ":   &lt;NA&gt;8.8\n",
       ":   &lt;NA&gt;9\n",
       ":   69.29646455628179.7\n",
       ":   &lt;NA&gt;10\n",
       ":   &lt;NA&gt;10.4\n",
       ":   &lt;NA&gt;11.1\n",
       ":   &lt;NA&gt;11.3\n",
       ":   &lt;NA&gt;11.4\n",
       ":   &lt;NA&gt;12.1\n",
       ":   &lt;NA&gt;12.2\n",
       ":   &lt;NA&gt;12.7\n",
       ":   &lt;NA&gt;13\n",
       ":   &lt;NA&gt;13.2\n",
       ":   33.941125496954314.4\n",
       ":   &lt;NA&gt;15.4\n",
       ":   60.811183182043116.1\n",
       ":   &lt;NA&gt;17.4\n",
       ":   &lt;NA&gt;\n",
       "\n"
      ],
      "text/plain": [
       "      0.8       2.1       2.2       2.6       2.7       3.2       3.3       3.4 \n",
       "       NA 18.384776  5.656854 47.376154        NA        NA        NA        NA \n",
       "      3.8         4       4.3       4.4       4.9       5.3       5.7       5.9 \n",
       "       NA        NA        NA        NA        NA        NA        NA        NA \n",
       "        6       6.3       6.6       6.8       7.2       7.3       7.4       7.9 \n",
       " 4.242641        NA        NA        NA        NA        NA        NA        NA \n",
       "      8.1       8.5       8.8         9       9.7        10      10.4      11.1 \n",
       "       NA        NA        NA 69.296465        NA        NA        NA        NA \n",
       "     11.3      11.4      12.1      12.2      12.7        13      13.2      14.4 \n",
       "       NA        NA        NA        NA        NA        NA 33.941125        NA \n",
       "     15.4      16.1      17.4 \n",
       "60.811183        NA        NA "
      ]
     },
     "metadata": {},
     "output_type": "display_data"
    }
   ],
   "source": [
    "tapply(USArrests[,2],USArrests[,1],mean)\n",
    "tapply(USArrests[,2],USArrests[,1],sd)"
   ]
  },
  {
   "cell_type": "markdown",
   "id": "c7030f6d",
   "metadata": {},
   "source": [
    "### Simple graphs in R"
   ]
  },
  {
   "cell_type": "markdown",
   "id": "493b0d98",
   "metadata": {},
   "source": [
    "Now that you are getting a grasp of the basics of R, let’s make a few simple plots so that you can see something visual.\n",
    "\n",
    "Box and whisker plot\n",
    "This is easy to do in R and is achieved by having a categorical variable in the x-axis (the first column in your case) and a continuous variable in the y-axis (either of the other two columns).\n",
    "Do you understand what categorical and continuous variables are? If not, ask your demonstrator.\n",
    "By using the ‘plot’ function the following script will produce a graph in the ‘Plots’ tab of the lower-right box in RStudio"
   ]
  },
  {
   "cell_type": "code",
   "execution_count": 33,
   "id": "46cef0a1",
   "metadata": {},
   "outputs": [
    {
     "data": {
      "image/png": "[encoded data removed]",
      "text/plain": [
       "plot without title"
      ]
     },
     "metadata": {},
     "output_type": "display_data"
    }
   ],
   "source": [
    "#box plot with x as categorical y as continuous\n",
    "plot(factor(rownames(USArrests)),USArrests$Assault)"
   ]
  },
  {
   "cell_type": "markdown",
   "id": "18e00f8c",
   "metadata": {},
   "source": [
    "Easy! \n",
    "\n",
    "However, there are lots of things missing from this plot, such as axis labels. It is simple to add these, and you can learn how to do this by typing:\n"
   ]
  },
  {
   "cell_type": "code",
   "execution_count": 34,
   "id": "ce089aa1",
   "metadata": {},
   "outputs": [],
   "source": [
    "#help\n",
    "?plot"
   ]
  },
  {
   "cell_type": "markdown",
   "id": "26f3e1da",
   "metadata": {},
   "source": [
    "This will bring up the ‘Help’ tab on how to use the plot function. This gives you lots of instructions and even examples on how to make plots in R.\n",
    "\n",
    "Let’s add and x-axis label to your graph\n"
   ]
  },
  {
   "cell_type": "code",
   "execution_count": 35,
   "id": "9e822cf3",
   "metadata": {},
   "outputs": [
    {
     "data": {
      "image/png": "[encoded data removed]",
      "text/plain": [
       "plot without title"
      ]
     },
     "metadata": {},
     "output_type": "display_data"
    }
   ],
   "source": [
    "#add xlabel\n",
    "plot(factor(rownames(USArrests)),USArrests$Assault,xlab='State')"
   ]
  },
  {
   "cell_type": "markdown",
   "id": "68353bce",
   "metadata": {},
   "source": [
    "Use the ‘Help’ tab to assist you to:\n",
    "1.\tLabel the y-axis as “Height”\n"
   ]
  },
  {
   "cell_type": "code",
   "execution_count": 36,
   "id": "f90c86ea",
   "metadata": {},
   "outputs": [
    {
     "data": {
      "image/png": "[encoded data removed]",
      "text/plain": [
       "plot without title"
      ]
     },
     "metadata": {},
     "output_type": "display_data"
    }
   ],
   "source": [
    "#add ylabel\n",
    "plot(factor(rownames(USArrests)),USArrests$Assault,xlab='State',ylab='Assault')"
   ]
  },
  {
   "cell_type": "markdown",
   "id": "b9ed6044",
   "metadata": {},
   "source": [
    "2.\tGive the graph a title “Plant heights”"
   ]
  },
  {
   "cell_type": "code",
   "execution_count": 37,
   "id": "6da00b8f",
   "metadata": {},
   "outputs": [
    {
     "data": {
      "image/png": "[encoded data removed]",
      "text/plain": [
       "Plot with title \"Assault by State\""
      ]
     },
     "metadata": {},
     "output_type": "display_data"
    }
   ],
   "source": [
    "#add ylabel\n",
    "plot(factor(rownames(USArrests)),USArrests$Assault,xlab='State',ylab='Assault',main='Assault by State')"
   ]
  },
  {
   "cell_type": "markdown",
   "id": "81e197b0",
   "metadata": {},
   "source": [
    "### Scatter Plot"
   ]
  },
  {
   "cell_type": "markdown",
   "id": "87457f04",
   "metadata": {},
   "source": [
    "Scatter plots can be made by plotting two continuous variables against one another. Make a scatter plot of your data using the following."
   ]
  },
  {
   "cell_type": "code",
   "execution_count": 38,
   "id": "9c0d0be9",
   "metadata": {},
   "outputs": [
    {
     "data": {
      "image/png": "[encoded data removed]",
      "text/plain": [
       "plot without title"
      ]
     },
     "metadata": {},
     "output_type": "display_data"
    }
   ],
   "source": [
    "#scatter plot with both x and y as continuous\n",
    "plot(USArrests$Murder,USArrests$Assault)"
   ]
  },
  {
   "cell_type": "markdown",
   "id": "9fc0c5aa",
   "metadata": {},
   "source": [
    "Change the axis labels on this plot to just “Width” and “Height”"
   ]
  },
  {
   "cell_type": "code",
   "execution_count": 39,
   "id": "b934436e",
   "metadata": {},
   "outputs": [
    {
     "data": {
      "image/png": "[encoded data removed]",
      "text/plain": [
       "plot without title"
      ]
     },
     "metadata": {},
     "output_type": "display_data"
    }
   ],
   "source": [
    "plot(USArrests$Murder,USArrests$Assault,xlab='Murder',ylab='Assault')"
   ]
  },
  {
   "cell_type": "markdown",
   "id": "4b74404a",
   "metadata": {},
   "source": [
    "### Histogram"
   ]
  },
  {
   "cell_type": "markdown",
   "id": "2737b479",
   "metadata": {},
   "source": [
    "Different plotting function for histograms called ‘hist’"
   ]
  },
  {
   "cell_type": "code",
   "execution_count": 40,
   "id": "7972bbf4",
   "metadata": {},
   "outputs": [
    {
     "data": {
      "image/png": "[encoded data removed]",
      "text/plain": [
       "Plot with title \"Histogram of USArrests$Murder\""
      ]
     },
     "metadata": {},
     "output_type": "display_data"
    }
   ],
   "source": [
    "hist(USArrests$Murder)"
   ]
  },
  {
   "cell_type": "code",
   "execution_count": 41,
   "id": "e38b15e8",
   "metadata": {},
   "outputs": [
    {
     "data": {
      "image/png": "[encoded data removed]",
      "text/plain": [
       "Plot with title \"Histogram of USArrests$Assault\""
      ]
     },
     "metadata": {},
     "output_type": "display_data"
    }
   ],
   "source": [
    "hist(USArrests$Assault)"
   ]
  },
  {
   "cell_type": "markdown",
   "id": "f4e7e317",
   "metadata": {},
   "source": [
    "Important note: A really helpful thing to know about R is that if you ever need to know how to do something in it, simply google what you want to know and then follow that with “in r”. For example “scatter plot in r”. There is a mountain of helpful information available on the internet from the many people who have struggled through trying to do things in R prior to you…take advantage of that.\n",
    "\n",
    " \n"
   ]
  },
  {
   "cell_type": "markdown",
   "id": "81815610",
   "metadata": {},
   "source": [
    "### Questions"
   ]
  },
  {
   "cell_type": "markdown",
   "id": "5924600f",
   "metadata": {},
   "source": [
    "Here is a list of the things you should have understood as a result of doing this exercise:\n",
    "\n",
    "1.\tWhat is a vector?\n",
    "\n",
    "`An array which can store multiple variables in str or int or float`\n",
    "\n",
    "2.\tWhat is an object?\n",
    "\n",
    "`A variable which can store a single value in str or int or float`\n",
    "\n",
    "3.\tWhy is it useful to create and save script in R?\n",
    "\n",
    "`To reuse it`\n",
    "\n",
    "4.\tWhat might you use square brackets after an object for?\n",
    "\n",
    "`Indexing and slicing of a dataframe or matrix`\n",
    "\n",
    "5.\tWhat is ‘tapply’ useful for?\n",
    "\n",
    "`select specific columns and rows for summary statistics`\n",
    "\n",
    "6.\tWhat kind of file format is useful to import data into R?\n",
    "\n",
    "`csv comma separated`\n",
    "\n",
    "7.\tWhat should you type in order to learn more about a function? For example the ‘tapply’ function or the ‘hist’ function?\n",
    "\n",
    "`question mark`"
   ]
  },
  {
   "cell_type": "code",
   "execution_count": null,
   "id": "eeaff8a5",
   "metadata": {},
   "outputs": [],
   "source": []
  }
 ],
 "metadata": {
  "kernelspec": {
   "display_name": "R",
   "language": "R",
   "name": "ir"
  },
  "language_info": {
   "codemirror_mode": "r",
   "file_extension": ".r",
   "mimetype": "text/x-r-source",
   "name": "R",
   "pygments_lexer": "r",
   "version": "3.6.1"
  },
  "toc": {
   "base_numbering": 1,
   "nav_menu": {},
   "number_sections": true,
   "sideBar": true,
   "skip_h1_title": false,
   "title_cell": "Table of Contents",
   "title_sidebar": "Contents",
   "toc_cell": false,
   "toc_position": {},
   "toc_section_display": true,
   "toc_window_display": true
  }
 },
 "nbformat": 4,
 "nbformat_minor": 5
}
