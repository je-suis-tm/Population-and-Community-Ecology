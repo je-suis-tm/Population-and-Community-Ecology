﻿{
 "cells": [
  {
   "cell_type": "markdown",
   "id": "42d5fb53",
   "metadata": {},
   "source": [
    "## Lab 6 - \tCommunity ecology"
   ]
  },
  {
   "cell_type": "markdown",
   "id": "945ac4d6",
   "metadata": {},
   "source": [
    "### Getting the arthropod data into R"
   ]
  },
  {
   "cell_type": "markdown",
   "id": "74f98246",
   "metadata": {},
   "source": [
    "First things first, let’s enter the pitfall data we collected from the fieldtrip into R. Identifying arthropods is a lot of work. We opted for a more simple approach while identifying them at Fortescue Bay. Most of the arthropods that were pitfall trapped were identified to Order, some to Family and Class, and an Other group. \n",
    "\n",
    "Below is a copy of some of the arthropods collected from two of the four transect lines on a previous Fortescue Bay fieldtrip. The full list of arthropods also includes Isopoda, Mollusca, Arachnida and Other: This spreadsheet also contains information on the identity of each individual pitfall trap (Trap, with A-D representing each transect line), its distance along the transect line (Distance) and the habitat of each pitfall trap (Habitat).\n"
   ]
  },
  {
   "cell_type": "code",
   "execution_count": 1,
   "id": "1be0ed7c",
   "metadata": {},
   "outputs": [
    {
     "data": {
      "text/html": [
       "<table class=\"dataframe\">\n",
       "<caption>A data.frame: 44 × 13</caption>\n",
       "<thead>\n",
       "\t<tr><th scope=col>Trap</th><th scope=col>Distance</th><th scope=col>Habitat</th><th scope=col>Amphipoda</th><th scope=col>Coleoptera</th><th scope=col>Collembola</th><th scope=col>Diplopoda</th><th scope=col>Chilopoda</th><th scope=col>Formicidae</th><th scope=col>Isopoda</th><th scope=col>Mollusca</th><th scope=col>Arachnida</th><th scope=col>Other</th></tr>\n",
       "\t<tr><th scope=col>&lt;chr&gt;</th><th scope=col>&lt;int&gt;</th><th scope=col>&lt;chr&gt;</th><th scope=col>&lt;int&gt;</th><th scope=col>&lt;int&gt;</th><th scope=col>&lt;int&gt;</th><th scope=col>&lt;int&gt;</th><th scope=col>&lt;int&gt;</th><th scope=col>&lt;int&gt;</th><th scope=col>&lt;int&gt;</th><th scope=col>&lt;int&gt;</th><th scope=col>&lt;int&gt;</th><th scope=col>&lt;int&gt;</th></tr>\n",
       "</thead>\n",
       "<tbody>\n",
       "\t<tr><td>A_0 </td><td> 0</td><td>Beach</td><td>36</td><td>0</td><td> 0</td><td>0</td><td> 0</td><td> 1</td><td>0</td><td>0</td><td>7</td><td>1</td></tr>\n",
       "\t<tr><td>A_5 </td><td> 5</td><td>Beach</td><td>23</td><td>0</td><td> 0</td><td>0</td><td> 3</td><td> 0</td><td>0</td><td>0</td><td>6</td><td>0</td></tr>\n",
       "\t<tr><td>A_10</td><td>10</td><td>Beach</td><td> 6</td><td>0</td><td> 0</td><td>0</td><td>10</td><td> 0</td><td>5</td><td>0</td><td>6</td><td>0</td></tr>\n",
       "\t<tr><td>A_15</td><td>15</td><td>Beach</td><td> 9</td><td>2</td><td> 0</td><td>0</td><td> 0</td><td> 0</td><td>0</td><td>0</td><td>5</td><td>0</td></tr>\n",
       "\t<tr><td>A_20</td><td>20</td><td>Dune </td><td> 0</td><td>0</td><td> 0</td><td>1</td><td> 0</td><td> 2</td><td>0</td><td>0</td><td>0</td><td>1</td></tr>\n",
       "\t<tr><td>A_25</td><td>25</td><td>Dune </td><td> 0</td><td>0</td><td> 0</td><td>1</td><td> 0</td><td>16</td><td>0</td><td>0</td><td>1</td><td>0</td></tr>\n",
       "\t<tr><td>A_30</td><td>30</td><td>Dune </td><td> 1</td><td>0</td><td> 0</td><td>0</td><td> 0</td><td> 0</td><td>0</td><td>0</td><td>2</td><td>0</td></tr>\n",
       "\t<tr><td>A_35</td><td>35</td><td>Scrub</td><td> 5</td><td>0</td><td> 0</td><td>0</td><td> 0</td><td> 0</td><td>1</td><td>0</td><td>0</td><td>0</td></tr>\n",
       "\t<tr><td>A_40</td><td>40</td><td>Scrub</td><td> 5</td><td>0</td><td> 0</td><td>0</td><td> 0</td><td> 0</td><td>0</td><td>1</td><td>2</td><td>0</td></tr>\n",
       "\t<tr><td>A_45</td><td>45</td><td>Scrub</td><td> 5</td><td>0</td><td> 4</td><td>0</td><td> 0</td><td> 0</td><td>0</td><td>0</td><td>0</td><td>0</td></tr>\n",
       "\t<tr><td>A_50</td><td>50</td><td>Scrub</td><td> 2</td><td>0</td><td> 2</td><td>0</td><td> 0</td><td> 0</td><td>0</td><td>0</td><td>1</td><td>0</td></tr>\n",
       "\t<tr><td>B_0 </td><td> 0</td><td>Beach</td><td>25</td><td>0</td><td> 0</td><td>0</td><td> 1</td><td> 0</td><td>0</td><td>0</td><td>5</td><td>0</td></tr>\n",
       "\t<tr><td>B_5 </td><td> 5</td><td>Beach</td><td>17</td><td>2</td><td> 0</td><td>0</td><td>14</td><td> 0</td><td>0</td><td>0</td><td>0</td><td>0</td></tr>\n",
       "\t<tr><td>B_10</td><td>10</td><td>Beach</td><td>15</td><td>0</td><td> 0</td><td>0</td><td>20</td><td> 0</td><td>0</td><td>0</td><td>3</td><td>0</td></tr>\n",
       "\t<tr><td>B_15</td><td>15</td><td>Beach</td><td> 7</td><td>0</td><td> 0</td><td>0</td><td> 1</td><td> 0</td><td>0</td><td>0</td><td>4</td><td>0</td></tr>\n",
       "\t<tr><td>B_20</td><td>20</td><td>Dune </td><td> 0</td><td>0</td><td> 0</td><td>2</td><td> 0</td><td> 0</td><td>0</td><td>0</td><td>0</td><td>0</td></tr>\n",
       "\t<tr><td>B_25</td><td>25</td><td>Dune </td><td> 1</td><td>0</td><td> 0</td><td>1</td><td> 0</td><td> 0</td><td>0</td><td>0</td><td>0</td><td>0</td></tr>\n",
       "\t<tr><td>B_30</td><td>30</td><td>Dune </td><td> 2</td><td>1</td><td> 0</td><td>4</td><td> 0</td><td> 0</td><td>0</td><td>0</td><td>3</td><td>0</td></tr>\n",
       "\t<tr><td>B_35</td><td>35</td><td>Scrub</td><td> 0</td><td>1</td><td> 0</td><td>1</td><td> 0</td><td> 0</td><td>0</td><td>0</td><td>2</td><td>0</td></tr>\n",
       "\t<tr><td>B_40</td><td>40</td><td>Scrub</td><td> 6</td><td>6</td><td> 0</td><td>1</td><td> 0</td><td> 0</td><td>0</td><td>0</td><td>2</td><td>0</td></tr>\n",
       "\t<tr><td>B_45</td><td>45</td><td>Scrub</td><td> 3</td><td>0</td><td> 0</td><td>0</td><td> 0</td><td> 0</td><td>0</td><td>0</td><td>0</td><td>0</td></tr>\n",
       "\t<tr><td>B_50</td><td>50</td><td>Scrub</td><td>24</td><td>2</td><td> 0</td><td>0</td><td> 0</td><td> 0</td><td>0</td><td>0</td><td>2</td><td>0</td></tr>\n",
       "\t<tr><td>C_0 </td><td> 0</td><td>Beach</td><td>17</td><td>1</td><td> 0</td><td>0</td><td> 1</td><td> 0</td><td>0</td><td>0</td><td>0</td><td>0</td></tr>\n",
       "\t<tr><td>C_5 </td><td> 5</td><td>Beach</td><td>10</td><td>0</td><td> 0</td><td>0</td><td> 0</td><td> 0</td><td>1</td><td>0</td><td>1</td><td>0</td></tr>\n",
       "\t<tr><td>C_10</td><td>10</td><td>Beach</td><td> 8</td><td>0</td><td> 0</td><td>0</td><td> 1</td><td> 0</td><td>0</td><td>0</td><td>4</td><td>0</td></tr>\n",
       "\t<tr><td>C_15</td><td>15</td><td>Beach</td><td> 8</td><td>1</td><td> 0</td><td>0</td><td> 0</td><td> 0</td><td>1</td><td>0</td><td>2</td><td>0</td></tr>\n",
       "\t<tr><td>C_20</td><td>20</td><td>Dune </td><td>10</td><td>0</td><td> 0</td><td>1</td><td> 0</td><td> 0</td><td>4</td><td>0</td><td>0</td><td>0</td></tr>\n",
       "\t<tr><td>C_25</td><td>25</td><td>Dune </td><td> 0</td><td>1</td><td> 0</td><td>2</td><td> 0</td><td> 0</td><td>0</td><td>0</td><td>0</td><td>0</td></tr>\n",
       "\t<tr><td>C_30</td><td>30</td><td>Dune </td><td> 0</td><td>0</td><td> 0</td><td>4</td><td> 0</td><td> 2</td><td>0</td><td>0</td><td>1</td><td>0</td></tr>\n",
       "\t<tr><td>C_35</td><td>35</td><td>Scrub</td><td> 0</td><td>1</td><td> 3</td><td>0</td><td> 0</td><td> 0</td><td>0</td><td>0</td><td>2</td><td>0</td></tr>\n",
       "\t<tr><td>C_40</td><td>40</td><td>Scrub</td><td> 0</td><td>1</td><td>11</td><td>0</td><td> 0</td><td> 0</td><td>0</td><td>0</td><td>2</td><td>0</td></tr>\n",
       "\t<tr><td>C_45</td><td>45</td><td>Scrub</td><td> 0</td><td>2</td><td> 2</td><td>0</td><td> 0</td><td> 0</td><td>0</td><td>0</td><td>1</td><td>0</td></tr>\n",
       "\t<tr><td>C_50</td><td>50</td><td>Scrub</td><td> 0</td><td>1</td><td> 5</td><td>0</td><td> 0</td><td> 0</td><td>0</td><td>0</td><td>0</td><td>0</td></tr>\n",
       "\t<tr><td>D_0 </td><td> 0</td><td>Beach</td><td>21</td><td>0</td><td> 0</td><td>0</td><td> 0</td><td> 0</td><td>1</td><td>0</td><td>1</td><td>0</td></tr>\n",
       "\t<tr><td>D_5 </td><td> 5</td><td>Beach</td><td>15</td><td>0</td><td> 0</td><td>0</td><td> 0</td><td> 0</td><td>1</td><td>0</td><td>6</td><td>0</td></tr>\n",
       "\t<tr><td>D_10</td><td>10</td><td>Beach</td><td> 9</td><td>1</td><td> 0</td><td>0</td><td> 0</td><td> 0</td><td>1</td><td>0</td><td>2</td><td>0</td></tr>\n",
       "\t<tr><td>D_15</td><td>15</td><td>Beach</td><td> 0</td><td>2</td><td> 8</td><td>0</td><td> 1</td><td> 0</td><td>0</td><td>0</td><td>0</td><td>0</td></tr>\n",
       "\t<tr><td>D_20</td><td>20</td><td>Dune </td><td> 0</td><td>0</td><td> 9</td><td>0</td><td> 0</td><td> 0</td><td>0</td><td>0</td><td>1</td><td>0</td></tr>\n",
       "\t<tr><td>D_25</td><td>25</td><td>Dune </td><td> 0</td><td>0</td><td> 2</td><td>0</td><td> 0</td><td> 0</td><td>0</td><td>0</td><td>0</td><td>0</td></tr>\n",
       "\t<tr><td>D_30</td><td>30</td><td>Dune </td><td> 0</td><td>0</td><td> 6</td><td>6</td><td> 0</td><td> 0</td><td>0</td><td>0</td><td>2</td><td>0</td></tr>\n",
       "\t<tr><td>D_35</td><td>35</td><td>Scrub</td><td> 0</td><td>0</td><td> 4</td><td>0</td><td> 0</td><td> 0</td><td>0</td><td>0</td><td>0</td><td>0</td></tr>\n",
       "\t<tr><td>D_40</td><td>40</td><td>Scrub</td><td> 0</td><td>0</td><td> 1</td><td>0</td><td> 0</td><td> 0</td><td>0</td><td>0</td><td>0</td><td>0</td></tr>\n",
       "\t<tr><td>D_45</td><td>45</td><td>Scrub</td><td> 0</td><td>7</td><td>45</td><td>0</td><td> 0</td><td> 1</td><td>0</td><td>0</td><td>2</td><td>0</td></tr>\n",
       "\t<tr><td>D_50</td><td>50</td><td>Scrub</td><td> 0</td><td>5</td><td>49</td><td>0</td><td> 2</td><td> 1</td><td>0</td><td>0</td><td>0</td><td>0</td></tr>\n",
       "</tbody>\n",
       "</table>\n"
      ],
      "text/latex": [
       "A data.frame: 44 × 13\n",
       "\\begin{tabular}{lllllllllllll}\n",
       " Trap & Distance & Habitat & Amphipoda & Coleoptera & Collembola & Diplopoda & Chilopoda & Formicidae & Isopoda & Mollusca & Arachnida & Other\\\\\n",
       " <chr> & <int> & <chr> & <int> & <int> & <int> & <int> & <int> & <int> & <int> & <int> & <int> & <int>\\\\\n",
       "\\hline\n",
       "\t A\\_0  &  0 & Beach & 36 & 0 &  0 & 0 &  0 &  1 & 0 & 0 & 7 & 1\\\\\n",
       "\t A\\_5  &  5 & Beach & 23 & 0 &  0 & 0 &  3 &  0 & 0 & 0 & 6 & 0\\\\\n",
       "\t A\\_10 & 10 & Beach &  6 & 0 &  0 & 0 & 10 &  0 & 5 & 0 & 6 & 0\\\\\n",
       "\t A\\_15 & 15 & Beach &  9 & 2 &  0 & 0 &  0 &  0 & 0 & 0 & 5 & 0\\\\\n",
       "\t A\\_20 & 20 & Dune  &  0 & 0 &  0 & 1 &  0 &  2 & 0 & 0 & 0 & 1\\\\\n",
       "\t A\\_25 & 25 & Dune  &  0 & 0 &  0 & 1 &  0 & 16 & 0 & 0 & 1 & 0\\\\\n",
       "\t A\\_30 & 30 & Dune  &  1 & 0 &  0 & 0 &  0 &  0 & 0 & 0 & 2 & 0\\\\\n",
       "\t A\\_35 & 35 & Scrub &  5 & 0 &  0 & 0 &  0 &  0 & 1 & 0 & 0 & 0\\\\\n",
       "\t A\\_40 & 40 & Scrub &  5 & 0 &  0 & 0 &  0 &  0 & 0 & 1 & 2 & 0\\\\\n",
       "\t A\\_45 & 45 & Scrub &  5 & 0 &  4 & 0 &  0 &  0 & 0 & 0 & 0 & 0\\\\\n",
       "\t A\\_50 & 50 & Scrub &  2 & 0 &  2 & 0 &  0 &  0 & 0 & 0 & 1 & 0\\\\\n",
       "\t B\\_0  &  0 & Beach & 25 & 0 &  0 & 0 &  1 &  0 & 0 & 0 & 5 & 0\\\\\n",
       "\t B\\_5  &  5 & Beach & 17 & 2 &  0 & 0 & 14 &  0 & 0 & 0 & 0 & 0\\\\\n",
       "\t B\\_10 & 10 & Beach & 15 & 0 &  0 & 0 & 20 &  0 & 0 & 0 & 3 & 0\\\\\n",
       "\t B\\_15 & 15 & Beach &  7 & 0 &  0 & 0 &  1 &  0 & 0 & 0 & 4 & 0\\\\\n",
       "\t B\\_20 & 20 & Dune  &  0 & 0 &  0 & 2 &  0 &  0 & 0 & 0 & 0 & 0\\\\\n",
       "\t B\\_25 & 25 & Dune  &  1 & 0 &  0 & 1 &  0 &  0 & 0 & 0 & 0 & 0\\\\\n",
       "\t B\\_30 & 30 & Dune  &  2 & 1 &  0 & 4 &  0 &  0 & 0 & 0 & 3 & 0\\\\\n",
       "\t B\\_35 & 35 & Scrub &  0 & 1 &  0 & 1 &  0 &  0 & 0 & 0 & 2 & 0\\\\\n",
       "\t B\\_40 & 40 & Scrub &  6 & 6 &  0 & 1 &  0 &  0 & 0 & 0 & 2 & 0\\\\\n",
       "\t B\\_45 & 45 & Scrub &  3 & 0 &  0 & 0 &  0 &  0 & 0 & 0 & 0 & 0\\\\\n",
       "\t B\\_50 & 50 & Scrub & 24 & 2 &  0 & 0 &  0 &  0 & 0 & 0 & 2 & 0\\\\\n",
       "\t C\\_0  &  0 & Beach & 17 & 1 &  0 & 0 &  1 &  0 & 0 & 0 & 0 & 0\\\\\n",
       "\t C\\_5  &  5 & Beach & 10 & 0 &  0 & 0 &  0 &  0 & 1 & 0 & 1 & 0\\\\\n",
       "\t C\\_10 & 10 & Beach &  8 & 0 &  0 & 0 &  1 &  0 & 0 & 0 & 4 & 0\\\\\n",
       "\t C\\_15 & 15 & Beach &  8 & 1 &  0 & 0 &  0 &  0 & 1 & 0 & 2 & 0\\\\\n",
       "\t C\\_20 & 20 & Dune  & 10 & 0 &  0 & 1 &  0 &  0 & 4 & 0 & 0 & 0\\\\\n",
       "\t C\\_25 & 25 & Dune  &  0 & 1 &  0 & 2 &  0 &  0 & 0 & 0 & 0 & 0\\\\\n",
       "\t C\\_30 & 30 & Dune  &  0 & 0 &  0 & 4 &  0 &  2 & 0 & 0 & 1 & 0\\\\\n",
       "\t C\\_35 & 35 & Scrub &  0 & 1 &  3 & 0 &  0 &  0 & 0 & 0 & 2 & 0\\\\\n",
       "\t C\\_40 & 40 & Scrub &  0 & 1 & 11 & 0 &  0 &  0 & 0 & 0 & 2 & 0\\\\\n",
       "\t C\\_45 & 45 & Scrub &  0 & 2 &  2 & 0 &  0 &  0 & 0 & 0 & 1 & 0\\\\\n",
       "\t C\\_50 & 50 & Scrub &  0 & 1 &  5 & 0 &  0 &  0 & 0 & 0 & 0 & 0\\\\\n",
       "\t D\\_0  &  0 & Beach & 21 & 0 &  0 & 0 &  0 &  0 & 1 & 0 & 1 & 0\\\\\n",
       "\t D\\_5  &  5 & Beach & 15 & 0 &  0 & 0 &  0 &  0 & 1 & 0 & 6 & 0\\\\\n",
       "\t D\\_10 & 10 & Beach &  9 & 1 &  0 & 0 &  0 &  0 & 1 & 0 & 2 & 0\\\\\n",
       "\t D\\_15 & 15 & Beach &  0 & 2 &  8 & 0 &  1 &  0 & 0 & 0 & 0 & 0\\\\\n",
       "\t D\\_20 & 20 & Dune  &  0 & 0 &  9 & 0 &  0 &  0 & 0 & 0 & 1 & 0\\\\\n",
       "\t D\\_25 & 25 & Dune  &  0 & 0 &  2 & 0 &  0 &  0 & 0 & 0 & 0 & 0\\\\\n",
       "\t D\\_30 & 30 & Dune  &  0 & 0 &  6 & 6 &  0 &  0 & 0 & 0 & 2 & 0\\\\\n",
       "\t D\\_35 & 35 & Scrub &  0 & 0 &  4 & 0 &  0 &  0 & 0 & 0 & 0 & 0\\\\\n",
       "\t D\\_40 & 40 & Scrub &  0 & 0 &  1 & 0 &  0 &  0 & 0 & 0 & 0 & 0\\\\\n",
       "\t D\\_45 & 45 & Scrub &  0 & 7 & 45 & 0 &  0 &  1 & 0 & 0 & 2 & 0\\\\\n",
       "\t D\\_50 & 50 & Scrub &  0 & 5 & 49 & 0 &  2 &  1 & 0 & 0 & 0 & 0\\\\\n",
       "\\end{tabular}\n"
      ],
      "text/markdown": [
       "\n",
       "A data.frame: 44 × 13\n",
       "\n",
       "| Trap &lt;chr&gt; | Distance &lt;int&gt; | Habitat &lt;chr&gt; | Amphipoda &lt;int&gt; | Coleoptera &lt;int&gt; | Collembola &lt;int&gt; | Diplopoda &lt;int&gt; | Chilopoda &lt;int&gt; | Formicidae &lt;int&gt; | Isopoda &lt;int&gt; | Mollusca &lt;int&gt; | Arachnida &lt;int&gt; | Other &lt;int&gt; |\n",
       "|---|---|---|---|---|---|---|---|---|---|---|---|---|\n",
       "| A_0  |  0 | Beach | 36 | 0 |  0 | 0 |  0 |  1 | 0 | 0 | 7 | 1 |\n",
       "| A_5  |  5 | Beach | 23 | 0 |  0 | 0 |  3 |  0 | 0 | 0 | 6 | 0 |\n",
       "| A_10 | 10 | Beach |  6 | 0 |  0 | 0 | 10 |  0 | 5 | 0 | 6 | 0 |\n",
       "| A_15 | 15 | Beach |  9 | 2 |  0 | 0 |  0 |  0 | 0 | 0 | 5 | 0 |\n",
       "| A_20 | 20 | Dune  |  0 | 0 |  0 | 1 |  0 |  2 | 0 | 0 | 0 | 1 |\n",
       "| A_25 | 25 | Dune  |  0 | 0 |  0 | 1 |  0 | 16 | 0 | 0 | 1 | 0 |\n",
       "| A_30 | 30 | Dune  |  1 | 0 |  0 | 0 |  0 |  0 | 0 | 0 | 2 | 0 |\n",
       "| A_35 | 35 | Scrub |  5 | 0 |  0 | 0 |  0 |  0 | 1 | 0 | 0 | 0 |\n",
       "| A_40 | 40 | Scrub |  5 | 0 |  0 | 0 |  0 |  0 | 0 | 1 | 2 | 0 |\n",
       "| A_45 | 45 | Scrub |  5 | 0 |  4 | 0 |  0 |  0 | 0 | 0 | 0 | 0 |\n",
       "| A_50 | 50 | Scrub |  2 | 0 |  2 | 0 |  0 |  0 | 0 | 0 | 1 | 0 |\n",
       "| B_0  |  0 | Beach | 25 | 0 |  0 | 0 |  1 |  0 | 0 | 0 | 5 | 0 |\n",
       "| B_5  |  5 | Beach | 17 | 2 |  0 | 0 | 14 |  0 | 0 | 0 | 0 | 0 |\n",
       "| B_10 | 10 | Beach | 15 | 0 |  0 | 0 | 20 |  0 | 0 | 0 | 3 | 0 |\n",
       "| B_15 | 15 | Beach |  7 | 0 |  0 | 0 |  1 |  0 | 0 | 0 | 4 | 0 |\n",
       "| B_20 | 20 | Dune  |  0 | 0 |  0 | 2 |  0 |  0 | 0 | 0 | 0 | 0 |\n",
       "| B_25 | 25 | Dune  |  1 | 0 |  0 | 1 |  0 |  0 | 0 | 0 | 0 | 0 |\n",
       "| B_30 | 30 | Dune  |  2 | 1 |  0 | 4 |  0 |  0 | 0 | 0 | 3 | 0 |\n",
       "| B_35 | 35 | Scrub |  0 | 1 |  0 | 1 |  0 |  0 | 0 | 0 | 2 | 0 |\n",
       "| B_40 | 40 | Scrub |  6 | 6 |  0 | 1 |  0 |  0 | 0 | 0 | 2 | 0 |\n",
       "| B_45 | 45 | Scrub |  3 | 0 |  0 | 0 |  0 |  0 | 0 | 0 | 0 | 0 |\n",
       "| B_50 | 50 | Scrub | 24 | 2 |  0 | 0 |  0 |  0 | 0 | 0 | 2 | 0 |\n",
       "| C_0  |  0 | Beach | 17 | 1 |  0 | 0 |  1 |  0 | 0 | 0 | 0 | 0 |\n",
       "| C_5  |  5 | Beach | 10 | 0 |  0 | 0 |  0 |  0 | 1 | 0 | 1 | 0 |\n",
       "| C_10 | 10 | Beach |  8 | 0 |  0 | 0 |  1 |  0 | 0 | 0 | 4 | 0 |\n",
       "| C_15 | 15 | Beach |  8 | 1 |  0 | 0 |  0 |  0 | 1 | 0 | 2 | 0 |\n",
       "| C_20 | 20 | Dune  | 10 | 0 |  0 | 1 |  0 |  0 | 4 | 0 | 0 | 0 |\n",
       "| C_25 | 25 | Dune  |  0 | 1 |  0 | 2 |  0 |  0 | 0 | 0 | 0 | 0 |\n",
       "| C_30 | 30 | Dune  |  0 | 0 |  0 | 4 |  0 |  2 | 0 | 0 | 1 | 0 |\n",
       "| C_35 | 35 | Scrub |  0 | 1 |  3 | 0 |  0 |  0 | 0 | 0 | 2 | 0 |\n",
       "| C_40 | 40 | Scrub |  0 | 1 | 11 | 0 |  0 |  0 | 0 | 0 | 2 | 0 |\n",
       "| C_45 | 45 | Scrub |  0 | 2 |  2 | 0 |  0 |  0 | 0 | 0 | 1 | 0 |\n",
       "| C_50 | 50 | Scrub |  0 | 1 |  5 | 0 |  0 |  0 | 0 | 0 | 0 | 0 |\n",
       "| D_0  |  0 | Beach | 21 | 0 |  0 | 0 |  0 |  0 | 1 | 0 | 1 | 0 |\n",
       "| D_5  |  5 | Beach | 15 | 0 |  0 | 0 |  0 |  0 | 1 | 0 | 6 | 0 |\n",
       "| D_10 | 10 | Beach |  9 | 1 |  0 | 0 |  0 |  0 | 1 | 0 | 2 | 0 |\n",
       "| D_15 | 15 | Beach |  0 | 2 |  8 | 0 |  1 |  0 | 0 | 0 | 0 | 0 |\n",
       "| D_20 | 20 | Dune  |  0 | 0 |  9 | 0 |  0 |  0 | 0 | 0 | 1 | 0 |\n",
       "| D_25 | 25 | Dune  |  0 | 0 |  2 | 0 |  0 |  0 | 0 | 0 | 0 | 0 |\n",
       "| D_30 | 30 | Dune  |  0 | 0 |  6 | 6 |  0 |  0 | 0 | 0 | 2 | 0 |\n",
       "| D_35 | 35 | Scrub |  0 | 0 |  4 | 0 |  0 |  0 | 0 | 0 | 0 | 0 |\n",
       "| D_40 | 40 | Scrub |  0 | 0 |  1 | 0 |  0 |  0 | 0 | 0 | 0 | 0 |\n",
       "| D_45 | 45 | Scrub |  0 | 7 | 45 | 0 |  0 |  1 | 0 | 0 | 2 | 0 |\n",
       "| D_50 | 50 | Scrub |  0 | 5 | 49 | 0 |  2 |  1 | 0 | 0 | 0 | 0 |\n",
       "\n"
      ],
      "text/plain": [
       "   Trap Distance Habitat Amphipoda Coleoptera Collembola Diplopoda Chilopoda\n",
       "1  A_0   0       Beach   36        0           0         0          0       \n",
       "2  A_5   5       Beach   23        0           0         0          3       \n",
       "3  A_10 10       Beach    6        0           0         0         10       \n",
       "4  A_15 15       Beach    9        2           0         0          0       \n",
       "5  A_20 20       Dune     0        0           0         1          0       \n",
       "6  A_25 25       Dune     0        0           0         1          0       \n",
       "7  A_30 30       Dune     1        0           0         0          0       \n",
       "8  A_35 35       Scrub    5        0           0         0          0       \n",
       "9  A_40 40       Scrub    5        0           0         0          0       \n",
       "10 A_45 45       Scrub    5        0           4         0          0       \n",
       "11 A_50 50       Scrub    2        0           2         0          0       \n",
       "12 B_0   0       Beach   25        0           0         0          1       \n",
       "13 B_5   5       Beach   17        2           0         0         14       \n",
       "14 B_10 10       Beach   15        0           0         0         20       \n",
       "15 B_15 15       Beach    7        0           0         0          1       \n",
       "16 B_20 20       Dune     0        0           0         2          0       \n",
       "17 B_25 25       Dune     1        0           0         1          0       \n",
       "18 B_30 30       Dune     2        1           0         4          0       \n",
       "19 B_35 35       Scrub    0        1           0         1          0       \n",
       "20 B_40 40       Scrub    6        6           0         1          0       \n",
       "21 B_45 45       Scrub    3        0           0         0          0       \n",
       "22 B_50 50       Scrub   24        2           0         0          0       \n",
       "23 C_0   0       Beach   17        1           0         0          1       \n",
       "24 C_5   5       Beach   10        0           0         0          0       \n",
       "25 C_10 10       Beach    8        0           0         0          1       \n",
       "26 C_15 15       Beach    8        1           0         0          0       \n",
       "27 C_20 20       Dune    10        0           0         1          0       \n",
       "28 C_25 25       Dune     0        1           0         2          0       \n",
       "29 C_30 30       Dune     0        0           0         4          0       \n",
       "30 C_35 35       Scrub    0        1           3         0          0       \n",
       "31 C_40 40       Scrub    0        1          11         0          0       \n",
       "32 C_45 45       Scrub    0        2           2         0          0       \n",
       "33 C_50 50       Scrub    0        1           5         0          0       \n",
       "34 D_0   0       Beach   21        0           0         0          0       \n",
       "35 D_5   5       Beach   15        0           0         0          0       \n",
       "36 D_10 10       Beach    9        1           0         0          0       \n",
       "37 D_15 15       Beach    0        2           8         0          1       \n",
       "38 D_20 20       Dune     0        0           9         0          0       \n",
       "39 D_25 25       Dune     0        0           2         0          0       \n",
       "40 D_30 30       Dune     0        0           6         6          0       \n",
       "41 D_35 35       Scrub    0        0           4         0          0       \n",
       "42 D_40 40       Scrub    0        0           1         0          0       \n",
       "43 D_45 45       Scrub    0        7          45         0          0       \n",
       "44 D_50 50       Scrub    0        5          49         0          2       \n",
       "   Formicidae Isopoda Mollusca Arachnida Other\n",
       "1   1         0       0        7         1    \n",
       "2   0         0       0        6         0    \n",
       "3   0         5       0        6         0    \n",
       "4   0         0       0        5         0    \n",
       "5   2         0       0        0         1    \n",
       "6  16         0       0        1         0    \n",
       "7   0         0       0        2         0    \n",
       "8   0         1       0        0         0    \n",
       "9   0         0       1        2         0    \n",
       "10  0         0       0        0         0    \n",
       "11  0         0       0        1         0    \n",
       "12  0         0       0        5         0    \n",
       "13  0         0       0        0         0    \n",
       "14  0         0       0        3         0    \n",
       "15  0         0       0        4         0    \n",
       "16  0         0       0        0         0    \n",
       "17  0         0       0        0         0    \n",
       "18  0         0       0        3         0    \n",
       "19  0         0       0        2         0    \n",
       "20  0         0       0        2         0    \n",
       "21  0         0       0        0         0    \n",
       "22  0         0       0        2         0    \n",
       "23  0         0       0        0         0    \n",
       "24  0         1       0        1         0    \n",
       "25  0         0       0        4         0    \n",
       "26  0         1       0        2         0    \n",
       "27  0         4       0        0         0    \n",
       "28  0         0       0        0         0    \n",
       "29  2         0       0        1         0    \n",
       "30  0         0       0        2         0    \n",
       "31  0         0       0        2         0    \n",
       "32  0         0       0        1         0    \n",
       "33  0         0       0        0         0    \n",
       "34  0         1       0        1         0    \n",
       "35  0         1       0        6         0    \n",
       "36  0         1       0        2         0    \n",
       "37  0         0       0        0         0    \n",
       "38  0         0       0        1         0    \n",
       "39  0         0       0        0         0    \n",
       "40  0         0       0        2         0    \n",
       "41  0         0       0        0         0    \n",
       "42  0         0       0        0         0    \n",
       "43  1         0       0        2         0    \n",
       "44  1         0       0        0         0    "
      ]
     },
     "metadata": {},
     "output_type": "display_data"
    }
   ],
   "source": [
    "#read data\n",
    "setwd('C:/Users/tm/Downloads/utas/teaching')\n",
    "pitfall=read.csv('Pitfall data.csv')\n",
    "pitfall"
   ]
  },
  {
   "cell_type": "markdown",
   "id": "3fc3cc06",
   "metadata": {},
   "source": [
    "Open RStudio. As with previous labs using R, Begin with the following script, which clears any previous data stored in R"
   ]
  },
  {
   "cell_type": "code",
   "execution_count": 2,
   "id": "f2df4d39",
   "metadata": {},
   "outputs": [],
   "source": [
    "rm(list=ls())"
   ]
  },
  {
   "cell_type": "markdown",
   "id": "1eb70856",
   "metadata": {},
   "source": [
    "Now we need to read the data into R as a csv file (like you did in the Intro to R practical) and save it as an object. In this instance call this object ‘dat’.\n",
    "View your data\n"
   ]
  },
  {
   "cell_type": "code",
   "execution_count": 3,
   "id": "6f29eec5",
   "metadata": {},
   "outputs": [],
   "source": [
    "dat=read.csv('Pitfall data.csv')"
   ]
  },
  {
   "cell_type": "markdown",
   "id": "8a56b7c1",
   "metadata": {},
   "source": [
    "### Ways to measure communities"
   ]
  },
  {
   "cell_type": "markdown",
   "id": "f8c196ce",
   "metadata": {},
   "source": [
    "How do you measure a community? There are actually, lots of ways, but three techniques are common. These are:\n",
    "1.\tRichness – simply the number of species (or taxonomic groups of arthropods in your case, since we can’t identify everything to species).\n",
    "2.\tEvenness – a measure of how much variation there is in the abundances of each taxonomic group to one another (Pielou’s evenness is a common measure).\n",
    "3.\tDiversity – this is a composite measure of richness and evenness and is usually quantified using an index (Shannon index and Simpson index are two common ones).\n",
    "\n",
    "All of these are pretty simple to calculate and you can find good information on diversity indices in Wikipedia (http://en.wikipedia.org/wiki/Diversity_index). I am not going to spend this lab teaching you the math behind that, but instead I will help you cheat the system. \n",
    "R has a great purpose-built package for calculating these measures of communities, called ‘vegan’. Install and then require this package using the following script. You must be connected to the internet."
   ]
  },
  {
   "cell_type": "code",
   "execution_count": 4,
   "id": "74788a91",
   "metadata": {},
   "outputs": [
    {
     "name": "stdout",
     "output_type": "stream",
     "text": [
      "package 'vegan' successfully unpacked and MD5 sums checked\n",
      "\n",
      "The downloaded binary packages are in\n",
      "\tC:\\Users\\terry.mai\\AppData\\Local\\Temp\\Rtmpiw98Oo\\downloaded_packages\n"
     ]
    },
    {
     "name": "stderr",
     "output_type": "stream",
     "text": [
      "Loading required package: vegan\n",
      "\n",
      "Loading required package: permute\n",
      "\n",
      "Loading required package: lattice\n",
      "\n",
      "This is vegan 2.6-4\n",
      "\n"
     ]
    }
   ],
   "source": [
    "install.packages('vegan')\n",
    "require(vegan)"
   ]
  },
  {
   "cell_type": "markdown",
   "id": "710d2f6b",
   "metadata": {},
   "source": [
    "Before you can calculate any of the measures of community, you have to make sure R is working with the columns that contain the arthropod data only, otherwise R will try to include information from the Trap, Distance and Habitat columns in these also. This is easy. Create a new data object (call it ‘dat1’) for the arthropod columns only. Hint: use square brackets and see the Intro to R laboratory if you have forgotten how. Ask your demonstrator if you don’t understand this."
   ]
  },
  {
   "cell_type": "code",
   "execution_count": 5,
   "id": "6976b47a",
   "metadata": {},
   "outputs": [],
   "source": [
    "dat1=dat[,c('Amphipoda','Coleoptera','Collembola','Diplopoda','Chilopoda',\n",
    "            'Formicidae','Isopoda','Mollusca','Arachnida','Other')]"
   ]
  },
  {
   "cell_type": "markdown",
   "id": "70e81d0c",
   "metadata": {},
   "source": [
    "Now calculate each of these community measures for each pitfall trap (NB: if you would like more info on the code to calculate these, type “?diversity” in the R console):\n",
    "Create an object for each of these."
   ]
  },
  {
   "cell_type": "markdown",
   "id": "9de4c50f",
   "metadata": {},
   "source": [
    "Taxonomic richness – simply the number of arthropod taxa in each pitfall trap. Function:"
   ]
  },
  {
   "cell_type": "code",
   "execution_count": 6,
   "id": "8a85eef4",
   "metadata": {},
   "outputs": [
    {
     "data": {
      "text/html": [
       "<style>\n",
       ".list-inline {list-style: none; margin:0; padding: 0}\n",
       ".list-inline>li {display: inline-block}\n",
       ".list-inline>li:not(:last-child)::after {content: \"\\00b7\"; padding: 0 .5ex}\n",
       "</style>\n",
       "<ol class=list-inline><li>4</li><li>3</li><li>4</li><li>3</li><li>3</li><li>3</li><li>2</li><li>2</li><li>3</li><li>2</li><li>3</li><li>3</li><li>3</li><li>3</li><li>3</li><li>1</li><li>2</li><li>4</li><li>3</li><li>4</li><li>1</li><li>3</li><li>3</li><li>3</li><li>3</li><li>4</li><li>3</li><li>2</li><li>3</li><li>3</li><li>3</li><li>3</li><li>2</li><li>3</li><li>3</li><li>4</li><li>3</li><li>2</li><li>1</li><li>3</li><li>1</li><li>1</li><li>4</li><li>4</li></ol>\n"
      ],
      "text/latex": [
       "\\begin{enumerate*}\n",
       "\\item 4\n",
       "\\item 3\n",
       "\\item 4\n",
       "\\item 3\n",
       "\\item 3\n",
       "\\item 3\n",
       "\\item 2\n",
       "\\item 2\n",
       "\\item 3\n",
       "\\item 2\n",
       "\\item 3\n",
       "\\item 3\n",
       "\\item 3\n",
       "\\item 3\n",
       "\\item 3\n",
       "\\item 1\n",
       "\\item 2\n",
       "\\item 4\n",
       "\\item 3\n",
       "\\item 4\n",
       "\\item 1\n",
       "\\item 3\n",
       "\\item 3\n",
       "\\item 3\n",
       "\\item 3\n",
       "\\item 4\n",
       "\\item 3\n",
       "\\item 2\n",
       "\\item 3\n",
       "\\item 3\n",
       "\\item 3\n",
       "\\item 3\n",
       "\\item 2\n",
       "\\item 3\n",
       "\\item 3\n",
       "\\item 4\n",
       "\\item 3\n",
       "\\item 2\n",
       "\\item 1\n",
       "\\item 3\n",
       "\\item 1\n",
       "\\item 1\n",
       "\\item 4\n",
       "\\item 4\n",
       "\\end{enumerate*}\n"
      ],
      "text/markdown": [
       "1. 4\n",
       "2. 3\n",
       "3. 4\n",
       "4. 3\n",
       "5. 3\n",
       "6. 3\n",
       "7. 2\n",
       "8. 2\n",
       "9. 3\n",
       "10. 2\n",
       "11. 3\n",
       "12. 3\n",
       "13. 3\n",
       "14. 3\n",
       "15. 3\n",
       "16. 1\n",
       "17. 2\n",
       "18. 4\n",
       "19. 3\n",
       "20. 4\n",
       "21. 1\n",
       "22. 3\n",
       "23. 3\n",
       "24. 3\n",
       "25. 3\n",
       "26. 4\n",
       "27. 3\n",
       "28. 2\n",
       "29. 3\n",
       "30. 3\n",
       "31. 3\n",
       "32. 3\n",
       "33. 2\n",
       "34. 3\n",
       "35. 3\n",
       "36. 4\n",
       "37. 3\n",
       "38. 2\n",
       "39. 1\n",
       "40. 3\n",
       "41. 1\n",
       "42. 1\n",
       "43. 4\n",
       "44. 4\n",
       "\n",
       "\n"
      ],
      "text/plain": [
       " [1] 4 3 4 3 3 3 2 2 3 2 3 3 3 3 3 1 2 4 3 4 1 3 3 3 3 4 3 2 3 3 3 3 2 3 3 4 3 2\n",
       "[39] 1 3 1 1 4 4"
      ]
     },
     "metadata": {},
     "output_type": "display_data"
    }
   ],
   "source": [
    "richness=specnumber(dat1)\n",
    "richness"
   ]
  },
  {
   "cell_type": "markdown",
   "id": "8016d325",
   "metadata": {},
   "source": [
    "Simpson’s diversity index. Function:"
   ]
  },
  {
   "cell_type": "code",
   "execution_count": 7,
   "id": "a6c4c7ab",
   "metadata": {},
   "outputs": [
    {
     "data": {
      "text/html": [
       "<style>\n",
       ".list-inline {list-style: none; margin:0; padding: 0}\n",
       ".list-inline>li {display: inline-block}\n",
       ".list-inline>li:not(:last-child)::after {content: \"\\00b7\"; padding: 0 .5ex}\n",
       "</style>\n",
       "<ol class=list-inline><li>0.637150204707938</li><li>0.773149632557755</li><li>1.34864597256553</li><li>0.947057152282508</li><li>1.03972077083992</li><li>0.425848449238581</li><li>0.636514168294813</li><li>0.450561208866305</li><li>0.900256051268537</li><li>0.686961576597323</li><li>1.05492016798614</li><li>0.578532843714968</li><li>0.875364415263778</li><li>0.905185229368036</li><li>0.887694275799104</li><li>0</li><li>0.693147180559945</li><li>1.27985422583367</li><li>1.03972077083992</li><li>1.18222300164511</li><li>0</li><li>0.509137344082687</li><li>0.409458618695089</li><li>0.566085738959629</li><li>0.858740913006287</li><li>0.983087758574785</li><li>0.803314976140876</li><li>0.636514168294813</li><li>0.955699891112534</li><li>1.01140426470735</li><li>0.655975732336547</li><li>1.05492016798614</li><li>0.450561208866305</li><li>0.355712859746894</li><li>0.755982915544612</li><li>0.937155853065701</li><li>0.759547391474863</li><li>0.325082973391448</li><li>0</li><li>1.00424247305408</li><li>0</li><li>0</li><li>0.619924504429353</li><li>0.531951644488741</li></ol>\n"
      ],
      "text/latex": [
       "\\begin{enumerate*}\n",
       "\\item 0.637150204707938\n",
       "\\item 0.773149632557755\n",
       "\\item 1.34864597256553\n",
       "\\item 0.947057152282508\n",
       "\\item 1.03972077083992\n",
       "\\item 0.425848449238581\n",
       "\\item 0.636514168294813\n",
       "\\item 0.450561208866305\n",
       "\\item 0.900256051268537\n",
       "\\item 0.686961576597323\n",
       "\\item 1.05492016798614\n",
       "\\item 0.578532843714968\n",
       "\\item 0.875364415263778\n",
       "\\item 0.905185229368036\n",
       "\\item 0.887694275799104\n",
       "\\item 0\n",
       "\\item 0.693147180559945\n",
       "\\item 1.27985422583367\n",
       "\\item 1.03972077083992\n",
       "\\item 1.18222300164511\n",
       "\\item 0\n",
       "\\item 0.509137344082687\n",
       "\\item 0.409458618695089\n",
       "\\item 0.566085738959629\n",
       "\\item 0.858740913006287\n",
       "\\item 0.983087758574785\n",
       "\\item 0.803314976140876\n",
       "\\item 0.636514168294813\n",
       "\\item 0.955699891112534\n",
       "\\item 1.01140426470735\n",
       "\\item 0.655975732336547\n",
       "\\item 1.05492016798614\n",
       "\\item 0.450561208866305\n",
       "\\item 0.355712859746894\n",
       "\\item 0.755982915544612\n",
       "\\item 0.937155853065701\n",
       "\\item 0.759547391474863\n",
       "\\item 0.325082973391448\n",
       "\\item 0\n",
       "\\item 1.00424247305408\n",
       "\\item 0\n",
       "\\item 0\n",
       "\\item 0.619924504429353\n",
       "\\item 0.531951644488741\n",
       "\\end{enumerate*}\n"
      ],
      "text/markdown": [
       "1. 0.637150204707938\n",
       "2. 0.773149632557755\n",
       "3. 1.34864597256553\n",
       "4. 0.947057152282508\n",
       "5. 1.03972077083992\n",
       "6. 0.425848449238581\n",
       "7. 0.636514168294813\n",
       "8. 0.450561208866305\n",
       "9. 0.900256051268537\n",
       "10. 0.686961576597323\n",
       "11. 1.05492016798614\n",
       "12. 0.578532843714968\n",
       "13. 0.875364415263778\n",
       "14. 0.905185229368036\n",
       "15. 0.887694275799104\n",
       "16. 0\n",
       "17. 0.693147180559945\n",
       "18. 1.27985422583367\n",
       "19. 1.03972077083992\n",
       "20. 1.18222300164511\n",
       "21. 0\n",
       "22. 0.509137344082687\n",
       "23. 0.409458618695089\n",
       "24. 0.566085738959629\n",
       "25. 0.858740913006287\n",
       "26. 0.983087758574785\n",
       "27. 0.803314976140876\n",
       "28. 0.636514168294813\n",
       "29. 0.955699891112534\n",
       "30. 1.01140426470735\n",
       "31. 0.655975732336547\n",
       "32. 1.05492016798614\n",
       "33. 0.450561208866305\n",
       "34. 0.355712859746894\n",
       "35. 0.755982915544612\n",
       "36. 0.937155853065701\n",
       "37. 0.759547391474863\n",
       "38. 0.325082973391448\n",
       "39. 0\n",
       "40. 1.00424247305408\n",
       "41. 0\n",
       "42. 0\n",
       "43. 0.619924504429353\n",
       "44. 0.531951644488741\n",
       "\n",
       "\n"
      ],
      "text/plain": [
       " [1] 0.6371502 0.7731496 1.3486460 0.9470572 1.0397208 0.4258484 0.6365142\n",
       " [8] 0.4505612 0.9002561 0.6869616 1.0549202 0.5785328 0.8753644 0.9051852\n",
       "[15] 0.8876943 0.0000000 0.6931472 1.2798542 1.0397208 1.1822230 0.0000000\n",
       "[22] 0.5091373 0.4094586 0.5660857 0.8587409 0.9830878 0.8033150 0.6365142\n",
       "[29] 0.9556999 1.0114043 0.6559757 1.0549202 0.4505612 0.3557129 0.7559829\n",
       "[36] 0.9371559 0.7595474 0.3250830 0.0000000 1.0042425 0.0000000 0.0000000\n",
       "[43] 0.6199245 0.5319516"
      ]
     },
     "metadata": {},
     "output_type": "display_data"
    },
    {
     "data": {
      "text/html": [
       "<style>\n",
       ".list-inline {list-style: none; margin:0; padding: 0}\n",
       ".list-inline>li {display: inline-block}\n",
       ".list-inline>li:not(:last-child)::after {content: \"\\00b7\"; padding: 0 .5ex}\n",
       "</style>\n",
       "<ol class=list-inline><li>0.334814814814815</li><li>0.439453125</li><li>0.729766803840878</li><li>0.5703125</li><li>0.625</li><li>0.203703703703704</li><li>0.444444444444444</li><li>0.277777777777778</li><li>0.53125</li><li>0.493827160493827</li><li>0.64</li><li>0.32258064516129</li><li>0.550964187327824</li><li>0.560941828254848</li><li>0.541666666666667</li><li>0</li><li>0.5</li><li>0.7</li><li>0.625</li><li>0.657777777777778</li><li>0</li><li>0.255102040816327</li><li>0.193905817174515</li><li>0.291666666666667</li><li>0.520710059171598</li><li>0.513888888888889</li><li>0.48</li><li>0.444444444444444</li><li>0.571428571428571</li><li>0.611111111111111</li><li>0.357142857142857</li><li>0.64</li><li>0.277777777777778</li><li>0.162570888468809</li><li>0.458677685950413</li><li>0.485207100591716</li><li>0.429752066115702</li><li>0.18</li><li>0</li><li>0.612244897959184</li><li>0</li><li>0</li><li>0.312727272727273</li><li>0.251769775315482</li></ol>\n"
      ],
      "text/latex": [
       "\\begin{enumerate*}\n",
       "\\item 0.334814814814815\n",
       "\\item 0.439453125\n",
       "\\item 0.729766803840878\n",
       "\\item 0.5703125\n",
       "\\item 0.625\n",
       "\\item 0.203703703703704\n",
       "\\item 0.444444444444444\n",
       "\\item 0.277777777777778\n",
       "\\item 0.53125\n",
       "\\item 0.493827160493827\n",
       "\\item 0.64\n",
       "\\item 0.32258064516129\n",
       "\\item 0.550964187327824\n",
       "\\item 0.560941828254848\n",
       "\\item 0.541666666666667\n",
       "\\item 0\n",
       "\\item 0.5\n",
       "\\item 0.7\n",
       "\\item 0.625\n",
       "\\item 0.657777777777778\n",
       "\\item 0\n",
       "\\item 0.255102040816327\n",
       "\\item 0.193905817174515\n",
       "\\item 0.291666666666667\n",
       "\\item 0.520710059171598\n",
       "\\item 0.513888888888889\n",
       "\\item 0.48\n",
       "\\item 0.444444444444444\n",
       "\\item 0.571428571428571\n",
       "\\item 0.611111111111111\n",
       "\\item 0.357142857142857\n",
       "\\item 0.64\n",
       "\\item 0.277777777777778\n",
       "\\item 0.162570888468809\n",
       "\\item 0.458677685950413\n",
       "\\item 0.485207100591716\n",
       "\\item 0.429752066115702\n",
       "\\item 0.18\n",
       "\\item 0\n",
       "\\item 0.612244897959184\n",
       "\\item 0\n",
       "\\item 0\n",
       "\\item 0.312727272727273\n",
       "\\item 0.251769775315482\n",
       "\\end{enumerate*}\n"
      ],
      "text/markdown": [
       "1. 0.334814814814815\n",
       "2. 0.439453125\n",
       "3. 0.729766803840878\n",
       "4. 0.5703125\n",
       "5. 0.625\n",
       "6. 0.203703703703704\n",
       "7. 0.444444444444444\n",
       "8. 0.277777777777778\n",
       "9. 0.53125\n",
       "10. 0.493827160493827\n",
       "11. 0.64\n",
       "12. 0.32258064516129\n",
       "13. 0.550964187327824\n",
       "14. 0.560941828254848\n",
       "15. 0.541666666666667\n",
       "16. 0\n",
       "17. 0.5\n",
       "18. 0.7\n",
       "19. 0.625\n",
       "20. 0.657777777777778\n",
       "21. 0\n",
       "22. 0.255102040816327\n",
       "23. 0.193905817174515\n",
       "24. 0.291666666666667\n",
       "25. 0.520710059171598\n",
       "26. 0.513888888888889\n",
       "27. 0.48\n",
       "28. 0.444444444444444\n",
       "29. 0.571428571428571\n",
       "30. 0.611111111111111\n",
       "31. 0.357142857142857\n",
       "32. 0.64\n",
       "33. 0.277777777777778\n",
       "34. 0.162570888468809\n",
       "35. 0.458677685950413\n",
       "36. 0.485207100591716\n",
       "37. 0.429752066115702\n",
       "38. 0.18\n",
       "39. 0\n",
       "40. 0.612244897959184\n",
       "41. 0\n",
       "42. 0\n",
       "43. 0.312727272727273\n",
       "44. 0.251769775315482\n",
       "\n",
       "\n"
      ],
      "text/plain": [
       " [1] 0.3348148 0.4394531 0.7297668 0.5703125 0.6250000 0.2037037 0.4444444\n",
       " [8] 0.2777778 0.5312500 0.4938272 0.6400000 0.3225806 0.5509642 0.5609418\n",
       "[15] 0.5416667 0.0000000 0.5000000 0.7000000 0.6250000 0.6577778 0.0000000\n",
       "[22] 0.2551020 0.1939058 0.2916667 0.5207101 0.5138889 0.4800000 0.4444444\n",
       "[29] 0.5714286 0.6111111 0.3571429 0.6400000 0.2777778 0.1625709 0.4586777\n",
       "[36] 0.4852071 0.4297521 0.1800000 0.0000000 0.6122449 0.0000000 0.0000000\n",
       "[43] 0.3127273 0.2517698"
      ]
     },
     "metadata": {},
     "output_type": "display_data"
    }
   ],
   "source": [
    "shannon_diversity=diversity(dat1,index = \"shannon\")\n",
    "simpson_diversity=diversity(dat1,index = \"simpson\")\n",
    "shannon_diversity\n",
    "simpson_diversity"
   ]
  },
  {
   "cell_type": "markdown",
   "id": "4b6cff2d",
   "metadata": {},
   "source": [
    "Pielou’s evenness – I have added 1 to richness in case any pitfall traps were empty…try typing log(0) in R to understand why. Function:"
   ]
  },
  {
   "cell_type": "code",
   "execution_count": 8,
   "id": "f688695c",
   "metadata": {},
   "outputs": [
    {
     "data": {
      "text/html": [
       "<style>\n",
       ".list-inline {list-style: none; margin:0; padding: 0}\n",
       ".list-inline>li {display: inline-block}\n",
       ".list-inline>li:not(:last-child)::after {content: \"\\00b7\"; padding: 0 .5ex}\n",
       "</style>\n",
       "<ol class=list-inline><li>0.208032141052551</li><li>0.316998422070329</li><li>0.453429609308249</li><li>0.411393507753493</li><li>0.450842200277801</li><li>0.146941161572024</li><li>0.404550767389705</li><li>0.252844229618566</li><li>0.383215870236131</li><li>0.449500852655228</li><li>0.461662413084468</li><li>0.232692748530478</li><li>0.397436650382635</li><li>0.404633996925229</li><li>0.390729906907428</li><li>0</li><li>0.455119613313419</li><li>0.434934454191728</li><li>0.450842200277801</li><li>0.408700312510322</li><li>0</li><li>0.184017224603184</li><li>0.139873480418598</li><li>0.210393026796307</li><li>0.375612910053931</li><li>0.319297119148689</li><li>0.346246809813351</li><li>0.404550767389705</li><li>0.412198583111132</li><li>0.440823484716072</li><li>0.257624114444458</li><li>0.461662413084468</li><li>0.252844229618566</li><li>0.117270107293432</li><li>0.330866011443543</li><li>0.301476122094013</li><li>0.310000587298455</li><li>0.163843060792831</li><li>0</li><li>0.441641339047642</li><li>0</li><li>0</li><li>0.194308379535006</li><li>0.156433356869733</li></ol>\n"
      ],
      "text/latex": [
       "\\begin{enumerate*}\n",
       "\\item 0.208032141052551\n",
       "\\item 0.316998422070329\n",
       "\\item 0.453429609308249\n",
       "\\item 0.411393507753493\n",
       "\\item 0.450842200277801\n",
       "\\item 0.146941161572024\n",
       "\\item 0.404550767389705\n",
       "\\item 0.252844229618566\n",
       "\\item 0.383215870236131\n",
       "\\item 0.449500852655228\n",
       "\\item 0.461662413084468\n",
       "\\item 0.232692748530478\n",
       "\\item 0.397436650382635\n",
       "\\item 0.404633996925229\n",
       "\\item 0.390729906907428\n",
       "\\item 0\n",
       "\\item 0.455119613313419\n",
       "\\item 0.434934454191728\n",
       "\\item 0.450842200277801\n",
       "\\item 0.408700312510322\n",
       "\\item 0\n",
       "\\item 0.184017224603184\n",
       "\\item 0.139873480418598\n",
       "\\item 0.210393026796307\n",
       "\\item 0.375612910053931\n",
       "\\item 0.319297119148689\n",
       "\\item 0.346246809813351\n",
       "\\item 0.404550767389705\n",
       "\\item 0.412198583111132\n",
       "\\item 0.440823484716072\n",
       "\\item 0.257624114444458\n",
       "\\item 0.461662413084468\n",
       "\\item 0.252844229618566\n",
       "\\item 0.117270107293432\n",
       "\\item 0.330866011443543\n",
       "\\item 0.301476122094013\n",
       "\\item 0.310000587298455\n",
       "\\item 0.163843060792831\n",
       "\\item 0\n",
       "\\item 0.441641339047642\n",
       "\\item 0\n",
       "\\item 0\n",
       "\\item 0.194308379535006\n",
       "\\item 0.156433356869733\n",
       "\\end{enumerate*}\n"
      ],
      "text/markdown": [
       "1. 0.208032141052551\n",
       "2. 0.316998422070329\n",
       "3. 0.453429609308249\n",
       "4. 0.411393507753493\n",
       "5. 0.450842200277801\n",
       "6. 0.146941161572024\n",
       "7. 0.404550767389705\n",
       "8. 0.252844229618566\n",
       "9. 0.383215870236131\n",
       "10. 0.449500852655228\n",
       "11. 0.461662413084468\n",
       "12. 0.232692748530478\n",
       "13. 0.397436650382635\n",
       "14. 0.404633996925229\n",
       "15. 0.390729906907428\n",
       "16. 0\n",
       "17. 0.455119613313419\n",
       "18. 0.434934454191728\n",
       "19. 0.450842200277801\n",
       "20. 0.408700312510322\n",
       "21. 0\n",
       "22. 0.184017224603184\n",
       "23. 0.139873480418598\n",
       "24. 0.210393026796307\n",
       "25. 0.375612910053931\n",
       "26. 0.319297119148689\n",
       "27. 0.346246809813351\n",
       "28. 0.404550767389705\n",
       "29. 0.412198583111132\n",
       "30. 0.440823484716072\n",
       "31. 0.257624114444458\n",
       "32. 0.461662413084468\n",
       "33. 0.252844229618566\n",
       "34. 0.117270107293432\n",
       "35. 0.330866011443543\n",
       "36. 0.301476122094013\n",
       "37. 0.310000587298455\n",
       "38. 0.163843060792831\n",
       "39. 0\n",
       "40. 0.441641339047642\n",
       "41. 0\n",
       "42. 0\n",
       "43. 0.194308379535006\n",
       "44. 0.156433356869733\n",
       "\n",
       "\n"
      ],
      "text/plain": [
       " [1] 0.2080321 0.3169984 0.4534296 0.4113935 0.4508422 0.1469412 0.4045508\n",
       " [8] 0.2528442 0.3832159 0.4495009 0.4616624 0.2326927 0.3974367 0.4046340\n",
       "[15] 0.3907299 0.0000000 0.4551196 0.4349345 0.4508422 0.4087003 0.0000000\n",
       "[22] 0.1840172 0.1398735 0.2103930 0.3756129 0.3192971 0.3462468 0.4045508\n",
       "[29] 0.4121986 0.4408235 0.2576241 0.4616624 0.2528442 0.1172701 0.3308660\n",
       "[36] 0.3014761 0.3100006 0.1638431 0.0000000 0.4416413 0.0000000 0.0000000\n",
       "[43] 0.1943084 0.1564334"
      ]
     },
     "metadata": {},
     "output_type": "display_data"
    }
   ],
   "source": [
    "eveness=simpson_diversity/log(richness+1)\n",
    "eveness"
   ]
  },
  {
   "cell_type": "markdown",
   "id": "2b09a84c",
   "metadata": {},
   "source": [
    "### Does richness, evenness and diversity differ among the habitat types (beach, dunes, scrub)?"
   ]
  },
  {
   "cell_type": "markdown",
   "id": "0a9a96a4",
   "metadata": {},
   "source": [
    "How would you determine if any of these measures of community structure differ among the habitat types? Think back to previous labs and what you have learned…..Try and answer this before reading further. \n",
    "\n",
    "\n",
    "By now I hope you have all come up with the answer – analysis of variance (ANOVA) – as the type of analysis needed to compare how your measures of community structure differ among the habitat types. \n",
    "Let’s conduct those analyses and also make some graphs comparing the three habitat types.\n",
    "Before we get started, create an object (e.g., dat2) which combines the information you have on Trap identity, Distance along the transect,  \n",
    "Use your knowledge from the ANOVA lab to perform these analyses and answer the following question. Does arthropod taxonomic richness/diversity/evenness differ between the habitat types? "
   ]
  },
  {
   "cell_type": "code",
   "execution_count": 10,
   "id": "2a280ed2",
   "metadata": {},
   "outputs": [],
   "source": [
    "#slice data\n",
    "dat2=dat[,c('Habitat','Amphipoda','Coleoptera','Collembola','Diplopoda',\n",
    "            'Chilopoda','Formicidae','Isopoda','Mollusca','Arachnida','Other')]\n",
    "\n",
    "#get unique habitats\n",
    "set1=unique(dat2['Habitat'])\n",
    "\n",
    "#reconstruct data\n",
    "output=data.frame()\n",
    "\n",
    "for(i in 1:nrow(set1))\n",
    "{\n",
    "    #get specific habitat\n",
    "    subset=dat2[dat2$Habitat==set1$Habitat[i],]\n",
    "    \n",
    "    #del non numerical col\n",
    "    subset=subset[,-1]\n",
    "    \n",
    "    #compute\n",
    "    richness=specnumber(subset)    \n",
    "    simpson_diversity=diversity(subset,index = \"simpson\")\n",
    "    eveness=simpson_diversity/log(richness+1)\n",
    "    \n",
    "    #create dataframe subset\n",
    "    new=data.frame(cbind(richness,simpson_diversity,eveness))\n",
    "    rownames(new) <- 1:length(rownames(new))\n",
    "    new$habitat=set1$Habitat[i]\n",
    "    \n",
    "    #concat\n",
    "    output=rbind(output,new)    \n",
    "    \n",
    "}"
   ]
  },
  {
   "cell_type": "code",
   "execution_count": 11,
   "id": "e3a68b02",
   "metadata": {},
   "outputs": [
    {
     "data": {
      "text/plain": [
       "               Df Sum Sq Mean Sq F value Pr(>F)  \n",
       "output$habitat  2  5.492  2.7462    4.07 0.0244 *\n",
       "Residuals      41 27.667  0.6748                 \n",
       "---\n",
       "Signif. codes:  0 '***' 0.001 '**' 0.01 '*' 0.05 '.' 0.1 ' ' 1"
      ]
     },
     "metadata": {},
     "output_type": "display_data"
    }
   ],
   "source": [
    "aov_rich=aov(as.integer(output$richness)~output$habitat,data=output)\n",
    "summary(aov_rich)\n"
   ]
  },
  {
   "cell_type": "markdown",
   "id": "e2a54352",
   "metadata": {},
   "source": [
    "If you did detect a difference in richness, evenness or diversity between the habitat types, how could you tell which differ from which? Do all three differ from one another, or does one differ from the other two?\n",
    "If you did detect any significant differences between habitats, you need to do what is called a post-hoc test, where all possible pair-wise combinations of habitats (beach vs. dune, beach vs. scrub, dune vs. scrub) are contrasted to see how they differ from one another. The most common test for this is Tukey’s post-hoc test. The function to undertake this is:"
   ]
  },
  {
   "cell_type": "code",
   "execution_count": 12,
   "id": "16824828",
   "metadata": {},
   "outputs": [
    {
     "data": {
      "text/plain": [
       "  Tukey multiple comparisons of means\n",
       "    95% family-wise confidence level\n",
       "\n",
       "Fit: aov(formula = as.integer(output$richness) ~ output$habitat, data = output)\n",
       "\n",
       "$`output$habitat`\n",
       "                  diff        lwr         upr     p adj\n",
       "Dune-Beach  -0.8333333 -1.5961429 -0.07052379 0.0295158\n",
       "Scrub-Beach -0.6250000 -1.3312244  0.08122441 0.0919292\n",
       "Scrub-Dune   0.2083333 -0.5544762  0.97114288 0.7854473\n"
      ]
     },
     "metadata": {},
     "output_type": "display_data"
    }
   ],
   "source": [
    "TukeyHSD(aov_rich)    "
   ]
  },
  {
   "cell_type": "markdown",
   "id": "31c75cbb",
   "metadata": {},
   "source": [
    "where # is the ANOVA object.\n",
    "Can you interpret this output? Ask your demonstrator if you are unsure. \n",
    "\n",
    "`no difference between scrub and dune, the rest exists.`"
   ]
  },
  {
   "cell_type": "markdown",
   "id": "6309474c",
   "metadata": {},
   "source": [
    "Now, let’s graph the mean and standard deviation (remember what these are?) of just richness for each habitat type (you can do diversity and evenness in your own time) \n",
    "First calculate the mean and standard deviation for richness in each habitat type. Hint: use the function ‘tapply’ which you learned in the Intro to R practical and ANOVA exercise. Create an object for the means and SDs for richness (e.g., Rmeans and Rsds).\n",
    "Next step is to create a bar plot of the mean arthropod richness for each habitat type and then add the confidence intervals (standard deviations) to that. Create and object for this plot (e.g., Bplot). Note that R automatically scales the y-axis from zero to the maximum of your data values (mean richness in this case), so you have to tell it to make the range of the y-axis to go from zero to the maximum value of richness. "
   ]
  },
  {
   "cell_type": "code",
   "execution_count": 13,
   "id": "d9b5f7e4",
   "metadata": {},
   "outputs": [],
   "source": [
    "Rmeans=tapply(output$richness,output$habitat,mean)\n",
    "Rsds=tapply(output$richness,output$habitat,sd)"
   ]
  },
  {
   "cell_type": "code",
   "execution_count": 14,
   "id": "17c11f69",
   "metadata": {},
   "outputs": [
    {
     "data": {
      "image/png": "[encoded data removed]",
      "text/plain": [
       "Plot with title \"\""
      ]
     },
     "metadata": {
      "image/png": {
       "height": 420,
       "width": 420
      }
     },
     "output_type": "display_data"
    }
   ],
   "source": [
    "Bplot=barplot(Rmeans,ylim=c(0,max(output$richness)),main='',xlab='',ylab='')"
   ]
  },
  {
   "cell_type": "markdown",
   "id": "6cbcb4ed",
   "metadata": {},
   "source": [
    "where #1 is the mean value for richness, #2 is the minimum y-axis value, and #3 is the maximum y-axis value."
   ]
  },
  {
   "cell_type": "markdown",
   "id": "a021213b",
   "metadata": {},
   "source": [
    "Now add the confidence intervals to this barplot. This can be done by adding line segments."
   ]
  },
  {
   "cell_type": "code",
   "execution_count": 15,
   "id": "cbb6e44c",
   "metadata": {},
   "outputs": [
    {
     "data": {
      "image/png": "[encoded data removed]",
      "text/plain": [
       "Plot with title \"\""
      ]
     },
     "metadata": {
      "image/png": {
       "height": 420,
       "width": 420
      }
     },
     "output_type": "display_data"
    }
   ],
   "source": [
    "Bplot=barplot(Rmeans,ylim=c(0,max(output$richness)),main='',xlab='',ylab='')\n",
    "segments(Bplot,Rmeans-Rsds, Bplot,Rmeans+Rsds)"
   ]
  },
  {
   "cell_type": "markdown",
   "id": "2cddd559",
   "metadata": {},
   "source": [
    "Can you understand all of this code? Ask your demonstrator if you are unsure.\n",
    "What if richness, evenness and diversity are not good measures of community change?\n",
    "There are some problems with just using richness, evenness and diversity to evaluate community structure, particularly if you are interested in how a community changes in relation to a factor (habitat type in our case). For example, if three arthropod taxa were found exclusively on the beach and three completely different taxa were found in the scrub, you would conclude that arthropod richness does not differ between the habitats. Even though, in reality, these arthropod communities are very different. Similarly, you might also find that evenness and diversity do not differ between the habitat types, even though there is significant ‘species turnover’ between the habitats. "
   ]
  },
  {
   "cell_type": "markdown",
   "id": "52ab58b9",
   "metadata": {},
   "source": [
    "Did you find that arthropod richness, evenness and diversity differed between the habitats? Take a close look at the original excel spreadsheet with the raw data also. Do you think that some arthropods were associated with some habitats more than others?\n",
    "\n",
    "`Amphipoda and the beach`"
   ]
  },
  {
   "cell_type": "markdown",
   "id": "83dfcd55",
   "metadata": {},
   "source": [
    "Because measures of richness, evenness and diversity don’t directly measure ‘species turnover’, other methods to evaluate community change are also warranted. Here we are going to use a very popular method to test if the arthropod community changed between the habitat types using a test known as Permutational-based Multivariate Analysis of Variance (PERMANOVA). This is a fancy name, but don’t be fooled! It is actually just an ANOVA, with the major difference being PERMANOVA is on multivariate data (a community of arthropods in your case). PER = permutational if you were wondering.\n",
    "\n",
    "To conduct a PERMANOVA we use the ‘adonis’ function in R (also part of the ‘vegan’ package you installed earlier). You will test whether your arthropod community (dat1…remember creating this earlier?) differs between the habitat types (the third column of the original data you read into R, dat[,3]). "
   ]
  },
  {
   "cell_type": "markdown",
   "id": "d0ae5dbb",
   "metadata": {},
   "source": [
    "For simplicity, first create a separate object for just the habitat types."
   ]
  },
  {
   "cell_type": "code",
   "execution_count": 16,
   "id": "10d40cd7",
   "metadata": {},
   "outputs": [
    {
     "data": {
      "text/html": [
       "<style>\n",
       ".list-inline {list-style: none; margin:0; padding: 0}\n",
       ".list-inline>li {display: inline-block}\n",
       ".list-inline>li:not(:last-child)::after {content: \"\\00b7\"; padding: 0 .5ex}\n",
       "</style>\n",
       "<ol class=list-inline><li>'Beach'</li><li>'Beach'</li><li>'Beach'</li><li>'Beach'</li><li>'Dune'</li><li>'Dune'</li><li>'Dune'</li><li>'Scrub'</li><li>'Scrub'</li><li>'Scrub'</li><li>'Scrub'</li><li>'Beach'</li><li>'Beach'</li><li>'Beach'</li><li>'Beach'</li><li>'Dune'</li><li>'Dune'</li><li>'Dune'</li><li>'Scrub'</li><li>'Scrub'</li><li>'Scrub'</li><li>'Scrub'</li><li>'Beach'</li><li>'Beach'</li><li>'Beach'</li><li>'Beach'</li><li>'Dune'</li><li>'Dune'</li><li>'Dune'</li><li>'Scrub'</li><li>'Scrub'</li><li>'Scrub'</li><li>'Scrub'</li><li>'Beach'</li><li>'Beach'</li><li>'Beach'</li><li>'Beach'</li><li>'Dune'</li><li>'Dune'</li><li>'Dune'</li><li>'Scrub'</li><li>'Scrub'</li><li>'Scrub'</li><li>'Scrub'</li></ol>\n"
      ],
      "text/latex": [
       "\\begin{enumerate*}\n",
       "\\item 'Beach'\n",
       "\\item 'Beach'\n",
       "\\item 'Beach'\n",
       "\\item 'Beach'\n",
       "\\item 'Dune'\n",
       "\\item 'Dune'\n",
       "\\item 'Dune'\n",
       "\\item 'Scrub'\n",
       "\\item 'Scrub'\n",
       "\\item 'Scrub'\n",
       "\\item 'Scrub'\n",
       "\\item 'Beach'\n",
       "\\item 'Beach'\n",
       "\\item 'Beach'\n",
       "\\item 'Beach'\n",
       "\\item 'Dune'\n",
       "\\item 'Dune'\n",
       "\\item 'Dune'\n",
       "\\item 'Scrub'\n",
       "\\item 'Scrub'\n",
       "\\item 'Scrub'\n",
       "\\item 'Scrub'\n",
       "\\item 'Beach'\n",
       "\\item 'Beach'\n",
       "\\item 'Beach'\n",
       "\\item 'Beach'\n",
       "\\item 'Dune'\n",
       "\\item 'Dune'\n",
       "\\item 'Dune'\n",
       "\\item 'Scrub'\n",
       "\\item 'Scrub'\n",
       "\\item 'Scrub'\n",
       "\\item 'Scrub'\n",
       "\\item 'Beach'\n",
       "\\item 'Beach'\n",
       "\\item 'Beach'\n",
       "\\item 'Beach'\n",
       "\\item 'Dune'\n",
       "\\item 'Dune'\n",
       "\\item 'Dune'\n",
       "\\item 'Scrub'\n",
       "\\item 'Scrub'\n",
       "\\item 'Scrub'\n",
       "\\item 'Scrub'\n",
       "\\end{enumerate*}\n"
      ],
      "text/markdown": [
       "1. 'Beach'\n",
       "2. 'Beach'\n",
       "3. 'Beach'\n",
       "4. 'Beach'\n",
       "5. 'Dune'\n",
       "6. 'Dune'\n",
       "7. 'Dune'\n",
       "8. 'Scrub'\n",
       "9. 'Scrub'\n",
       "10. 'Scrub'\n",
       "11. 'Scrub'\n",
       "12. 'Beach'\n",
       "13. 'Beach'\n",
       "14. 'Beach'\n",
       "15. 'Beach'\n",
       "16. 'Dune'\n",
       "17. 'Dune'\n",
       "18. 'Dune'\n",
       "19. 'Scrub'\n",
       "20. 'Scrub'\n",
       "21. 'Scrub'\n",
       "22. 'Scrub'\n",
       "23. 'Beach'\n",
       "24. 'Beach'\n",
       "25. 'Beach'\n",
       "26. 'Beach'\n",
       "27. 'Dune'\n",
       "28. 'Dune'\n",
       "29. 'Dune'\n",
       "30. 'Scrub'\n",
       "31. 'Scrub'\n",
       "32. 'Scrub'\n",
       "33. 'Scrub'\n",
       "34. 'Beach'\n",
       "35. 'Beach'\n",
       "36. 'Beach'\n",
       "37. 'Beach'\n",
       "38. 'Dune'\n",
       "39. 'Dune'\n",
       "40. 'Dune'\n",
       "41. 'Scrub'\n",
       "42. 'Scrub'\n",
       "43. 'Scrub'\n",
       "44. 'Scrub'\n",
       "\n",
       "\n"
      ],
      "text/plain": [
       " [1] \"Beach\" \"Beach\" \"Beach\" \"Beach\" \"Dune\"  \"Dune\"  \"Dune\"  \"Scrub\" \"Scrub\"\n",
       "[10] \"Scrub\" \"Scrub\" \"Beach\" \"Beach\" \"Beach\" \"Beach\" \"Dune\"  \"Dune\"  \"Dune\" \n",
       "[19] \"Scrub\" \"Scrub\" \"Scrub\" \"Scrub\" \"Beach\" \"Beach\" \"Beach\" \"Beach\" \"Dune\" \n",
       "[28] \"Dune\"  \"Dune\"  \"Scrub\" \"Scrub\" \"Scrub\" \"Scrub\" \"Beach\" \"Beach\" \"Beach\"\n",
       "[37] \"Beach\" \"Dune\"  \"Dune\"  \"Dune\"  \"Scrub\" \"Scrub\" \"Scrub\" \"Scrub\""
      ]
     },
     "metadata": {},
     "output_type": "display_data"
    }
   ],
   "source": [
    "Hab = dat[,3]\n",
    "Hab"
   ]
  },
  {
   "cell_type": "markdown",
   "id": "3e2b9627",
   "metadata": {},
   "source": [
    "Now conduct the PERMANOVA. NB. Unlike regular ANOVA, you need lots of iterations (permutations) for PERMANOVA to work. I don’t want to drown you in the statistical justification for this, but if you would like to know more, as your demonstrator about it."
   ]
  },
  {
   "cell_type": "code",
   "execution_count": 17,
   "id": "ba66fb71",
   "metadata": {},
   "outputs": [
    {
     "data": {
      "text/html": [
       "<table class=\"dataframe\">\n",
       "<caption>A anova.cca: 3 × 5</caption>\n",
       "<thead>\n",
       "\t<tr><th></th><th scope=col>Df</th><th scope=col>SumOfSqs</th><th scope=col>R2</th><th scope=col>F</th><th scope=col>Pr(&gt;F)</th></tr>\n",
       "\t<tr><th></th><th scope=col>&lt;dbl&gt;</th><th scope=col>&lt;dbl&gt;</th><th scope=col>&lt;dbl&gt;</th><th scope=col>&lt;dbl&gt;</th><th scope=col>&lt;dbl&gt;</th></tr>\n",
       "</thead>\n",
       "<tbody>\n",
       "\t<tr><th scope=row>Hab</th><td> 2</td><td> 3.559636</td><td>0.2559958</td><td>7.053607</td><td>0.001</td></tr>\n",
       "\t<tr><th scope=row>Residual</th><td>41</td><td>10.345422</td><td>0.7440042</td><td>      NA</td><td>   NA</td></tr>\n",
       "\t<tr><th scope=row>Total</th><td>43</td><td>13.905057</td><td>1.0000000</td><td>      NA</td><td>   NA</td></tr>\n",
       "</tbody>\n",
       "</table>\n"
      ],
      "text/latex": [
       "A anova.cca: 3 × 5\n",
       "\\begin{tabular}{r|lllll}\n",
       "  & Df & SumOfSqs & R2 & F & Pr(>F)\\\\\n",
       "  & <dbl> & <dbl> & <dbl> & <dbl> & <dbl>\\\\\n",
       "\\hline\n",
       "\tHab &  2 &  3.559636 & 0.2559958 & 7.053607 & 0.001\\\\\n",
       "\tResidual & 41 & 10.345422 & 0.7440042 &       NA &    NA\\\\\n",
       "\tTotal & 43 & 13.905057 & 1.0000000 &       NA &    NA\\\\\n",
       "\\end{tabular}\n"
      ],
      "text/markdown": [
       "\n",
       "A anova.cca: 3 × 5\n",
       "\n",
       "| <!--/--> | Df &lt;dbl&gt; | SumOfSqs &lt;dbl&gt; | R2 &lt;dbl&gt; | F &lt;dbl&gt; | Pr(&gt;F) &lt;dbl&gt; |\n",
       "|---|---|---|---|---|---|\n",
       "| Hab |  2 |  3.559636 | 0.2559958 | 7.053607 | 0.001 |\n",
       "| Residual | 41 | 10.345422 | 0.7440042 |       NA |    NA |\n",
       "| Total | 43 | 13.905057 | 1.0000000 |       NA |    NA |\n",
       "\n"
      ],
      "text/plain": [
       "         Df SumOfSqs  R2        F        Pr(>F)\n",
       "Hab       2  3.559636 0.2559958 7.053607 0.001 \n",
       "Residual 41 10.345422 0.7440042       NA    NA \n",
       "Total    43 13.905057 1.0000000       NA    NA "
      ]
     },
     "metadata": {},
     "output_type": "display_data"
    }
   ],
   "source": [
    "permanova = adonis2(dat1~Hab,permutations=999)\n",
    "permanova"
   ]
  },
  {
   "cell_type": "markdown",
   "id": "3064bba5",
   "metadata": {},
   "source": [
    "Can you interpret the output from this? Does the arthropod community differ among the habitat types? \n",
    "\n",
    "`yes as p value is smaller than 0.05`\n",
    "\n",
    "If you did detect a difference in community structure between the habitat types, can you tell which differ from which? Do all three differ from one another, or does one differ from the other two?\n",
    "…I hope you answered “no” to these questions. Therefore, what kind of test do you need to do to tell you which differ? …yes, a post-hoc test.\n",
    "\n",
    "Annoyingly R doesn’t have an easy posthoc test for PERMANOVAs, so I have written some customised code below that will enable you to do this. I don’t expect you to understand all of the code that I have typed here. \n",
    "NB. If you type out the first of the below code (beach vs. dune) as a single line, you will only have to change two words for each of the subsequent pairwise comparisons. Ask your demonstrator if you are confused by this.  "
   ]
  },
  {
   "cell_type": "code",
   "execution_count": 18,
   "id": "9f27c598",
   "metadata": {},
   "outputs": [
    {
     "data": {
      "text/html": [
       "<table class=\"dataframe\">\n",
       "<caption>A anova.cca: 3 × 5</caption>\n",
       "<thead>\n",
       "\t<tr><th></th><th scope=col>Df</th><th scope=col>SumOfSqs</th><th scope=col>R2</th><th scope=col>F</th><th scope=col>Pr(&gt;F)</th></tr>\n",
       "\t<tr><th></th><th scope=col>&lt;dbl&gt;</th><th scope=col>&lt;dbl&gt;</th><th scope=col>&lt;dbl&gt;</th><th scope=col>&lt;dbl&gt;</th><th scope=col>&lt;dbl&gt;</th></tr>\n",
       "</thead>\n",
       "<tbody>\n",
       "\t<tr><th scope=row>dat[-which(dat$Habitat == \"Scrub\"), 3]</th><td> 1</td><td>2.441145</td><td>0.2960265</td><td>10.93321</td><td>0.001</td></tr>\n",
       "\t<tr><th scope=row>Residual</th><td>26</td><td>5.805230</td><td>0.7039735</td><td>      NA</td><td>   NA</td></tr>\n",
       "\t<tr><th scope=row>Total</th><td>27</td><td>8.246376</td><td>1.0000000</td><td>      NA</td><td>   NA</td></tr>\n",
       "</tbody>\n",
       "</table>\n"
      ],
      "text/latex": [
       "A anova.cca: 3 × 5\n",
       "\\begin{tabular}{r|lllll}\n",
       "  & Df & SumOfSqs & R2 & F & Pr(>F)\\\\\n",
       "  & <dbl> & <dbl> & <dbl> & <dbl> & <dbl>\\\\\n",
       "\\hline\n",
       "\tdat{[}-which(dat\\$Habitat == \"Scrub\"), 3{]} &  1 & 2.441145 & 0.2960265 & 10.93321 & 0.001\\\\\n",
       "\tResidual & 26 & 5.805230 & 0.7039735 &       NA &    NA\\\\\n",
       "\tTotal & 27 & 8.246376 & 1.0000000 &       NA &    NA\\\\\n",
       "\\end{tabular}\n"
      ],
      "text/markdown": [
       "\n",
       "A anova.cca: 3 × 5\n",
       "\n",
       "| <!--/--> | Df &lt;dbl&gt; | SumOfSqs &lt;dbl&gt; | R2 &lt;dbl&gt; | F &lt;dbl&gt; | Pr(&gt;F) &lt;dbl&gt; |\n",
       "|---|---|---|---|---|---|\n",
       "| dat[-which(dat$Habitat == \"Scrub\"), 3] |  1 | 2.441145 | 0.2960265 | 10.93321 | 0.001 |\n",
       "| Residual | 26 | 5.805230 | 0.7039735 |       NA |    NA |\n",
       "| Total | 27 | 8.246376 | 1.0000000 |       NA |    NA |\n",
       "\n"
      ],
      "text/plain": [
       "                                       Df SumOfSqs R2        F        Pr(>F)\n",
       "dat[-which(dat$Habitat == \"Scrub\"), 3]  1 2.441145 0.2960265 10.93321 0.001 \n",
       "Residual                               26 5.805230 0.7039735       NA    NA \n",
       "Total                                  27 8.246376 1.0000000       NA    NA "
      ]
     },
     "metadata": {},
     "output_type": "display_data"
    },
    {
     "data": {
      "text/html": [
       "<table class=\"dataframe\">\n",
       "<caption>A anova.cca: 3 × 5</caption>\n",
       "<thead>\n",
       "\t<tr><th></th><th scope=col>Df</th><th scope=col>SumOfSqs</th><th scope=col>R2</th><th scope=col>F</th><th scope=col>Pr(&gt;F)</th></tr>\n",
       "\t<tr><th></th><th scope=col>&lt;dbl&gt;</th><th scope=col>&lt;dbl&gt;</th><th scope=col>&lt;dbl&gt;</th><th scope=col>&lt;dbl&gt;</th><th scope=col>&lt;dbl&gt;</th></tr>\n",
       "</thead>\n",
       "<tbody>\n",
       "\t<tr><th scope=row>dat[-which(dat$Habitat == \"Dune\"), 3]</th><td> 1</td><td>1.890582</td><td>0.2221514</td><td>8.567917</td><td>0.001</td></tr>\n",
       "\t<tr><th scope=row>Residual</th><td>30</td><td>6.619748</td><td>0.7778486</td><td>      NA</td><td>   NA</td></tr>\n",
       "\t<tr><th scope=row>Total</th><td>31</td><td>8.510329</td><td>1.0000000</td><td>      NA</td><td>   NA</td></tr>\n",
       "</tbody>\n",
       "</table>\n"
      ],
      "text/latex": [
       "A anova.cca: 3 × 5\n",
       "\\begin{tabular}{r|lllll}\n",
       "  & Df & SumOfSqs & R2 & F & Pr(>F)\\\\\n",
       "  & <dbl> & <dbl> & <dbl> & <dbl> & <dbl>\\\\\n",
       "\\hline\n",
       "\tdat{[}-which(dat\\$Habitat == \"Dune\"), 3{]} &  1 & 1.890582 & 0.2221514 & 8.567917 & 0.001\\\\\n",
       "\tResidual & 30 & 6.619748 & 0.7778486 &       NA &    NA\\\\\n",
       "\tTotal & 31 & 8.510329 & 1.0000000 &       NA &    NA\\\\\n",
       "\\end{tabular}\n"
      ],
      "text/markdown": [
       "\n",
       "A anova.cca: 3 × 5\n",
       "\n",
       "| <!--/--> | Df &lt;dbl&gt; | SumOfSqs &lt;dbl&gt; | R2 &lt;dbl&gt; | F &lt;dbl&gt; | Pr(&gt;F) &lt;dbl&gt; |\n",
       "|---|---|---|---|---|---|\n",
       "| dat[-which(dat$Habitat == \"Dune\"), 3] |  1 | 1.890582 | 0.2221514 | 8.567917 | 0.001 |\n",
       "| Residual | 30 | 6.619748 | 0.7778486 |       NA |    NA |\n",
       "| Total | 31 | 8.510329 | 1.0000000 |       NA |    NA |\n",
       "\n"
      ],
      "text/plain": [
       "                                      Df SumOfSqs R2        F        Pr(>F)\n",
       "dat[-which(dat$Habitat == \"Dune\"), 3]  1 1.890582 0.2221514 8.567917 0.001 \n",
       "Residual                              30 6.619748 0.7778486       NA    NA \n",
       "Total                                 31 8.510329 1.0000000       NA    NA "
      ]
     },
     "metadata": {},
     "output_type": "display_data"
    },
    {
     "data": {
      "text/html": [
       "<table class=\"dataframe\">\n",
       "<caption>A anova.cca: 3 × 5</caption>\n",
       "<thead>\n",
       "\t<tr><th></th><th scope=col>Df</th><th scope=col>SumOfSqs</th><th scope=col>R2</th><th scope=col>F</th><th scope=col>Pr(&gt;F)</th></tr>\n",
       "\t<tr><th></th><th scope=col>&lt;dbl&gt;</th><th scope=col>&lt;dbl&gt;</th><th scope=col>&lt;dbl&gt;</th><th scope=col>&lt;dbl&gt;</th><th scope=col>&lt;dbl&gt;</th></tr>\n",
       "</thead>\n",
       "<tbody>\n",
       "\t<tr><th scope=row>dat[-which(dat$Habitat == \"Beach\"), 3]</th><td> 1</td><td>0.9919034</td><td>0.1071428</td><td>3.119999</td><td>0.008</td></tr>\n",
       "\t<tr><th scope=row>Residual</th><td>26</td><td>8.2658650</td><td>0.8928572</td><td>      NA</td><td>   NA</td></tr>\n",
       "\t<tr><th scope=row>Total</th><td>27</td><td>9.2577684</td><td>1.0000000</td><td>      NA</td><td>   NA</td></tr>\n",
       "</tbody>\n",
       "</table>\n"
      ],
      "text/latex": [
       "A anova.cca: 3 × 5\n",
       "\\begin{tabular}{r|lllll}\n",
       "  & Df & SumOfSqs & R2 & F & Pr(>F)\\\\\n",
       "  & <dbl> & <dbl> & <dbl> & <dbl> & <dbl>\\\\\n",
       "\\hline\n",
       "\tdat{[}-which(dat\\$Habitat == \"Beach\"), 3{]} &  1 & 0.9919034 & 0.1071428 & 3.119999 & 0.008\\\\\n",
       "\tResidual & 26 & 8.2658650 & 0.8928572 &       NA &    NA\\\\\n",
       "\tTotal & 27 & 9.2577684 & 1.0000000 &       NA &    NA\\\\\n",
       "\\end{tabular}\n"
      ],
      "text/markdown": [
       "\n",
       "A anova.cca: 3 × 5\n",
       "\n",
       "| <!--/--> | Df &lt;dbl&gt; | SumOfSqs &lt;dbl&gt; | R2 &lt;dbl&gt; | F &lt;dbl&gt; | Pr(&gt;F) &lt;dbl&gt; |\n",
       "|---|---|---|---|---|---|\n",
       "| dat[-which(dat$Habitat == \"Beach\"), 3] |  1 | 0.9919034 | 0.1071428 | 3.119999 | 0.008 |\n",
       "| Residual | 26 | 8.2658650 | 0.8928572 |       NA |    NA |\n",
       "| Total | 27 | 9.2577684 | 1.0000000 |       NA |    NA |\n",
       "\n"
      ],
      "text/plain": [
       "                                       Df SumOfSqs  R2        F        Pr(>F)\n",
       "dat[-which(dat$Habitat == \"Beach\"), 3]  1 0.9919034 0.1071428 3.119999 0.008 \n",
       "Residual                               26 8.2658650 0.8928572       NA    NA \n",
       "Total                                  27 9.2577684 1.0000000       NA    NA "
      ]
     },
     "metadata": {},
     "output_type": "display_data"
    }
   ],
   "source": [
    "#beach vs. dune\n",
    "adonis2(dat[-which(dat$Habitat==\"Scrub\"),4:13]~\n",
    "dat[-which(dat$Habitat==\"Scrub\"),3],\n",
    "permutations=999)\n",
    "\n",
    "#beach vs. scrub\n",
    "adonis2(dat[-which(dat$Habitat==\"Dune\"),4:13]~\n",
    "dat[-which(dat$Habitat==\"Dune\"),3],\n",
    "permutations=999)\n",
    "\n",
    "#dune vs. scrub\n",
    "adonis2(dat[-which(dat$Habitat==\"Beach\"),4:13]~\n",
    "dat[-which(dat$Habitat==\"Beach\"),3],\n",
    "permutations=999)"
   ]
  },
  {
   "cell_type": "markdown",
   "id": "1a2a0b63",
   "metadata": {},
   "source": [
    "### Visualising community composition\n",
    "\n",
    "Let’s visualise how your arthropod communities change from the beach, to the dunes, to the scrub. Easy, right? Just make a bar plot of the mean of each arthropod taxon vs. each habitat type. …hmmm, this is going to result in a lot of bars, given you have 10 arthropod taxa plotted for each of the three habitat types. Interpreting this would be a nightmare. A better way of visualising community structure is needed.\n",
    "In community ecology the way we tend to visualise these relationships is by plotting how similar the communities (communities between pitfall traps in this case) are to one another. In principle this is simple. Consider, hypothetically, if we only had three arthropod taxa (Amphipoda, Coleoptera, Arachnida) surveyed across the pitfall traps. To visualise how the communities in each pitfall trap related to each other, we would plot the number of Amphipoda vs. Coleoptera from each pitfall trap against one another (a two dimensional plot), then we would add an axis for Arachnida (making it a three dimensional plot). This is easy to visualise, but if you have >3 arthropod taxa (which you do) it is impossible to visualise ≥4 dimensions. \n",
    "…by the way, if you are in fact able to visualise in ≥4 dimensions (without drugs), please let us know so that we can hail you as a marvel of science \n",
    "\n",
    "Thankfully, computers don’t have our biological limitations, and are able to construct such multi-dimensional relationships and then project them in two and three dimensions that illustrate the best possible relationship among the communities. There are multiple methods to do this, but a common one used by ecologists is Non-metric Multidimensional Scaling (NMDS). We will construct a two dimensional NMDS.\n",
    "NB. Another common approach you may hear about is Principle Components Analysis (PCA), but we won’t use this today. \n",
    "\n",
    "To run an NMDS we use the ‘metaMDS’ function in R (also part of the ‘vegan’ package you installed earlier’, type “?metaMDS” if you want to know more). Run the NMDS on your arthropod community (dat1), with ‘k=2’ meaning that you are only interested in two dimensions. Then plot this using ‘ordiplot’, displaying how the arthropod communities in each pitfall trap (sites) are similar to each other. Each dot on this graph represents an arthropod community in a pitfall trap and the proximity of dots to one another represents how similar the communities are to each other. "
   ]
  },
  {
   "cell_type": "code",
   "execution_count": 19,
   "id": "ec8b7f05",
   "metadata": {},
   "outputs": [
    {
     "name": "stdout",
     "output_type": "stream",
     "text": [
      "Wisconsin double standardization\n",
      "Run 0 stress 0.1519477 \n",
      "Run 1 stress 0.1518135 \n",
      "... New best solution\n",
      "... Procrustes: rmse 0.01069103  max resid 0.04780401 \n",
      "Run 2 stress 0.1485277 \n",
      "... New best solution\n",
      "... Procrustes: rmse 0.05597214  max resid 0.2099407 \n",
      "Run 3 stress 0.1536515 \n",
      "Run 4 stress 0.1739772 \n",
      "Run 5 stress 0.158855 \n",
      "Run 6 stress 0.1530976 \n",
      "Run 7 stress 0.1616573 \n",
      "Run 8 stress 0.1792349 \n",
      "Run 9 stress 0.177087 \n",
      "Run 10 stress 0.1617111 \n",
      "Run 11 stress 0.1485898 \n",
      "... Procrustes: rmse 0.01090024  max resid 0.0636084 \n",
      "Run 12 stress 0.1531539 \n",
      "Run 13 stress 0.1503597 \n",
      "Run 14 stress 0.1657352 \n",
      "Run 15 stress 0.1642276 \n",
      "Run 16 stress 0.1485896 \n",
      "... Procrustes: rmse 0.01088921  max resid 0.06360399 \n",
      "Run 17 stress 0.1771897 \n",
      "Run 18 stress 0.1752614 \n",
      "Run 19 stress 0.1509506 \n",
      "Run 20 stress 0.1621404 \n",
      "*** Best solution was not repeated -- monoMDS stopping criteria:\n",
      "    20: stress ratio > sratmax\n"
     ]
    },
    {
     "data": {
      "image/png": "[encoded data removed]",
      "text/plain": [
       "Plot with title \"Arthropod community structure\""
      ]
     },
     "metadata": {
      "image/png": {
       "height": 420,
       "width": 420
      }
     },
     "output_type": "display_data"
    }
   ],
   "source": [
    "nmds = metaMDS(dat1,k=2)\n",
    "ordiplot(nmds,display='sites',main=\"Arthropod community structure\")"
   ]
  },
  {
   "cell_type": "markdown",
   "id": "60b532c9",
   "metadata": {},
   "source": [
    "Isn’t this plot pretty! …but what does it really mean? We need to be able to label the habitat types to really see how the arthropod communities in each pitfall trap (each point on the graph represents an arthropod community in a pitfall trap) differ from one another. \n",
    "\n",
    "First, let’s create a list of simple labels for the habitat of each pitfall trap (B=beach, D=dunes, S=scrub) and associated colours for these habitats (blue, green and red, respectively). "
   ]
  },
  {
   "cell_type": "code",
   "execution_count": 20,
   "id": "30ee6349",
   "metadata": {},
   "outputs": [
    {
     "data": {
      "text/html": [
       "<style>\n",
       ".list-inline {list-style: none; margin:0; padding: 0}\n",
       ".list-inline>li {display: inline-block}\n",
       ".list-inline>li:not(:last-child)::after {content: \"\\00b7\"; padding: 0 .5ex}\n",
       "</style>\n",
       "<ol class=list-inline><li>'B'</li><li>'B'</li><li>'B'</li><li>'B'</li><li>'D'</li><li>'D'</li><li>'D'</li><li>'S'</li><li>'S'</li><li>'S'</li><li>'S'</li><li>'B'</li><li>'B'</li><li>'B'</li><li>'B'</li><li>'D'</li><li>'D'</li><li>'D'</li><li>'S'</li><li>'S'</li><li>'S'</li><li>'S'</li><li>'B'</li><li>'B'</li><li>'B'</li><li>'B'</li><li>'D'</li><li>'D'</li><li>'D'</li><li>'S'</li><li>'S'</li><li>'S'</li><li>'S'</li><li>'B'</li><li>'B'</li><li>'B'</li><li>'B'</li><li>'D'</li><li>'D'</li><li>'D'</li><li>'S'</li><li>'S'</li><li>'S'</li><li>'S'</li></ol>\n"
      ],
      "text/latex": [
       "\\begin{enumerate*}\n",
       "\\item 'B'\n",
       "\\item 'B'\n",
       "\\item 'B'\n",
       "\\item 'B'\n",
       "\\item 'D'\n",
       "\\item 'D'\n",
       "\\item 'D'\n",
       "\\item 'S'\n",
       "\\item 'S'\n",
       "\\item 'S'\n",
       "\\item 'S'\n",
       "\\item 'B'\n",
       "\\item 'B'\n",
       "\\item 'B'\n",
       "\\item 'B'\n",
       "\\item 'D'\n",
       "\\item 'D'\n",
       "\\item 'D'\n",
       "\\item 'S'\n",
       "\\item 'S'\n",
       "\\item 'S'\n",
       "\\item 'S'\n",
       "\\item 'B'\n",
       "\\item 'B'\n",
       "\\item 'B'\n",
       "\\item 'B'\n",
       "\\item 'D'\n",
       "\\item 'D'\n",
       "\\item 'D'\n",
       "\\item 'S'\n",
       "\\item 'S'\n",
       "\\item 'S'\n",
       "\\item 'S'\n",
       "\\item 'B'\n",
       "\\item 'B'\n",
       "\\item 'B'\n",
       "\\item 'B'\n",
       "\\item 'D'\n",
       "\\item 'D'\n",
       "\\item 'D'\n",
       "\\item 'S'\n",
       "\\item 'S'\n",
       "\\item 'S'\n",
       "\\item 'S'\n",
       "\\end{enumerate*}\n"
      ],
      "text/markdown": [
       "1. 'B'\n",
       "2. 'B'\n",
       "3. 'B'\n",
       "4. 'B'\n",
       "5. 'D'\n",
       "6. 'D'\n",
       "7. 'D'\n",
       "8. 'S'\n",
       "9. 'S'\n",
       "10. 'S'\n",
       "11. 'S'\n",
       "12. 'B'\n",
       "13. 'B'\n",
       "14. 'B'\n",
       "15. 'B'\n",
       "16. 'D'\n",
       "17. 'D'\n",
       "18. 'D'\n",
       "19. 'S'\n",
       "20. 'S'\n",
       "21. 'S'\n",
       "22. 'S'\n",
       "23. 'B'\n",
       "24. 'B'\n",
       "25. 'B'\n",
       "26. 'B'\n",
       "27. 'D'\n",
       "28. 'D'\n",
       "29. 'D'\n",
       "30. 'S'\n",
       "31. 'S'\n",
       "32. 'S'\n",
       "33. 'S'\n",
       "34. 'B'\n",
       "35. 'B'\n",
       "36. 'B'\n",
       "37. 'B'\n",
       "38. 'D'\n",
       "39. 'D'\n",
       "40. 'D'\n",
       "41. 'S'\n",
       "42. 'S'\n",
       "43. 'S'\n",
       "44. 'S'\n",
       "\n",
       "\n"
      ],
      "text/plain": [
       " [1] \"B\" \"B\" \"B\" \"B\" \"D\" \"D\" \"D\" \"S\" \"S\" \"S\" \"S\" \"B\" \"B\" \"B\" \"B\" \"D\" \"D\" \"D\" \"S\"\n",
       "[20] \"S\" \"S\" \"S\" \"B\" \"B\" \"B\" \"B\" \"D\" \"D\" \"D\" \"S\" \"S\" \"S\" \"S\" \"B\" \"B\" \"B\" \"B\" \"D\"\n",
       "[39] \"D\" \"D\" \"S\" \"S\" \"S\" \"S\""
      ]
     },
     "metadata": {},
     "output_type": "display_data"
    },
    {
     "data": {
      "text/html": [
       "<style>\n",
       ".list-inline {list-style: none; margin:0; padding: 0}\n",
       ".list-inline>li {display: inline-block}\n",
       ".list-inline>li:not(:last-child)::after {content: \"\\00b7\"; padding: 0 .5ex}\n",
       "</style>\n",
       "<ol class=list-inline><li>'blue'</li><li>'blue'</li><li>'blue'</li><li>'blue'</li><li>'green'</li><li>'green'</li><li>'green'</li><li>'red'</li><li>'red'</li><li>'red'</li><li>'red'</li><li>'blue'</li><li>'blue'</li><li>'blue'</li><li>'blue'</li><li>'green'</li><li>'green'</li><li>'green'</li><li>'red'</li><li>'red'</li><li>'red'</li><li>'red'</li><li>'blue'</li><li>'blue'</li><li>'blue'</li><li>'blue'</li><li>'green'</li><li>'green'</li><li>'green'</li><li>'red'</li><li>'red'</li><li>'red'</li><li>'red'</li><li>'blue'</li><li>'blue'</li><li>'blue'</li><li>'blue'</li><li>'green'</li><li>'green'</li><li>'green'</li><li>'red'</li><li>'red'</li><li>'red'</li><li>'red'</li></ol>\n"
      ],
      "text/latex": [
       "\\begin{enumerate*}\n",
       "\\item 'blue'\n",
       "\\item 'blue'\n",
       "\\item 'blue'\n",
       "\\item 'blue'\n",
       "\\item 'green'\n",
       "\\item 'green'\n",
       "\\item 'green'\n",
       "\\item 'red'\n",
       "\\item 'red'\n",
       "\\item 'red'\n",
       "\\item 'red'\n",
       "\\item 'blue'\n",
       "\\item 'blue'\n",
       "\\item 'blue'\n",
       "\\item 'blue'\n",
       "\\item 'green'\n",
       "\\item 'green'\n",
       "\\item 'green'\n",
       "\\item 'red'\n",
       "\\item 'red'\n",
       "\\item 'red'\n",
       "\\item 'red'\n",
       "\\item 'blue'\n",
       "\\item 'blue'\n",
       "\\item 'blue'\n",
       "\\item 'blue'\n",
       "\\item 'green'\n",
       "\\item 'green'\n",
       "\\item 'green'\n",
       "\\item 'red'\n",
       "\\item 'red'\n",
       "\\item 'red'\n",
       "\\item 'red'\n",
       "\\item 'blue'\n",
       "\\item 'blue'\n",
       "\\item 'blue'\n",
       "\\item 'blue'\n",
       "\\item 'green'\n",
       "\\item 'green'\n",
       "\\item 'green'\n",
       "\\item 'red'\n",
       "\\item 'red'\n",
       "\\item 'red'\n",
       "\\item 'red'\n",
       "\\end{enumerate*}\n"
      ],
      "text/markdown": [
       "1. 'blue'\n",
       "2. 'blue'\n",
       "3. 'blue'\n",
       "4. 'blue'\n",
       "5. 'green'\n",
       "6. 'green'\n",
       "7. 'green'\n",
       "8. 'red'\n",
       "9. 'red'\n",
       "10. 'red'\n",
       "11. 'red'\n",
       "12. 'blue'\n",
       "13. 'blue'\n",
       "14. 'blue'\n",
       "15. 'blue'\n",
       "16. 'green'\n",
       "17. 'green'\n",
       "18. 'green'\n",
       "19. 'red'\n",
       "20. 'red'\n",
       "21. 'red'\n",
       "22. 'red'\n",
       "23. 'blue'\n",
       "24. 'blue'\n",
       "25. 'blue'\n",
       "26. 'blue'\n",
       "27. 'green'\n",
       "28. 'green'\n",
       "29. 'green'\n",
       "30. 'red'\n",
       "31. 'red'\n",
       "32. 'red'\n",
       "33. 'red'\n",
       "34. 'blue'\n",
       "35. 'blue'\n",
       "36. 'blue'\n",
       "37. 'blue'\n",
       "38. 'green'\n",
       "39. 'green'\n",
       "40. 'green'\n",
       "41. 'red'\n",
       "42. 'red'\n",
       "43. 'red'\n",
       "44. 'red'\n",
       "\n",
       "\n"
      ],
      "text/plain": [
       " [1] \"blue\"  \"blue\"  \"blue\"  \"blue\"  \"green\" \"green\" \"green\" \"red\"   \"red\"  \n",
       "[10] \"red\"   \"red\"   \"blue\"  \"blue\"  \"blue\"  \"blue\"  \"green\" \"green\" \"green\"\n",
       "[19] \"red\"   \"red\"   \"red\"   \"red\"   \"blue\"  \"blue\"  \"blue\"  \"blue\"  \"green\"\n",
       "[28] \"green\" \"green\" \"red\"   \"red\"   \"red\"   \"red\"   \"blue\"  \"blue\"  \"blue\" \n",
       "[37] \"blue\"  \"green\" \"green\" \"green\" \"red\"   \"red\"   \"red\"   \"red\"  "
      ]
     },
     "metadata": {},
     "output_type": "display_data"
    }
   ],
   "source": [
    "labs=rep(c(rep(\"B\",4),rep(\"D\",3),rep(\"S\",4)),4)\n",
    "labs\n",
    "cols=rep(c(rep(\"blue\",4),rep(\"green\",3),rep(\"red\",4)),4)\n",
    "cols"
   ]
  },
  {
   "cell_type": "markdown",
   "id": "13254ad5",
   "metadata": {},
   "source": [
    "Now replot your NMDS, but this time only plot the axes, then manually add the labels, with their associated colour system using ‘orditorp’ and show how the habitats group using ‘ordispider’."
   ]
  },
  {
   "cell_type": "code",
   "execution_count": 21,
   "id": "e6b463b4",
   "metadata": {},
   "outputs": [
    {
     "data": {
      "image/png": "[encoded data removed]",
      "text/plain": [
       "plot without title"
      ]
     },
     "metadata": {
      "image/png": {
       "height": 420,
       "width": 420
      }
     },
     "output_type": "display_data"
    }
   ],
   "source": [
    "ordiplot(nmds,type=\"n\")\n",
    "orditorp(nmds,display=\"sites\",labels=labs,col=cols)\n",
    "ordispider(nmds,display=\"sites\",groups=Hab,col=\"grey\")"
   ]
  },
  {
   "cell_type": "markdown",
   "id": "1e5a301a",
   "metadata": {},
   "source": [
    "Can you see how the arthropod communities in each pitfall trap differ between the habitat types? – If there are differences in arthropod communities between habitat types you will see that the arthropod community in each pitfall trap (point) cluster with other pitfall traps from their habitat types (i.e., it will indicate that the community composition of arthropods tends to be more similar within habitat types and dissimilar between habitat types). Ask if this does not make sense.\n",
    "\n",
    "Do you roughly understand what each line of the above code does? Ask your demonstrator if you are unsure.\n",
    "\n",
    "If you want, you could also look at other ways of visualising the clusters for your communities by running the above three lines of code, but replacing ‘ordispider’ with ‘ordihull’ or ‘ordiellipse’. Have a go with these if you have time.\n",
    "\n",
    " "
   ]
  },
  {
   "cell_type": "markdown",
   "id": "c572e133",
   "metadata": {},
   "source": [
    "### Questions\n",
    "\n",
    "What is a community?\n",
    "\n",
    "`a group or association of populations of two or more different species occupying the same geographical area at the same time`\n",
    "\n",
    "Define Richness, Evenness and Diversity\n",
    "\n",
    "```\n",
    "Richness – simply the number of species (or taxonomic groups of arthropods in your case, since we can’t identify everything to species).\n",
    "Evenness – a measure of how much variation there is in the abundances of each taxonomic group to one another (Pielou’s evenness is a common measure).\n",
    "Diversity – this is a composite measure of richness and evenness and is usually quantified using an index (Shannon index and Simpson index are two common ones).\n",
    "```\n",
    "\n",
    "What is species turnover?\n",
    "\n",
    "`The rate or magnitude of change in species composition with respect to different habitats`\n",
    "\n",
    "What is a reason you would consider conducting a PERMANOVA?\n",
    "\n",
    "`compare groups of objects instead of one vs one`\n",
    "\n",
    "What is it that an NMDS plot shows you?\n",
    "\n",
    "`there is a difference in community structure between the habitat types`\n",
    "\n",
    "What test that you have already conducted in labs for KPZ211 is a PERMANOVA similar to? How does it differ from this test?\n",
    "\n",
    "`ANOVA, it is more suitable for one vs one rather than group comparison`"
   ]
  },
  {
   "cell_type": "code",
   "execution_count": null,
   "id": "8cb6503c",
   "metadata": {},
   "outputs": [],
   "source": []
  }
 ],
 "metadata": {
  "kernelspec": {
   "display_name": "R",
   "language": "R",
   "name": "ir413"
  },
  "language_info": {
   "codemirror_mode": "r",
   "file_extension": ".r",
   "mimetype": "text/x-r-source",
   "name": "R",
   "pygments_lexer": "r",
   "version": "4.2.2"
  },
  "toc": {
   "base_numbering": 1,
   "nav_menu": {},
   "number_sections": true,
   "sideBar": true,
   "skip_h1_title": false,
   "title_cell": "Table of Contents",
   "title_sidebar": "Contents",
   "toc_cell": false,
   "toc_position": {
    "height": "calc(100% - 180px)",
    "left": "10px",
    "top": "150px",
    "width": "245.76px"
   },
   "toc_section_display": true,
   "toc_window_display": false
  }
 },
 "nbformat": 4,
 "nbformat_minor": 5
}
