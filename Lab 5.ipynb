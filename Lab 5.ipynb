﻿{
 "cells": [
  {
   "cell_type": "markdown",
   "id": "e7901c4f",
   "metadata": {},
   "source": [
    "## Lab 5 - Basic analyses every biologist should know (correlation, regression and ANOVA)"
   ]
  },
  {
   "cell_type": "markdown",
   "id": "9c162ce0",
   "metadata": {},
   "source": [
    "### Correlation, Regression and ANOVA – data collection, graphing and analyses\n",
    "\n",
    "If you have not done so already, open RStudio.\n",
    "Begin with the following script, which clears any previous data stored in R"
   ]
  },
  {
   "cell_type": "code",
   "execution_count": 1,
   "id": "fee63b6a",
   "metadata": {},
   "outputs": [],
   "source": [
    "#clears any previous data stored in R\n",
    "rm(list=ls())"
   ]
  },
  {
   "cell_type": "markdown",
   "id": "d34499c1",
   "metadata": {},
   "source": [
    "### Correlation exercise \n",
    "\n",
    "In an imaginary project, you are a scientist and you are interested to see if there is a relationship between the amount of ozone in the atmosphere and how windy it is. Your research has shown that there is higher skin cancer in areas with less ozone. Your research has also shown that people get more skin cancer in areas where it is less windy (probably because they spend more time outdoors). You don’t think that either ozone or winds cause one another, but you wonder if there is some relationship. \n",
    "Thus, you seek to answer the question “is there a relationship between ozone and wind that is of interest to people’s risk of skin cancer?”\n",
    "Because getting lots of measurements of ozone and wind speed is a bit beyond the scope of this lab we will use a pre-existing dataset in R. Open RStudio and type:\n"
   ]
  },
  {
   "cell_type": "code",
   "execution_count": 2,
   "id": "476360bf",
   "metadata": {},
   "outputs": [
    {
     "data": {
      "text/html": [
       "<table class=\"dataframe\">\n",
       "<caption>A data.frame: 153 × 6</caption>\n",
       "<thead>\n",
       "\t<tr><th scope=col>Ozone</th><th scope=col>Solar.R</th><th scope=col>Wind</th><th scope=col>Temp</th><th scope=col>Month</th><th scope=col>Day</th></tr>\n",
       "\t<tr><th scope=col>&lt;int&gt;</th><th scope=col>&lt;int&gt;</th><th scope=col>&lt;dbl&gt;</th><th scope=col>&lt;int&gt;</th><th scope=col>&lt;int&gt;</th><th scope=col>&lt;int&gt;</th></tr>\n",
       "</thead>\n",
       "<tbody>\n",
       "\t<tr><td> 41</td><td>190</td><td> 7.4</td><td>67</td><td>5</td><td> 1</td></tr>\n",
       "\t<tr><td> 36</td><td>118</td><td> 8.0</td><td>72</td><td>5</td><td> 2</td></tr>\n",
       "\t<tr><td> 12</td><td>149</td><td>12.6</td><td>74</td><td>5</td><td> 3</td></tr>\n",
       "\t<tr><td> 18</td><td>313</td><td>11.5</td><td>62</td><td>5</td><td> 4</td></tr>\n",
       "\t<tr><td> NA</td><td> NA</td><td>14.3</td><td>56</td><td>5</td><td> 5</td></tr>\n",
       "\t<tr><td> 28</td><td> NA</td><td>14.9</td><td>66</td><td>5</td><td> 6</td></tr>\n",
       "\t<tr><td> 23</td><td>299</td><td> 8.6</td><td>65</td><td>5</td><td> 7</td></tr>\n",
       "\t<tr><td> 19</td><td> 99</td><td>13.8</td><td>59</td><td>5</td><td> 8</td></tr>\n",
       "\t<tr><td>  8</td><td> 19</td><td>20.1</td><td>61</td><td>5</td><td> 9</td></tr>\n",
       "\t<tr><td> NA</td><td>194</td><td> 8.6</td><td>69</td><td>5</td><td>10</td></tr>\n",
       "\t<tr><td>  7</td><td> NA</td><td> 6.9</td><td>74</td><td>5</td><td>11</td></tr>\n",
       "\t<tr><td> 16</td><td>256</td><td> 9.7</td><td>69</td><td>5</td><td>12</td></tr>\n",
       "\t<tr><td> 11</td><td>290</td><td> 9.2</td><td>66</td><td>5</td><td>13</td></tr>\n",
       "\t<tr><td> 14</td><td>274</td><td>10.9</td><td>68</td><td>5</td><td>14</td></tr>\n",
       "\t<tr><td> 18</td><td> 65</td><td>13.2</td><td>58</td><td>5</td><td>15</td></tr>\n",
       "\t<tr><td> 14</td><td>334</td><td>11.5</td><td>64</td><td>5</td><td>16</td></tr>\n",
       "\t<tr><td> 34</td><td>307</td><td>12.0</td><td>66</td><td>5</td><td>17</td></tr>\n",
       "\t<tr><td>  6</td><td> 78</td><td>18.4</td><td>57</td><td>5</td><td>18</td></tr>\n",
       "\t<tr><td> 30</td><td>322</td><td>11.5</td><td>68</td><td>5</td><td>19</td></tr>\n",
       "\t<tr><td> 11</td><td> 44</td><td> 9.7</td><td>62</td><td>5</td><td>20</td></tr>\n",
       "\t<tr><td>  1</td><td>  8</td><td> 9.7</td><td>59</td><td>5</td><td>21</td></tr>\n",
       "\t<tr><td> 11</td><td>320</td><td>16.6</td><td>73</td><td>5</td><td>22</td></tr>\n",
       "\t<tr><td>  4</td><td> 25</td><td> 9.7</td><td>61</td><td>5</td><td>23</td></tr>\n",
       "\t<tr><td> 32</td><td> 92</td><td>12.0</td><td>61</td><td>5</td><td>24</td></tr>\n",
       "\t<tr><td> NA</td><td> 66</td><td>16.6</td><td>57</td><td>5</td><td>25</td></tr>\n",
       "\t<tr><td> NA</td><td>266</td><td>14.9</td><td>58</td><td>5</td><td>26</td></tr>\n",
       "\t<tr><td> NA</td><td> NA</td><td> 8.0</td><td>57</td><td>5</td><td>27</td></tr>\n",
       "\t<tr><td> 23</td><td> 13</td><td>12.0</td><td>67</td><td>5</td><td>28</td></tr>\n",
       "\t<tr><td> 45</td><td>252</td><td>14.9</td><td>81</td><td>5</td><td>29</td></tr>\n",
       "\t<tr><td>115</td><td>223</td><td> 5.7</td><td>79</td><td>5</td><td>30</td></tr>\n",
       "\t<tr><td>⋮</td><td>⋮</td><td>⋮</td><td>⋮</td><td>⋮</td><td>⋮</td></tr>\n",
       "\t<tr><td>96</td><td>167</td><td> 6.9</td><td>91</td><td>9</td><td> 1</td></tr>\n",
       "\t<tr><td>78</td><td>197</td><td> 5.1</td><td>92</td><td>9</td><td> 2</td></tr>\n",
       "\t<tr><td>73</td><td>183</td><td> 2.8</td><td>93</td><td>9</td><td> 3</td></tr>\n",
       "\t<tr><td>91</td><td>189</td><td> 4.6</td><td>93</td><td>9</td><td> 4</td></tr>\n",
       "\t<tr><td>47</td><td> 95</td><td> 7.4</td><td>87</td><td>9</td><td> 5</td></tr>\n",
       "\t<tr><td>32</td><td> 92</td><td>15.5</td><td>84</td><td>9</td><td> 6</td></tr>\n",
       "\t<tr><td>20</td><td>252</td><td>10.9</td><td>80</td><td>9</td><td> 7</td></tr>\n",
       "\t<tr><td>23</td><td>220</td><td>10.3</td><td>78</td><td>9</td><td> 8</td></tr>\n",
       "\t<tr><td>21</td><td>230</td><td>10.9</td><td>75</td><td>9</td><td> 9</td></tr>\n",
       "\t<tr><td>24</td><td>259</td><td> 9.7</td><td>73</td><td>9</td><td>10</td></tr>\n",
       "\t<tr><td>44</td><td>236</td><td>14.9</td><td>81</td><td>9</td><td>11</td></tr>\n",
       "\t<tr><td>21</td><td>259</td><td>15.5</td><td>76</td><td>9</td><td>12</td></tr>\n",
       "\t<tr><td>28</td><td>238</td><td> 6.3</td><td>77</td><td>9</td><td>13</td></tr>\n",
       "\t<tr><td> 9</td><td> 24</td><td>10.9</td><td>71</td><td>9</td><td>14</td></tr>\n",
       "\t<tr><td>13</td><td>112</td><td>11.5</td><td>71</td><td>9</td><td>15</td></tr>\n",
       "\t<tr><td>46</td><td>237</td><td> 6.9</td><td>78</td><td>9</td><td>16</td></tr>\n",
       "\t<tr><td>18</td><td>224</td><td>13.8</td><td>67</td><td>9</td><td>17</td></tr>\n",
       "\t<tr><td>13</td><td> 27</td><td>10.3</td><td>76</td><td>9</td><td>18</td></tr>\n",
       "\t<tr><td>24</td><td>238</td><td>10.3</td><td>68</td><td>9</td><td>19</td></tr>\n",
       "\t<tr><td>16</td><td>201</td><td> 8.0</td><td>82</td><td>9</td><td>20</td></tr>\n",
       "\t<tr><td>13</td><td>238</td><td>12.6</td><td>64</td><td>9</td><td>21</td></tr>\n",
       "\t<tr><td>23</td><td> 14</td><td> 9.2</td><td>71</td><td>9</td><td>22</td></tr>\n",
       "\t<tr><td>36</td><td>139</td><td>10.3</td><td>81</td><td>9</td><td>23</td></tr>\n",
       "\t<tr><td> 7</td><td> 49</td><td>10.3</td><td>69</td><td>9</td><td>24</td></tr>\n",
       "\t<tr><td>14</td><td> 20</td><td>16.6</td><td>63</td><td>9</td><td>25</td></tr>\n",
       "\t<tr><td>30</td><td>193</td><td> 6.9</td><td>70</td><td>9</td><td>26</td></tr>\n",
       "\t<tr><td>NA</td><td>145</td><td>13.2</td><td>77</td><td>9</td><td>27</td></tr>\n",
       "\t<tr><td>14</td><td>191</td><td>14.3</td><td>75</td><td>9</td><td>28</td></tr>\n",
       "\t<tr><td>18</td><td>131</td><td> 8.0</td><td>76</td><td>9</td><td>29</td></tr>\n",
       "\t<tr><td>20</td><td>223</td><td>11.5</td><td>68</td><td>9</td><td>30</td></tr>\n",
       "</tbody>\n",
       "</table>\n"
      ],
      "text/latex": [
       "A data.frame: 153 × 6\n",
       "\\begin{tabular}{llllll}\n",
       " Ozone & Solar.R & Wind & Temp & Month & Day\\\\\n",
       " <int> & <int> & <dbl> & <int> & <int> & <int>\\\\\n",
       "\\hline\n",
       "\t  41 & 190 &  7.4 & 67 & 5 &  1\\\\\n",
       "\t  36 & 118 &  8.0 & 72 & 5 &  2\\\\\n",
       "\t  12 & 149 & 12.6 & 74 & 5 &  3\\\\\n",
       "\t  18 & 313 & 11.5 & 62 & 5 &  4\\\\\n",
       "\t  NA &  NA & 14.3 & 56 & 5 &  5\\\\\n",
       "\t  28 &  NA & 14.9 & 66 & 5 &  6\\\\\n",
       "\t  23 & 299 &  8.6 & 65 & 5 &  7\\\\\n",
       "\t  19 &  99 & 13.8 & 59 & 5 &  8\\\\\n",
       "\t   8 &  19 & 20.1 & 61 & 5 &  9\\\\\n",
       "\t  NA & 194 &  8.6 & 69 & 5 & 10\\\\\n",
       "\t   7 &  NA &  6.9 & 74 & 5 & 11\\\\\n",
       "\t  16 & 256 &  9.7 & 69 & 5 & 12\\\\\n",
       "\t  11 & 290 &  9.2 & 66 & 5 & 13\\\\\n",
       "\t  14 & 274 & 10.9 & 68 & 5 & 14\\\\\n",
       "\t  18 &  65 & 13.2 & 58 & 5 & 15\\\\\n",
       "\t  14 & 334 & 11.5 & 64 & 5 & 16\\\\\n",
       "\t  34 & 307 & 12.0 & 66 & 5 & 17\\\\\n",
       "\t   6 &  78 & 18.4 & 57 & 5 & 18\\\\\n",
       "\t  30 & 322 & 11.5 & 68 & 5 & 19\\\\\n",
       "\t  11 &  44 &  9.7 & 62 & 5 & 20\\\\\n",
       "\t   1 &   8 &  9.7 & 59 & 5 & 21\\\\\n",
       "\t  11 & 320 & 16.6 & 73 & 5 & 22\\\\\n",
       "\t   4 &  25 &  9.7 & 61 & 5 & 23\\\\\n",
       "\t  32 &  92 & 12.0 & 61 & 5 & 24\\\\\n",
       "\t  NA &  66 & 16.6 & 57 & 5 & 25\\\\\n",
       "\t  NA & 266 & 14.9 & 58 & 5 & 26\\\\\n",
       "\t  NA &  NA &  8.0 & 57 & 5 & 27\\\\\n",
       "\t  23 &  13 & 12.0 & 67 & 5 & 28\\\\\n",
       "\t  45 & 252 & 14.9 & 81 & 5 & 29\\\\\n",
       "\t 115 & 223 &  5.7 & 79 & 5 & 30\\\\\n",
       "\t ⋮ & ⋮ & ⋮ & ⋮ & ⋮ & ⋮\\\\\n",
       "\t 96 & 167 &  6.9 & 91 & 9 &  1\\\\\n",
       "\t 78 & 197 &  5.1 & 92 & 9 &  2\\\\\n",
       "\t 73 & 183 &  2.8 & 93 & 9 &  3\\\\\n",
       "\t 91 & 189 &  4.6 & 93 & 9 &  4\\\\\n",
       "\t 47 &  95 &  7.4 & 87 & 9 &  5\\\\\n",
       "\t 32 &  92 & 15.5 & 84 & 9 &  6\\\\\n",
       "\t 20 & 252 & 10.9 & 80 & 9 &  7\\\\\n",
       "\t 23 & 220 & 10.3 & 78 & 9 &  8\\\\\n",
       "\t 21 & 230 & 10.9 & 75 & 9 &  9\\\\\n",
       "\t 24 & 259 &  9.7 & 73 & 9 & 10\\\\\n",
       "\t 44 & 236 & 14.9 & 81 & 9 & 11\\\\\n",
       "\t 21 & 259 & 15.5 & 76 & 9 & 12\\\\\n",
       "\t 28 & 238 &  6.3 & 77 & 9 & 13\\\\\n",
       "\t  9 &  24 & 10.9 & 71 & 9 & 14\\\\\n",
       "\t 13 & 112 & 11.5 & 71 & 9 & 15\\\\\n",
       "\t 46 & 237 &  6.9 & 78 & 9 & 16\\\\\n",
       "\t 18 & 224 & 13.8 & 67 & 9 & 17\\\\\n",
       "\t 13 &  27 & 10.3 & 76 & 9 & 18\\\\\n",
       "\t 24 & 238 & 10.3 & 68 & 9 & 19\\\\\n",
       "\t 16 & 201 &  8.0 & 82 & 9 & 20\\\\\n",
       "\t 13 & 238 & 12.6 & 64 & 9 & 21\\\\\n",
       "\t 23 &  14 &  9.2 & 71 & 9 & 22\\\\\n",
       "\t 36 & 139 & 10.3 & 81 & 9 & 23\\\\\n",
       "\t  7 &  49 & 10.3 & 69 & 9 & 24\\\\\n",
       "\t 14 &  20 & 16.6 & 63 & 9 & 25\\\\\n",
       "\t 30 & 193 &  6.9 & 70 & 9 & 26\\\\\n",
       "\t NA & 145 & 13.2 & 77 & 9 & 27\\\\\n",
       "\t 14 & 191 & 14.3 & 75 & 9 & 28\\\\\n",
       "\t 18 & 131 &  8.0 & 76 & 9 & 29\\\\\n",
       "\t 20 & 223 & 11.5 & 68 & 9 & 30\\\\\n",
       "\\end{tabular}\n"
      ],
      "text/markdown": [
       "\n",
       "A data.frame: 153 × 6\n",
       "\n",
       "| Ozone &lt;int&gt; | Solar.R &lt;int&gt; | Wind &lt;dbl&gt; | Temp &lt;int&gt; | Month &lt;int&gt; | Day &lt;int&gt; |\n",
       "|---|---|---|---|---|---|\n",
       "|  41 | 190 |  7.4 | 67 | 5 |  1 |\n",
       "|  36 | 118 |  8.0 | 72 | 5 |  2 |\n",
       "|  12 | 149 | 12.6 | 74 | 5 |  3 |\n",
       "|  18 | 313 | 11.5 | 62 | 5 |  4 |\n",
       "|  NA |  NA | 14.3 | 56 | 5 |  5 |\n",
       "|  28 |  NA | 14.9 | 66 | 5 |  6 |\n",
       "|  23 | 299 |  8.6 | 65 | 5 |  7 |\n",
       "|  19 |  99 | 13.8 | 59 | 5 |  8 |\n",
       "|   8 |  19 | 20.1 | 61 | 5 |  9 |\n",
       "|  NA | 194 |  8.6 | 69 | 5 | 10 |\n",
       "|   7 |  NA |  6.9 | 74 | 5 | 11 |\n",
       "|  16 | 256 |  9.7 | 69 | 5 | 12 |\n",
       "|  11 | 290 |  9.2 | 66 | 5 | 13 |\n",
       "|  14 | 274 | 10.9 | 68 | 5 | 14 |\n",
       "|  18 |  65 | 13.2 | 58 | 5 | 15 |\n",
       "|  14 | 334 | 11.5 | 64 | 5 | 16 |\n",
       "|  34 | 307 | 12.0 | 66 | 5 | 17 |\n",
       "|   6 |  78 | 18.4 | 57 | 5 | 18 |\n",
       "|  30 | 322 | 11.5 | 68 | 5 | 19 |\n",
       "|  11 |  44 |  9.7 | 62 | 5 | 20 |\n",
       "|   1 |   8 |  9.7 | 59 | 5 | 21 |\n",
       "|  11 | 320 | 16.6 | 73 | 5 | 22 |\n",
       "|   4 |  25 |  9.7 | 61 | 5 | 23 |\n",
       "|  32 |  92 | 12.0 | 61 | 5 | 24 |\n",
       "|  NA |  66 | 16.6 | 57 | 5 | 25 |\n",
       "|  NA | 266 | 14.9 | 58 | 5 | 26 |\n",
       "|  NA |  NA |  8.0 | 57 | 5 | 27 |\n",
       "|  23 |  13 | 12.0 | 67 | 5 | 28 |\n",
       "|  45 | 252 | 14.9 | 81 | 5 | 29 |\n",
       "| 115 | 223 |  5.7 | 79 | 5 | 30 |\n",
       "| ⋮ | ⋮ | ⋮ | ⋮ | ⋮ | ⋮ |\n",
       "| 96 | 167 |  6.9 | 91 | 9 |  1 |\n",
       "| 78 | 197 |  5.1 | 92 | 9 |  2 |\n",
       "| 73 | 183 |  2.8 | 93 | 9 |  3 |\n",
       "| 91 | 189 |  4.6 | 93 | 9 |  4 |\n",
       "| 47 |  95 |  7.4 | 87 | 9 |  5 |\n",
       "| 32 |  92 | 15.5 | 84 | 9 |  6 |\n",
       "| 20 | 252 | 10.9 | 80 | 9 |  7 |\n",
       "| 23 | 220 | 10.3 | 78 | 9 |  8 |\n",
       "| 21 | 230 | 10.9 | 75 | 9 |  9 |\n",
       "| 24 | 259 |  9.7 | 73 | 9 | 10 |\n",
       "| 44 | 236 | 14.9 | 81 | 9 | 11 |\n",
       "| 21 | 259 | 15.5 | 76 | 9 | 12 |\n",
       "| 28 | 238 |  6.3 | 77 | 9 | 13 |\n",
       "|  9 |  24 | 10.9 | 71 | 9 | 14 |\n",
       "| 13 | 112 | 11.5 | 71 | 9 | 15 |\n",
       "| 46 | 237 |  6.9 | 78 | 9 | 16 |\n",
       "| 18 | 224 | 13.8 | 67 | 9 | 17 |\n",
       "| 13 |  27 | 10.3 | 76 | 9 | 18 |\n",
       "| 24 | 238 | 10.3 | 68 | 9 | 19 |\n",
       "| 16 | 201 |  8.0 | 82 | 9 | 20 |\n",
       "| 13 | 238 | 12.6 | 64 | 9 | 21 |\n",
       "| 23 |  14 |  9.2 | 71 | 9 | 22 |\n",
       "| 36 | 139 | 10.3 | 81 | 9 | 23 |\n",
       "|  7 |  49 | 10.3 | 69 | 9 | 24 |\n",
       "| 14 |  20 | 16.6 | 63 | 9 | 25 |\n",
       "| 30 | 193 |  6.9 | 70 | 9 | 26 |\n",
       "| NA | 145 | 13.2 | 77 | 9 | 27 |\n",
       "| 14 | 191 | 14.3 | 75 | 9 | 28 |\n",
       "| 18 | 131 |  8.0 | 76 | 9 | 29 |\n",
       "| 20 | 223 | 11.5 | 68 | 9 | 30 |\n",
       "\n"
      ],
      "text/plain": [
       "    Ozone Solar.R Wind Temp Month Day\n",
       "1    41   190      7.4 67   5      1 \n",
       "2    36   118      8.0 72   5      2 \n",
       "3    12   149     12.6 74   5      3 \n",
       "4    18   313     11.5 62   5      4 \n",
       "5    NA    NA     14.3 56   5      5 \n",
       "6    28    NA     14.9 66   5      6 \n",
       "7    23   299      8.6 65   5      7 \n",
       "8    19    99     13.8 59   5      8 \n",
       "9     8    19     20.1 61   5      9 \n",
       "10   NA   194      8.6 69   5     10 \n",
       "11    7    NA      6.9 74   5     11 \n",
       "12   16   256      9.7 69   5     12 \n",
       "13   11   290      9.2 66   5     13 \n",
       "14   14   274     10.9 68   5     14 \n",
       "15   18    65     13.2 58   5     15 \n",
       "16   14   334     11.5 64   5     16 \n",
       "17   34   307     12.0 66   5     17 \n",
       "18    6    78     18.4 57   5     18 \n",
       "19   30   322     11.5 68   5     19 \n",
       "20   11    44      9.7 62   5     20 \n",
       "21    1     8      9.7 59   5     21 \n",
       "22   11   320     16.6 73   5     22 \n",
       "23    4    25      9.7 61   5     23 \n",
       "24   32    92     12.0 61   5     24 \n",
       "25   NA    66     16.6 57   5     25 \n",
       "26   NA   266     14.9 58   5     26 \n",
       "27   NA    NA      8.0 57   5     27 \n",
       "28   23    13     12.0 67   5     28 \n",
       "29   45   252     14.9 81   5     29 \n",
       "30  115   223      5.7 79   5     30 \n",
       "⋮   ⋮     ⋮       ⋮    ⋮    ⋮     ⋮  \n",
       "124 96    167      6.9 91   9      1 \n",
       "125 78    197      5.1 92   9      2 \n",
       "126 73    183      2.8 93   9      3 \n",
       "127 91    189      4.6 93   9      4 \n",
       "128 47     95      7.4 87   9      5 \n",
       "129 32     92     15.5 84   9      6 \n",
       "130 20    252     10.9 80   9      7 \n",
       "131 23    220     10.3 78   9      8 \n",
       "132 21    230     10.9 75   9      9 \n",
       "133 24    259      9.7 73   9     10 \n",
       "134 44    236     14.9 81   9     11 \n",
       "135 21    259     15.5 76   9     12 \n",
       "136 28    238      6.3 77   9     13 \n",
       "137  9     24     10.9 71   9     14 \n",
       "138 13    112     11.5 71   9     15 \n",
       "139 46    237      6.9 78   9     16 \n",
       "140 18    224     13.8 67   9     17 \n",
       "141 13     27     10.3 76   9     18 \n",
       "142 24    238     10.3 68   9     19 \n",
       "143 16    201      8.0 82   9     20 \n",
       "144 13    238     12.6 64   9     21 \n",
       "145 23     14      9.2 71   9     22 \n",
       "146 36    139     10.3 81   9     23 \n",
       "147  7     49     10.3 69   9     24 \n",
       "148 14     20     16.6 63   9     25 \n",
       "149 30    193      6.9 70   9     26 \n",
       "150 NA    145     13.2 77   9     27 \n",
       "151 14    191     14.3 75   9     28 \n",
       "152 18    131      8.0 76   9     29 \n",
       "153 20    223     11.5 68   9     30 "
      ]
     },
     "metadata": {},
     "output_type": "display_data"
    }
   ],
   "source": [
    "#get data\n",
    "airquality"
   ]
  },
  {
   "cell_type": "markdown",
   "id": "72d88fe4",
   "metadata": {},
   "source": [
    "Make a scatter plot of the relationship between Wind and Ozone based on your knowledge from the Introduction to R practical."
   ]
  },
  {
   "cell_type": "code",
   "execution_count": 3,
   "id": "c43d61a3",
   "metadata": {},
   "outputs": [
    {
     "data": {
      "image/png": "[encoded data removed]",
      "text/plain": [
       "plot without title"
      ]
     },
     "metadata": {
      "image/png": {
       "height": 420,
       "width": 420
      }
     },
     "output_type": "display_data"
    }
   ],
   "source": [
    "#scatter plot\n",
    "plot(airquality$Wind,airquality$Ozone)"
   ]
  },
  {
   "cell_type": "markdown",
   "id": "1875343f",
   "metadata": {},
   "source": [
    "The correlation ‘cor.test’ function in R doesn’t like missing data (NAs) and there are a few in the ‘airquality’ dataset, so it is necessary to create an object without any NAs and then run the correlation analysis. The first line of this script is a little trickly, so I don’t expect you to understand that."
   ]
  },
  {
   "cell_type": "code",
   "execution_count": 4,
   "id": "2574cde8",
   "metadata": {},
   "outputs": [],
   "source": [
    "#drop na for wind and ozone\n",
    "airQ = airquality[!is.na(airquality$Ozone)&!is.na(airquality$Wind),]"
   ]
  },
  {
   "cell_type": "markdown",
   "id": "54473814",
   "metadata": {},
   "source": [
    "Use ‘cor.test’ to perform a correlation analysis. You will need to use your knowledge from the intro to r practical to help you enter your two variables."
   ]
  },
  {
   "cell_type": "code",
   "execution_count": 5,
   "id": "b810157e",
   "metadata": {},
   "outputs": [
    {
     "data": {
      "text/plain": [
       "\n",
       "\tPearson's product-moment correlation\n",
       "\n",
       "data:  airQ$Wind and airQ$Ozone\n",
       "t = -8.0401, df = 114, p-value = 9.272e-13\n",
       "alternative hypothesis: true correlation is not equal to 0\n",
       "95 percent confidence interval:\n",
       " -0.7063918 -0.4708713\n",
       "sample estimates:\n",
       "       cor \n",
       "-0.6015465 \n"
      ]
     },
     "metadata": {},
     "output_type": "display_data"
    }
   ],
   "source": [
    "#correlation test\n",
    "cor.test(airQ$Wind,airQ$Ozone)"
   ]
  },
  {
   "cell_type": "markdown",
   "id": "93f8395a",
   "metadata": {},
   "source": [
    "Examine the output. What is the relationship between ozone and wind? Is this relationship significant? Does this fit with the scatter plot you produced earlier? How might you interpret this in relation to skin cancer?"
   ]
  },
  {
   "cell_type": "markdown",
   "id": "37372c0e",
   "metadata": {},
   "source": [
    "### Regression exercise – data collection, graphing, determining coefficients and analyses\n",
    "\n",
    "In your imaginary project, a biologist (you!) wishes to estimate if the size of your selected species (she-oak) is a reasonable measure of reproductive output.\n",
    "\n",
    "Thus the question we seek to answer: is the size of she-oak positively predictive of the number of cones? What would be your hypotheses here? We solve this problem by using the data you gathered in laboratories 2-3. We will derive this equation using linear regression. \n"
   ]
  },
  {
   "cell_type": "markdown",
   "id": "e60cbe84",
   "metadata": {},
   "source": [
    "1.\tIf you have not already done so, enter your data into an Excel csv file, import it into R and give it a name (e.g., RegData)."
   ]
  },
  {
   "cell_type": "code",
   "execution_count": 6,
   "id": "a6b4454b",
   "metadata": {},
   "outputs": [],
   "source": [
    "#set directory and get data\n",
    "setwd('C:/Users/tm/Downloads/utas/teaching')\n",
    "sheoaks=read.csv('Sheoaks.csv')"
   ]
  },
  {
   "cell_type": "markdown",
   "id": "9b86a045",
   "metadata": {},
   "source": [
    "2.\tMake a scatter plot using the ‘plot’ function. "
   ]
  },
  {
   "cell_type": "code",
   "execution_count": 7,
   "id": "dd1697a1",
   "metadata": {
    "scrolled": true
   },
   "outputs": [
    {
     "data": {
      "image/png": "[encoded data removed]",
      "text/plain": [
       "plot without title"
      ]
     },
     "metadata": {
      "image/png": {
       "height": 420,
       "width": 420
      }
     },
     "output_type": "display_data"
    }
   ],
   "source": [
    "#scatter plot\n",
    "plot(sheoaks$Basal_area,sheoaks$Num_cones)"
   ]
  },
  {
   "cell_type": "markdown",
   "id": "9c5c9961",
   "metadata": {},
   "source": [
    "3.\tNow you will use the ‘lm’ (linear model) function to run your regression analysis, using Size to predict the number of Cones"
   ]
  },
  {
   "cell_type": "markdown",
   "id": "cedd09a7",
   "metadata": {},
   "source": [
    "4.\tExamine the output. It should look something like this (note I have replaced numbers with ‘XX’):"
   ]
  },
  {
   "cell_type": "code",
   "execution_count": 8,
   "id": "736dfffd",
   "metadata": {
    "scrolled": true
   },
   "outputs": [
    {
     "data": {
      "text/plain": [
       "\n",
       "Call:\n",
       "lm(formula = Num_cones ~ Basal_area, data = sheoaks)\n",
       "\n",
       "Residuals:\n",
       "     Min       1Q   Median       3Q      Max \n",
       "-25.2933  -6.5251   0.1878   6.5769  23.2989 \n",
       "\n",
       "Coefficients:\n",
       "             Estimate Std. Error t value Pr(>|t|)    \n",
       "(Intercept) -22.81690    5.62100  -4.059 0.000166 ***\n",
       "Basal_area    0.37036    0.05827   6.356 5.25e-08 ***\n",
       "---\n",
       "Signif. codes:  0 '***' 0.001 '**' 0.01 '*' 0.05 '.' 0.1 ' ' 1\n",
       "\n",
       "Residual standard error: 10.72 on 52 degrees of freedom\n",
       "Multiple R-squared:  0.4372,\tAdjusted R-squared:  0.4264 \n",
       "F-statistic:  40.4 on 1 and 52 DF,  p-value: 5.253e-08\n"
      ]
     },
     "metadata": {},
     "output_type": "display_data"
    }
   ],
   "source": [
    "#run regression\n",
    "RegAnalysis=lm(Num_cones~Basal_area,data=sheoaks)\n",
    "summary(RegAnalysis)"
   ]
  },
  {
   "cell_type": "markdown",
   "id": "129fcc70",
   "metadata": {},
   "source": [
    "5.\tCan you figure out what are the slope and intercept coefficient values? What do the coefficients tell you? What about the R2 value? Is there a significant relationship between Size and Cones?\n",
    "\n",
    "```\n",
    "slope  0.37036\n",
    "intercept -22.81690\n",
    "\n",
    "the larger the size is, the fewer the number of cones\n",
    "\n",
    "R squared is 43.7\n",
    "\n",
    "Not very significant\n",
    "```"
   ]
  },
  {
   "cell_type": "markdown",
   "id": "720d4afe",
   "metadata": {},
   "source": [
    "6.\tNow use the following script to add a trend line to your scatter plot "
   ]
  },
  {
   "cell_type": "code",
   "execution_count": 9,
   "id": "f7f28645",
   "metadata": {},
   "outputs": [
    {
     "data": {
      "image/png": "[encoded data removed]",
      "text/plain": [
       "plot without title"
      ]
     },
     "metadata": {
      "image/png": {
       "height": 420,
       "width": 420
      }
     },
     "output_type": "display_data"
    }
   ],
   "source": [
    "#add trend line to scatter plot\n",
    "#plot scatter first\n",
    "plot(sheoaks$Basal_area,sheoaks$Num_cones)\n",
    "abline(RegAnalysis\n",
    "       )"
   ]
  },
  {
   "cell_type": "markdown",
   "id": "370e7f0d",
   "metadata": {},
   "source": [
    "Does the slope and intercept of the line roughly match the coefficients you saw in your regression output\n",
    "\n",
    "`Roughly`"
   ]
  },
  {
   "cell_type": "markdown",
   "id": "728159d0",
   "metadata": {},
   "source": [
    "### ANOVA\n",
    "\n",
    "ANOVA exercise – data collection, graphing and analyses\n",
    "In this project, you are a biologist interested in whether you will detect more animals at camera traps if you bait them with lures. What would be your question and hypotheses here?"
   ]
  },
  {
   "cell_type": "markdown",
   "id": "f0af4ee9",
   "metadata": {},
   "source": [
    "1.\tEnter the data in an Excel csv file with two columns (one for whether the camera trap was baited with a lure or not and one for the number of photos) and create an object for that data."
   ]
  },
  {
   "cell_type": "code",
   "execution_count": 10,
   "id": "6c15d2db",
   "metadata": {},
   "outputs": [],
   "source": [
    "#create dataframe\n",
    "Bait=c(\"Yes\",\"Yes\",\"Yes\",\"No\",\"No\",\"No\")\n",
    "Photo=c(7,6,8,4,6,2)\n",
    "df=data.frame(cbind(Bait,Photo))\n",
    "df$Photo=as.integer(df$Photo)"
   ]
  },
  {
   "cell_type": "markdown",
   "id": "c6f6e254",
   "metadata": {},
   "source": [
    "2.\tCalculate the mean and standard deviation of this data (hint: use ‘tapply’ from the intro to R lab). Can you remember what standard deviations represent?\n",
    "\n",
    "Make each list of means and standard deviations an object (e.g., CTmeans, CTsds)\n"
   ]
  },
  {
   "cell_type": "code",
   "execution_count": 11,
   "id": "6a408239",
   "metadata": {},
   "outputs": [],
   "source": [
    "#compute mean and std\n",
    "CTmeans=tapply(as.integer(df$Photo),df$Bait,mean)\n",
    "\n",
    "CTsds=tapply(as.integer(df$Photo),df$Bait,sd)"
   ]
  },
  {
   "cell_type": "markdown",
   "id": "ffcec173",
   "metadata": {},
   "source": [
    "3.\tMake a box and whisker plot (see intro to R lab) of how the number of photos differ between whether a camera trap is baited or not"
   ]
  },
  {
   "cell_type": "code",
   "execution_count": 12,
   "id": "f7d762e5",
   "metadata": {},
   "outputs": [
    {
     "data": {
      "image/png": "[encoded data removed]",
      "text/plain": [
       "plot without title"
      ]
     },
     "metadata": {
      "image/png": {
       "height": 420,
       "width": 420
      }
     },
     "output_type": "display_data"
    }
   ],
   "source": [
    "plot(factor(df$Bait),df$Photo)"
   ]
  },
  {
   "cell_type": "markdown",
   "id": "350c495b",
   "metadata": {},
   "source": [
    "4.\tLet’s make a proper bar plot of your data and plot the standard deviation as error bars around your mean. This requires two simple steps: (i) making the bar plot with an upper y-axis limit (X) close to the maximum number of photos you recorded on a camera, and (ii) adding the error bars."
   ]
  },
  {
   "cell_type": "code",
   "execution_count": 13,
   "id": "563310ca",
   "metadata": {},
   "outputs": [
    {
     "data": {
      "image/png": "[encoded data removed]",
      "text/plain": [
       "plot without title"
      ]
     },
     "metadata": {
      "image/png": {
       "height": 420,
       "width": 420
      }
     },
     "output_type": "display_data"
    }
   ],
   "source": [
    "#bar plot\n",
    "Bplot=barplot(CTmeans, ylim=c(0,max(df$Photo)))\n",
    "\n",
    "segments(Bplot, CTmeans-CTsds, Bplot, CTmeans+CTsds)\n"
   ]
  },
  {
   "cell_type": "markdown",
   "id": "783ed95f",
   "metadata": {},
   "source": [
    "5.\tThis time we will use ‘aov’ (analysis of variance) to run your ANOVA to determine if the number of marsupial photos (response variable) increase with the presence of bait lures (predictor variable)."
   ]
  },
  {
   "cell_type": "code",
   "execution_count": 14,
   "id": "00afc43e",
   "metadata": {},
   "outputs": [
    {
     "data": {
      "text/plain": [
       "            Df Sum Sq Mean Sq F value Pr(>F)  \n",
       "df$Bait      1   13.5    13.5     5.4 0.0808 .\n",
       "Residuals    4   10.0     2.5                 \n",
       "---\n",
       "Signif. codes:  0 '***' 0.001 '**' 0.01 '*' 0.05 '.' 0.1 ' ' 1"
      ]
     },
     "metadata": {},
     "output_type": "display_data"
    }
   ],
   "source": [
    "ANOVAanalysis=aov(as.integer(df$Photo)~df$Bait,data=df)\n",
    "\n",
    "summary(ANOVAanalysis)\n"
   ]
  },
  {
   "cell_type": "markdown",
   "id": "16901182",
   "metadata": {},
   "source": [
    "Do the number of photos differ between camera trap stations with or without bait lures? How can you tell?\n",
    "\n",
    "`P value larger than 0.05, not statistically significant`"
   ]
  },
  {
   "cell_type": "markdown",
   "id": "3a3ac177",
   "metadata": {},
   "source": [
    "### Questions\n",
    "\n",
    "1) Read through the procedure for today’s exercise and identify the dependent and independent variables in the regression and ANOVA exercise \n",
    "\n",
    "```\n",
    "dependent: Num_cones, Photo\n",
    "independent: Basal_area, Bait\n",
    "```\n",
    "\n",
    "2) What is the meaning of the slope in the regression exercise?\n",
    "\n",
    "`projection of X towards Y`\n",
    "\n",
    "3) Generally, it is unwise to extrapolate beyond the values of X used in calculating the regression line. Why?\n",
    "\n",
    "`There is no data point in the training dataset to validate the accuracy`\n",
    "\n",
    "4) What effect would collecting less or more data have on these analyses and the conclusions that you can draw from them?\n",
    "\n",
    "`more data=more accurate model, less bias and more variance`\n",
    "\n",
    "5) Come up with your own example of Regression, Correlation and ANOVA. Discuss with your demonstrator if you feel uncertain if you are choosing the correct analysis in each case.\n"
   ]
  },
  {
   "cell_type": "code",
   "execution_count": null,
   "id": "2374fe67",
   "metadata": {},
   "outputs": [],
   "source": []
  }
 ],
 "metadata": {
  "kernelspec": {
   "display_name": "R",
   "language": "R",
   "name": "ir413"
  },
  "language_info": {
   "codemirror_mode": "r",
   "file_extension": ".r",
   "mimetype": "text/x-r-source",
   "name": "R",
   "pygments_lexer": "r",
   "version": "4.2.2"
  },
  "toc": {
   "base_numbering": 1,
   "nav_menu": {},
   "number_sections": true,
   "sideBar": true,
   "skip_h1_title": false,
   "title_cell": "Table of Contents",
   "title_sidebar": "Contents",
   "toc_cell": false,
   "toc_position": {
    "height": "calc(100% - 180px)",
    "left": "10px",
    "top": "150px",
    "width": "245.76px"
   },
   "toc_section_display": true,
   "toc_window_display": true
  }
 },
 "nbformat": 4,
 "nbformat_minor": 5
}
